{
  "nbformat": 4,
  "nbformat_minor": 0,
  "metadata": {
    "colab": {
      "provenance": [],
      "authorship_tag": "ABX9TyOrBH7JJnwx5gpSRVkkk7Sg",
      "include_colab_link": true
    },
    "kernelspec": {
      "name": "python3",
      "display_name": "Python 3"
    },
    "language_info": {
      "name": "python"
    }
  },
  "cells": [
    {
      "cell_type": "markdown",
      "metadata": {
        "id": "view-in-github",
        "colab_type": "text"
      },
      "source": [
        "<a href=\"https://colab.research.google.com/github/rii92/Datmin/blob/main/other-package/scrapping_waktu_video_youtube.ipynb\" target=\"_parent\"><img src=\"https://colab.research.google.com/assets/colab-badge.svg\" alt=\"Open In Colab\"/></a>"
      ]
    },
    {
      "cell_type": "code",
      "execution_count": 18,
      "metadata": {
        "colab": {
          "base_uri": "https://localhost:8080/"
        },
        "id": "_tDguKSjH7c0",
        "outputId": "ab37da7c-b80b-4279-c3dc-35a8c526ecba"
      },
      "outputs": [
        {
          "output_type": "stream",
          "name": "stdout",
          "text": [
            "Requirement already satisfied: beautifulsoup4 in /usr/local/lib/python3.10/dist-packages (4.12.3)\n",
            "Requirement already satisfied: requests in /usr/local/lib/python3.10/dist-packages (2.32.3)\n",
            "Requirement already satisfied: python-dateutil in /usr/local/lib/python3.10/dist-packages (2.8.2)\n",
            "Requirement already satisfied: soupsieve>1.2 in /usr/local/lib/python3.10/dist-packages (from beautifulsoup4) (2.5)\n",
            "Requirement already satisfied: charset-normalizer<4,>=2 in /usr/local/lib/python3.10/dist-packages (from requests) (3.3.2)\n",
            "Requirement already satisfied: idna<4,>=2.5 in /usr/local/lib/python3.10/dist-packages (from requests) (3.7)\n",
            "Requirement already satisfied: urllib3<3,>=1.21.1 in /usr/local/lib/python3.10/dist-packages (from requests) (2.0.7)\n",
            "Requirement already satisfied: certifi>=2017.4.17 in /usr/local/lib/python3.10/dist-packages (from requests) (2024.7.4)\n",
            "Requirement already satisfied: six>=1.5 in /usr/local/lib/python3.10/dist-packages (from python-dateutil) (1.16.0)\n"
          ]
        }
      ],
      "source": [
        "!pip install beautifulsoup4 requests python-dateutil"
      ]
    },
    {
      "cell_type": "code",
      "source": [
        "# video_urls = [\n",
        "#     \"https://youtu.be/0Egm9jHGoVg\",\n",
        "#     \"https://youtu.be/iYJXOPTgLig\",\n",
        "#     # Tambahkan URL video lainnya\n",
        "# ]"
      ],
      "metadata": {
        "id": "rT3jMfmkL4qb"
      },
      "execution_count": null,
      "outputs": []
    },
    {
      "cell_type": "code",
      "source": [
        "import requests\n",
        "import pandas as pd\n",
        "from bs4 import BeautifulSoup\n",
        "import re\n",
        "\n",
        "# Fungsi untuk mengambil durasi video dari URL\n",
        "def get_video_duration(url):\n",
        "    response = requests.get(url)\n",
        "    if response.status_code == 200:\n",
        "        soup = BeautifulSoup(response.text, 'html.parser')\n",
        "        # Cari tag meta dengan properti \"og:duration\"\n",
        "        duration_tag = soup.find('meta', {'itemprop': 'duration'})\n",
        "        if duration_tag:\n",
        "            duration_iso = duration_tag['content']\n",
        "            return parse_duration_to_seconds(duration_iso)\n",
        "        else:\n",
        "            # Alternatif: Cari tag script yang mengandung \"approxDurationMs\"\n",
        "            for script in soup.find_all('script'):\n",
        "                if 'approxDurationMs' in script.text:\n",
        "                    duration_ms = script.text.split('approxDurationMs\":\"')[1].split('\"')[0]\n",
        "                    return int(duration_ms) / 1000\n",
        "    return None\n",
        "\n",
        "# Fungsi untuk mengonversi durasi ISO 8601 ke detik\n",
        "def parse_duration_to_seconds(duration_iso):\n",
        "    match = re.match(r'PT(\\d+H)?(\\d+M)?(\\d+S)?', duration_iso)\n",
        "    hours = int(match.group(1)[:-1]) if match.group(1) else 0\n",
        "    minutes = int(match.group(2)[:-1]) if match.group(2) else 0\n",
        "    seconds = int(match.group(3)[:-1]) if match.group(3) else 0\n",
        "    total_seconds = hours * 3600 + minutes * 60 + seconds\n",
        "    return total_seconds\n",
        "\n",
        "# URL file CSV\n",
        "csv_url = \"https://raw.githubusercontent.com/rii92/Datmin/main/topics.csv\"\n",
        "\n",
        "# Membaca data dari CSV\n",
        "data = pd.read_csv(csv_url)\n",
        "\n",
        "# Menambahkan kolom jumlah_detik ke data\n",
        "data['jumlah_detik'] = 0\n",
        "\n",
        "# Mengambil dan memperbarui durasi setiap video dalam detik\n",
        "for index, row in data.iterrows():\n",
        "    video_url = row['file']\n",
        "    duration = get_video_duration(video_url)\n",
        "    if duration:\n",
        "        data.at[index, 'jumlah_detik'] = duration\n",
        "    else:\n",
        "        print(f\"Tidak dapat mengambil durasi untuk URL: {video_url}\")\n",
        "\n",
        "# Menyimpan data yang diperbarui ke CSV baru\n",
        "data.to_csv('updated_topics.csv', index=False)\n",
        "\n",
        "print(\"Data telah diperbarui dan disimpan ke 'updated_topics.csv'\")"
      ],
      "metadata": {
        "id": "qIRgSOAPH9mb"
      },
      "execution_count": null,
      "outputs": []
    }
  ]
}