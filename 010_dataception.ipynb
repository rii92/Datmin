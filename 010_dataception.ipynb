{
  "cells": [
    {
      "cell_type": "markdown",
      "metadata": {
        "id": "view-in-github",
        "colab_type": "text"
      },
      "source": [
        "<a href=\"https://colab.research.google.com/github/rii92/Datmin/blob/main/010_dataception.ipynb\" target=\"_parent\"><img src=\"https://colab.research.google.com/assets/colab-badge.svg\" alt=\"Open In Colab\"/></a>"
      ]
    },
    {
      "cell_type": "markdown",
      "metadata": {
        "id": "fm2-G4LLE6fT"
      },
      "source": [
        "# Working with data\n",
        "\n",
        "After learning variables, function, conditional, list, iteration, and dictionary, after this what we'll learn is mostly when everything is combined together."
      ]
    },
    {
      "cell_type": "markdown",
      "metadata": {
        "id": "rnPYMNLNE6fV"
      },
      "source": [
        "# A list of dictionary?! A key in dictionary that has a list of dictionary as value?!\n",
        "\n",
        "Nested data (a data structure within a data structure) is a common occurrence and can be challenging to understand. Let's start with a simple example:"
      ]
    },
    {
      "cell_type": "code",
      "execution_count": 1,
      "metadata": {
        "id": "MW21M0ZNE6fW"
      },
      "outputs": [],
      "source": [
        "student = {\n",
        "    \"name\": \"Mark\",\n",
        "    \"student_id\": 15163,\n",
        "    \"lectures\": [\n",
        "        \"Data Science\",\n",
        "        \"Programming\",\n",
        "        \"Linear Algebra\"\n",
        "    ]\n",
        "}"
      ]
    },
    {
      "cell_type": "markdown",
      "metadata": {
        "id": "ByzDRon9E6fX"
      },
      "source": [
        "As you can see, above dictionary has a list of lectures as a value for the key \"lectures\". Let's see how we can access the list of lectures:"
      ]
    },
    {
      "cell_type": "code",
      "execution_count": 2,
      "metadata": {
        "id": "5AHCJb9GE6fX",
        "outputId": "b5a89cba-bf1f-4152-a144-bf1f21a121c6",
        "colab": {
          "base_uri": "https://localhost:8080/"
        }
      },
      "outputs": [
        {
          "output_type": "stream",
          "name": "stdout",
          "text": [
            "['Data Science', 'Programming', 'Linear Algebra']\n",
            "Linear Algebra\n"
          ]
        }
      ],
      "source": [
        "#print(student[\"student_id\"])\n",
        "print(student[\"lectures\"])\n",
        "print(student[\"lectures\"][2])\n"
      ]
    },
    {
      "cell_type": "markdown",
      "metadata": {
        "id": "-7OrjYAoE6fY"
      },
      "source": [
        "# List of dictionaries\n",
        "\n",
        "If on above learning we learned that a list can be a value of a key in a dictionary, then a dictionary can also be a value in a list. Let's see how we can access the dictionary in a list:"
      ]
    },
    {
      "cell_type": "code",
      "execution_count": 3,
      "metadata": {
        "id": "RC1OVZ3RE6fY",
        "outputId": "6064a13f-ef24-4c90-df19-b8f98082248b",
        "colab": {
          "base_uri": "https://localhost:8080/"
        }
      },
      "outputs": [
        {
          "output_type": "stream",
          "name": "stdout",
          "text": [
            "All students:\n",
            "[{'name': 'Mark', 'student_id': 15163, 'lectures': ['Data Science', 'Programming', 'Linear Algebra']}, {'name': 'Jessica', 'student_id': 15164, 'lectures': ['Data Science', 'Programming', 'Linear Algebra']}, {'name': 'Pablo', 'student_id': 15165, 'lectures': ['Data Science', 'Programming', 'Linear Algebra']}]\n",
            "\n",
            "Second student info: \n",
            "{'name': 'Jessica', 'student_id': 15164, 'lectures': ['Data Science', 'Programming', 'Linear Algebra']}\n",
            "\n",
            "Second student id:\n",
            "15164\n",
            "\n",
            "Second student third lecture:\n",
            "Linear Algebra\n"
          ]
        }
      ],
      "source": [
        "# If on above learning we learned that a list can be a value of a key in a dictionary, then a dictionary can also be a value in a list. Let's see how we can access the dictionary in a list:\n",
        "\n",
        "students = [\n",
        "    {\n",
        "        \"name\": \"Mark\",\n",
        "        \"student_id\": 15163,\n",
        "        \"lectures\": [\n",
        "            \"Data Science\",\n",
        "            \"Programming\",\n",
        "            \"Linear Algebra\"\n",
        "        ]\n",
        "    },\n",
        "    {\n",
        "        \"name\": \"Jessica\",\n",
        "        \"student_id\": 15164,\n",
        "        \"lectures\": [\n",
        "            \"Data Science\",\n",
        "            \"Programming\",\n",
        "            \"Linear Algebra\"\n",
        "        ]\n",
        "    },\n",
        "    {\n",
        "        \"name\": \"Pablo\",\n",
        "        \"student_id\": 15165,\n",
        "        \"lectures\": [\n",
        "            \"Data Science\",\n",
        "            \"Programming\",\n",
        "            \"Linear Algebra\"\n",
        "        ]\n",
        "    }\n",
        "]\n",
        "\n",
        "print(\"All students:\")\n",
        "print(students)\n",
        "\n",
        "print(\"\\nSecond student info: \")\n",
        "print(students[1])\n",
        "\n",
        "print(\"\\nSecond student id:\")\n",
        "print(students[1][\"student_id\"])\n",
        "\n",
        "print(\"\\nSecond student third lecture:\")\n",
        "print(students[1][\"lectures\"][2])\n",
        "\n",
        "\n",
        "#student id dari student pertama\n",
        "#print(\"\\n Student ID dari student pertama\")\n",
        "#print(students[0]['student_id'])\n",
        "#print(students[0])\n",
        "#print(students[0]['student_id']['lectures'][0])\n",
        "\n",
        "#lecture pertama dari student ketiga\n",
        "#print(\"\\n Lecture pertama dari student ketiga\")\n",
        "#print(students[2][\"lectures\"][0])"
      ]
    },
    {
      "cell_type": "markdown",
      "metadata": {
        "id": "ZXCRhNW2E6fY"
      },
      "source": [
        "Take your time understanding how to access nested data on above example. It's might look intimidating at first, but once you get the hang of it, it's actually pretty simple.\n",
        "\n",
        "> Note: `\\n` is a special character that means \"new line\", it's used to add a new line in a string (similar to pressing enter on a keyboard)."
      ]
    },
    {
      "cell_type": "markdown",
      "metadata": {
        "id": "LJuOzk4vE6fZ"
      },
      "source": [
        "# Challenge!"
      ]
    },
    {
      "cell_type": "markdown",
      "metadata": {
        "id": "z3ICYlmyE6fZ"
      },
      "source": [
        "Read and run below code"
      ]
    },
    {
      "cell_type": "code",
      "execution_count": 4,
      "metadata": {
        "id": "FMuwQBRVE6fZ"
      },
      "outputs": [],
      "source": [
        "airports = [\n",
        "    {\n",
        "        \"name\": \"Soekarno-Hatta International Airport\",\n",
        "        \"airport_code\": \"CGK\",\n",
        "        \"country\": \"Indonesia\",\n",
        "        \"airlines\": [\n",
        "            \"Garuda Indonesia\",\n",
        "            \"Lion Air\",\n",
        "            \"AirAsia\"\n",
        "        ],\n",
        "        \"terminals\": [\n",
        "            {\n",
        "                \"terminal_id\": 1,\n",
        "                \"gates\": [\"1A\", \"1B\", \"1C\"],\n",
        "                \"restaurants\": [\"Garuda Restaurant\", \"Kopi Luwak\"],\n",
        "                \"flights\": [\"GA200\", \"LW500\"]\n",
        "            },\n",
        "            {\n",
        "                \"terminal_id\": 2,\n",
        "                \"gates\": [\"2A\", \"2B\"],\n",
        "                \"restaurants\": [\"Sate Padang\", \"Nasi Goreng Wagon\"],\n",
        "                \"flights\": [\"AA100\", \"AR150\"]\n",
        "            }\n",
        "        ]\n",
        "    },\n",
        "    {\n",
        "        \"name\": \"Ngurah Rai International Airport\",\n",
        "        \"airport_code\": \"DPS\",\n",
        "        \"country\": \"Indonesia\",\n",
        "        \"airlines\": [\n",
        "            \"Garuda Indonesia\",\n",
        "            \"Lion Air\",\n",
        "            \"AirAsia\"\n",
        "        ],\n",
        "        \"terminals\": [\n",
        "            {\n",
        "                \"terminal_id\": 1,\n",
        "                \"gates\": [\"1A\", \"1B\"],\n",
        "                \"restaurants\": [\"Java Coffee House\", \"Bali Buana\"],\n",
        "                \"flights\": [\"GA350\", \"AA250\"]\n",
        "            },\n",
        "            {\n",
        "                \"terminal_id\": 2,\n",
        "                \"gates\": [\"2A\", \"2B\", \"2C\"],\n",
        "                \"restaurants\": [\"Seafood Island\", \"Bali Spice\"],\n",
        "                \"flights\": [\"LW900\", \"A3500\"]\n",
        "            }\n",
        "        ]\n",
        "    }\n",
        "]"
      ]
    },
    {
      "cell_type": "markdown",
      "metadata": {
        "id": "xa97BIWSE6fZ"
      },
      "source": [
        "- Example: Retrieve Soekarno-Hatta International Airport's airport code"
      ]
    },
    {
      "cell_type": "code",
      "execution_count": 5,
      "metadata": {
        "id": "eHFv6vRCE6fZ",
        "outputId": "5714e00f-7f5f-46e4-a6d0-c7504b58571d",
        "colab": {
          "base_uri": "https://localhost:8080/"
        }
      },
      "outputs": [
        {
          "output_type": "stream",
          "name": "stdout",
          "text": [
            "CGK\n",
            "Bali Spice\n",
            "['Sate Padang', 'Nasi Goreng Wagon']\n"
          ]
        }
      ],
      "source": [
        "print(airports[0][\"airport_code\"])\n",
        "print(airports[1]['terminals'][1]['restaurants'][1])\n",
        "\n",
        "print(airports[0][\"terminals\"][1][\"restaurants\"]) # [Sate Padang, Nasi Goreng Wagon]"
      ]
    },
    {
      "cell_type": "markdown",
      "metadata": {
        "id": "Dk8K5huyE6fa"
      },
      "source": [
        "## Challenge 1\n",
        "\n",
        "What airlines is available in the Ngurah Rai Airport?"
      ]
    },
    {
      "cell_type": "code",
      "execution_count": 6,
      "metadata": {
        "id": "b_Fb5faoE6fa",
        "outputId": "49c2594d-10a7-4a7c-e719-3a963641a9a2",
        "colab": {
          "base_uri": "https://localhost:8080/"
        }
      },
      "outputs": [
        {
          "output_type": "stream",
          "name": "stdout",
          "text": [
            "['Garuda Indonesia', 'Lion Air', 'AirAsia']\n"
          ]
        }
      ],
      "source": [
        "print(airports[0][\"airlines\"]) # Change it to fulfill above task, the answer should be `[\"Garuda Indonesia\", \"Lion Air\", \"AirAsia\"]`"
      ]
    },
    {
      "cell_type": "markdown",
      "metadata": {
        "id": "7V6d9xCME6fa"
      },
      "source": [
        "When you are done with the above challenge, then:\n",
        "\n",
        "1. Change the text \"my result\" below with the text \"done\"\n",
        "2. Run the code block by pressing the play button."
      ]
    },
    {
      "cell_type": "code",
      "execution_count": 7,
      "metadata": {
        "id": "1O0UptZkE6fa",
        "outputId": "ce31e731-ac34-4497-9ae9-68669298cc26",
        "colab": {
          "base_uri": "https://localhost:8080/",
          "height": 313
        }
      },
      "outputs": [
        {
          "output_type": "stream",
          "name": "stdout",
          "text": [
            "Collecting rggrader\n",
            "  Downloading rggrader-0.1.6-py3-none-any.whl (2.5 kB)\n",
            "Requirement already satisfied: requests in /usr/local/lib/python3.10/dist-packages (from rggrader) (2.31.0)\n",
            "Requirement already satisfied: pandas in /usr/local/lib/python3.10/dist-packages (from rggrader) (2.0.3)\n",
            "Requirement already satisfied: Pillow in /usr/local/lib/python3.10/dist-packages (from rggrader) (9.4.0)\n",
            "Requirement already satisfied: python-dateutil>=2.8.2 in /usr/local/lib/python3.10/dist-packages (from pandas->rggrader) (2.8.2)\n",
            "Requirement already satisfied: pytz>=2020.1 in /usr/local/lib/python3.10/dist-packages (from pandas->rggrader) (2023.4)\n",
            "Requirement already satisfied: tzdata>=2022.1 in /usr/local/lib/python3.10/dist-packages (from pandas->rggrader) (2024.1)\n",
            "Requirement already satisfied: numpy>=1.21.0 in /usr/local/lib/python3.10/dist-packages (from pandas->rggrader) (1.25.2)\n",
            "Requirement already satisfied: charset-normalizer<4,>=2 in /usr/local/lib/python3.10/dist-packages (from requests->rggrader) (3.3.2)\n",
            "Requirement already satisfied: idna<4,>=2.5 in /usr/local/lib/python3.10/dist-packages (from requests->rggrader) (3.7)\n",
            "Requirement already satisfied: urllib3<3,>=1.21.1 in /usr/local/lib/python3.10/dist-packages (from requests->rggrader) (2.0.7)\n",
            "Requirement already satisfied: certifi>=2017.4.17 in /usr/local/lib/python3.10/dist-packages (from requests->rggrader) (2024.7.4)\n",
            "Requirement already satisfied: six>=1.5 in /usr/local/lib/python3.10/dist-packages (from python-dateutil>=2.8.2->pandas->rggrader) (1.16.0)\n",
            "Installing collected packages: rggrader\n",
            "Successfully installed rggrader-0.1.6\n"
          ]
        },
        {
          "output_type": "execute_result",
          "data": {
            "text/plain": [
              "'Assignment successfully submitted'"
            ],
            "application/vnd.google.colaboratory.intrinsic+json": {
              "type": "string"
            }
          },
          "metadata": {},
          "execution_count": 7
        }
      ],
      "source": [
        "!pip install rggrader\n",
        "\n",
        "from rggrader import submit\n",
        "\n",
        "# @title #### Student Identity\n",
        "student_id = \"REAFCDNE\" # @param {type:\"string\"}\n",
        "name = \"Riofebri Prasetia\" # @param {type:\"string\"}\n",
        "\n",
        "# Submit Method\n",
        "assignment_id = \"010_dataception\"\n",
        "question_id = \"04_dictionary_airport_1\"\n",
        "\n",
        "result = \"my_result\"\n",
        "\n",
        "submit(student_id, name, assignment_id, result, question_id)"
      ]
    },
    {
      "cell_type": "markdown",
      "metadata": {
        "id": "aiYBN3Y3E6fb"
      },
      "source": [
        "## Challenge 2\n",
        "\n",
        "Print the list of all restaurants available at the Ngurah Rai Airport on terminal with terminal ID = 2"
      ]
    },
    {
      "cell_type": "code",
      "execution_count": 8,
      "metadata": {
        "id": "pqFJrBI_E6fb",
        "outputId": "84bfb82a-194a-41cc-e7f4-ca590a41fae4",
        "colab": {
          "base_uri": "https://localhost:8080/"
        }
      },
      "outputs": [
        {
          "output_type": "stream",
          "name": "stdout",
          "text": [
            "['Seafood Island', 'Bali Spice']\n"
          ]
        }
      ],
      "source": [
        "print(airports[1][\"terminals\"][1][\"restaurants\"]) # Change it to fulfill above task, the answer should be `[\"Seafood Island\", \"Bali Spice\"],`\n"
      ]
    },
    {
      "cell_type": "markdown",
      "metadata": {
        "id": "Fq8cQ_hmE6fb"
      },
      "source": [
        "When you are done with the above challenge, then:\n",
        "\n",
        "1. Change the text \"my result\" below with the text \"done\"\n",
        "2. Run the code block by pressing the play button."
      ]
    },
    {
      "cell_type": "code",
      "execution_count": 9,
      "metadata": {
        "id": "Lj-HRhSUE6fb",
        "outputId": "402f79b8-75df-4d7d-e1d4-c73fbc97b725",
        "colab": {
          "base_uri": "https://localhost:8080/",
          "height": 35
        }
      },
      "outputs": [
        {
          "output_type": "execute_result",
          "data": {
            "text/plain": [
              "'Assignment successfully submitted'"
            ],
            "application/vnd.google.colaboratory.intrinsic+json": {
              "type": "string"
            }
          },
          "metadata": {},
          "execution_count": 9
        }
      ],
      "source": [
        "# Submit Method\n",
        "assignment_id = \"010_dataception\"\n",
        "question_id = \"05_dictionary_airport_2\"\n",
        "\n",
        "result = \"done\"\n",
        "\n",
        "submit(student_id, name, assignment_id, result, question_id)"
      ]
    },
    {
      "cell_type": "markdown",
      "metadata": {
        "id": "-LbnD1u6E6fc"
      },
      "source": [
        "# Mutating data inside data\n",
        "\n",
        "Mutating data inside a data, for example mutating a value inside a dictionary that is inside a list, is pretty much straightforward. You just access the data and assign a new value to it. Let's see how we can do it:"
      ]
    },
    {
      "cell_type": "code",
      "execution_count": 10,
      "metadata": {
        "id": "d9COygKkE6fc",
        "outputId": "1c2f9682-aab0-4703-f7b7-f1be89793100",
        "colab": {
          "base_uri": "https://localhost:8080/"
        }
      },
      "outputs": [
        {
          "output_type": "stream",
          "name": "stdout",
          "text": [
            "[{'name': 'Mark', 'age': 25, 'salary': 4000}, {'name': 'Jessica', 'age': 23, 'salary': 3000}, {'name': 'Pablo', 'age': 30, 'salary': 5000}]\n",
            "[{'name': 'Mark', 'age': 25, 'salary': 4000}, {'name': 'Jessica', 'age': 23, 'salary': 5000}, {'name': 'Pablo', 'age': 30, 'salary': 5000}]\n",
            "[{'name': 'Mark', 'age': 25, 'salary': 4000}, {'name': 'Jessica', 'age': 25, 'salary': 5000}, {'name': 'Pablo', 'age': 20, 'salary': 5000}]\n"
          ]
        }
      ],
      "source": [
        "employee = [\n",
        "    {\n",
        "        \"name\": \"Mark\",\n",
        "        \"age\": 25,\n",
        "        \"salary\": 4000,\n",
        "    },\n",
        "    {\n",
        "        \"name\": \"Jessica\",\n",
        "        \"age\": 23,\n",
        "        \"salary\": 3000,\n",
        "    },\n",
        "    {\n",
        "        \"name\": \"Pablo\",\n",
        "        \"age\": 30,\n",
        "        \"salary\": 5000,\n",
        "    }\n",
        "]\n",
        "\n",
        "print(employee)\n",
        "\n",
        "employee[1][\"salary\"] = 5000\n",
        "\n",
        "print(employee)\n",
        "\n",
        "for index, value in enumerate(employee):\n",
        "  if value[\"name\"] == \"Pablo\":\n",
        "    employee[index][\"age\"] = 20\n",
        "  elif value[\"name\"] == \"Jessica\":\n",
        "    employee[index][\"age\"] = 25\n",
        "\n",
        "print(employee)"
      ]
    },
    {
      "cell_type": "markdown",
      "metadata": {
        "id": "MVWV3RkcE6fc"
      },
      "source": [
        "# Challenge"
      ]
    },
    {
      "cell_type": "markdown",
      "metadata": {
        "id": "QChcjRS4E6fd"
      },
      "source": [
        "## Challenge 1\n",
        "\n",
        "Change the Alicia's grade to 90\n"
      ]
    },
    {
      "cell_type": "code",
      "execution_count": 11,
      "metadata": {
        "id": "3bXzT8CKE6fd",
        "outputId": "19d88347-0200-40bf-857a-9f8a64983eb0",
        "colab": {
          "base_uri": "https://localhost:8080/"
        }
      },
      "outputs": [
        {
          "output_type": "stream",
          "name": "stdout",
          "text": [
            "[{'name': 'Alicia', 'age': 20, 'grade': 90}, {'name': 'Ben', 'age': 22, 'grade': 90}, {'name': 'Charlie', 'age': 21, 'grade': 72}, {'name': 'Daisy', 'age': 23, 'grade': 88}, {'name': 'Ethan', 'age': 20, 'grade': 92}]\n"
          ]
        }
      ],
      "source": [
        "students = [\n",
        "    {\n",
        "        \"name\": \"Alicia\",\n",
        "        \"age\": 20,\n",
        "        \"grade\": 85,\n",
        "    },\n",
        "    {\n",
        "        \"name\": \"Ben\",\n",
        "        \"age\": 22,\n",
        "        \"grade\": 90,\n",
        "    },\n",
        "    {\n",
        "        \"name\": \"Charlie\",\n",
        "        \"age\": 21,\n",
        "        \"grade\": 72,\n",
        "    },\n",
        "    {\n",
        "        \"name\": \"Daisy\",\n",
        "        \"age\": 23,\n",
        "        \"grade\": 88,\n",
        "    },\n",
        "    {\n",
        "        \"name\": \"Ethan\",\n",
        "        \"age\": 20,\n",
        "        \"grade\": 92,\n",
        "    }\n",
        "]\n",
        "\n",
        "# Write your code here\n",
        "students[0][\"grade\"] = 90\n",
        "\n",
        "print(students) # Expected output: 90"
      ]
    },
    {
      "cell_type": "markdown",
      "metadata": {
        "id": "x-qTPRiXE6fd"
      },
      "source": [
        "When you are done with the above challenge, then:\n",
        "\n",
        "1. Run the code block by pressing the play button."
      ]
    },
    {
      "cell_type": "code",
      "execution_count": 12,
      "metadata": {
        "id": "Zlq12TPvE6fd",
        "outputId": "227c48fe-20ab-4c04-fe6d-2ce00bbee725",
        "colab": {
          "base_uri": "https://localhost:8080/",
          "height": 35
        }
      },
      "outputs": [
        {
          "output_type": "execute_result",
          "data": {
            "text/plain": [
              "'Assignment successfully submitted'"
            ],
            "application/vnd.google.colaboratory.intrinsic+json": {
              "type": "string"
            }
          },
          "metadata": {},
          "execution_count": 12
        }
      ],
      "source": [
        "# Submit Method\n",
        "assignment_id = \"010_dataception\"\n",
        "question_id = \"01_data_update\"\n",
        "\n",
        "submit(student_id, name, assignment_id, str(students[0][\"grade\"]), question_id)"
      ]
    },
    {
      "cell_type": "markdown",
      "metadata": {
        "id": "P1T5JOrTE6fd"
      },
      "source": [
        "## Challenge 2\n",
        "\n",
        "We have a list of new grades that you should assign each students to their new grade. The order of the list is the same as the order of the students in the `students` list."
      ]
    },
    {
      "cell_type": "code",
      "execution_count": 14,
      "metadata": {
        "id": "D81sT_-nE6fe",
        "outputId": "d4628110-05a5-448a-984a-f36be5999355",
        "colab": {
          "base_uri": "https://localhost:8080/"
        }
      },
      "outputs": [
        {
          "output_type": "stream",
          "name": "stdout",
          "text": [
            "[{'name': 'Alicia', 'age': 20, 'grade': 98}, {'name': 'Ben', 'age': 22, 'grade': 76}, {'name': 'Charlie', 'age': 21, 'grade': 60}, {'name': 'Daisy', 'age': 23, 'grade': 99}, {'name': 'Ethan', 'age': 20, 'grade': 40}]\n"
          ]
        }
      ],
      "source": [
        "new_grades = [98, 76, 60, 99, 40]\n",
        "\n",
        "# Write your code here\n",
        "# Hint: Use for loop\n",
        "for index, student in enumerate(students):\n",
        "  student[\"grade\"] = new_grades[index]\n",
        "\n",
        "print(students)\n",
        "# Expected output:\n",
        "# [\n",
        "#     {\n",
        "#         \"name\": \"Alicia\",\n",
        "#         \"age\": 20,\n",
        "#         \"grade\": 98,\n",
        "#     },\n",
        "#     {\n",
        "#         \"name\": \"Ben\",\n",
        "#         \"age\": 22,\n",
        "#         \"grade\": 76,\n",
        "#     },\n",
        "#     {\n",
        "#         \"name\": \"Charlie\",\n",
        "#         \"age\": 21,\n",
        "#         \"grade\": 60,\n",
        "#     },\n",
        "#     {\n",
        "#         \"name\": \"Daisy\",\n",
        "#         \"age\": 23,\n",
        "#         \"grade\": 99,\n",
        "#     },\n",
        "#     {\n",
        "#         \"name\": \"Ethan\",\n",
        "#         \"age\": 20,\n",
        "#         \"grade\": 40,\n",
        "#     }\n",
        "# ]"
      ]
    },
    {
      "cell_type": "markdown",
      "metadata": {
        "id": "YAZWe_S1E6fe"
      },
      "source": [
        "When you are done with the above challenge, then:\n",
        "\n",
        "1. Run the code block by pressing the play button."
      ]
    },
    {
      "cell_type": "code",
      "execution_count": 15,
      "metadata": {
        "id": "j4dcYxRSE6fe",
        "outputId": "076d0bc3-8397-44f1-9b09-d08d8b4e0e9f",
        "colab": {
          "base_uri": "https://localhost:8080/",
          "height": 35
        }
      },
      "outputs": [
        {
          "output_type": "execute_result",
          "data": {
            "text/plain": [
              "'Assignment successfully submitted'"
            ],
            "application/vnd.google.colaboratory.intrinsic+json": {
              "type": "string"
            }
          },
          "metadata": {},
          "execution_count": 15
        }
      ],
      "source": [
        "# Submit Method\n",
        "assignment_id = \"010_dataception\"\n",
        "question_id = \"02_data_update_batch\"\n",
        "\n",
        "submit(student_id, name, assignment_id, str(students[4][\"grade\"]), question_id)"
      ]
    },
    {
      "cell_type": "markdown",
      "metadata": {
        "id": "DIXgZehDE6fe"
      },
      "source": [
        "## Challenge 3\n",
        "\n",
        "You are given a list of dictionaries where each dictionary represents weather data for a particular day. Each dictionary contains the date, the average temperature, and whether it was raining or not.\n",
        "\n"
      ]
    },
    {
      "cell_type": "code",
      "execution_count": 16,
      "metadata": {
        "id": "HSG4Kg5VE6ff"
      },
      "outputs": [],
      "source": [
        "weather_data = [\n",
        "    {\"date\": \"2022-01-01\", \"temperature\": 22, \"rain\": False},\n",
        "    {\"date\": \"2022-01-02\", \"temperature\": 25, \"rain\": True},\n",
        "    {\"date\": \"2022-01-03\", \"temperature\": 20, \"rain\": False},\n",
        "    {\"date\": \"2022-01-04\", \"temperature\": 30, \"rain\": True},\n",
        "    {\"date\": \"2022-01-05\", \"temperature\": 28, \"rain\": False},\n",
        "]"
      ]
    },
    {
      "cell_type": "markdown",
      "metadata": {
        "id": "NXA6Qm1_E6ff"
      },
      "source": [
        "Your task is to write a Python function `analyze_weather(data)` that takes this list as input and returns a dictionary with the following information:\n",
        "\n",
        "- `hottest_day`: The date of the hottest day.\n",
        "- `average_temperature`: The average temperature over all the days.\n",
        "- `rainy_days`: The number of rainy days."
      ]
    },
    {
      "cell_type": "code",
      "execution_count": 22,
      "metadata": {
        "id": "cgui5ckIE6ff"
      },
      "outputs": [],
      "source": [
        "def analyze_weather(data):\n",
        "    # Initialize variables\n",
        "    hottest_day = None\n",
        "    total_temperature = 0\n",
        "    rainy_days = 0\n",
        "    current_hottest_temperature = 0 # Hint: Use this variable to store the current hottest temperature\n",
        "\n",
        "    # Iterate over the data\n",
        "    for day in data:\n",
        "        # print(day)\n",
        "        # Update hottest_day if necessary\n",
        "        # Hint: Use current_hottest_temperature variable to check if the current day is more hotter than\n",
        "        # current_hottest_temperature. If it is, then update current_hottest_temperature and hottest_day\n",
        "        # TODO: Fill in this part\n",
        "        if current_hottest_temperature < day[\"temperature\"]:\n",
        "          current_hottest_temperature = day[\"temperature\"]\n",
        "          hottest_day = day[\"date\"]\n",
        "\n",
        "        # Add to total_temperature\n",
        "        # TODO: Fill in this part\n",
        "        total_temperature = total_temperature + day[\"temperature\"]\n",
        "        # Increment rainy_days if necessary\n",
        "        # TODO: Fill in this part\n",
        "        if day[\"rain\"] == True:\n",
        "          rainy_days = rainy_days + 1\n",
        "\n",
        "    # Calculate average_temperature\n",
        "    average_temperature = total_temperature / len(data)\n",
        "\n",
        "    # Return the result\n",
        "    return {\n",
        "        \"hottest_day\": hottest_day,\n",
        "        \"average_temperature\": average_temperature,\n",
        "        \"rainy_days\": rainy_days\n",
        "    }\n",
        "# {\n",
        "#     \"hottest_day\": \"2022-01-04\",\n",
        "#     \"average_temperature\": 25,\n",
        "#     \"rainy_days\": 2\n",
        "# }"
      ]
    },
    {
      "cell_type": "code",
      "source": [
        "analyze_weather(weather_data)"
      ],
      "metadata": {
        "id": "FFJsXrv5FrM_",
        "outputId": "53d3b238-de20-47ba-d267-88835ab4057f",
        "colab": {
          "base_uri": "https://localhost:8080/"
        }
      },
      "execution_count": 23,
      "outputs": [
        {
          "output_type": "execute_result",
          "data": {
            "text/plain": [
              "{'hottest_day': '2022-01-04', 'average_temperature': 25.0, 'rainy_days': 2}"
            ]
          },
          "metadata": {},
          "execution_count": 23
        }
      ]
    },
    {
      "cell_type": "markdown",
      "metadata": {
        "id": "RRLffMHjE6ff"
      },
      "source": [
        "When you are done with the above challenge, then:\n",
        "\n",
        "1. Run the code block by pressing the play button."
      ]
    },
    {
      "cell_type": "code",
      "execution_count": 24,
      "metadata": {
        "id": "SawMvUKsE6fg",
        "outputId": "72245b48-2dd4-4129-9806-5945e45c4731",
        "colab": {
          "base_uri": "https://localhost:8080/",
          "height": 35
        }
      },
      "outputs": [
        {
          "output_type": "execute_result",
          "data": {
            "text/plain": [
              "'Assignment successfully submitted'"
            ],
            "application/vnd.google.colaboratory.intrinsic+json": {
              "type": "string"
            }
          },
          "metadata": {},
          "execution_count": 24
        }
      ],
      "source": [
        "# Submit Method\n",
        "assignment_id = \"010_dataception\"\n",
        "question_id = \"03_data_add_batch\"\n",
        "\n",
        "weather_2023 = [\n",
        "    {\"date\": \"2023-12-01\", \"temperature\": 25, \"rain\": True},\n",
        "    {\"date\": \"2023-12-02\", \"temperature\": 20, \"rain\": True},\n",
        "    {\"date\": \"2023-12-03\", \"temperature\": 28, \"rain\": False},\n",
        "    {\"date\": \"2023-12-04\", \"temperature\": 20, \"rain\": False},\n",
        "    {\"date\": \"2023-12-05\", \"temperature\": 30, \"rain\": True},\n",
        "]\n",
        "\n",
        "submit(student_id, name, assignment_id, str(analyze_weather(weather_2023)), question_id)"
      ]
    }
  ],
  "metadata": {
    "kernelspec": {
      "display_name": "Python 3 (ipykernel)",
      "language": "python",
      "name": "python3"
    },
    "language_info": {
      "codemirror_mode": {
        "name": "ipython",
        "version": 3
      },
      "file_extension": ".py",
      "mimetype": "text/x-python",
      "name": "python",
      "nbconvert_exporter": "python",
      "pygments_lexer": "ipython3",
      "version": "3.11.3"
    },
    "colab": {
      "provenance": [],
      "include_colab_link": true
    }
  },
  "nbformat": 4,
  "nbformat_minor": 0
}