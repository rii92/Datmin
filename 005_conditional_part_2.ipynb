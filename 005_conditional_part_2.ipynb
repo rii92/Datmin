{
  "cells": [
    {
      "cell_type": "markdown",
      "metadata": {
        "id": "view-in-github",
        "colab_type": "text"
      },
      "source": [
        "<a href=\"https://colab.research.google.com/github/rii92/Datmin/blob/main/005_conditional_part_2.ipynb\" target=\"_parent\"><img src=\"https://colab.research.google.com/assets/colab-badge.svg\" alt=\"Open In Colab\"/></a>"
      ]
    },
    {
      "cell_type": "markdown",
      "metadata": {
        "id": "s2wJhS7S1pV8"
      },
      "source": [
        "# Conditional == The art of making true things true and false things false\n",
        "\n",
        "We'll dive in a little bit on the theoritical side of conditionals.\n",
        "\n",
        "`True` and `False` are a data type in Python called booleans. They are used to represent the truth value of an expression.\n",
        "\n",
        "When we're working with `if` statements, we're basically saying to the computer: \"If this is equal to `True`, do this. If it's equal to `False`, do that.\""
      ]
    },
    {
      "cell_type": "code",
      "execution_count": 1,
      "metadata": {
        "colab": {
          "base_uri": "https://localhost:8080/"
        },
        "id": "UAbcpplK1pWB",
        "outputId": "cb4914e2-8d46-4f2d-d75f-fdd4e8f8b6c2"
      },
      "outputs": [
        {
          "output_type": "stream",
          "name": "stdout",
          "text": [
            "True\n"
          ]
        }
      ],
      "source": [
        "if True:\n",
        "    print(\"True\")\n",
        "\n",
        "if False:\n",
        "    print(\"False\")"
      ]
    },
    {
      "cell_type": "code",
      "source": [
        "x = 5\n",
        "\n",
        "if x == 1:\n",
        "  print(\"True\")\n",
        "elif x == 0:\n",
        "  print(\"False\")\n",
        "else:\n",
        "  print(\"Not True and Not False\")"
      ],
      "metadata": {
        "colab": {
          "base_uri": "https://localhost:8080/"
        },
        "id": "pKMsupsG7-F0",
        "outputId": "d6220d20-c349-4de2-8c29-b075d2026457"
      },
      "execution_count": 2,
      "outputs": [
        {
          "output_type": "stream",
          "name": "stdout",
          "text": [
            "Not True and Not False\n"
          ]
        }
      ]
    },
    {
      "cell_type": "markdown",
      "metadata": {
        "id": "146Doxk41pWD"
      },
      "source": [
        "So basically when we're working with conditional, we're trying to manipulate data to make sure it's end up with `True` or `False`.\n",
        "\n",
        "Like previous lesson, when we're doing example like so:"
      ]
    },
    {
      "cell_type": "code",
      "execution_count": 3,
      "metadata": {
        "colab": {
          "base_uri": "https://localhost:8080/"
        },
        "id": "QQJ0hOBb1pWD",
        "outputId": "df962fe1-e127-43ec-ccb2-c18594a5d28b"
      },
      "outputs": [
        {
          "output_type": "stream",
          "name": "stdout",
          "text": [
            "True\n",
            "False\n",
            "False\n",
            "False\n"
          ]
        }
      ],
      "source": [
        "print(\"Imam\" == \"Imam\")\n",
        "print(\"Andi\" == \"Imam\")\n",
        "print(\"imam\" == \"Imam\")\n",
        "print(\"Iman\" == \"Imam\")"
      ]
    },
    {
      "cell_type": "markdown",
      "metadata": {
        "id": "zzoyQtz_1pWE"
      },
      "source": [
        "As you can see above, `\"Imam\" == \"Imam\"` is equal to `True`, while `\"Andi\" == \"Imam\"` is equal to `False`.\n",
        "\n",
        "So basically when we're working with `if`:\n",
        "\n",
        "- We should manipulate the code after the `if` to make sure it's either values: `True` or `False`.\n",
        "\n",
        "This `\"Imam\" == \"Imam\"` and `\"Andi\" == \"Imam\"` is called **logical statement**. Logical statement is a statement that will result in `True` or `False`."
      ]
    },
    {
      "cell_type": "markdown",
      "metadata": {
        "id": "TpTqLTja1pWE"
      },
      "source": [
        "# Other example of logical statement"
      ]
    },
    {
      "cell_type": "markdown",
      "metadata": {
        "id": "nzcLn0ZN1pWE"
      },
      "source": [
        "## Logical statement on numbers\n",
        "\n",
        "Below are several examples of logical statement on numbers."
      ]
    },
    {
      "cell_type": "code",
      "execution_count": 4,
      "metadata": {
        "id": "qTHrcNGV1pWF",
        "colab": {
          "base_uri": "https://localhost:8080/"
        },
        "outputId": "058c84e6-285b-462a-c068-9621ccd2b228"
      },
      "outputs": [
        {
          "output_type": "stream",
          "name": "stdout",
          "text": [
            "True\n",
            "False\n",
            "False\n",
            "True\n",
            "False\n",
            "True\n",
            "True\n"
          ]
        }
      ],
      "source": [
        "print(1 == 1) # True -> 1 is equal to 1\n",
        "print(1 == 2) # False -> 1 is not equal to 2\n",
        "print(1 > 2) # False -> 1 is not greater than 2\n",
        "print(1 < 2) # True -> 1 is less than 2\n",
        "print(1 >= 2) # False -> 1 is not greater than or equal to 2\n",
        "print(1 <= 2) # True -> 1 is less than or equal to 2\n",
        "print(1 <= 1) # True -> 1 is less than or equal to 1"
      ]
    },
    {
      "cell_type": "markdown",
      "metadata": {
        "id": "_T0yc8pf1pWF"
      },
      "source": [
        "## Negation\n",
        "\n",
        "Negation is a statement that will invert the value of the statement. Basically, if the statement is `True`, it will be converted to `False`, and `False` will be converted to `True`."
      ]
    },
    {
      "cell_type": "code",
      "execution_count": 5,
      "metadata": {
        "id": "tUGOBCiS1pWG",
        "colab": {
          "base_uri": "https://localhost:8080/"
        },
        "outputId": "6d3c5a9a-3945-499c-d87b-34ab030ea412"
      },
      "outputs": [
        {
          "output_type": "stream",
          "name": "stdout",
          "text": [
            "True\n",
            "False\n",
            "False\n"
          ]
        }
      ],
      "source": [
        "print(False != True) # True -> False is not equal to True\n",
        "print(True != True) # False -> True is equal to True\n",
        "print(True != True) #True"
      ]
    },
    {
      "cell_type": "code",
      "source": [
        "x = 1\n",
        "\n",
        "if x != 1:\n",
        "  print(\"True\")\n",
        "else:\n",
        "  print(\"False\")"
      ],
      "metadata": {
        "colab": {
          "base_uri": "https://localhost:8080/"
        },
        "id": "Eaa1ZL7u89xs",
        "outputId": "1d857eb5-b460-4194-a043-946d60327974"
      },
      "execution_count": 6,
      "outputs": [
        {
          "output_type": "stream",
          "name": "stdout",
          "text": [
            "False\n"
          ]
        }
      ]
    },
    {
      "cell_type": "markdown",
      "metadata": {
        "id": "8g13cKAb1pWG"
      },
      "source": [
        "# `and` and `or`\n",
        "\n",
        "`and` and `or` are logical operator that combine two or more logical statement.\n",
        "\n",
        "`and` will return `True` if all of the logical statement is `True`, and `False` if one of the logical statement is `False`.\n",
        "\n",
        "`or` will return `True` if one of the logical statement is `True`, and `False` if all of the logical statement is `False`."
      ]
    },
    {
      "cell_type": "code",
      "execution_count": 7,
      "metadata": {
        "id": "OV6wyUiM1pWG",
        "outputId": "99dc109b-9964-4821-b157-7ee53b6dbcc1",
        "colab": {
          "base_uri": "https://localhost:8080/"
        }
      },
      "outputs": [
        {
          "output_type": "stream",
          "name": "stdout",
          "text": [
            "True\n",
            "False\n",
            "False\n",
            "True\n",
            "True\n",
            "False\n",
            "True\n",
            "False\n",
            "False\n",
            "True\n",
            "True\n",
            "False\n"
          ]
        }
      ],
      "source": [
        "print(True and True) # True -> All conditions are True\n",
        "print(True and False) # False -> One condition is False\n",
        "print(False and False) # False -> All conditions are False\n",
        "\n",
        "print(True or True) # True -> All conditions are True\n",
        "print(True or False) # True -> One condition is True\n",
        "print(False or False) # False -> All conditions are False\n",
        "\n",
        "print(1 == 1 and 2 == 2) # True -> All conditions are True\n",
        "print(1 == 1 and 2 == 3) # False -> One condition is False\n",
        "print(1 != 1 and 2 == 3) # False -> All conditions are False\n",
        "\n",
        "print(1 == 1 or 2 == 2) # True -> All conditions are True\n",
        "print(1 == 1 or 2 == 3) # True -> One condition is True\n",
        "print(1 != 1 or 2 == 3) # False -> All conditions are False"
      ]
    },
    {
      "cell_type": "markdown",
      "metadata": {
        "id": "g1GKOLbg1pWG"
      },
      "source": [
        "# Conditional function\n",
        "\n",
        "Let's take our learning to the next level by creating a function that will return `True` or `False` based on the input. We'll call this function `is_even_and_divisible_by_five`."
      ]
    },
    {
      "cell_type": "code",
      "execution_count": 8,
      "metadata": {
        "id": "ZHc1CdVL1pWH",
        "colab": {
          "base_uri": "https://localhost:8080/"
        },
        "outputId": "d262aab5-7664-41d6-8014-434526a0e912"
      },
      "outputs": [
        {
          "output_type": "stream",
          "name": "stdout",
          "text": [
            "True\n",
            "False\n",
            "False\n",
            "True\n"
          ]
        },
        {
          "output_type": "execute_result",
          "data": {
            "text/plain": [
              "True"
            ]
          },
          "metadata": {},
          "execution_count": 8
        }
      ],
      "source": [
        "from os import truncate\n",
        "def is_even_and_divisible_by_five(number):\n",
        "  if number % 2 == 0 and number % 5 == 0:\n",
        "    return True\n",
        "  else:\n",
        "    return False\n",
        "\n",
        "print(is_even_and_divisible_by_five(10)) # True\n",
        "print(is_even_and_divisible_by_five(5)) # False\n",
        "print(is_even_and_divisible_by_five(9)) # False\n",
        "print(is_even_and_divisible_by_five(30)) # True\n",
        "is_even_and_divisible_by_five(90)\n",
        "is_even_and_divisible_by_five(1500)\n"
      ]
    },
    {
      "cell_type": "markdown",
      "metadata": {
        "id": "QIcxG3bm1pWH"
      },
      "source": [
        "Note: `%` in Python is called modulus. It will return the remainder of the division. For example `5 % 2` will return `1` because `5 / 2` is `2` with remainder `1`, while `4 % 2` will return `0` because `4 / 2` is `2` with remainder `0`."
      ]
    },
    {
      "cell_type": "markdown",
      "metadata": {
        "id": "fCPOTIVA1pWH"
      },
      "source": [
        "# Challenge!"
      ]
    },
    {
      "cell_type": "markdown",
      "metadata": {
        "id": "26ZSc_d21pWH"
      },
      "source": [
        "## Challenge 1\n",
        "\n",
        "Create a function that will return `True` if the input is divisible by 2 and 3, and `False` if it's not."
      ]
    },
    {
      "cell_type": "code",
      "execution_count": 10,
      "metadata": {
        "id": "QKQZsM8E1pWH",
        "colab": {
          "base_uri": "https://localhost:8080/"
        },
        "outputId": "0cc60e41-62c5-4941-8c56-41f9f9e7dcc1"
      },
      "outputs": [
        {
          "output_type": "stream",
          "name": "stdout",
          "text": [
            "True\n",
            "False\n",
            "False\n",
            "True\n"
          ]
        }
      ],
      "source": [
        "def is_divisible_by_two_and_three(number):\n",
        "    if number % 2 == 0 and number % 3 == 0:\n",
        "      return True\n",
        "    else:\n",
        "      return False\n",
        "\n",
        "print(is_divisible_by_two_and_three(6)) # True\n",
        "print(is_divisible_by_two_and_three(7)) # False\n",
        "print(is_divisible_by_two_and_three(4)) # False\n",
        "print(is_divisible_by_two_and_three(12)) # True"
      ]
    },
    {
      "cell_type": "markdown",
      "metadata": {
        "id": "PBbNkrsT1pWH"
      },
      "source": [
        "When you are done with the above challenge, then:\n",
        "1. Input your student_id and name in the box below\n",
        "2. Run the code block by pressing the play button."
      ]
    },
    {
      "cell_type": "code",
      "execution_count": 11,
      "metadata": {
        "id": "8ZSmlVqW1pWH",
        "outputId": "c9f920cf-4b25-4e52-c6e0-e3b7dd22fcd3",
        "colab": {
          "base_uri": "https://localhost:8080/",
          "height": 313
        }
      },
      "outputs": [
        {
          "output_type": "stream",
          "name": "stdout",
          "text": [
            "Collecting rggrader\n",
            "  Downloading rggrader-0.1.6-py3-none-any.whl (2.5 kB)\n",
            "Requirement already satisfied: requests in /usr/local/lib/python3.10/dist-packages (from rggrader) (2.31.0)\n",
            "Requirement already satisfied: pandas in /usr/local/lib/python3.10/dist-packages (from rggrader) (2.0.3)\n",
            "Requirement already satisfied: Pillow in /usr/local/lib/python3.10/dist-packages (from rggrader) (9.4.0)\n",
            "Requirement already satisfied: python-dateutil>=2.8.2 in /usr/local/lib/python3.10/dist-packages (from pandas->rggrader) (2.8.2)\n",
            "Requirement already satisfied: pytz>=2020.1 in /usr/local/lib/python3.10/dist-packages (from pandas->rggrader) (2023.4)\n",
            "Requirement already satisfied: tzdata>=2022.1 in /usr/local/lib/python3.10/dist-packages (from pandas->rggrader) (2024.1)\n",
            "Requirement already satisfied: numpy>=1.21.0 in /usr/local/lib/python3.10/dist-packages (from pandas->rggrader) (1.25.2)\n",
            "Requirement already satisfied: charset-normalizer<4,>=2 in /usr/local/lib/python3.10/dist-packages (from requests->rggrader) (3.3.2)\n",
            "Requirement already satisfied: idna<4,>=2.5 in /usr/local/lib/python3.10/dist-packages (from requests->rggrader) (3.7)\n",
            "Requirement already satisfied: urllib3<3,>=1.21.1 in /usr/local/lib/python3.10/dist-packages (from requests->rggrader) (2.0.7)\n",
            "Requirement already satisfied: certifi>=2017.4.17 in /usr/local/lib/python3.10/dist-packages (from requests->rggrader) (2024.7.4)\n",
            "Requirement already satisfied: six>=1.5 in /usr/local/lib/python3.10/dist-packages (from python-dateutil>=2.8.2->pandas->rggrader) (1.16.0)\n",
            "Installing collected packages: rggrader\n",
            "Successfully installed rggrader-0.1.6\n"
          ]
        },
        {
          "output_type": "execute_result",
          "data": {
            "text/plain": [
              "'Assignment successfully submitted'"
            ],
            "application/vnd.google.colaboratory.intrinsic+json": {
              "type": "string"
            }
          },
          "metadata": {},
          "execution_count": 11
        }
      ],
      "source": [
        "!pip install rggrader\n",
        "\n",
        "from rggrader import submit\n",
        "\n",
        "# @title #### Student Identity\n",
        "student_id = \"REAFCDNE\" # @param {type:\"string\"}\n",
        "name = \"Riofebri Prasetia\" # @param {type:\"string\"}\n",
        "\n",
        "# Submit Method\n",
        "assignment_id = \"005_conditional_part_2\"\n",
        "question_id = \"01_conditional_function_1\"\n",
        "submit(student_id, name, assignment_id, str(is_divisible_by_two_and_three(8)), question_id)"
      ]
    },
    {
      "cell_type": "markdown",
      "metadata": {
        "id": "R6DYF4FL1pWI"
      },
      "source": [
        "## Challenge 2\n",
        "\n",
        "Create a function that will return `True` if the input is divisible by 4 and 6, and `False` if it's not."
      ]
    },
    {
      "cell_type": "code",
      "execution_count": 12,
      "metadata": {
        "id": "3Ckj1E6z1pWI",
        "colab": {
          "base_uri": "https://localhost:8080/"
        },
        "outputId": "88627448-be30-407b-efba-d8e93a4760b5"
      },
      "outputs": [
        {
          "output_type": "stream",
          "name": "stdout",
          "text": [
            "True\n",
            "False\n",
            "True\n"
          ]
        }
      ],
      "source": [
        "def is_divisible_by_four_and_six(number):\n",
        "    if number % 4 == 0 and number % 6 == 0:\n",
        "      return True\n",
        "    else:\n",
        "      return False\n",
        "\n",
        "print(is_divisible_by_four_and_six(24)) # True\n",
        "print(is_divisible_by_four_and_six(25)) # False\n",
        "print(is_divisible_by_four_and_six(36)) # True"
      ]
    },
    {
      "cell_type": "markdown",
      "metadata": {
        "id": "aOk-pBNt1pWI"
      },
      "source": [
        "When you are done with the above challenge, then:\n",
        "\n",
        "1. Run the code block by pressing the play button."
      ]
    },
    {
      "cell_type": "code",
      "execution_count": 13,
      "metadata": {
        "id": "cZ1Ril1a1pWI",
        "outputId": "57c2ce3f-d941-4bf5-b1bf-811ce8ab1616",
        "colab": {
          "base_uri": "https://localhost:8080/",
          "height": 35
        }
      },
      "outputs": [
        {
          "output_type": "execute_result",
          "data": {
            "text/plain": [
              "'Assignment successfully submitted'"
            ],
            "application/vnd.google.colaboratory.intrinsic+json": {
              "type": "string"
            }
          },
          "metadata": {},
          "execution_count": 13
        }
      ],
      "source": [
        "# Submit Method\n",
        "assignment_id = \"005_conditional_part_2\"\n",
        "question_id = \"02_conditional_function_2\"\n",
        "\n",
        "submit(student_id, name, assignment_id, str(is_divisible_by_four_and_six(50)), question_id)"
      ]
    },
    {
      "cell_type": "markdown",
      "metadata": {
        "id": "GD3atPtD1pWI"
      },
      "source": [
        "## Challenge 3\n",
        "\n",
        "Create a function that will return `True` if the input is either a person named \"Levi\" or \"Ricky\", and `False` if it's not."
      ]
    },
    {
      "cell_type": "code",
      "execution_count": 14,
      "metadata": {
        "id": "_k9mJcq01pWI",
        "colab": {
          "base_uri": "https://localhost:8080/"
        },
        "outputId": "b4cfe978-0ff4-46d9-f1e3-df1e2d497207"
      },
      "outputs": [
        {
          "output_type": "stream",
          "name": "stdout",
          "text": [
            "True\n",
            "True\n",
            "False\n",
            "False\n"
          ]
        }
      ],
      "source": [
        "def is_levi_or_ricky(name):\n",
        "    if name == \"Levi\":\n",
        "      return True\n",
        "    elif name == \"Ricky\":\n",
        "      return True\n",
        "    else:\n",
        "     return False\n",
        "\n",
        "    if name == \"Levi\" or name == \"Ricky\":\n",
        "      return True\n",
        "    else:\n",
        "      return False\n",
        "    #return None # Replace this line with your code\n",
        "\n",
        "print(is_levi_or_ricky(\"Levi\")) # True\n",
        "print(is_levi_or_ricky(\"Ricky\")) # True\n",
        "print(is_levi_or_ricky(\"Calvin\")) # False\n",
        "print(is_levi_or_ricky(\"Nick\")) # False"
      ]
    },
    {
      "cell_type": "markdown",
      "metadata": {
        "id": "-5kFt1TB1pWI"
      },
      "source": [
        "When you are done with the above challenge, then:\n",
        "\n",
        "1. Run the code block by pressing the play button."
      ]
    },
    {
      "cell_type": "code",
      "execution_count": 15,
      "metadata": {
        "id": "YV3MGhcx1pWI",
        "outputId": "1c889885-3151-46c4-f38f-2a499ec40788",
        "colab": {
          "base_uri": "https://localhost:8080/",
          "height": 35
        }
      },
      "outputs": [
        {
          "output_type": "execute_result",
          "data": {
            "text/plain": [
              "'Assignment successfully submitted'"
            ],
            "application/vnd.google.colaboratory.intrinsic+json": {
              "type": "string"
            }
          },
          "metadata": {},
          "execution_count": 15
        }
      ],
      "source": [
        "# Submit Method\n",
        "assignment_id = \"005_conditional_part_2\"\n",
        "question_id = \"03_conditional_function_3\"\n",
        "\n",
        "submit(student_id, name, assignment_id, str(is_levi_or_ricky(\"Levi\")), question_id)"
      ]
    },
    {
      "cell_type": "markdown",
      "metadata": {
        "id": "qbjRVRe71pWI"
      },
      "source": [
        "# Multiple condition\n",
        "\n",
        "For multiple condition such as: When we're creating a function to make sure that the return is only true when the employee type either `developer` or `designer` and the experience is more than 2 years, we can use combination of `and` and `or` to make sure that the condition is met. Let's see the example below:"
      ]
    },
    {
      "cell_type": "code",
      "execution_count": 16,
      "metadata": {
        "id": "PAeB519L1pWJ",
        "outputId": "b66ddda3-45fc-438f-9e8c-186f02d92ad5",
        "colab": {
          "base_uri": "https://localhost:8080/"
        }
      },
      "outputs": [
        {
          "output_type": "stream",
          "name": "stdout",
          "text": [
            "True\n",
            "False\n"
          ]
        }
      ],
      "source": [
        "def experienced_dev_or_design(role, years):\n",
        "    return (role == \"dev\" or role == \"design\") and years >= 2\n",
        "\n",
        "print(experienced_dev_or_design(\"dev\", 3)) # True\n",
        "\n",
        "print(experienced_dev_or_design(\"dev\", 1)) # False\n"
      ]
    },
    {
      "cell_type": "code",
      "source": [
        "not (True and False)"
      ],
      "metadata": {
        "colab": {
          "base_uri": "https://localhost:8080/"
        },
        "id": "zYd5RnQygc7Y",
        "outputId": "6d59a7ba-4c6f-4dbc-9ae3-1a0aa9e98457"
      },
      "execution_count": 18,
      "outputs": [
        {
          "output_type": "execute_result",
          "data": {
            "text/plain": [
              "True"
            ]
          },
          "metadata": {},
          "execution_count": 18
        }
      ]
    },
    {
      "cell_type": "markdown",
      "metadata": {
        "id": "RImg-5qV1pWJ"
      },
      "source": [
        "So how does that work? When working with conditionals, Python will start to evaluate the condition that has parentheses first. So in below case:\n",
        "\n",
        "```python\n",
        "(role == \"dev\" or role == \"design\") and years >= 2\n",
        "```\n",
        "\n",
        "Python will evaluate the condition `role == \"dev\" or role == \"design\"` first, so, if for example the `role` is equal to `dev`, the result would be:\n",
        "\n",
        "```python\n",
        "(True or False) and years >= 2\n",
        "```\n",
        "\n",
        "Then it will be evaluated to:\n",
        "\n",
        "```python\n",
        "True and years >= 2\n",
        "```\n",
        "\n",
        "Then, if the `years` is equal to `3`, the result would be:\n",
        "\n",
        "```python\n",
        "True and True\n",
        "```\n",
        "\n",
        "When working with multiple conditionals, it's always easier \"to see\" the conditionals by evaluating it yourself one by one.\n",
        "\n",
        "## No parentheses\n",
        "\n",
        "What if there is no parentheses? Well, Python will evaluate the conditionals from left to right. Let's see that in action:\n",
        "\n",
        "\n",
        "```python\n",
        "role = \"dev\"\n",
        "years = 3\n",
        "\n",
        "role == \"dev\" or role == \"design\" and years >= 2\n",
        "True or False and True # We evaluate each logical statement first\n",
        "True or False # and is executed first before or, so here we have False and True equals False\n",
        "False # Then we evaluate the next most left conditional (True or False)\n",
        "```\n",
        "\n",
        "The parentheses is mostly used to maintain readability of the code. So, if you're working with multiple conditionals, it's always better to use parentheses to make sure that the conditionals is evaluated in the order that you want and avoid confusion."
      ]
    },
    {
      "cell_type": "markdown",
      "metadata": {
        "id": "didn-3S-1pWJ"
      },
      "source": [
        "# Challenge!"
      ]
    },
    {
      "cell_type": "markdown",
      "metadata": {
        "id": "LQ0n1UvM1pWJ"
      },
      "source": [
        "## First Challenge\n",
        "\n",
        "Create a function that will return true if the gender is equal to `male` and the profession is equal to `writer` or `storyteller`.\n",
        "\n",
        "Hint:\n",
        "- Make sure you add parentheses to make sure that the conditionals is evaluated in the order that you want\n",
        "- Profession should be evaluated independently first before you evaluate the gender with the evaluated profession"
      ]
    },
    {
      "cell_type": "code",
      "execution_count": 21,
      "metadata": {
        "id": "LoBQ5NUS1pWJ",
        "outputId": "d31de875-b0ce-4535-f125-fa5b1b28baf5",
        "colab": {
          "base_uri": "https://localhost:8080/"
        }
      },
      "outputs": [
        {
          "output_type": "stream",
          "name": "stdout",
          "text": [
            "True\n",
            "True\n",
            "False\n",
            "False\n"
          ]
        }
      ],
      "source": [
        "def get_correct_person(gender, profession):\n",
        "  if gender == \"male\" and (profession == \"writer\" or profession == \"storyteller\"):\n",
        "    return True # Replace this line with your code\n",
        "  else:\n",
        "    return False\n",
        "\n",
        "print(get_correct_person(\"male\", \"writer\")) # True\n",
        "print(get_correct_person(\"male\", \"storyteller\")) # True\n",
        "print(get_correct_person(\"female\", \"writer\")) # False\n",
        "print(get_correct_person(\"male\", \"doctor\")) # False"
      ]
    },
    {
      "cell_type": "markdown",
      "metadata": {
        "id": "G4ijP-kh1pWJ"
      },
      "source": [
        "When you are done with the above challenge, then:\n",
        "\n",
        "1. Run the code block by pressing the play button."
      ]
    },
    {
      "cell_type": "code",
      "execution_count": 22,
      "metadata": {
        "id": "e4yvI-Hy1pWK",
        "outputId": "2a269025-26a0-476b-9587-25cb6ca436ae",
        "colab": {
          "base_uri": "https://localhost:8080/",
          "height": 35
        }
      },
      "outputs": [
        {
          "output_type": "execute_result",
          "data": {
            "text/plain": [
              "'Assignment successfully submitted'"
            ],
            "application/vnd.google.colaboratory.intrinsic+json": {
              "type": "string"
            }
          },
          "metadata": {},
          "execution_count": 22
        }
      ],
      "source": [
        "# Submit Method\n",
        "assignment_id = \"005_conditional_part_2\"\n",
        "question_id = \"04_multiple_conditional_1\"\n",
        "\n",
        "submit(student_id, name, assignment_id, str(get_correct_person(\"female\", \"doctor\")), question_id)"
      ]
    },
    {
      "cell_type": "markdown",
      "metadata": {
        "id": "JlTRNk3B1pWK"
      },
      "source": [
        "## Second challenge\n",
        "\n",
        "Create a function that will return true if the house price is less than 1000, the house type is equal to `townhouse` or `apartment`, and the house location is equal to `Jakarta` or `Bandung`."
      ]
    },
    {
      "cell_type": "code",
      "execution_count": 24,
      "metadata": {
        "id": "nP3_2CO11pWK",
        "outputId": "7edd4e70-71ff-435a-d9d0-2ddd3718f921",
        "colab": {
          "base_uri": "https://localhost:8080/"
        }
      },
      "outputs": [
        {
          "output_type": "stream",
          "name": "stdout",
          "text": [
            "True\n",
            "True\n",
            "False\n",
            "False\n",
            "True\n",
            "False\n",
            "False\n",
            "True\n",
            "False\n"
          ]
        }
      ],
      "source": [
        "def is_house_affordable(price, house_type, location):\n",
        "  if price < 1000 and (house_type == \"townhouse\" or house_type == \"apartment\") and (location == \"Jakarta\" or location == \"Bandung\"):\n",
        "    return True\n",
        "  else:\n",
        "    return False\n",
        "\n",
        "\n",
        "print(is_house_affordable(900, \"townhouse\", \"Jakarta\")) # Should return True because price is less than 1000, house type is townhouse and location is Jakarta\n",
        "print(is_house_affordable(450, \"townhouse\", \"Bandung\")) # Should return True because price is less than 1000, house type is townhouse and location is Bandung\n",
        "print(is_house_affordable(900, \"villa\", \"Jakarta\")) # Should return False because even though the price is less than 1000 and location is Jakarta, the house type is not townhouse or apartment\n",
        "print(is_house_affordable(1000, \"townhouse\", \"Jakarta\")) # Should return False because price is not less than 1000\n",
        "print(is_house_affordable(500, \"apartment\", \"Bandung\")) # Should return True because price is less than 1000, house type is apartment and location is Bandung\n",
        "print(is_house_affordable(2000, \"townhouse\", \"Paris\")) # Should return False because price is more than 1000 and location is not Jakarta or Bandung\n",
        "print(is_house_affordable(900, \"apartment\", \"Tokyo\")) # Should return False because even though the price is less than 1000 and house type is apartment, the location is not Jakarta or Bandung\n",
        "print(is_house_affordable(850, \"apartment\", \"Jakarta\")) # Should return True because price is less than 1000, house type is apartment and location is Jakarta\n",
        "print(is_house_affordable(1050, \"apartment\", \"Bandung\")) # Should return False because price is not less than 1000"
      ]
    },
    {
      "cell_type": "markdown",
      "metadata": {
        "id": "8nVwn4O01pWK"
      },
      "source": [
        "When you are done with the above challenge, then:\n",
        "\n",
        "1. Run the code block by pressing the play button."
      ]
    },
    {
      "cell_type": "code",
      "execution_count": 25,
      "metadata": {
        "id": "PD1e-BHt1pWO",
        "outputId": "cacd738f-7058-4c30-b680-54133fd6ebc7",
        "colab": {
          "base_uri": "https://localhost:8080/",
          "height": 35
        }
      },
      "outputs": [
        {
          "output_type": "execute_result",
          "data": {
            "text/plain": [
              "'Assignment successfully submitted'"
            ],
            "application/vnd.google.colaboratory.intrinsic+json": {
              "type": "string"
            }
          },
          "metadata": {},
          "execution_count": 25
        }
      ],
      "source": [
        "# Submit Method\n",
        "assignment_id = \"005_conditional_part_2\"\n",
        "question_id = \"05_multiple_conditional_2\"\n",
        "\n",
        "submit(student_id, name, assignment_id, str(is_house_affordable(1000, \"apartment\", \"Bandung\")), question_id)"
      ]
    }
  ],
  "metadata": {
    "kernelspec": {
      "display_name": "Python 3 (ipykernel)",
      "language": "python",
      "name": "python3"
    },
    "language_info": {
      "codemirror_mode": {
        "name": "ipython",
        "version": 3
      },
      "file_extension": ".py",
      "mimetype": "text/x-python",
      "name": "python",
      "nbconvert_exporter": "python",
      "pygments_lexer": "ipython3",
      "version": "3.11.3"
    },
    "colab": {
      "provenance": [],
      "include_colab_link": true
    }
  },
  "nbformat": 4,
  "nbformat_minor": 0
}