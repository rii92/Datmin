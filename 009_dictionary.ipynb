{
  "cells": [
    {
      "cell_type": "markdown",
      "metadata": {
        "id": "view-in-github",
        "colab_type": "text"
      },
      "source": [
        "<a href=\"https://colab.research.google.com/github/rii92/Datmin/blob/main/009_dictionary.ipynb\" target=\"_parent\"><img src=\"https://colab.research.google.com/assets/colab-badge.svg\" alt=\"Open In Colab\"/></a>"
      ]
    },
    {
      "cell_type": "markdown",
      "metadata": {
        "id": "HKy6gWIr4Ewy"
      },
      "source": [
        "\n",
        "# A single data type that can hold lots of information: Dictionary\n",
        "\n",
        "Using a list we might be able to store the information about a person like this:\n",
        "\n",
        "```python\n",
        "person = [\n",
        "    \"John\",\n",
        "    \"Doe\",\n",
        "    46,\n",
        "    \"Programmer\",\n",
        "]\n",
        "```\n",
        "\n",
        "Of course it's doable, but it's not that easy to understand what's going on here. We have to remember that the first element is the first name, the second is the last name, the third is the age and the fourth is the job. It's not that easy to remember, and it's not that easy to read either."
      ]
    },
    {
      "cell_type": "markdown",
      "metadata": {
        "id": "JjB2J8Nq4Ew2"
      },
      "source": [
        "## Dictionary comes for the rescue!\n",
        "\n",
        "A dictionary is a data type that can hold lots of information but it's much readable than a list because it uses keys and values where we can name the key with a readable name. Let's take a look how can we convert above list to a dictionary:"
      ]
    },
    {
      "cell_type": "code",
      "execution_count": 1,
      "metadata": {
        "colab": {
          "base_uri": "https://localhost:8080/"
        },
        "id": "AkF76YoD4Ew3",
        "outputId": "0970eb1d-1341-4754-db93-35fb92396b80"
      },
      "outputs": [
        {
          "output_type": "stream",
          "name": "stdout",
          "text": [
            "{'first_name': 'John', 'last_name': 'Doe', 'age': 46, 'profession': 'Programmer'}\n"
          ]
        }
      ],
      "source": [
        "person = {\n",
        "    \"first_name\": \"John\",\n",
        "    \"last_name\": \"Doe\",\n",
        "    \"age\": 46,\n",
        "    \"profession\": \"Programmer\",\n",
        "}\n",
        "\n",
        "print(person)"
      ]
    },
    {
      "cell_type": "markdown",
      "metadata": {
        "id": "FJkSiaoo4Ew6"
      },
      "source": [
        "Now it's much readable and we can easily understand what's going on here. We know that this data holds an information about a person with the first name of John, last name of Doe, age of 46 and job of Programmer.\n",
        "\n",
        "We can also access any value in the dictionary by using the key:"
      ]
    },
    {
      "cell_type": "code",
      "execution_count": 2,
      "metadata": {
        "colab": {
          "base_uri": "https://localhost:8080/",
          "height": 35
        },
        "id": "SdA92snn4Ew6",
        "outputId": "2dc219ab-e529-49bd-c321-dfda1ebdf1d4"
      },
      "outputs": [
        {
          "output_type": "execute_result",
          "data": {
            "text/plain": [
              "'Programmer'"
            ],
            "application/vnd.google.colaboratory.intrinsic+json": {
              "type": "string"
            }
          },
          "metadata": {},
          "execution_count": 2
        }
      ],
      "source": [
        "person[\"profession\"]"
      ]
    },
    {
      "cell_type": "markdown",
      "metadata": {
        "id": "kyHeV2PG4Ew7"
      },
      "source": [
        "Just like the list, we can mutate any information in the dictionary:"
      ]
    },
    {
      "cell_type": "code",
      "execution_count": 3,
      "metadata": {
        "colab": {
          "base_uri": "https://localhost:8080/"
        },
        "id": "Tk_n_-7l4Ew8",
        "outputId": "f39c2aa5-c8e6-4ce5-f3d5-aaeaa5456fce"
      },
      "outputs": [
        {
          "output_type": "stream",
          "name": "stdout",
          "text": [
            "{'first_name': 'John', 'last_name': 'Doe', 'age': 46, 'profession': 'Programmer'}\n",
            "{'first_name': 'John', 'last_name': 'Doe', 'age': 20, 'profession': 'Programmer', 'married': True, 'city': 'Jakarta'}\n"
          ]
        }
      ],
      "source": [
        "print(person)\n",
        "person['age'] = 20\n",
        "person[\"married\"] = True\n",
        "person[\"city\"] = \"Jakarta\"\n",
        "print(person)"
      ]
    },
    {
      "cell_type": "markdown",
      "metadata": {
        "id": "NU4o1dtJ4Ew9"
      },
      "source": [
        "# Challenge!"
      ]
    },
    {
      "cell_type": "markdown",
      "metadata": {
        "id": "att6rmPv4Ew9"
      },
      "source": [
        "## Challenge 1\n",
        "Access the price of bananas from the prices dictionary and print it."
      ]
    },
    {
      "cell_type": "code",
      "execution_count": 6,
      "metadata": {
        "colab": {
          "base_uri": "https://localhost:8080/"
        },
        "id": "cUVg9xum4Ew-",
        "outputId": "3ce8cd7a-bfbd-4172-f30c-d170583779d5"
      },
      "outputs": [
        {
          "output_type": "stream",
          "name": "stdout",
          "text": [
            "0.5\n"
          ]
        }
      ],
      "source": [
        "prices = {'apple': 1.2, 'banana': 0.5, 'orange': 0.8}\n",
        "\n",
        "# Change below code\n",
        "print(prices[\"banana\"])"
      ]
    },
    {
      "cell_type": "markdown",
      "metadata": {
        "id": "l1OXy81z4Ew_"
      },
      "source": [
        "When you are done with the above challenge, then:\n",
        "\n",
        "1. Change the text \"my result\" below with the text \"done\"\n",
        "2. Run the code block by pressing the play button."
      ]
    },
    {
      "cell_type": "code",
      "execution_count": 7,
      "metadata": {
        "id": "YE_o0FSD4Ew_",
        "outputId": "d163730e-1c62-402c-dbae-bacdc95c4427",
        "colab": {
          "base_uri": "https://localhost:8080/",
          "height": 313
        }
      },
      "outputs": [
        {
          "output_type": "stream",
          "name": "stdout",
          "text": [
            "Collecting rggrader\n",
            "  Downloading rggrader-0.1.6-py3-none-any.whl (2.5 kB)\n",
            "Requirement already satisfied: requests in /usr/local/lib/python3.10/dist-packages (from rggrader) (2.31.0)\n",
            "Requirement already satisfied: pandas in /usr/local/lib/python3.10/dist-packages (from rggrader) (2.0.3)\n",
            "Requirement already satisfied: Pillow in /usr/local/lib/python3.10/dist-packages (from rggrader) (9.4.0)\n",
            "Requirement already satisfied: python-dateutil>=2.8.2 in /usr/local/lib/python3.10/dist-packages (from pandas->rggrader) (2.8.2)\n",
            "Requirement already satisfied: pytz>=2020.1 in /usr/local/lib/python3.10/dist-packages (from pandas->rggrader) (2023.4)\n",
            "Requirement already satisfied: tzdata>=2022.1 in /usr/local/lib/python3.10/dist-packages (from pandas->rggrader) (2024.1)\n",
            "Requirement already satisfied: numpy>=1.21.0 in /usr/local/lib/python3.10/dist-packages (from pandas->rggrader) (1.25.2)\n",
            "Requirement already satisfied: charset-normalizer<4,>=2 in /usr/local/lib/python3.10/dist-packages (from requests->rggrader) (3.3.2)\n",
            "Requirement already satisfied: idna<4,>=2.5 in /usr/local/lib/python3.10/dist-packages (from requests->rggrader) (3.7)\n",
            "Requirement already satisfied: urllib3<3,>=1.21.1 in /usr/local/lib/python3.10/dist-packages (from requests->rggrader) (2.0.7)\n",
            "Requirement already satisfied: certifi>=2017.4.17 in /usr/local/lib/python3.10/dist-packages (from requests->rggrader) (2024.7.4)\n",
            "Requirement already satisfied: six>=1.5 in /usr/local/lib/python3.10/dist-packages (from python-dateutil>=2.8.2->pandas->rggrader) (1.16.0)\n",
            "Installing collected packages: rggrader\n",
            "Successfully installed rggrader-0.1.6\n"
          ]
        },
        {
          "output_type": "execute_result",
          "data": {
            "text/plain": [
              "'Assignment successfully submitted'"
            ],
            "application/vnd.google.colaboratory.intrinsic+json": {
              "type": "string"
            }
          },
          "metadata": {},
          "execution_count": 7
        }
      ],
      "source": [
        "!pip install rggrader\n",
        "\n",
        "from rggrader import submit\n",
        "\n",
        "# @title #### Student Identity\n",
        "student_id = \"REAFCDNE\" # @param {type:\"string\"}\n",
        "name = \"Riofebri Prasetia\" # @param {type:\"string\"}\n",
        "\n",
        "# Submit Method\n",
        "assignment_id = \"009_dictionary\"\n",
        "question_id = \"01_dictionary_access\"\n",
        "\n",
        "result = \"done\"\n",
        "\n",
        "submit(student_id, name, assignment_id, result, question_id)"
      ]
    },
    {
      "cell_type": "markdown",
      "metadata": {
        "id": "gLxO68s74Ew_"
      },
      "source": [
        "## Challenge 2\n",
        "\n",
        "Change the score of 'Alice' in student_scores to 90."
      ]
    },
    {
      "cell_type": "code",
      "execution_count": 9,
      "metadata": {
        "id": "GAMBflgV4Ew_",
        "outputId": "8dc0f99d-1cfa-4656-b56c-b15f9aff9c72",
        "colab": {
          "base_uri": "https://localhost:8080/"
        }
      },
      "outputs": [
        {
          "output_type": "stream",
          "name": "stdout",
          "text": [
            "{'Alice': 90, 'Bob': 90}\n"
          ]
        }
      ],
      "source": [
        "student_scores = {'Alice': 85, 'Bob': 90}\n",
        "\n",
        "# Add your code below!\n",
        "student_scores[\"Alice\"] = 90\n",
        "\n",
        "print(student_scores) # Expected output: {'Alice': 90, 'Bob': 90}"
      ]
    },
    {
      "cell_type": "markdown",
      "metadata": {
        "id": "4Ihky3ra4ExA"
      },
      "source": [
        "When you are done with the above challenge, then:\n",
        "1. Run the code block by pressing the play button."
      ]
    },
    {
      "cell_type": "code",
      "execution_count": 10,
      "metadata": {
        "id": "rHeUf0Gz4ExA",
        "outputId": "8a9ac7bf-e993-47ae-9c7f-56361a28e88e",
        "colab": {
          "base_uri": "https://localhost:8080/",
          "height": 35
        }
      },
      "outputs": [
        {
          "output_type": "execute_result",
          "data": {
            "text/plain": [
              "'Assignment successfully submitted'"
            ],
            "application/vnd.google.colaboratory.intrinsic+json": {
              "type": "string"
            }
          },
          "metadata": {},
          "execution_count": 10
        }
      ],
      "source": [
        "# Submit Method\n",
        "assignment_id = \"009_dictionary\"\n",
        "question_id = \"02_dictionary_update\"\n",
        "\n",
        "submit(student_id, name, assignment_id, str(student_scores['Alice']), question_id)"
      ]
    },
    {
      "cell_type": "markdown",
      "metadata": {
        "id": "ixGMu3FD4ExA"
      },
      "source": [
        "## Challenge 3\n",
        "\n",
        "Add a new key-value pair to the pets dictionary. The key should be 'bird' and its value 'tweet'."
      ]
    },
    {
      "cell_type": "code",
      "execution_count": 11,
      "metadata": {
        "id": "M5hOrqtY4ExA",
        "outputId": "c7036d5e-02bc-468f-9d39-b42038dd3767",
        "colab": {
          "base_uri": "https://localhost:8080/"
        }
      },
      "outputs": [
        {
          "output_type": "stream",
          "name": "stdout",
          "text": [
            "{'dog': 'bark', 'cat': 'meow', 'bird': 'tweet'}\n"
          ]
        }
      ],
      "source": [
        "pets = {'dog': 'bark', 'cat': 'meow'}\n",
        "\n",
        "# Add your code below!\n",
        "pets[\"bird\"] = \"tweet\"\n",
        "\n",
        "print(pets) # Expected output: {'dog': 'bark', 'cat': 'meow', 'bird': 'tweet'}"
      ]
    },
    {
      "cell_type": "markdown",
      "metadata": {
        "id": "Os4GhXBN4ExA"
      },
      "source": [
        "When you are done with the above challenge, then:\n",
        "1. Run the code block by pressing the play button."
      ]
    },
    {
      "cell_type": "code",
      "execution_count": 12,
      "metadata": {
        "id": "2_A2MWWF4ExB",
        "outputId": "b182e181-7148-40ae-e293-65fe20fdd8f1",
        "colab": {
          "base_uri": "https://localhost:8080/",
          "height": 35
        }
      },
      "outputs": [
        {
          "output_type": "execute_result",
          "data": {
            "text/plain": [
              "'Assignment successfully submitted'"
            ],
            "application/vnd.google.colaboratory.intrinsic+json": {
              "type": "string"
            }
          },
          "metadata": {},
          "execution_count": 12
        }
      ],
      "source": [
        "# Submit Method\n",
        "assignment_id = \"009_dictionary\"\n",
        "question_id = \"03_dictionary_add\"\n",
        "\n",
        "submit(student_id, name, assignment_id, str(pets['bird']), question_id)"
      ]
    },
    {
      "cell_type": "markdown",
      "metadata": {
        "id": "fHD3sZZf4ExB"
      },
      "source": [
        "## Iterating Over Dictionary Values\n",
        "In Python, dictionaries are incredibly versatile data structures that allow us to store data in key-value pairs. Often, you might find yourself needing to work with just the values in a dictionary. This is where iterating over dictionary values becomes handy.\n",
        "\n",
        "For example, let's say we have a dictionary of countries and their respective capitals:\n"
      ]
    },
    {
      "cell_type": "code",
      "execution_count": 13,
      "metadata": {
        "id": "vf2cfjIS4ExB"
      },
      "outputs": [],
      "source": [
        "countries = {'USA': 'Washington', 'UK': 'London', 'Japan': 'Tokyo'}"
      ]
    },
    {
      "cell_type": "markdown",
      "metadata": {
        "id": "iKQ7yIeM4ExB"
      },
      "source": [
        "To access and work with just the capitals, we use a simple for loop combined with the .values() method:"
      ]
    },
    {
      "cell_type": "code",
      "execution_count": 14,
      "metadata": {
        "colab": {
          "base_uri": "https://localhost:8080/"
        },
        "id": "W0RaPLAd4ExB",
        "outputId": "2c53af6b-15a8-4702-fe34-575b119f14b5"
      },
      "outputs": [
        {
          "output_type": "stream",
          "name": "stdout",
          "text": [
            "Washington\n",
            "London\n",
            "Tokyo\n"
          ]
        }
      ],
      "source": [
        "for capital in countries.values():\n",
        "    print(capital)"
      ]
    },
    {
      "cell_type": "markdown",
      "metadata": {
        "id": "7GpY3J-M4ExB"
      },
      "source": [
        "This loop will print each capital city in our dictionary. It's a straightforward and efficient way to access all the values without needing to worry about the keys."
      ]
    },
    {
      "cell_type": "markdown",
      "metadata": {
        "id": "2BI5Qd5a4ExC"
      },
      "source": [
        "# Iterating Over Dictionary Items\n",
        "Sometimes, you need both the key and the value in a dictionary. In such cases, iterating over items is the approach to take. Continuing with our countries example, if we want to print both the country and its capital, we can use the .items() method.\n",
        "\n",
        "Here's how it's done:"
      ]
    },
    {
      "cell_type": "code",
      "execution_count": 15,
      "metadata": {
        "colab": {
          "base_uri": "https://localhost:8080/"
        },
        "id": "5XjVifSK4ExC",
        "outputId": "6e876856-7669-4f96-a69a-f5f9504688ed"
      },
      "outputs": [
        {
          "output_type": "stream",
          "name": "stdout",
          "text": [
            "The capital of USA is Washington\n",
            "The capital of UK is London\n",
            "The capital of Japan is Tokyo\n"
          ]
        }
      ],
      "source": [
        "countries = {'USA': 'Washington', 'UK': 'London', 'Japan': 'Tokyo'}\n",
        "\n",
        "for country, capital in countries.items():\n",
        "  #print(\"The capital of \" + country + \" is \" + capital)\n",
        "  print(f\"The capital of {country} is {capital}\")"
      ]
    },
    {
      "cell_type": "markdown",
      "metadata": {
        "id": "pEnARsv24ExC"
      },
      "source": [
        "This loop goes through each key-value pair in the dictionary, giving us access to both the country (key) and its capital (value). The .items() method is particularly useful when you need to perform operations that involve both keys and values."
      ]
    },
    {
      "cell_type": "markdown",
      "metadata": {
        "id": "AFllXg7u4ExC"
      },
      "source": [
        "# Challenge"
      ]
    },
    {
      "cell_type": "markdown",
      "metadata": {
        "id": "0hka-OkQ4ExC"
      },
      "source": [
        "## Challenge 1\n",
        "\n",
        "Iterate over the indonesian_cuisine dictionary and print each local dish."
      ]
    },
    {
      "cell_type": "code",
      "execution_count": 19,
      "metadata": {
        "id": "e-2YTqb84ExC",
        "outputId": "bad74ab3-eada-402b-b3bd-c92b511d68bc",
        "colab": {
          "base_uri": "https://localhost:8080/"
        }
      },
      "outputs": [
        {
          "output_type": "stream",
          "name": "stdout",
          "text": [
            "Rendang\n",
            "Rawon\n",
            "Gudeg\n"
          ]
        }
      ],
      "source": [
        "indonesian_cuisine = {'Sumatra': 'Rendang', 'Java': 'Rawon', 'Yogyakarta': 'Gudeg'}\n",
        "\n",
        "# Add your code below!\n",
        "for cuisine in indonesian_cuisine.values():\n",
        "  print(cuisine)\n",
        "\n",
        "# Expected output:\n",
        "# Rendang\n",
        "# Rawon\n",
        "# Gudeg"
      ]
    },
    {
      "cell_type": "markdown",
      "metadata": {
        "id": "jNCoe5Ml4ExC"
      },
      "source": [
        "When you are done with the above challenge, then:\n",
        "\n",
        "1. Change the text \"my result\" below with the text \"done\"\n",
        "2. Run the code block by pressing the play button."
      ]
    },
    {
      "cell_type": "code",
      "execution_count": 20,
      "metadata": {
        "id": "TLiNU-KZ4ExD",
        "outputId": "47097301-38b9-4236-a177-00e5482050cf",
        "colab": {
          "base_uri": "https://localhost:8080/",
          "height": 35
        }
      },
      "outputs": [
        {
          "output_type": "execute_result",
          "data": {
            "text/plain": [
              "'Assignment successfully submitted'"
            ],
            "application/vnd.google.colaboratory.intrinsic+json": {
              "type": "string"
            }
          },
          "metadata": {},
          "execution_count": 20
        }
      ],
      "source": [
        "# Submit Method\n",
        "assignment_id = \"009_dictionary\"\n",
        "question_id = \"04_dictionary_loop\"\n",
        "\n",
        "result = \"done\"\n",
        "\n",
        "submit(student_id, name, assignment_id, result, question_id)"
      ]
    },
    {
      "cell_type": "markdown",
      "metadata": {
        "id": "b-FAuAlv4ExD"
      },
      "source": [
        "## Challenge 2\n",
        "\n",
        "Iterate over the book_titles dictionary and print each author with their book title."
      ]
    },
    {
      "cell_type": "code",
      "execution_count": 21,
      "metadata": {
        "colab": {
          "base_uri": "https://localhost:8080/"
        },
        "id": "H-5ENcOg4ExD",
        "outputId": "43fc56c4-88ea-4f55-c0e5-ab98708c6339"
      },
      "outputs": [
        {
          "output_type": "stream",
          "name": "stdout",
          "text": [
            "Orwell wrote 1984\n",
            "Huxley wrote Brave New World\n"
          ]
        }
      ],
      "source": [
        "book_titles = {'Orwell': '1984', 'Huxley': 'Brave New World'}\n",
        "\n",
        "# Add your code below!\n",
        "for name, title in book_titles.items():\n",
        "  print(f\"{name} wrote {title}\")\n",
        "\n",
        "# Expected output:\n",
        "# Orwell wrote 1984\n",
        "# Huxley wrote Brave New World"
      ]
    },
    {
      "cell_type": "markdown",
      "metadata": {
        "id": "GIpURteA4ExD"
      },
      "source": [
        "When you are done with the above challenge, then:\n",
        "\n",
        "1. Change the text \"my result\" below with the text \"done\"\n",
        "2. Run the code block by pressing the play button."
      ]
    },
    {
      "cell_type": "code",
      "execution_count": 22,
      "metadata": {
        "id": "lxcey8oj4ExD",
        "outputId": "69ac8879-f517-45a9-ef31-ebdd606dc050",
        "colab": {
          "base_uri": "https://localhost:8080/",
          "height": 35
        }
      },
      "outputs": [
        {
          "output_type": "execute_result",
          "data": {
            "text/plain": [
              "'Assignment successfully submitted'"
            ],
            "application/vnd.google.colaboratory.intrinsic+json": {
              "type": "string"
            }
          },
          "metadata": {},
          "execution_count": 22
        }
      ],
      "source": [
        "# Submit Method\n",
        "assignment_id = \"009_dictionary\"\n",
        "question_id = \"05_dictionary_concat\"\n",
        "\n",
        "result = \"done\"\n",
        "\n",
        "submit(student_id, name, assignment_id, result, question_id)"
      ]
    },
    {
      "cell_type": "code",
      "source": [
        "makanan = \"rawon\"\n",
        "harga = 15000.000\n",
        "\n",
        "print(f\"Saya makan {makanan} seharga {harga}\")\n",
        "# Saya makan rawon seharga 15000\n",
        "\n",
        "#print(harga)\n",
        "#print(str(harga))\n",
        "print(makanan + \" = \" + str(harga))\n",
        "\n",
        "\n",
        "angka = \"5.0\"\n",
        "#print(angka)\n",
        "#print(int(angka))\n",
        "\n",
        "angka = float(angka)\n",
        "\n",
        "angka = angka * 2\n",
        "angka"
      ],
      "metadata": {
        "colab": {
          "base_uri": "https://localhost:8080/"
        },
        "id": "p89KxVzBjLuB",
        "outputId": "439109e0-8267-41bb-fafb-ab257c04ed1d"
      },
      "execution_count": 23,
      "outputs": [
        {
          "output_type": "stream",
          "name": "stdout",
          "text": [
            "Saya makan rawon seharga 15000.0\n",
            "rawon = 15000.0\n"
          ]
        },
        {
          "output_type": "execute_result",
          "data": {
            "text/plain": [
              "10.0"
            ]
          },
          "metadata": {},
          "execution_count": 23
        }
      ]
    }
  ],
  "metadata": {
    "kernelspec": {
      "display_name": "Python 3 (ipykernel)",
      "language": "python",
      "name": "python3"
    },
    "language_info": {
      "codemirror_mode": {
        "name": "ipython",
        "version": 3
      },
      "file_extension": ".py",
      "mimetype": "text/x-python",
      "name": "python",
      "nbconvert_exporter": "python",
      "pygments_lexer": "ipython3",
      "version": "3.11.3"
    },
    "colab": {
      "provenance": [],
      "include_colab_link": true
    }
  },
  "nbformat": 4,
  "nbformat_minor": 0
}