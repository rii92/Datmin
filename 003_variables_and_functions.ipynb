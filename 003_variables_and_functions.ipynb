{
  "cells": [
    {
      "cell_type": "markdown",
      "metadata": {
        "id": "view-in-github",
        "colab_type": "text"
      },
      "source": [
        "<a href=\"https://colab.research.google.com/github/rii92/Datmin/blob/main/003_variables_and_functions.ipynb\" target=\"_parent\"><img src=\"https://colab.research.google.com/assets/colab-badge.svg\" alt=\"Open In Colab\"/></a>"
      ]
    },
    {
      "cell_type": "markdown",
      "metadata": {
        "id": "RoiIRjGHZiiv"
      },
      "source": [
        "# Variable\n",
        "\n",
        "Having to write out the same thing over and over again is tedious and error-prone.\n",
        "\n",
        "Python, like most programming languages, allows us to assign a name to a value. This is called a variable. So we can do below code:"
      ]
    },
    {
      "cell_type": "code",
      "execution_count": 1,
      "metadata": {
        "id": "0zxLf9BGZiix"
      },
      "outputs": [],
      "source": [
        "\"Dito\"\n",
        "\n",
        "name = \"Dito\""
      ]
    },
    {
      "cell_type": "markdown",
      "metadata": {
        "id": "hF6gZYhQZiiy"
      },
      "source": [
        "And then we can use the variable `name` again when needed"
      ]
    },
    {
      "cell_type": "code",
      "execution_count": 2,
      "metadata": {
        "colab": {
          "base_uri": "https://localhost:8080/",
          "height": 35
        },
        "id": "Q9Bv9TlEZiiz",
        "outputId": "e1c1eadc-f7e0-4489-d05f-e0efe4f13789"
      },
      "outputs": [
        {
          "output_type": "execute_result",
          "data": {
            "text/plain": [
              "'Dito'"
            ],
            "application/vnd.google.colaboratory.intrinsic+json": {
              "type": "string"
            }
          },
          "metadata": {},
          "execution_count": 2
        }
      ],
      "source": [
        "name"
      ]
    },
    {
      "cell_type": "markdown",
      "metadata": {
        "id": "RgnAat7MZiiz"
      },
      "source": [
        "Of course assigning variable can be done for other data types such as string and other data types that we haven't yet covered."
      ]
    },
    {
      "cell_type": "code",
      "execution_count": 3,
      "metadata": {
        "id": "h05tVizwZiiz"
      },
      "outputs": [],
      "source": [
        "name = 'John' # string\n",
        "age = 25 # integer\n",
        "weight = 75.5 # float\n",
        "is_adult = True # boolean\n",
        "wife = None # null"
      ]
    },
    {
      "cell_type": "code",
      "source": [
        "age"
      ],
      "metadata": {
        "colab": {
          "base_uri": "https://localhost:8080/"
        },
        "id": "UA9pcpXVH8FT",
        "outputId": "cb1acdd3-0e3c-4bb3-e0ee-a10bd0ef2601"
      },
      "execution_count": 4,
      "outputs": [
        {
          "output_type": "execute_result",
          "data": {
            "text/plain": [
              "25"
            ]
          },
          "metadata": {},
          "execution_count": 4
        }
      ]
    },
    {
      "cell_type": "markdown",
      "metadata": {
        "id": "X5bnEMhUZii0"
      },
      "source": [
        "# `print` won't print out on a line of variable assignment\n",
        "\n",
        "Just to note is that if you're assigning a data to a variable in the last line of code, unlike previously learned, the last line of code will not be automatically printed out. You can put only the variable after you already assigned it to a value though."
      ]
    },
    {
      "cell_type": "code",
      "execution_count": 5,
      "metadata": {
        "id": "moIeAL05Zii0"
      },
      "outputs": [],
      "source": [
        "will_not_be_printed = \"This will not be printed as this line is used to assign a value to a variable\""
      ]
    },
    {
      "cell_type": "code",
      "execution_count": 6,
      "metadata": {
        "id": "6A_mc7xCZii0",
        "colab": {
          "base_uri": "https://localhost:8080/",
          "height": 35
        },
        "outputId": "3154e816-a42c-4937-ae6e-be09f9b20e08"
      },
      "outputs": [
        {
          "output_type": "execute_result",
          "data": {
            "text/plain": [
              "'Aditira'"
            ],
            "application/vnd.google.colaboratory.intrinsic+json": {
              "type": "string"
            }
          },
          "metadata": {},
          "execution_count": 6
        }
      ],
      "source": [
        "investor_rg = \"Aditira\"\n",
        "investor_rg"
      ]
    },
    {
      "cell_type": "markdown",
      "metadata": {
        "id": "eKswTjh-Zii0"
      },
      "source": [
        "Basic syntax rules for variable names:\n",
        "\n",
        "- Variable names can only contain letters, numbers, and underscores. Variable names can start with a letter or an underscore, but not with a number.\n",
        "- Spaces are not allowed in variable names, so we use underscores instead of spaces. For example, use `student_name` instead of `student name`.\n",
        "- You cannot use Python keywords as variable names such as `print`, `if`, `else`, `elif`, `for`, `while`, `def`, `class`, `try`, `except`, `finally`, `raise`, `import`, `from`, `as`, `with`, `lambda`, `return`, `yield`, `del`, `pass`, `break`, `continue`, `global`, `nonlocal`, `assert`, `in`, `is`, `not`, `or`, `and`, `True`, `False`, `None`, `async`, `await`, etc.\n",
        "\n",
        "Most of the time, developers will only use either this pattern \"my_variable_name\" (snake case) or this pattern \"myVariableName\" (camel case) for variable names and for most of the time developers will only use what's already been standardized by their company or their team."
      ]
    },
    {
      "cell_type": "markdown",
      "metadata": {
        "id": "KH2988HGZii1"
      },
      "source": [
        "# Operation on variables\n",
        "\n",
        "You can operate on variables just like you can operate on values - Eg. If the variable `x` is equal to 5, then `x + 1` will be equal to 6, if the variable `y` is a string, then we can operate on it with string operations such as `y.upper()`."
      ]
    },
    {
      "cell_type": "code",
      "execution_count": 7,
      "metadata": {
        "colab": {
          "base_uri": "https://localhost:8080/"
        },
        "id": "bZw8bGpMZii1",
        "outputId": "d03863fc-f7eb-467c-b2fa-26da1cef4ad4"
      },
      "outputs": [
        {
          "output_type": "stream",
          "name": "stdout",
          "text": [
            "11\n",
            "Dito Anton\n"
          ]
        }
      ],
      "source": [
        "my_number = 10\n",
        "print(my_number + 1)\n",
        "my_name = \"Dito\"\n",
        "last_name = \"Anton\"\n",
        "print(my_name + \" \" + last_name)"
      ]
    },
    {
      "cell_type": "markdown",
      "metadata": {
        "id": "SVbV5V_LZii1"
      },
      "source": [
        "# Challenge\n",
        "\n",
        "## Challenge 1\n",
        "\n",
        "Create a variable with the name `car` and assign the value `Tesla` to it. Then make sure the variable is printed out."
      ]
    },
    {
      "cell_type": "code",
      "execution_count": 8,
      "metadata": {
        "id": "Y0iByAipZii1",
        "outputId": "68a58846-eda5-43ad-cd31-18afd2625127",
        "colab": {
          "base_uri": "https://localhost:8080/"
        }
      },
      "outputs": [
        {
          "output_type": "stream",
          "name": "stdout",
          "text": [
            "Tesla\n"
          ]
        }
      ],
      "source": [
        "#write your code below\n",
        "car = \"Tesla\"\n",
        "print(car)"
      ]
    },
    {
      "cell_type": "markdown",
      "metadata": {
        "id": "ZaDup5TeZii1"
      },
      "source": [
        "When you are done with the above challenge, then:\n",
        "1. Input your student_id and name in the box below\n",
        "3. Run the code block by pressing the play button."
      ]
    },
    {
      "cell_type": "code",
      "execution_count": 9,
      "metadata": {
        "id": "Tjc_H8MwZii1",
        "outputId": "dbd6a581-c157-4d26-8c73-61817c981754",
        "colab": {
          "base_uri": "https://localhost:8080/",
          "height": 313
        }
      },
      "outputs": [
        {
          "output_type": "stream",
          "name": "stdout",
          "text": [
            "Collecting rggrader\n",
            "  Downloading rggrader-0.1.6-py3-none-any.whl (2.5 kB)\n",
            "Requirement already satisfied: requests in /usr/local/lib/python3.10/dist-packages (from rggrader) (2.31.0)\n",
            "Requirement already satisfied: pandas in /usr/local/lib/python3.10/dist-packages (from rggrader) (2.0.3)\n",
            "Requirement already satisfied: Pillow in /usr/local/lib/python3.10/dist-packages (from rggrader) (9.4.0)\n",
            "Requirement already satisfied: python-dateutil>=2.8.2 in /usr/local/lib/python3.10/dist-packages (from pandas->rggrader) (2.8.2)\n",
            "Requirement already satisfied: pytz>=2020.1 in /usr/local/lib/python3.10/dist-packages (from pandas->rggrader) (2023.4)\n",
            "Requirement already satisfied: tzdata>=2022.1 in /usr/local/lib/python3.10/dist-packages (from pandas->rggrader) (2024.1)\n",
            "Requirement already satisfied: numpy>=1.21.0 in /usr/local/lib/python3.10/dist-packages (from pandas->rggrader) (1.25.2)\n",
            "Requirement already satisfied: charset-normalizer<4,>=2 in /usr/local/lib/python3.10/dist-packages (from requests->rggrader) (3.3.2)\n",
            "Requirement already satisfied: idna<4,>=2.5 in /usr/local/lib/python3.10/dist-packages (from requests->rggrader) (3.7)\n",
            "Requirement already satisfied: urllib3<3,>=1.21.1 in /usr/local/lib/python3.10/dist-packages (from requests->rggrader) (2.0.7)\n",
            "Requirement already satisfied: certifi>=2017.4.17 in /usr/local/lib/python3.10/dist-packages (from requests->rggrader) (2024.7.4)\n",
            "Requirement already satisfied: six>=1.5 in /usr/local/lib/python3.10/dist-packages (from python-dateutil>=2.8.2->pandas->rggrader) (1.16.0)\n",
            "Installing collected packages: rggrader\n",
            "Successfully installed rggrader-0.1.6\n"
          ]
        },
        {
          "output_type": "execute_result",
          "data": {
            "text/plain": [
              "'Assignment successfully submitted'"
            ],
            "application/vnd.google.colaboratory.intrinsic+json": {
              "type": "string"
            }
          },
          "metadata": {},
          "execution_count": 9
        }
      ],
      "source": [
        "!pip install rggrader\n",
        "\n",
        "from rggrader import submit\n",
        "\n",
        "# @title #### Student Identity\n",
        "student_id = \"REAFCDNE\" # @param {type:\"string\"}\n",
        "name = \"Riofebri Prasetia\" # @param {type:\"string\"}\n",
        "\n",
        "# Submit Method\n",
        "assignment_id = \"003_variables-and-functions\"\n",
        "question_id = \"01_variable_1\"\n",
        "submit(student_id, name, assignment_id, car, question_id)"
      ]
    },
    {
      "cell_type": "markdown",
      "metadata": {
        "id": "pl9z0c7dZii1"
      },
      "source": [
        "## Challenge 2\n",
        "\n",
        "Concatenate below three variables into one variable called `sentence` and print it out. Remember to add space between first_word and second_word."
      ]
    },
    {
      "cell_type": "code",
      "execution_count": 11,
      "metadata": {
        "id": "64vzaD3ZZii1",
        "outputId": "0f438ca2-5ae5-4938-9b0b-4517956bb3ec",
        "colab": {
          "base_uri": "https://localhost:8080/",
          "height": 35
        }
      },
      "outputs": [
        {
          "output_type": "execute_result",
          "data": {
            "text/plain": [
              "'Hello World!'"
            ],
            "application/vnd.google.colaboratory.intrinsic+json": {
              "type": "string"
            }
          },
          "metadata": {},
          "execution_count": 11
        }
      ],
      "source": [
        "first_word = \"Hello\"\n",
        "second_word = \"World\"\n",
        "third_word = \"!\"\n",
        "\n",
        "sentence = first_word + \" \" +second_word+third_word # Put your code here, replace `None` with the variables.\n",
        "sentence # Put your code here to make sure the `sentence` variable is printed\n",
        "#Expected output: \"Hello World!\""
      ]
    },
    {
      "cell_type": "markdown",
      "metadata": {
        "id": "-ZvJSbpbZii1"
      },
      "source": [
        "When you are done with the above challenge, then:\n",
        "\n",
        "1. Run the code block below by pressing the play button."
      ]
    },
    {
      "cell_type": "code",
      "execution_count": 12,
      "metadata": {
        "id": "fHnydvxGZii1",
        "outputId": "84cc3751-6ba7-479d-a729-48e41637e7bc",
        "colab": {
          "base_uri": "https://localhost:8080/",
          "height": 35
        }
      },
      "outputs": [
        {
          "output_type": "execute_result",
          "data": {
            "text/plain": [
              "'Assignment successfully submitted'"
            ],
            "application/vnd.google.colaboratory.intrinsic+json": {
              "type": "string"
            }
          },
          "metadata": {},
          "execution_count": 12
        }
      ],
      "source": [
        "# Submit Method\n",
        "assignment_id = \"003_variables-and-functions\"\n",
        "question_id = \"02_variable_2\"\n",
        "\n",
        "submit(student_id, name, assignment_id, sentence, question_id)"
      ]
    },
    {
      "cell_type": "markdown",
      "metadata": {
        "id": "d163SmuLZii1"
      },
      "source": [
        "## Variable overwriting\n",
        "\n",
        "You can overwrite a variable by assigning a new value to it. For example:\n"
      ]
    },
    {
      "cell_type": "code",
      "execution_count": 14,
      "metadata": {
        "id": "RSNTtgQrZii2",
        "outputId": "91a5e7c4-de38-439c-e0b2-a672d3138496",
        "colab": {
          "base_uri": "https://localhost:8080/"
        }
      },
      "outputs": [
        {
          "output_type": "stream",
          "name": "stdout",
          "text": [
            "Budi\n",
            "Andi\n"
          ]
        }
      ],
      "source": [
        "name = \"Budi\"\n",
        "print(name)\n",
        "name = \"Andi\"\n",
        "print(name)"
      ]
    },
    {
      "cell_type": "markdown",
      "metadata": {
        "id": "o93zxzgcZii2"
      },
      "source": [
        "This behavior will help if you want to manipulate the value of a variable. For example:"
      ]
    },
    {
      "cell_type": "code",
      "execution_count": 15,
      "metadata": {
        "colab": {
          "base_uri": "https://localhost:8080/",
          "height": 87
        },
        "id": "MYpxfKEQZii2",
        "outputId": "493ce32a-370d-4326-e808-65409c9e3525"
      },
      "outputs": [
        {
          "output_type": "stream",
          "name": "stdout",
          "text": [
            "pear orange apple\n",
            "mango orange apple\n",
            "mango banana apple\n"
          ]
        },
        {
          "output_type": "execute_result",
          "data": {
            "text/plain": [
              "'MANGO BANANA APPLE'"
            ],
            "application/vnd.google.colaboratory.intrinsic+json": {
              "type": "string"
            }
          },
          "metadata": {},
          "execution_count": 15
        }
      ],
      "source": [
        "fruits = \"pear orange apple\"\n",
        "print(fruits)\n",
        "fruits = fruits.replace(\"pear\", \"mango\") # mango orange apple\n",
        "print(fruits)\n",
        "fruits = fruits.replace(\"orange\", \"banana\") # mango banana apple\n",
        "print(fruits)\n",
        "fruits = fruits.upper() # MANGO BANANA APPLE\n",
        "fruits"
      ]
    },
    {
      "cell_type": "markdown",
      "metadata": {
        "id": "Fz-vIv3jZii2"
      },
      "source": [
        "# Challenge\n",
        "\n",
        "## Challenge 1\n",
        "\n",
        "Try to override below `city` to include `Jakarta` in the end of the string, make sure that the end result is: \"Surabaya, Bandung, Yogyakarta, Jakarta\""
      ]
    },
    {
      "cell_type": "code",
      "execution_count": 17,
      "metadata": {
        "id": "BtW1sQ2nZii2",
        "colab": {
          "base_uri": "https://localhost:8080/",
          "height": 35
        },
        "outputId": "e55c6693-8be8-4991-8fe6-a034dda784f7"
      },
      "outputs": [
        {
          "output_type": "execute_result",
          "data": {
            "text/plain": [
              "'Surabaya, Bandung, Yogyakarta, Jakarta'"
            ],
            "application/vnd.google.colaboratory.intrinsic+json": {
              "type": "string"
            }
          },
          "metadata": {},
          "execution_count": 17
        }
      ],
      "source": [
        "cities = \"Surabaya, Bandung, Yogyakarta\"\n",
        "cities = cities + \", Jakarta\" # Change this line of code only\n",
        "cities #Output must be \"Surabaya, Bandung, Yogyakarta, Jakarta\""
      ]
    },
    {
      "cell_type": "markdown",
      "metadata": {
        "id": "jXicjWUaZii2"
      },
      "source": [
        "When you are done with the above challenge, then:\n",
        "\n",
        "1. Run the code block below by pressing the play button."
      ]
    },
    {
      "cell_type": "code",
      "execution_count": 18,
      "metadata": {
        "id": "DNbe3ZJbZii2",
        "outputId": "468f0ce2-1981-4a64-d724-2575da17ad80",
        "colab": {
          "base_uri": "https://localhost:8080/",
          "height": 35
        }
      },
      "outputs": [
        {
          "output_type": "execute_result",
          "data": {
            "text/plain": [
              "'Assignment successfully submitted'"
            ],
            "application/vnd.google.colaboratory.intrinsic+json": {
              "type": "string"
            }
          },
          "metadata": {},
          "execution_count": 18
        }
      ],
      "source": [
        "# Submit Method\n",
        "assignment_id = \"003_variables-and-functions\"\n",
        "question_id = \"03_variable_overwriting_1\"\n",
        "\n",
        "submit(student_id, name, assignment_id, cities, question_id)"
      ]
    },
    {
      "cell_type": "markdown",
      "metadata": {
        "id": "PQ2I7-IoZii2"
      },
      "source": [
        "## Challenge 2\n",
        "\n",
        "Follow the guide on below line of code to finish the challenge"
      ]
    },
    {
      "cell_type": "code",
      "execution_count": 20,
      "metadata": {
        "id": "JD0bmK2bZii2",
        "outputId": "659db88b-cdb5-4887-ff75-8e2d530d0a4a",
        "colab": {
          "base_uri": "https://localhost:8080/"
        }
      },
      "outputs": [
        {
          "output_type": "stream",
          "name": "stdout",
          "text": [
            "15\n"
          ]
        }
      ],
      "source": [
        "calculation = 5\n",
        "calculation = calculation * 2 # Times this variable by 2\n",
        "calculation = calculation + 10 # Add 10 to this variable\n",
        "calculation = calculation - 5 # Subtract 5 from this variable\n",
        "calculation #Output must be the number 15\n",
        "print(calculation)"
      ]
    },
    {
      "cell_type": "markdown",
      "metadata": {
        "id": "FeUJUz3ZZii2"
      },
      "source": [
        "When you are done with the above challenge, then:\n",
        "\n",
        "1. Run the code block below by pressing the play button."
      ]
    },
    {
      "cell_type": "code",
      "execution_count": 21,
      "metadata": {
        "id": "A5raICgkZii2",
        "outputId": "5902d7a5-2295-4f33-ded9-804e132f8af5",
        "colab": {
          "base_uri": "https://localhost:8080/",
          "height": 35
        }
      },
      "outputs": [
        {
          "output_type": "execute_result",
          "data": {
            "text/plain": [
              "'Assignment successfully submitted'"
            ],
            "application/vnd.google.colaboratory.intrinsic+json": {
              "type": "string"
            }
          },
          "metadata": {},
          "execution_count": 21
        }
      ],
      "source": [
        "# Submit Method\n",
        "assignment_id = \"003_variables-and-functions\"\n",
        "question_id = \"04_variable_overwriting_2\"\n",
        "\n",
        "submit(student_id, name, assignment_id, str(calculation), question_id)"
      ]
    },
    {
      "cell_type": "markdown",
      "metadata": {
        "id": "v_qvgdmlZii2"
      },
      "source": [
        "# Function\n",
        "\n",
        "Function is a block of code that can be called to perform a specific task. It can take in input and return output. It is a way to organize your code and make it reusable. The syntax for defining a function is as below:"
      ]
    },
    {
      "cell_type": "code",
      "execution_count": 22,
      "metadata": {
        "id": "OngSsvAhZii2",
        "outputId": "c41c81b1-b709-4baf-cdbd-5240bd084735",
        "colab": {
          "base_uri": "https://localhost:8080/",
          "height": 53
        }
      },
      "outputs": [
        {
          "output_type": "stream",
          "name": "stdout",
          "text": [
            "7\n"
          ]
        },
        {
          "output_type": "execute_result",
          "data": {
            "text/plain": [
              "'Hello'"
            ],
            "application/vnd.google.colaboratory.intrinsic+json": {
              "type": "string"
            }
          },
          "metadata": {},
          "execution_count": 22
        }
      ],
      "source": [
        "def add(a, b):\n",
        "    return a + b\n",
        "\n",
        "print(add(3, 4))\n",
        "#add(9, 14)\n",
        "\n",
        "def print_hello():\n",
        "  return \"Hello\"\n",
        "\n",
        "print_hello()"
      ]
    },
    {
      "cell_type": "markdown",
      "metadata": {
        "id": "pOU3sw1rZii2"
      },
      "source": [
        "Python is an indentation-sensitive language. The code inside the function is indented, which you can just use tab to indent.\n",
        "\n",
        "So, as long as:\n",
        "- The code after the function definition is indented, it is considered as part of the function.\n",
        "- Every code after that that's in the same indentation level, as long as it isn't separated by an empty line, is considered as part of the same function\n",
        "\n",
        "So we can have several lines of code like so:"
      ]
    },
    {
      "cell_type": "code",
      "execution_count": 23,
      "metadata": {
        "id": "YW2mGnmuZii2",
        "outputId": "4fe9f390-2574-4d93-b8ef-54a3effd8e59",
        "colab": {
          "base_uri": "https://localhost:8080/"
        }
      },
      "outputs": [
        {
          "output_type": "stream",
          "name": "stdout",
          "text": [
            "HI, I'M A DOG\n",
            "I LIKE DOG\n",
            "WE NEED YOUR DOG\n"
          ]
        }
      ],
      "source": [
        "def several_text_manipulation(text):\n",
        "    data = text.replace('cat', 'dog')\n",
        "    data = data.upper()\n",
        "    return data\n",
        "\n",
        "print(several_text_manipulation(\"Hi, I'm a cat\"))\n",
        "print(several_text_manipulation(\"I like cat\"))\n",
        "print(several_text_manipulation(\"We need your cat\"))"
      ]
    },
    {
      "cell_type": "markdown",
      "metadata": {
        "id": "ZGkpGtdtZii3"
      },
      "source": [
        "So as we can see above, we have a single `text` parameter (we'll cover this term in detail in a bit), then we manipulate that inside the function, after that we return the result, which will make it the output of the function."
      ]
    },
    {
      "cell_type": "code",
      "execution_count": 26,
      "metadata": {
        "id": "f79Q2fODZii3",
        "outputId": "5c5f7ce1-0962-482a-aefe-6237a2cb671f",
        "colab": {
          "base_uri": "https://localhost:8080/",
          "height": 106
        }
      },
      "outputs": [
        {
          "output_type": "error",
          "ename": "IndentationError",
          "evalue": "expected an indented block after function definition on line 1 (<ipython-input-26-3c8116ec7ada>, line 2)",
          "traceback": [
            "\u001b[0;36m  File \u001b[0;32m\"<ipython-input-26-3c8116ec7ada>\"\u001b[0;36m, line \u001b[0;32m2\u001b[0m\n\u001b[0;31m    data = text.replace('cat', 'dog')\u001b[0m\n\u001b[0m    ^\u001b[0m\n\u001b[0;31mIndentationError\u001b[0m\u001b[0;31m:\u001b[0m expected an indented block after function definition on line 1\n"
          ]
        }
      ],
      "source": [
        "def several_text_manipulation(text):\n",
        "data = text.replace('cat', 'dog')\n",
        "data = data.upper()\n",
        "return data\n",
        "\n",
        "several_text_manipulation(\"Hi, I'm a cat\")"
      ]
    },
    {
      "cell_type": "markdown",
      "metadata": {
        "id": "rdMo-hiVZii3"
      },
      "source": [
        "This will not work, as the code after the function definition hasn't been indented correctly"
      ]
    },
    {
      "cell_type": "markdown",
      "metadata": {
        "id": "4gsGbbU7Zii6"
      },
      "source": [
        "# Intermezo: Parameters? Arguments?\n",
        "\n",
        "> This section is not mandatory to understand, it's for some of you that might learn outside of this course and might have heard these terms before. For the rest of this course you can pretend that these two terms are interchangeable, and this course will use the term \"parameter\" for both of them.\n",
        "\n",
        "We'll keep hearing these two terms a lot when talking about functions. So what are they and how are they different?\n",
        "\n",
        "## When we're writing the function it's called parameter\n",
        "\n",
        "When we're writing the function, we can define the parameters of that function. The total number of parameters can be differ from one function to another according to the need of the function, sometimes it can be zero, sometimes it can be one, sometimes it can be more than one."
      ]
    },
    {
      "cell_type": "code",
      "execution_count": 27,
      "metadata": {
        "id": "WbKefDeyZii6"
      },
      "outputs": [],
      "source": [
        "def sum_three(a, b, c):\n",
        "    return a + b + c"
      ]
    },
    {
      "cell_type": "markdown",
      "metadata": {
        "id": "XnNA7Oq_Zii6"
      },
      "source": [
        "From above examples, what's called as parameter are `a`, `b`, and `c`."
      ]
    },
    {
      "cell_type": "markdown",
      "metadata": {
        "id": "k16qmT2uZii6"
      },
      "source": [
        "## When we're using the function, we're passing arguments\n",
        "\n",
        "Now when we're **using** the function after the function is already defined, we're passing arguments to the function. So if we use the `sum_three` function above, we can use it with `3`, `4`, and `5` as the arguments:"
      ]
    },
    {
      "cell_type": "code",
      "execution_count": 28,
      "metadata": {
        "id": "n2z_Cza-Zii6",
        "outputId": "73d2dff9-b58d-4b7a-c8dd-790761d7f8e1",
        "colab": {
          "base_uri": "https://localhost:8080/"
        }
      },
      "outputs": [
        {
          "output_type": "execute_result",
          "data": {
            "text/plain": [
              "12"
            ]
          },
          "metadata": {},
          "execution_count": 28
        }
      ],
      "source": [
        "sum_three(3, 4, 5)"
      ]
    },
    {
      "cell_type": "markdown",
      "metadata": {
        "id": "AtS5vD1BZii6"
      },
      "source": [
        "Of course we can use variables as the arguments:"
      ]
    },
    {
      "cell_type": "code",
      "execution_count": 29,
      "metadata": {
        "id": "LDdNPM1wZii6",
        "outputId": "66cb8db6-8351-437a-9508-25573da651d8",
        "colab": {
          "base_uri": "https://localhost:8080/"
        }
      },
      "outputs": [
        {
          "output_type": "execute_result",
          "data": {
            "text/plain": [
              "12"
            ]
          },
          "metadata": {},
          "execution_count": 29
        }
      ],
      "source": [
        "num_1 = 3\n",
        "num_3 = 5\n",
        "\n",
        "sum_three(num_1, 4, num_3)"
      ]
    },
    {
      "cell_type": "markdown",
      "metadata": {
        "id": "MuylL0fYZii6"
      },
      "source": [
        "Hard to remember between parameters and arguments? For learning you can remember that those two words are really similar, and not knowing which is which is not a big deal,but you'll find those two words used a lot in here and other learning resources, but you can just pretend that they're the same thing."
      ]
    },
    {
      "cell_type": "markdown",
      "metadata": {
        "id": "Nh0DSb8wZii6"
      },
      "source": [
        "# Challenge!"
      ]
    },
    {
      "cell_type": "markdown",
      "metadata": {
        "id": "iIDOn2sdZii6"
      },
      "source": [
        "## Challenge 1\n",
        "\n",
        "Using `.capitalize()` function, modify below function so it will return the capitalized version of the `input` parameter."
      ]
    },
    {
      "cell_type": "code",
      "execution_count": 30,
      "metadata": {
        "id": "elvDUfufZii6",
        "outputId": "d5352670-c40c-41a4-9cb7-64701d3e1311",
        "colab": {
          "base_uri": "https://localhost:8080/"
        }
      },
      "outputs": [
        {
          "output_type": "stream",
          "name": "stdout",
          "text": [
            "Hello world\n",
            "My name is andi\n",
            "I am crazy text\n"
          ]
        }
      ],
      "source": [
        "def capitalize_me(input):\n",
        "    return input.capitalize() # Put your code here\n",
        "\n",
        "print(capitalize_me(\"hello world\")) # \"Hello world\"\n",
        "print(capitalize_me(\"My name is Andi\")) # \"My name is andi\"\n",
        "print(capitalize_me(\"I aM CrAzY TeXT\")) # \"I am crazy text\""
      ]
    },
    {
      "cell_type": "markdown",
      "metadata": {
        "id": "peaaH_RVZii6"
      },
      "source": [
        "When you are done with the above challenge, then:\n",
        "\n",
        "1. Run the code block below by pressing the play button."
      ]
    },
    {
      "cell_type": "code",
      "execution_count": 31,
      "metadata": {
        "id": "2M7q8-fkZii7",
        "outputId": "1945e089-8faa-4df7-cbbc-c5dbc1a15884",
        "colab": {
          "base_uri": "https://localhost:8080/",
          "height": 35
        }
      },
      "outputs": [
        {
          "output_type": "execute_result",
          "data": {
            "text/plain": [
              "'Assignment successfully submitted'"
            ],
            "application/vnd.google.colaboratory.intrinsic+json": {
              "type": "string"
            }
          },
          "metadata": {},
          "execution_count": 31
        }
      ],
      "source": [
        "# Submit Method\n",
        "assignment_id = \"003_variables-and-functions\"\n",
        "question_id = \"05_function_1\"\n",
        "\n",
        "submit(student_id, name, assignment_id, capitalize_me(\"ruangguru skill academy bootcamp\"), question_id)"
      ]
    },
    {
      "cell_type": "markdown",
      "metadata": {
        "id": "i8BE9aFFZii7"
      },
      "source": [
        "## Challenge 2\n",
        "\n",
        "From below two input parameters, concatenate them into one string and then make it all uppercase."
      ]
    },
    {
      "cell_type": "code",
      "execution_count": 33,
      "metadata": {
        "id": "3FJWH74vZii7",
        "outputId": "b866a1d2-39f9-4c4a-c3ca-07034e508fc7",
        "colab": {
          "base_uri": "https://localhost:8080/"
        }
      },
      "outputs": [
        {
          "output_type": "stream",
          "name": "stdout",
          "text": [
            "HELLO WORLD\n",
            "IBU KOTA\n",
            "INI KAPITAL\n"
          ]
        }
      ],
      "source": [
        "def concat_then_upper(input_one, input_two):\n",
        "    to_return = input_one+\" \"+input_two # Example: Concatenate the two inputs\n",
        "    to_return = to_return.upper() # Make the result uppercase\n",
        "    return to_return\n",
        "\n",
        "print(concat_then_upper(\"Hello\", \"World\")) # \"HELLO WORLD\"\n",
        "print(concat_then_upper(\"Ibu\", \"Kota\")) # \"IBU KOTA\"\n",
        "print(concat_then_upper(\"Ini\", \"Kapital\")) # \"INI KAPITAL\""
      ]
    },
    {
      "cell_type": "markdown",
      "metadata": {
        "id": "oB4VqUysZii7"
      },
      "source": [
        "When you are done with the above challenge, then:\n",
        "\n",
        "1. Run the code block below by pressing the play button."
      ]
    },
    {
      "cell_type": "code",
      "execution_count": 34,
      "metadata": {
        "id": "-xEsjDVrZii7",
        "outputId": "970a287b-b034-4534-b5d6-fe04094a8055",
        "colab": {
          "base_uri": "https://localhost:8080/",
          "height": 35
        }
      },
      "outputs": [
        {
          "output_type": "execute_result",
          "data": {
            "text/plain": [
              "'Assignment successfully submitted'"
            ],
            "application/vnd.google.colaboratory.intrinsic+json": {
              "type": "string"
            }
          },
          "metadata": {},
          "execution_count": 34
        }
      ],
      "source": [
        "# Submit Method\n",
        "assignment_id = \"003_variables-and-functions\"\n",
        "question_id = \"06_function_2\"\n",
        "\n",
        "submit(student_id, name, assignment_id, concat_then_upper(\"Mastering\", \"ai\"), question_id)"
      ]
    },
    {
      "cell_type": "markdown",
      "metadata": {
        "id": "K69cj62FZii7"
      },
      "source": [
        "## Challenge 3\n",
        "\n",
        "From below three input parameters, concatenate them into one string and then make it all uppercase."
      ]
    },
    {
      "cell_type": "code",
      "execution_count": 35,
      "metadata": {
        "id": "rwTSOVWTZii7",
        "outputId": "4c1dff79-b903-4dc4-fbb1-d10df183ef1d",
        "colab": {
          "base_uri": "https://localhost:8080/"
        }
      },
      "outputs": [
        {
          "output_type": "stream",
          "name": "stdout",
          "text": [
            "HELLO ALL OF YOU\n",
            "IBU KOTA INDONESIA\n",
            "INI KAPITAL LOH\n"
          ]
        }
      ],
      "source": [
        "def concat_then_upper(input_one, input_two, input_three):\n",
        "    to_return = input_one+\" \"+input_two+\" \"+input_three # Concatenate the three inputs\n",
        "    to_return = to_return.upper() # Make the result uppercase\n",
        "    return to_return\n",
        "\n",
        "print(concat_then_upper(\"Hello\", \"all of\", \"you\")) # \"HELLO ALL OF YOU\"\n",
        "print(concat_then_upper(\"Ibu\", \"Kota\", \"Indonesia\")) # \"IBU KOTA INDONESIA\"\n",
        "print(concat_then_upper(\"Ini\", \"Kapital\", \"loh\")) # \"INI KAPITAL LOH\""
      ]
    },
    {
      "cell_type": "markdown",
      "metadata": {
        "id": "_5PpUcZkZii7"
      },
      "source": [
        "When you are done with the above challenge, then:\n",
        "\n",
        "1. Run the code block below by pressing the play button."
      ]
    },
    {
      "cell_type": "code",
      "execution_count": 36,
      "metadata": {
        "id": "9GKvlWk-Zii7",
        "outputId": "b7baa8a3-8634-43ed-cbad-85a1125b2dd5",
        "colab": {
          "base_uri": "https://localhost:8080/",
          "height": 35
        }
      },
      "outputs": [
        {
          "output_type": "execute_result",
          "data": {
            "text/plain": [
              "'Assignment successfully submitted'"
            ],
            "application/vnd.google.colaboratory.intrinsic+json": {
              "type": "string"
            }
          },
          "metadata": {},
          "execution_count": 36
        }
      ],
      "source": [
        "# Submit Method\n",
        "assignment_id = \"003_variables-and-functions\"\n",
        "question_id = \"07_function_3\"\n",
        "\n",
        "submit(student_id, name, assignment_id, concat_then_upper(\"Mastering\", \"ai\", \"Bootcamp\"), question_id)"
      ]
    },
    {
      "cell_type": "markdown",
      "metadata": {
        "id": "qGNDCa3WZii7"
      },
      "source": [
        "## Challenge 4\n",
        "\n",
        "From below two input parameters, subtract first parameter with the second parameter (first parameter - second parameter) and then return the result."
      ]
    },
    {
      "cell_type": "code",
      "execution_count": 37,
      "metadata": {
        "id": "1jUh2QvNZii7",
        "outputId": "6ac1d2c1-8152-45ef-c226-145b934f459e",
        "colab": {
          "base_uri": "https://localhost:8080/"
        }
      },
      "outputs": [
        {
          "output_type": "stream",
          "name": "stdout",
          "text": [
            "5\n",
            "10\n",
            "50\n"
          ]
        }
      ],
      "source": [
        "def substract(first, second):\n",
        "    return first-second # Put your code here\n",
        "\n",
        "print(substract(10, 5)) # 5\n",
        "print(substract(20, 10)) # 10\n",
        "print(substract(100, 50)) # 50"
      ]
    },
    {
      "cell_type": "markdown",
      "metadata": {
        "id": "SP6U3ymOZii7"
      },
      "source": [
        "When you are done with the above challenge, then:\n",
        "\n",
        "1. Run the code block below by pressing the play button."
      ]
    },
    {
      "cell_type": "code",
      "execution_count": 38,
      "metadata": {
        "id": "CZ_hnYNSZii7",
        "outputId": "64d380a4-17ae-43f6-be4b-6904e064098d",
        "colab": {
          "base_uri": "https://localhost:8080/",
          "height": 35
        }
      },
      "outputs": [
        {
          "output_type": "execute_result",
          "data": {
            "text/plain": [
              "'Assignment successfully submitted'"
            ],
            "application/vnd.google.colaboratory.intrinsic+json": {
              "type": "string"
            }
          },
          "metadata": {},
          "execution_count": 38
        }
      ],
      "source": [
        "# Submit Method\n",
        "assignment_id = \"003_variables-and-functions\"\n",
        "question_id = \"08_function_4\"\n",
        "\n",
        "submit(student_id, name, assignment_id, str(substract(1024, 128)), question_id)"
      ]
    },
    {
      "cell_type": "markdown",
      "metadata": {
        "id": "z7JB9DDpZii7"
      },
      "source": [
        "## Challenge 5\n",
        "\n",
        "Create a very basic multiplication function that will receive two arguments and return the multiplication result of those two arguments. Feel free write the name of the function and the parameters as you like (as long as it's following the rules of variable naming)!"
      ]
    },
    {
      "cell_type": "code",
      "execution_count": 42,
      "metadata": {
        "id": "b-uuLMiqZii7",
        "outputId": "bfb239d7-fc19-4380-8984-af286a990714",
        "colab": {
          "base_uri": "https://localhost:8080/"
        }
      },
      "outputs": [
        {
          "output_type": "stream",
          "name": "stdout",
          "text": [
            "50\n"
          ]
        }
      ],
      "source": [
        "# Put your code below\n",
        "def multiplication(first, second):\n",
        "    return first*second # Put your code here\n",
        "\n",
        "print(multiplication(10,5)) # 10*5 = 50"
      ]
    },
    {
      "cell_type": "markdown",
      "metadata": {
        "id": "so45bifXZii7"
      },
      "source": [
        "When you are done with the above challenge, then:\n",
        "\n",
        "1. Change the text \"my result\" below with the text \"done\"\n",
        "2. Run the code block by pressing the play button."
      ]
    },
    {
      "cell_type": "code",
      "execution_count": 43,
      "metadata": {
        "id": "hzsh7hhFZii8",
        "outputId": "c7dcb34d-5a95-4384-e1bd-f5907aa3f900",
        "colab": {
          "base_uri": "https://localhost:8080/",
          "height": 35
        }
      },
      "outputs": [
        {
          "output_type": "execute_result",
          "data": {
            "text/plain": [
              "'Assignment successfully submitted'"
            ],
            "application/vnd.google.colaboratory.intrinsic+json": {
              "type": "string"
            }
          },
          "metadata": {},
          "execution_count": 43
        }
      ],
      "source": [
        "# Submit Method\n",
        "assignment_id = \"003_variables-and-functions\"\n",
        "question_id = \"09_function_5\"\n",
        "\n",
        "result = \"done\"\n",
        "\n",
        "submit(student_id, name, assignment_id, result, question_id)"
      ]
    },
    {
      "cell_type": "markdown",
      "metadata": {
        "id": "3PpJJPsfZii8"
      },
      "source": [
        "## Challenge 6\n",
        "\n",
        "Create a function that will receive three arguments and return the multiplication result of those three arguments."
      ]
    },
    {
      "cell_type": "code",
      "execution_count": 44,
      "metadata": {
        "id": "qOAYGXt3Zii8",
        "outputId": "7324f81a-3f51-440b-8340-ad4765f2821c",
        "colab": {
          "base_uri": "https://localhost:8080/"
        }
      },
      "outputs": [
        {
          "output_type": "stream",
          "name": "stdout",
          "text": [
            "60\n"
          ]
        }
      ],
      "source": [
        "# Put your code below\n",
        "def multiplication3(first, second, third):\n",
        "    return first*second*third # Put your code here\n",
        "\n",
        "print(multiplication3(3,4,5)) # 3*4*5 = 60"
      ]
    },
    {
      "cell_type": "markdown",
      "metadata": {
        "id": "w08jShtjZii8"
      },
      "source": [
        "When you are done with the above challenge, then:\n",
        "\n",
        "1. Change the text \"my result\" below with the text \"done\"\n",
        "2. Run the code block by pressing the play button."
      ]
    },
    {
      "cell_type": "code",
      "execution_count": 45,
      "metadata": {
        "id": "aIDjlmz2Zii8",
        "outputId": "698f8ec6-f89b-426a-b29a-5441d4d117fc",
        "colab": {
          "base_uri": "https://localhost:8080/",
          "height": 35
        }
      },
      "outputs": [
        {
          "output_type": "execute_result",
          "data": {
            "text/plain": [
              "'Assignment successfully submitted'"
            ],
            "application/vnd.google.colaboratory.intrinsic+json": {
              "type": "string"
            }
          },
          "metadata": {},
          "execution_count": 45
        }
      ],
      "source": [
        "# Submit Method\n",
        "assignment_id = \"003_variables-and-functions\"\n",
        "question_id = \"10_function_6\"\n",
        "\n",
        "result = \"done\"\n",
        "\n",
        "submit(student_id, name, assignment_id, result, question_id)"
      ]
    },
    {
      "cell_type": "markdown",
      "metadata": {
        "id": "HyAx5xsbZii8"
      },
      "source": [
        "# Positional vs Keyword arguments\n",
        "\n",
        "Consider below function:"
      ]
    },
    {
      "cell_type": "code",
      "execution_count": 46,
      "metadata": {
        "id": "KRLmX6eFZii9"
      },
      "outputs": [],
      "source": [
        "def substract(a, b):\n",
        "    return a - b"
      ]
    },
    {
      "cell_type": "markdown",
      "metadata": {
        "id": "lc-g9B8dZii9"
      },
      "source": [
        "As we said previously, we can use it like below:"
      ]
    },
    {
      "cell_type": "code",
      "execution_count": 47,
      "metadata": {
        "id": "gy-zlT9LZii9",
        "colab": {
          "base_uri": "https://localhost:8080/"
        },
        "outputId": "0dac1b0d-8ac6-4006-c6eb-6e650a71401a"
      },
      "outputs": [
        {
          "output_type": "execute_result",
          "data": {
            "text/plain": [
              "3"
            ]
          },
          "metadata": {},
          "execution_count": 47
        }
      ],
      "source": [
        "substract(5, 2)"
      ]
    },
    {
      "cell_type": "markdown",
      "metadata": {
        "id": "yg65C5RvZii9"
      },
      "source": [
        "This is called **positional arguments**. The arguments are passed to the function according to the position of the parameters in the function definition.\n",
        "\n",
        "Another way to pass arguments is by using the parameter name:"
      ]
    },
    {
      "cell_type": "code",
      "execution_count": 48,
      "metadata": {
        "id": "wDzYlQ32Zii9",
        "outputId": "9c6c8e3d-b049-47ee-ba3a-1e6fb21cf2a0",
        "colab": {
          "base_uri": "https://localhost:8080/"
        }
      },
      "outputs": [
        {
          "output_type": "execute_result",
          "data": {
            "text/plain": [
              "3"
            ]
          },
          "metadata": {},
          "execution_count": 48
        }
      ],
      "source": [
        "substract(a=5, b=2) #keyword argument, similar to position argument"
      ]
    },
    {
      "cell_type": "markdown",
      "metadata": {
        "id": "6ajece8LZii9"
      },
      "source": [
        "This is called **keyword arguments**. The arguments are passed to the function using the parameter name. What makes keyword arguments different from positional arguments is that **the order of the arguments doesn't matter**, which means we can do this and the result will be the same:"
      ]
    },
    {
      "cell_type": "code",
      "source": [
        "substract(b=2, a=5) #keyword argument, position does not matter"
      ],
      "metadata": {
        "colab": {
          "base_uri": "https://localhost:8080/"
        },
        "id": "-ZCWeSWQXEMd",
        "outputId": "037e224d-e662-478a-b7fc-73d28aa63ff6"
      },
      "execution_count": 49,
      "outputs": [
        {
          "output_type": "execute_result",
          "data": {
            "text/plain": [
              "3"
            ]
          },
          "metadata": {},
          "execution_count": 49
        }
      ]
    },
    {
      "cell_type": "code",
      "execution_count": 50,
      "metadata": {
        "id": "AgcWuQIzZii9",
        "outputId": "2fa2b010-d335-444b-90e0-278e454c4b11",
        "colab": {
          "base_uri": "https://localhost:8080/",
          "height": 35
        }
      },
      "outputs": [
        {
          "output_type": "execute_result",
          "data": {
            "text/plain": [
              "'John, 20, male, London, England'"
            ],
            "application/vnd.google.colaboratory.intrinsic+json": {
              "type": "string"
            }
          },
          "metadata": {},
          "execution_count": 50
        }
      ],
      "source": [
        "def identify(name, age, gender, city, country):\n",
        "  return name + \", \" + age + \", \" + gender + \", \" + city + \", \" + country\n",
        "\n",
        "\n",
        "identify(name=\"John\", age=\"20\", city=\"London\", country=\"England\", gender=\"male\")\n",
        "#identify(\"John\", \"20\", \"London\", \"England\", \"male\")"
      ]
    },
    {
      "cell_type": "markdown",
      "metadata": {
        "id": "QleUHphOZii9"
      },
      "source": [
        "# Challenge"
      ]
    },
    {
      "cell_type": "markdown",
      "metadata": {
        "id": "MFTACxvWZii9"
      },
      "source": [
        "## Challenge 1\n",
        "\n",
        "Return the substraction result of below three arguments"
      ]
    },
    {
      "cell_type": "code",
      "execution_count": 51,
      "metadata": {
        "id": "J9JQtdjsZii9",
        "outputId": "8423323b-b24f-484c-bc59-40187e3835f7",
        "colab": {
          "base_uri": "https://localhost:8080/"
        }
      },
      "outputs": [
        {
          "output_type": "stream",
          "name": "stdout",
          "text": [
            "3\n",
            "-2\n",
            "70\n"
          ]
        }
      ],
      "source": [
        "def sub_three(first_number, second_number, third_number):\n",
        "    return first_number-second_number-third_number # Put your code here\n",
        "\n",
        "print(sub_three(10, 5, 2)) # 3\n",
        "print(sub_three(third_number=7, second_number=5, first_number=10)) # -2\n",
        "print(sub_three(second_number=20, third_number=10, first_number=100)) # 70"
      ]
    },
    {
      "cell_type": "markdown",
      "metadata": {
        "id": "cmMz4JN5Zii9"
      },
      "source": [
        "When you are done with the above challenge, then:\n",
        "\n",
        "1. Run the code block below by pressing the play button."
      ]
    },
    {
      "cell_type": "code",
      "execution_count": 52,
      "metadata": {
        "id": "ArrgVYSTZii9",
        "outputId": "c1769d29-56a4-4e6a-991a-fb98e4cce5ab",
        "colab": {
          "base_uri": "https://localhost:8080/",
          "height": 35
        }
      },
      "outputs": [
        {
          "output_type": "execute_result",
          "data": {
            "text/plain": [
              "'Assignment successfully submitted'"
            ],
            "application/vnd.google.colaboratory.intrinsic+json": {
              "type": "string"
            }
          },
          "metadata": {},
          "execution_count": 52
        }
      ],
      "source": [
        "# Submit Method\n",
        "assignment_id = \"003_variables-and-functions\"\n",
        "question_id = \"11_function_positional_argument_1\"\n",
        "\n",
        "submit(student_id, name, assignment_id, str(sub_three(second_number=2, third_number=3, first_number=1)), question_id)"
      ]
    },
    {
      "cell_type": "markdown",
      "metadata": {
        "id": "_GuRGM91Zii-"
      },
      "source": [
        "## Challenge 2\n",
        "\n",
        "Below is a function call that will receive three arguments and return the concatenation result of those three arguments (Remember to add space between words). Your task is to create the function that will be called by below function call."
      ]
    },
    {
      "cell_type": "code",
      "execution_count": 56,
      "metadata": {
        "id": "ijqlh2BHZii-",
        "outputId": "839d8f7f-9830-4e69-85ba-6237e3ebfe32",
        "colab": {
          "base_uri": "https://localhost:8080/",
          "height": 53
        }
      },
      "outputs": [
        {
          "output_type": "stream",
          "name": "stdout",
          "text": [
            "You are breathtaking\n"
          ]
        },
        {
          "output_type": "execute_result",
          "data": {
            "text/plain": [
              "'You are breathtaking'"
            ],
            "application/vnd.google.colaboratory.intrinsic+json": {
              "type": "string"
            }
          },
          "metadata": {},
          "execution_count": 56
        }
      ],
      "source": [
        "# Put your code below\n",
        "def concat_texts(first, second, third):\n",
        "  return first+\" \"+second+\" \"+third\n",
        "\n",
        "print(concat_texts(\"You\", \"are\", \"breathtaking\")) # Should return \"You are breathtaking\"\n",
        "concat_texts(third=\"breathtaking\", first=\"You\", second=\"are\") # Should return \"You are breathtaking\""
      ]
    },
    {
      "cell_type": "markdown",
      "metadata": {
        "id": "9CJTL_m6Zii-"
      },
      "source": [
        "When you are done with the above challenge, then:\n",
        "\n",
        "1. Run the code block below by pressing the play button."
      ]
    },
    {
      "cell_type": "code",
      "execution_count": 57,
      "metadata": {
        "id": "LhpfPq0uZii-",
        "outputId": "a86c971a-51d2-479f-f4cd-7682848bb12f",
        "colab": {
          "base_uri": "https://localhost:8080/",
          "height": 35
        }
      },
      "outputs": [
        {
          "output_type": "execute_result",
          "data": {
            "text/plain": [
              "'Assignment successfully submitted'"
            ],
            "application/vnd.google.colaboratory.intrinsic+json": {
              "type": "string"
            }
          },
          "metadata": {},
          "execution_count": 57
        }
      ],
      "source": [
        "# Submit Method\n",
        "assignment_id = \"003_variables-and-functions\"\n",
        "question_id = \"12_function_positional_argument_2\"\n",
        "\n",
        "submit(student_id, name, assignment_id, concat_texts(first=\"My\", third=\"ring\", second=\"precious\"), question_id)"
      ]
    },
    {
      "cell_type": "markdown",
      "metadata": {
        "id": "QOIfGPrzZii-"
      },
      "source": [
        "# Value returned can be assigned to a variable\n",
        "\n",
        "The value returned by a function can be assigned to a variable, because something returned from a function is basically the datatype of the function. For example:"
      ]
    },
    {
      "cell_type": "code",
      "execution_count": 58,
      "metadata": {
        "id": "zwZe350LZii-",
        "colab": {
          "base_uri": "https://localhost:8080/"
        },
        "outputId": "a2557762-a8e2-4214-a1ae-403e4252c7a7"
      },
      "outputs": [
        {
          "output_type": "execute_result",
          "data": {
            "text/plain": [
              "7"
            ]
          },
          "metadata": {},
          "execution_count": 58
        }
      ],
      "source": [
        "def add_two(a, b):\n",
        "    return a + b\n",
        "\n",
        "result = add_two(3, 4)\n",
        "result"
      ]
    },
    {
      "cell_type": "code",
      "source": [
        "result"
      ],
      "metadata": {
        "colab": {
          "base_uri": "https://localhost:8080/"
        },
        "id": "qTjR8y9OO2N4",
        "outputId": "c7de6126-c3b8-4f52-9d7a-d0654f58f9a0"
      },
      "execution_count": 59,
      "outputs": [
        {
          "output_type": "execute_result",
          "data": {
            "text/plain": [
              "7"
            ]
          },
          "metadata": {},
          "execution_count": 59
        }
      ]
    },
    {
      "cell_type": "markdown",
      "metadata": {
        "id": "GaKWgYfsZii-"
      },
      "source": [
        "# Challenge!"
      ]
    },
    {
      "cell_type": "markdown",
      "metadata": {
        "id": "T4Jpwj3AZii-"
      },
      "source": [
        "## Challenge 1\n",
        "\n",
        "Concat Rudi's name to the result of below `concat_three` function"
      ]
    },
    {
      "cell_type": "code",
      "execution_count": 60,
      "metadata": {
        "id": "X1H3lIaZZii-",
        "outputId": "4ea6c84f-e07c-4573-aed8-b959c0e62c0e",
        "colab": {
          "base_uri": "https://localhost:8080/",
          "height": 35
        }
      },
      "outputs": [
        {
          "output_type": "execute_result",
          "data": {
            "text/plain": [
              "'Yoda Sam Frodo Rudi'"
            ],
            "application/vnd.google.colaboratory.intrinsic+json": {
              "type": "string"
            }
          },
          "metadata": {},
          "execution_count": 60
        }
      ],
      "source": [
        "def concat_three(a, b, c):\n",
        "    return a + \" \" + b + \" \" + c\n",
        "\n",
        "concat_three(\"Yoda\", \"Sam\", \"Frodo\") + \" \"+\"Rudi\" # Change this line only, concat Rudi so it will be resulted in \"Yoda Sam Frodo Rudi\""
      ]
    },
    {
      "cell_type": "markdown",
      "metadata": {
        "id": "_864GPTcZii-"
      },
      "source": [
        "When you are done with the above challenge, then:\n",
        "\n",
        "1. Change the text \"my result\" below with the text \"done\"\n",
        "2. Run the code block by pressing the play button."
      ]
    },
    {
      "cell_type": "code",
      "execution_count": 61,
      "metadata": {
        "id": "XDF_-vulZii-",
        "outputId": "5a1b72a6-ffd4-4fdb-c0a8-4ce1c71d2db4",
        "colab": {
          "base_uri": "https://localhost:8080/",
          "height": 35
        }
      },
      "outputs": [
        {
          "output_type": "execute_result",
          "data": {
            "text/plain": [
              "'Assignment successfully submitted'"
            ],
            "application/vnd.google.colaboratory.intrinsic+json": {
              "type": "string"
            }
          },
          "metadata": {},
          "execution_count": 61
        }
      ],
      "source": [
        "# Submit Method\n",
        "assignment_id = \"003_variables-and-functions\"\n",
        "question_id = \"13_function_result_as_variable_1\"\n",
        "\n",
        "result = \"done\"\n",
        "\n",
        "submit(student_id, name, assignment_id, result, question_id)"
      ]
    },
    {
      "cell_type": "markdown",
      "metadata": {
        "id": "3umhYnwoZii-"
      },
      "source": [
        "## Challenge 2"
      ]
    },
    {
      "cell_type": "code",
      "execution_count": 62,
      "metadata": {
        "id": "vzufo7KgZii-",
        "colab": {
          "base_uri": "https://localhost:8080/"
        },
        "outputId": "c98904c3-3bf7-44b3-e48b-b05292fe8c40"
      },
      "outputs": [
        {
          "output_type": "execute_result",
          "data": {
            "text/plain": [
              "10"
            ]
          },
          "metadata": {},
          "execution_count": 62
        }
      ],
      "source": [
        "def add_three(a, b, c):\n",
        "    return a + b + c\n",
        "\n",
        "add_three(1, 2, 3)+4 # Change this line only, add the result of this function with 4 so it will be resulted in 10"
      ]
    },
    {
      "cell_type": "markdown",
      "metadata": {
        "id": "AVSPs_kmZii-"
      },
      "source": [
        "When you are done with the above challenge, then:\n",
        "\n",
        "1. Change the text \"my result\" below with the text \"done\"\n",
        "2. Run the code block by pressing the play button."
      ]
    },
    {
      "cell_type": "code",
      "execution_count": 63,
      "metadata": {
        "id": "fuSCchnJZii-",
        "outputId": "e79cac0e-4a9d-4431-a96d-a7683cef47ca",
        "colab": {
          "base_uri": "https://localhost:8080/",
          "height": 35
        }
      },
      "outputs": [
        {
          "output_type": "execute_result",
          "data": {
            "text/plain": [
              "'Assignment successfully submitted'"
            ],
            "application/vnd.google.colaboratory.intrinsic+json": {
              "type": "string"
            }
          },
          "metadata": {},
          "execution_count": 63
        }
      ],
      "source": [
        "# Submit Method\n",
        "assignment_id = \"003_variables-and-functions\"\n",
        "question_id = \"14_function_result_as_variable_2\"\n",
        "\n",
        "result = \"done\"\n",
        "\n",
        "submit(student_id, name, assignment_id, result, question_id)"
      ]
    },
    {
      "cell_type": "markdown",
      "metadata": {
        "id": "We30wWs9Zii-"
      },
      "source": [
        "## Challenge 3\n",
        "\n",
        "Use two different functions below and sum the result of those two functions"
      ]
    },
    {
      "cell_type": "code",
      "execution_count": 67,
      "metadata": {
        "id": "3IHedy_DZii-",
        "outputId": "a9a54f0a-f9ba-41e0-ab2d-5ec8e55ab647",
        "colab": {
          "base_uri": "https://localhost:8080/"
        }
      },
      "outputs": [
        {
          "output_type": "execute_result",
          "data": {
            "text/plain": [
              "11.0"
            ]
          },
          "metadata": {},
          "execution_count": 67
        }
      ],
      "source": [
        "def divide(a, b):\n",
        "    return a / b\n",
        "\n",
        "def multiply(a, b):\n",
        "    return a * b\n",
        "\n",
        "divide(10, 2) + multiply(2, 3) # Example\n",
        "divide(9,3)+multiply(2,4)# Now create the division of 9 and 3, and multiplication of 2 and 4, then add the result of those two operations in this line (use existing functions except for the addition)\n"
      ]
    },
    {
      "cell_type": "markdown",
      "metadata": {
        "id": "BN_llU9xZii-"
      },
      "source": [
        "When you are done with the above challenge, then:\n",
        "\n",
        "1. Change the text \"my result\" below with the output of the calculation above.\n",
        "2. Run the code block by pressing the play button."
      ]
    },
    {
      "cell_type": "code",
      "execution_count": 68,
      "metadata": {
        "id": "eNgtQkLEZii-",
        "outputId": "a79a2a00-f881-4173-f12f-471435b4f306",
        "colab": {
          "base_uri": "https://localhost:8080/",
          "height": 35
        }
      },
      "outputs": [
        {
          "output_type": "execute_result",
          "data": {
            "text/plain": [
              "'Assignment successfully submitted'"
            ],
            "application/vnd.google.colaboratory.intrinsic+json": {
              "type": "string"
            }
          },
          "metadata": {},
          "execution_count": 68
        }
      ],
      "source": [
        "# Submit Method\n",
        "assignment_id = \"003_variables-and-functions\"\n",
        "question_id = \"15_function_result_as_variable_3\"\n",
        "\n",
        "result = \"11.0\"\n",
        "\n",
        "submit(student_id, name, assignment_id, result, question_id)"
      ]
    },
    {
      "cell_type": "markdown",
      "metadata": {
        "id": "RsWGY8z8Zii-"
      },
      "source": [
        "## Challenge 4\n",
        "\n",
        "Now use the variable `result` and `result2`, results of given functions, and sum them together"
      ]
    },
    {
      "cell_type": "code",
      "execution_count": 70,
      "metadata": {
        "id": "EDbR-zCAZii_",
        "outputId": "10ec5915-bceb-4959-becb-ee91b998af86",
        "colab": {
          "base_uri": "https://localhost:8080/"
        }
      },
      "outputs": [
        {
          "output_type": "execute_result",
          "data": {
            "text/plain": [
              "42"
            ]
          },
          "metadata": {},
          "execution_count": 70
        }
      ],
      "source": [
        "def multiply_two(a, b):\n",
        "    return a * b\n",
        "\n",
        "result = multiply_two(3, 4)\n",
        "result2 = multiply_two(5, 6)\n",
        "\n",
        "result+result2 # Sum the result and result2 variable in this line, output should be 42\n"
      ]
    },
    {
      "cell_type": "markdown",
      "metadata": {
        "id": "q5UL-J2pZii_"
      },
      "source": [
        "When you are done with the above challenge, then:\n",
        "\n",
        "1. Change the text \"my result\" below with the output of the calculation above.\n",
        "2. Run the code block by pressing the play button."
      ]
    },
    {
      "cell_type": "code",
      "execution_count": 71,
      "metadata": {
        "id": "tcdPYQJLZii_",
        "outputId": "7017a65e-f545-4bbf-8c98-47e3b4dc5ed3",
        "colab": {
          "base_uri": "https://localhost:8080/",
          "height": 35
        }
      },
      "outputs": [
        {
          "output_type": "execute_result",
          "data": {
            "text/plain": [
              "'Assignment successfully submitted'"
            ],
            "application/vnd.google.colaboratory.intrinsic+json": {
              "type": "string"
            }
          },
          "metadata": {},
          "execution_count": 71
        }
      ],
      "source": [
        "# Submit Method\n",
        "assignment_id = \"003_variables-and-functions\"\n",
        "question_id = \"16_function_result_as_variable_4\"\n",
        "\n",
        "result = \"42\"\n",
        "\n",
        "submit(student_id, name, assignment_id, result, question_id)"
      ]
    },
    {
      "cell_type": "markdown",
      "metadata": {
        "id": "3I-KPPAPZii_"
      },
      "source": [
        "# Let's have fun, machine learning enthusiasts!"
      ]
    },
    {
      "cell_type": "markdown",
      "metadata": {
        "id": "EIIGrUkKZii_"
      },
      "source": [
        "Let's take a look to several line of code at our \"The basics\" learning section when we're just trying to learn about programming"
      ]
    },
    {
      "cell_type": "code",
      "execution_count": 72,
      "metadata": {
        "id": "guKV4vvUZii_",
        "colab": {
          "base_uri": "https://localhost:8080/",
          "height": 660,
          "referenced_widgets": [
            "409c4c2d648242fe8d5e54a40b22119c",
            "da20f665e12e491ab1b51506a0659aad",
            "26898974366f4e76b72ab676f80e6e3e",
            "60ff9c78c17946e79bbedc7ebf1ad19d",
            "1358d11b345f4028985ff313a2bb5a95",
            "054e3d76526a446a98a6a392e59b42ba",
            "ab1164ce0c8c46918abdeb2bb88cb4ef",
            "1823d51866634eed8c5983b54a88243a",
            "db82aa7212f54eda9659664d9f2cb5fc",
            "e41f4d5419ed4c04a19e4d01e12309d8",
            "77d8b1b960594d16b878278b4b185056",
            "bb014c8ffae04142974fa42d912cdd3a",
            "87e6fb412787407fba265fd7267e4294",
            "9dc8a91b479d42e2b8c6f0109bbff8d0",
            "4c954ebe67394323a538a8191adb1742",
            "4867e67cefd64056b5ae6d85a529ab55",
            "1fb2fc43e8934dd09af85f96b3503f76",
            "9e34d068371748c282b72236b075ccd0",
            "22bad307aa2e4325991afbb7ee62c8a8",
            "4ebf1b8d9a97488a81c8f94761e8e436",
            "85cdeab931c1462c8c6006a33e541808",
            "2f063fa3e8ce41399db78683603863e3",
            "ebe611fe3cc544b9bd6b3c4f0abe9a87",
            "17b27a9e340e4e56b886e1591964a685",
            "994f794a5c914a7ba60933efeb625b2f",
            "20379db6382349e3b389152528fa751a",
            "49a3f4f4cf374fa6960a576999bfeaf3",
            "04ae8d6ad81d499e901a4d6306274d97",
            "cc39cf0d8e054e049594b7127e96a66b",
            "764a63c358cb4de3ad85e8f15c9bb628",
            "15a5dd7c7f8d40eebe96edc03c681ef0",
            "3a1bce781bdf4c8191a7a151e110d3d6",
            "a85e58ab919d46e89b8327cbc9b71191",
            "7a991c01838546bca01fe92064388702",
            "b8b9208bf34e4800a190ef74227fe72c",
            "e3fcce983e34438e8bee713f94dab958",
            "067a1d03c6e643e79e4208593b7a052d",
            "cddaf321795e4e0d990e8fe2b9b1f9a6",
            "0490088d33c148d3b68dd690e7631bc3",
            "0025cb410f7a40d6a87474682d2c5e6c",
            "6cb09346c234444fa6dd801a62939808",
            "1f85e855b79e474e809e190d78d3ba42",
            "39e18156aa4b4dbaac09688297018842",
            "8f3535d1896e4c0dbd81c56c4f21fe6c",
            "df51fa3aa1a54dcdb7b17deefe4c464b",
            "a1f36c97efe04248a5c147458ac83f74",
            "9229626dfa8c49e586805865e3094fbc",
            "0e5e698f659e4d88accdc87461d45ad1",
            "eb2ac5bce93d4555b074619644622b76",
            "56705ff4ef2341f9bd636ba86cb3b542",
            "815ef50bbe23433799b16288f29aeb7a",
            "fa1976339e0d4a20ac60391cf5ed059e",
            "1f43fa3461d24414be4a3ad8f4cdbc4b",
            "dd81dad40f6a44818c6e4bd0053c62ff",
            "67efe8414d174b93981b73ca9137167c",
            "8b26277e2287423d9b34b2a7d050e89b",
            "3ff7cf059b3f4c1ba21b0b4e86a20286",
            "9380357876c244cb96cbade252dc5c65",
            "bae5e11783c04257a3d1bfdba7fc6383",
            "979b492fb3574508afd3ff4a617cfc4a",
            "259fabf30d3c467e9b803761f632a78c",
            "4797992e6d7e417ab2e0478a523ad85c",
            "67c05301ddc644fdaa2ea94c2ac7bc6d",
            "14338b3c9b214ecebdacf484d4a39dd9",
            "7f4f52a61e4b4b838e074707c46be627",
            "1ea1ac169e254d92b3270f5c9ed21686",
            "5a9ccec0d5144e3092329e5e41c6f93b",
            "43368e900bb743eb83bc71c4ec8c36d6",
            "3cde01d0971f46c58cf1ea13003361d7",
            "90efbaf2b8be4570b564606aba64e065",
            "f6f4d77b7a154be9bae364d217172f45",
            "a6728561a0794ce5b82caa0f2fe27942",
            "2baf461c202d4180870cd1c44d3cdf20",
            "5342a3aa3d434c7fb797cbcbe3773345",
            "6d901a6b273d4be1a448640ebe05aaa4",
            "30834fa243674b71bc5da49707c8c702",
            "5411cb1c296545a19f989a8e6a29981b"
          ]
        },
        "outputId": "04c0e2e0-c51e-4f95-9e82-f1897e6a1510"
      },
      "outputs": [
        {
          "output_type": "stream",
          "name": "stdout",
          "text": [
            "Requirement already satisfied: transformers in /usr/local/lib/python3.10/dist-packages (4.41.2)\n",
            "Requirement already satisfied: filelock in /usr/local/lib/python3.10/dist-packages (from transformers) (3.15.4)\n",
            "Requirement already satisfied: huggingface-hub<1.0,>=0.23.0 in /usr/local/lib/python3.10/dist-packages (from transformers) (0.23.4)\n",
            "Requirement already satisfied: numpy>=1.17 in /usr/local/lib/python3.10/dist-packages (from transformers) (1.25.2)\n",
            "Requirement already satisfied: packaging>=20.0 in /usr/local/lib/python3.10/dist-packages (from transformers) (24.1)\n",
            "Requirement already satisfied: pyyaml>=5.1 in /usr/local/lib/python3.10/dist-packages (from transformers) (6.0.1)\n",
            "Requirement already satisfied: regex!=2019.12.17 in /usr/local/lib/python3.10/dist-packages (from transformers) (2024.5.15)\n",
            "Requirement already satisfied: requests in /usr/local/lib/python3.10/dist-packages (from transformers) (2.31.0)\n",
            "Requirement already satisfied: tokenizers<0.20,>=0.19 in /usr/local/lib/python3.10/dist-packages (from transformers) (0.19.1)\n",
            "Requirement already satisfied: safetensors>=0.4.1 in /usr/local/lib/python3.10/dist-packages (from transformers) (0.4.3)\n",
            "Requirement already satisfied: tqdm>=4.27 in /usr/local/lib/python3.10/dist-packages (from transformers) (4.66.4)\n",
            "Requirement already satisfied: fsspec>=2023.5.0 in /usr/local/lib/python3.10/dist-packages (from huggingface-hub<1.0,>=0.23.0->transformers) (2023.6.0)\n",
            "Requirement already satisfied: typing-extensions>=3.7.4.3 in /usr/local/lib/python3.10/dist-packages (from huggingface-hub<1.0,>=0.23.0->transformers) (4.12.2)\n",
            "Requirement already satisfied: charset-normalizer<4,>=2 in /usr/local/lib/python3.10/dist-packages (from requests->transformers) (3.3.2)\n",
            "Requirement already satisfied: idna<4,>=2.5 in /usr/local/lib/python3.10/dist-packages (from requests->transformers) (3.7)\n",
            "Requirement already satisfied: urllib3<3,>=1.21.1 in /usr/local/lib/python3.10/dist-packages (from requests->transformers) (2.0.7)\n",
            "Requirement already satisfied: certifi>=2017.4.17 in /usr/local/lib/python3.10/dist-packages (from requests->transformers) (2024.7.4)\n"
          ]
        },
        {
          "output_type": "stream",
          "name": "stderr",
          "text": [
            "/usr/local/lib/python3.10/dist-packages/huggingface_hub/utils/_token.py:89: UserWarning: \n",
            "The secret `HF_TOKEN` does not exist in your Colab secrets.\n",
            "To authenticate with the Hugging Face Hub, create a token in your settings tab (https://huggingface.co/settings/tokens), set it as secret in your Google Colab and restart your session.\n",
            "You will be able to reuse this secret in all of your notebooks.\n",
            "Please note that authentication is recommended but still optional to access public models or datasets.\n",
            "  warnings.warn(\n"
          ]
        },
        {
          "output_type": "display_data",
          "data": {
            "text/plain": [
              "config.json:   0%|          | 0.00/1.92k [00:00<?, ?B/s]"
            ],
            "application/vnd.jupyter.widget-view+json": {
              "version_major": 2,
              "version_minor": 0,
              "model_id": "409c4c2d648242fe8d5e54a40b22119c"
            }
          },
          "metadata": {}
        },
        {
          "output_type": "display_data",
          "data": {
            "text/plain": [
              "model.safetensors:   0%|          | 0.00/499M [00:00<?, ?B/s]"
            ],
            "application/vnd.jupyter.widget-view+json": {
              "version_major": 2,
              "version_minor": 0,
              "model_id": "bb014c8ffae04142974fa42d912cdd3a"
            }
          },
          "metadata": {}
        },
        {
          "output_type": "display_data",
          "data": {
            "text/plain": [
              "tokenizer_config.json:   0%|          | 0.00/380 [00:00<?, ?B/s]"
            ],
            "application/vnd.jupyter.widget-view+json": {
              "version_major": 2,
              "version_minor": 0,
              "model_id": "ebe611fe3cc544b9bd6b3c4f0abe9a87"
            }
          },
          "metadata": {}
        },
        {
          "output_type": "display_data",
          "data": {
            "text/plain": [
              "vocab.json:   0%|          | 0.00/798k [00:00<?, ?B/s]"
            ],
            "application/vnd.jupyter.widget-view+json": {
              "version_major": 2,
              "version_minor": 0,
              "model_id": "7a991c01838546bca01fe92064388702"
            }
          },
          "metadata": {}
        },
        {
          "output_type": "display_data",
          "data": {
            "text/plain": [
              "merges.txt:   0%|          | 0.00/456k [00:00<?, ?B/s]"
            ],
            "application/vnd.jupyter.widget-view+json": {
              "version_major": 2,
              "version_minor": 0,
              "model_id": "df51fa3aa1a54dcdb7b17deefe4c464b"
            }
          },
          "metadata": {}
        },
        {
          "output_type": "display_data",
          "data": {
            "text/plain": [
              "tokenizer.json:   0%|          | 0.00/2.11M [00:00<?, ?B/s]"
            ],
            "application/vnd.jupyter.widget-view+json": {
              "version_major": 2,
              "version_minor": 0,
              "model_id": "8b26277e2287423d9b34b2a7d050e89b"
            }
          },
          "metadata": {}
        },
        {
          "output_type": "display_data",
          "data": {
            "text/plain": [
              "special_tokens_map.json:   0%|          | 0.00/280 [00:00<?, ?B/s]"
            ],
            "application/vnd.jupyter.widget-view+json": {
              "version_major": 2,
              "version_minor": 0,
              "model_id": "5a9ccec0d5144e3092329e5e41c6f93b"
            }
          },
          "metadata": {}
        }
      ],
      "source": [
        "%pip install transformers\n",
        "from transformers import pipeline\n",
        "\n",
        "classifier = pipeline(task=\"text-classification\", model=\"SamLowe/roberta-base-go_emotions\", top_k=None)"
      ]
    },
    {
      "cell_type": "markdown",
      "metadata": {
        "id": "8j72VJ7HZii_"
      },
      "source": [
        "Ignore the first two line of code as we'll cover it in later section.\n",
        "\n",
        "Beside the argument of `top_k` being `None` (which we haven't covered yet), you should already understand the gist of above code. Python isn't that hard right?!\n",
        "\n",
        "What's unique about above `pipeline` function is that **this function is returning another function**, a \"trick\" that we might haven't learned yet, but let's just take it as it is for now.\n",
        "\n",
        "Let's use the `classifier` function like below:"
      ]
    },
    {
      "cell_type": "code",
      "execution_count": 73,
      "metadata": {
        "id": "FGInx-qIZii_",
        "outputId": "74029b40-fd48-45bf-b0fe-c7e126fd914e",
        "colab": {
          "base_uri": "https://localhost:8080/"
        }
      },
      "outputs": [
        {
          "output_type": "execute_result",
          "data": {
            "text/plain": [
              "[[{'label': 'gratitude', 'score': 0.9838406443595886},\n",
              "  {'label': 'approval', 'score': 0.021553339436650276},\n",
              "  {'label': 'caring', 'score': 0.017339389771223068},\n",
              "  {'label': 'optimism', 'score': 0.01578042097389698},\n",
              "  {'label': 'neutral', 'score': 0.011716535314917564},\n",
              "  {'label': 'joy', 'score': 0.006824682001024485},\n",
              "  {'label': 'realization', 'score': 0.00543360086157918},\n",
              "  {'label': 'relief', 'score': 0.00542123056948185},\n",
              "  {'label': 'admiration', 'score': 0.005104126874357462},\n",
              "  {'label': 'annoyance', 'score': 0.004243295174092054},\n",
              "  {'label': 'sadness', 'score': 0.0041942899115383625},\n",
              "  {'label': 'remorse', 'score': 0.0033548781648278236},\n",
              "  {'label': 'desire', 'score': 0.0033162343315780163},\n",
              "  {'label': 'disapproval', 'score': 0.0029616807587444782},\n",
              "  {'label': 'excitement', 'score': 0.0029147255700081587},\n",
              "  {'label': 'amusement', 'score': 0.0018164935754612088},\n",
              "  {'label': 'confusion', 'score': 0.0017866146517917514},\n",
              "  {'label': 'love', 'score': 0.0017291344702243805},\n",
              "  {'label': 'curiosity', 'score': 0.001715344376862049},\n",
              "  {'label': 'disappointment', 'score': 0.001592422486282885},\n",
              "  {'label': 'anger', 'score': 0.0012371359625831246},\n",
              "  {'label': 'surprise', 'score': 0.0010704593732953072},\n",
              "  {'label': 'disgust', 'score': 0.0009583351202309132},\n",
              "  {'label': 'grief', 'score': 0.0009301738464273512},\n",
              "  {'label': 'pride', 'score': 0.0008884556591510773},\n",
              "  {'label': 'fear', 'score': 0.0008805038523860276},\n",
              "  {'label': 'embarrassment', 'score': 0.0005540966521948576},\n",
              "  {'label': 'nervousness', 'score': 0.0005187639035284519}]]"
            ]
          },
          "metadata": {},
          "execution_count": 73
        }
      ],
      "source": [
        "classifier(\"Mom, thanks for your prayers, I passed the interview on Ruangguru!\")"
      ]
    },
    {
      "cell_type": "markdown",
      "metadata": {
        "id": "jPF0v45PZii_"
      },
      "source": [
        "# Intermezo: Function vs method\n",
        "\n",
        "We've been using the term function a lot, but there's another term that's similar to function, which is method. So what's the difference between function and method?\n",
        "\n",
        "So basically we'll learn more intense about method in OOP section, but to be concise:\n",
        "\n",
        "- Function is written just like we've learned so far (e.g. `function_name(argument)`)\n",
        "- Method is written after a compatible data type (e.g. `\"This is a string\".replace(\"is\", \"was\")`)\n"
      ]
    }
  ],
  "metadata": {
    "kernelspec": {
      "display_name": "Python 3 (ipykernel)",
      "language": "python",
      "name": "python3"
    },
    "language_info": {
      "codemirror_mode": {
        "name": "ipython",
        "version": 3
      },
      "file_extension": ".py",
      "mimetype": "text/x-python",
      "name": "python",
      "nbconvert_exporter": "python",
      "pygments_lexer": "ipython3",
      "version": "3.11.3"
    },
    "colab": {
      "provenance": [],
      "include_colab_link": true
    },
    "widgets": {
      "application/vnd.jupyter.widget-state+json": {
        "409c4c2d648242fe8d5e54a40b22119c": {
          "model_module": "@jupyter-widgets/controls",
          "model_name": "HBoxModel",
          "model_module_version": "1.5.0",
          "state": {
            "_dom_classes": [],
            "_model_module": "@jupyter-widgets/controls",
            "_model_module_version": "1.5.0",
            "_model_name": "HBoxModel",
            "_view_count": null,
            "_view_module": "@jupyter-widgets/controls",
            "_view_module_version": "1.5.0",
            "_view_name": "HBoxView",
            "box_style": "",
            "children": [
              "IPY_MODEL_da20f665e12e491ab1b51506a0659aad",
              "IPY_MODEL_26898974366f4e76b72ab676f80e6e3e",
              "IPY_MODEL_60ff9c78c17946e79bbedc7ebf1ad19d"
            ],
            "layout": "IPY_MODEL_1358d11b345f4028985ff313a2bb5a95"
          }
        },
        "da20f665e12e491ab1b51506a0659aad": {
          "model_module": "@jupyter-widgets/controls",
          "model_name": "HTMLModel",
          "model_module_version": "1.5.0",
          "state": {
            "_dom_classes": [],
            "_model_module": "@jupyter-widgets/controls",
            "_model_module_version": "1.5.0",
            "_model_name": "HTMLModel",
            "_view_count": null,
            "_view_module": "@jupyter-widgets/controls",
            "_view_module_version": "1.5.0",
            "_view_name": "HTMLView",
            "description": "",
            "description_tooltip": null,
            "layout": "IPY_MODEL_054e3d76526a446a98a6a392e59b42ba",
            "placeholder": "​",
            "style": "IPY_MODEL_ab1164ce0c8c46918abdeb2bb88cb4ef",
            "value": "config.json: 100%"
          }
        },
        "26898974366f4e76b72ab676f80e6e3e": {
          "model_module": "@jupyter-widgets/controls",
          "model_name": "FloatProgressModel",
          "model_module_version": "1.5.0",
          "state": {
            "_dom_classes": [],
            "_model_module": "@jupyter-widgets/controls",
            "_model_module_version": "1.5.0",
            "_model_name": "FloatProgressModel",
            "_view_count": null,
            "_view_module": "@jupyter-widgets/controls",
            "_view_module_version": "1.5.0",
            "_view_name": "ProgressView",
            "bar_style": "success",
            "description": "",
            "description_tooltip": null,
            "layout": "IPY_MODEL_1823d51866634eed8c5983b54a88243a",
            "max": 1924,
            "min": 0,
            "orientation": "horizontal",
            "style": "IPY_MODEL_db82aa7212f54eda9659664d9f2cb5fc",
            "value": 1924
          }
        },
        "60ff9c78c17946e79bbedc7ebf1ad19d": {
          "model_module": "@jupyter-widgets/controls",
          "model_name": "HTMLModel",
          "model_module_version": "1.5.0",
          "state": {
            "_dom_classes": [],
            "_model_module": "@jupyter-widgets/controls",
            "_model_module_version": "1.5.0",
            "_model_name": "HTMLModel",
            "_view_count": null,
            "_view_module": "@jupyter-widgets/controls",
            "_view_module_version": "1.5.0",
            "_view_name": "HTMLView",
            "description": "",
            "description_tooltip": null,
            "layout": "IPY_MODEL_e41f4d5419ed4c04a19e4d01e12309d8",
            "placeholder": "​",
            "style": "IPY_MODEL_77d8b1b960594d16b878278b4b185056",
            "value": " 1.92k/1.92k [00:00&lt;00:00, 82.3kB/s]"
          }
        },
        "1358d11b345f4028985ff313a2bb5a95": {
          "model_module": "@jupyter-widgets/base",
          "model_name": "LayoutModel",
          "model_module_version": "1.2.0",
          "state": {
            "_model_module": "@jupyter-widgets/base",
            "_model_module_version": "1.2.0",
            "_model_name": "LayoutModel",
            "_view_count": null,
            "_view_module": "@jupyter-widgets/base",
            "_view_module_version": "1.2.0",
            "_view_name": "LayoutView",
            "align_content": null,
            "align_items": null,
            "align_self": null,
            "border": null,
            "bottom": null,
            "display": null,
            "flex": null,
            "flex_flow": null,
            "grid_area": null,
            "grid_auto_columns": null,
            "grid_auto_flow": null,
            "grid_auto_rows": null,
            "grid_column": null,
            "grid_gap": null,
            "grid_row": null,
            "grid_template_areas": null,
            "grid_template_columns": null,
            "grid_template_rows": null,
            "height": null,
            "justify_content": null,
            "justify_items": null,
            "left": null,
            "margin": null,
            "max_height": null,
            "max_width": null,
            "min_height": null,
            "min_width": null,
            "object_fit": null,
            "object_position": null,
            "order": null,
            "overflow": null,
            "overflow_x": null,
            "overflow_y": null,
            "padding": null,
            "right": null,
            "top": null,
            "visibility": null,
            "width": null
          }
        },
        "054e3d76526a446a98a6a392e59b42ba": {
          "model_module": "@jupyter-widgets/base",
          "model_name": "LayoutModel",
          "model_module_version": "1.2.0",
          "state": {
            "_model_module": "@jupyter-widgets/base",
            "_model_module_version": "1.2.0",
            "_model_name": "LayoutModel",
            "_view_count": null,
            "_view_module": "@jupyter-widgets/base",
            "_view_module_version": "1.2.0",
            "_view_name": "LayoutView",
            "align_content": null,
            "align_items": null,
            "align_self": null,
            "border": null,
            "bottom": null,
            "display": null,
            "flex": null,
            "flex_flow": null,
            "grid_area": null,
            "grid_auto_columns": null,
            "grid_auto_flow": null,
            "grid_auto_rows": null,
            "grid_column": null,
            "grid_gap": null,
            "grid_row": null,
            "grid_template_areas": null,
            "grid_template_columns": null,
            "grid_template_rows": null,
            "height": null,
            "justify_content": null,
            "justify_items": null,
            "left": null,
            "margin": null,
            "max_height": null,
            "max_width": null,
            "min_height": null,
            "min_width": null,
            "object_fit": null,
            "object_position": null,
            "order": null,
            "overflow": null,
            "overflow_x": null,
            "overflow_y": null,
            "padding": null,
            "right": null,
            "top": null,
            "visibility": null,
            "width": null
          }
        },
        "ab1164ce0c8c46918abdeb2bb88cb4ef": {
          "model_module": "@jupyter-widgets/controls",
          "model_name": "DescriptionStyleModel",
          "model_module_version": "1.5.0",
          "state": {
            "_model_module": "@jupyter-widgets/controls",
            "_model_module_version": "1.5.0",
            "_model_name": "DescriptionStyleModel",
            "_view_count": null,
            "_view_module": "@jupyter-widgets/base",
            "_view_module_version": "1.2.0",
            "_view_name": "StyleView",
            "description_width": ""
          }
        },
        "1823d51866634eed8c5983b54a88243a": {
          "model_module": "@jupyter-widgets/base",
          "model_name": "LayoutModel",
          "model_module_version": "1.2.0",
          "state": {
            "_model_module": "@jupyter-widgets/base",
            "_model_module_version": "1.2.0",
            "_model_name": "LayoutModel",
            "_view_count": null,
            "_view_module": "@jupyter-widgets/base",
            "_view_module_version": "1.2.0",
            "_view_name": "LayoutView",
            "align_content": null,
            "align_items": null,
            "align_self": null,
            "border": null,
            "bottom": null,
            "display": null,
            "flex": null,
            "flex_flow": null,
            "grid_area": null,
            "grid_auto_columns": null,
            "grid_auto_flow": null,
            "grid_auto_rows": null,
            "grid_column": null,
            "grid_gap": null,
            "grid_row": null,
            "grid_template_areas": null,
            "grid_template_columns": null,
            "grid_template_rows": null,
            "height": null,
            "justify_content": null,
            "justify_items": null,
            "left": null,
            "margin": null,
            "max_height": null,
            "max_width": null,
            "min_height": null,
            "min_width": null,
            "object_fit": null,
            "object_position": null,
            "order": null,
            "overflow": null,
            "overflow_x": null,
            "overflow_y": null,
            "padding": null,
            "right": null,
            "top": null,
            "visibility": null,
            "width": null
          }
        },
        "db82aa7212f54eda9659664d9f2cb5fc": {
          "model_module": "@jupyter-widgets/controls",
          "model_name": "ProgressStyleModel",
          "model_module_version": "1.5.0",
          "state": {
            "_model_module": "@jupyter-widgets/controls",
            "_model_module_version": "1.5.0",
            "_model_name": "ProgressStyleModel",
            "_view_count": null,
            "_view_module": "@jupyter-widgets/base",
            "_view_module_version": "1.2.0",
            "_view_name": "StyleView",
            "bar_color": null,
            "description_width": ""
          }
        },
        "e41f4d5419ed4c04a19e4d01e12309d8": {
          "model_module": "@jupyter-widgets/base",
          "model_name": "LayoutModel",
          "model_module_version": "1.2.0",
          "state": {
            "_model_module": "@jupyter-widgets/base",
            "_model_module_version": "1.2.0",
            "_model_name": "LayoutModel",
            "_view_count": null,
            "_view_module": "@jupyter-widgets/base",
            "_view_module_version": "1.2.0",
            "_view_name": "LayoutView",
            "align_content": null,
            "align_items": null,
            "align_self": null,
            "border": null,
            "bottom": null,
            "display": null,
            "flex": null,
            "flex_flow": null,
            "grid_area": null,
            "grid_auto_columns": null,
            "grid_auto_flow": null,
            "grid_auto_rows": null,
            "grid_column": null,
            "grid_gap": null,
            "grid_row": null,
            "grid_template_areas": null,
            "grid_template_columns": null,
            "grid_template_rows": null,
            "height": null,
            "justify_content": null,
            "justify_items": null,
            "left": null,
            "margin": null,
            "max_height": null,
            "max_width": null,
            "min_height": null,
            "min_width": null,
            "object_fit": null,
            "object_position": null,
            "order": null,
            "overflow": null,
            "overflow_x": null,
            "overflow_y": null,
            "padding": null,
            "right": null,
            "top": null,
            "visibility": null,
            "width": null
          }
        },
        "77d8b1b960594d16b878278b4b185056": {
          "model_module": "@jupyter-widgets/controls",
          "model_name": "DescriptionStyleModel",
          "model_module_version": "1.5.0",
          "state": {
            "_model_module": "@jupyter-widgets/controls",
            "_model_module_version": "1.5.0",
            "_model_name": "DescriptionStyleModel",
            "_view_count": null,
            "_view_module": "@jupyter-widgets/base",
            "_view_module_version": "1.2.0",
            "_view_name": "StyleView",
            "description_width": ""
          }
        },
        "bb014c8ffae04142974fa42d912cdd3a": {
          "model_module": "@jupyter-widgets/controls",
          "model_name": "HBoxModel",
          "model_module_version": "1.5.0",
          "state": {
            "_dom_classes": [],
            "_model_module": "@jupyter-widgets/controls",
            "_model_module_version": "1.5.0",
            "_model_name": "HBoxModel",
            "_view_count": null,
            "_view_module": "@jupyter-widgets/controls",
            "_view_module_version": "1.5.0",
            "_view_name": "HBoxView",
            "box_style": "",
            "children": [
              "IPY_MODEL_87e6fb412787407fba265fd7267e4294",
              "IPY_MODEL_9dc8a91b479d42e2b8c6f0109bbff8d0",
              "IPY_MODEL_4c954ebe67394323a538a8191adb1742"
            ],
            "layout": "IPY_MODEL_4867e67cefd64056b5ae6d85a529ab55"
          }
        },
        "87e6fb412787407fba265fd7267e4294": {
          "model_module": "@jupyter-widgets/controls",
          "model_name": "HTMLModel",
          "model_module_version": "1.5.0",
          "state": {
            "_dom_classes": [],
            "_model_module": "@jupyter-widgets/controls",
            "_model_module_version": "1.5.0",
            "_model_name": "HTMLModel",
            "_view_count": null,
            "_view_module": "@jupyter-widgets/controls",
            "_view_module_version": "1.5.0",
            "_view_name": "HTMLView",
            "description": "",
            "description_tooltip": null,
            "layout": "IPY_MODEL_1fb2fc43e8934dd09af85f96b3503f76",
            "placeholder": "​",
            "style": "IPY_MODEL_9e34d068371748c282b72236b075ccd0",
            "value": "model.safetensors: 100%"
          }
        },
        "9dc8a91b479d42e2b8c6f0109bbff8d0": {
          "model_module": "@jupyter-widgets/controls",
          "model_name": "FloatProgressModel",
          "model_module_version": "1.5.0",
          "state": {
            "_dom_classes": [],
            "_model_module": "@jupyter-widgets/controls",
            "_model_module_version": "1.5.0",
            "_model_name": "FloatProgressModel",
            "_view_count": null,
            "_view_module": "@jupyter-widgets/controls",
            "_view_module_version": "1.5.0",
            "_view_name": "ProgressView",
            "bar_style": "success",
            "description": "",
            "description_tooltip": null,
            "layout": "IPY_MODEL_22bad307aa2e4325991afbb7ee62c8a8",
            "max": 498697004,
            "min": 0,
            "orientation": "horizontal",
            "style": "IPY_MODEL_4ebf1b8d9a97488a81c8f94761e8e436",
            "value": 498697004
          }
        },
        "4c954ebe67394323a538a8191adb1742": {
          "model_module": "@jupyter-widgets/controls",
          "model_name": "HTMLModel",
          "model_module_version": "1.5.0",
          "state": {
            "_dom_classes": [],
            "_model_module": "@jupyter-widgets/controls",
            "_model_module_version": "1.5.0",
            "_model_name": "HTMLModel",
            "_view_count": null,
            "_view_module": "@jupyter-widgets/controls",
            "_view_module_version": "1.5.0",
            "_view_name": "HTMLView",
            "description": "",
            "description_tooltip": null,
            "layout": "IPY_MODEL_85cdeab931c1462c8c6006a33e541808",
            "placeholder": "​",
            "style": "IPY_MODEL_2f063fa3e8ce41399db78683603863e3",
            "value": " 499M/499M [00:06&lt;00:00, 103MB/s]"
          }
        },
        "4867e67cefd64056b5ae6d85a529ab55": {
          "model_module": "@jupyter-widgets/base",
          "model_name": "LayoutModel",
          "model_module_version": "1.2.0",
          "state": {
            "_model_module": "@jupyter-widgets/base",
            "_model_module_version": "1.2.0",
            "_model_name": "LayoutModel",
            "_view_count": null,
            "_view_module": "@jupyter-widgets/base",
            "_view_module_version": "1.2.0",
            "_view_name": "LayoutView",
            "align_content": null,
            "align_items": null,
            "align_self": null,
            "border": null,
            "bottom": null,
            "display": null,
            "flex": null,
            "flex_flow": null,
            "grid_area": null,
            "grid_auto_columns": null,
            "grid_auto_flow": null,
            "grid_auto_rows": null,
            "grid_column": null,
            "grid_gap": null,
            "grid_row": null,
            "grid_template_areas": null,
            "grid_template_columns": null,
            "grid_template_rows": null,
            "height": null,
            "justify_content": null,
            "justify_items": null,
            "left": null,
            "margin": null,
            "max_height": null,
            "max_width": null,
            "min_height": null,
            "min_width": null,
            "object_fit": null,
            "object_position": null,
            "order": null,
            "overflow": null,
            "overflow_x": null,
            "overflow_y": null,
            "padding": null,
            "right": null,
            "top": null,
            "visibility": null,
            "width": null
          }
        },
        "1fb2fc43e8934dd09af85f96b3503f76": {
          "model_module": "@jupyter-widgets/base",
          "model_name": "LayoutModel",
          "model_module_version": "1.2.0",
          "state": {
            "_model_module": "@jupyter-widgets/base",
            "_model_module_version": "1.2.0",
            "_model_name": "LayoutModel",
            "_view_count": null,
            "_view_module": "@jupyter-widgets/base",
            "_view_module_version": "1.2.0",
            "_view_name": "LayoutView",
            "align_content": null,
            "align_items": null,
            "align_self": null,
            "border": null,
            "bottom": null,
            "display": null,
            "flex": null,
            "flex_flow": null,
            "grid_area": null,
            "grid_auto_columns": null,
            "grid_auto_flow": null,
            "grid_auto_rows": null,
            "grid_column": null,
            "grid_gap": null,
            "grid_row": null,
            "grid_template_areas": null,
            "grid_template_columns": null,
            "grid_template_rows": null,
            "height": null,
            "justify_content": null,
            "justify_items": null,
            "left": null,
            "margin": null,
            "max_height": null,
            "max_width": null,
            "min_height": null,
            "min_width": null,
            "object_fit": null,
            "object_position": null,
            "order": null,
            "overflow": null,
            "overflow_x": null,
            "overflow_y": null,
            "padding": null,
            "right": null,
            "top": null,
            "visibility": null,
            "width": null
          }
        },
        "9e34d068371748c282b72236b075ccd0": {
          "model_module": "@jupyter-widgets/controls",
          "model_name": "DescriptionStyleModel",
          "model_module_version": "1.5.0",
          "state": {
            "_model_module": "@jupyter-widgets/controls",
            "_model_module_version": "1.5.0",
            "_model_name": "DescriptionStyleModel",
            "_view_count": null,
            "_view_module": "@jupyter-widgets/base",
            "_view_module_version": "1.2.0",
            "_view_name": "StyleView",
            "description_width": ""
          }
        },
        "22bad307aa2e4325991afbb7ee62c8a8": {
          "model_module": "@jupyter-widgets/base",
          "model_name": "LayoutModel",
          "model_module_version": "1.2.0",
          "state": {
            "_model_module": "@jupyter-widgets/base",
            "_model_module_version": "1.2.0",
            "_model_name": "LayoutModel",
            "_view_count": null,
            "_view_module": "@jupyter-widgets/base",
            "_view_module_version": "1.2.0",
            "_view_name": "LayoutView",
            "align_content": null,
            "align_items": null,
            "align_self": null,
            "border": null,
            "bottom": null,
            "display": null,
            "flex": null,
            "flex_flow": null,
            "grid_area": null,
            "grid_auto_columns": null,
            "grid_auto_flow": null,
            "grid_auto_rows": null,
            "grid_column": null,
            "grid_gap": null,
            "grid_row": null,
            "grid_template_areas": null,
            "grid_template_columns": null,
            "grid_template_rows": null,
            "height": null,
            "justify_content": null,
            "justify_items": null,
            "left": null,
            "margin": null,
            "max_height": null,
            "max_width": null,
            "min_height": null,
            "min_width": null,
            "object_fit": null,
            "object_position": null,
            "order": null,
            "overflow": null,
            "overflow_x": null,
            "overflow_y": null,
            "padding": null,
            "right": null,
            "top": null,
            "visibility": null,
            "width": null
          }
        },
        "4ebf1b8d9a97488a81c8f94761e8e436": {
          "model_module": "@jupyter-widgets/controls",
          "model_name": "ProgressStyleModel",
          "model_module_version": "1.5.0",
          "state": {
            "_model_module": "@jupyter-widgets/controls",
            "_model_module_version": "1.5.0",
            "_model_name": "ProgressStyleModel",
            "_view_count": null,
            "_view_module": "@jupyter-widgets/base",
            "_view_module_version": "1.2.0",
            "_view_name": "StyleView",
            "bar_color": null,
            "description_width": ""
          }
        },
        "85cdeab931c1462c8c6006a33e541808": {
          "model_module": "@jupyter-widgets/base",
          "model_name": "LayoutModel",
          "model_module_version": "1.2.0",
          "state": {
            "_model_module": "@jupyter-widgets/base",
            "_model_module_version": "1.2.0",
            "_model_name": "LayoutModel",
            "_view_count": null,
            "_view_module": "@jupyter-widgets/base",
            "_view_module_version": "1.2.0",
            "_view_name": "LayoutView",
            "align_content": null,
            "align_items": null,
            "align_self": null,
            "border": null,
            "bottom": null,
            "display": null,
            "flex": null,
            "flex_flow": null,
            "grid_area": null,
            "grid_auto_columns": null,
            "grid_auto_flow": null,
            "grid_auto_rows": null,
            "grid_column": null,
            "grid_gap": null,
            "grid_row": null,
            "grid_template_areas": null,
            "grid_template_columns": null,
            "grid_template_rows": null,
            "height": null,
            "justify_content": null,
            "justify_items": null,
            "left": null,
            "margin": null,
            "max_height": null,
            "max_width": null,
            "min_height": null,
            "min_width": null,
            "object_fit": null,
            "object_position": null,
            "order": null,
            "overflow": null,
            "overflow_x": null,
            "overflow_y": null,
            "padding": null,
            "right": null,
            "top": null,
            "visibility": null,
            "width": null
          }
        },
        "2f063fa3e8ce41399db78683603863e3": {
          "model_module": "@jupyter-widgets/controls",
          "model_name": "DescriptionStyleModel",
          "model_module_version": "1.5.0",
          "state": {
            "_model_module": "@jupyter-widgets/controls",
            "_model_module_version": "1.5.0",
            "_model_name": "DescriptionStyleModel",
            "_view_count": null,
            "_view_module": "@jupyter-widgets/base",
            "_view_module_version": "1.2.0",
            "_view_name": "StyleView",
            "description_width": ""
          }
        },
        "ebe611fe3cc544b9bd6b3c4f0abe9a87": {
          "model_module": "@jupyter-widgets/controls",
          "model_name": "HBoxModel",
          "model_module_version": "1.5.0",
          "state": {
            "_dom_classes": [],
            "_model_module": "@jupyter-widgets/controls",
            "_model_module_version": "1.5.0",
            "_model_name": "HBoxModel",
            "_view_count": null,
            "_view_module": "@jupyter-widgets/controls",
            "_view_module_version": "1.5.0",
            "_view_name": "HBoxView",
            "box_style": "",
            "children": [
              "IPY_MODEL_17b27a9e340e4e56b886e1591964a685",
              "IPY_MODEL_994f794a5c914a7ba60933efeb625b2f",
              "IPY_MODEL_20379db6382349e3b389152528fa751a"
            ],
            "layout": "IPY_MODEL_49a3f4f4cf374fa6960a576999bfeaf3"
          }
        },
        "17b27a9e340e4e56b886e1591964a685": {
          "model_module": "@jupyter-widgets/controls",
          "model_name": "HTMLModel",
          "model_module_version": "1.5.0",
          "state": {
            "_dom_classes": [],
            "_model_module": "@jupyter-widgets/controls",
            "_model_module_version": "1.5.0",
            "_model_name": "HTMLModel",
            "_view_count": null,
            "_view_module": "@jupyter-widgets/controls",
            "_view_module_version": "1.5.0",
            "_view_name": "HTMLView",
            "description": "",
            "description_tooltip": null,
            "layout": "IPY_MODEL_04ae8d6ad81d499e901a4d6306274d97",
            "placeholder": "​",
            "style": "IPY_MODEL_cc39cf0d8e054e049594b7127e96a66b",
            "value": "tokenizer_config.json: 100%"
          }
        },
        "994f794a5c914a7ba60933efeb625b2f": {
          "model_module": "@jupyter-widgets/controls",
          "model_name": "FloatProgressModel",
          "model_module_version": "1.5.0",
          "state": {
            "_dom_classes": [],
            "_model_module": "@jupyter-widgets/controls",
            "_model_module_version": "1.5.0",
            "_model_name": "FloatProgressModel",
            "_view_count": null,
            "_view_module": "@jupyter-widgets/controls",
            "_view_module_version": "1.5.0",
            "_view_name": "ProgressView",
            "bar_style": "success",
            "description": "",
            "description_tooltip": null,
            "layout": "IPY_MODEL_764a63c358cb4de3ad85e8f15c9bb628",
            "max": 380,
            "min": 0,
            "orientation": "horizontal",
            "style": "IPY_MODEL_15a5dd7c7f8d40eebe96edc03c681ef0",
            "value": 380
          }
        },
        "20379db6382349e3b389152528fa751a": {
          "model_module": "@jupyter-widgets/controls",
          "model_name": "HTMLModel",
          "model_module_version": "1.5.0",
          "state": {
            "_dom_classes": [],
            "_model_module": "@jupyter-widgets/controls",
            "_model_module_version": "1.5.0",
            "_model_name": "HTMLModel",
            "_view_count": null,
            "_view_module": "@jupyter-widgets/controls",
            "_view_module_version": "1.5.0",
            "_view_name": "HTMLView",
            "description": "",
            "description_tooltip": null,
            "layout": "IPY_MODEL_3a1bce781bdf4c8191a7a151e110d3d6",
            "placeholder": "​",
            "style": "IPY_MODEL_a85e58ab919d46e89b8327cbc9b71191",
            "value": " 380/380 [00:00&lt;00:00, 16.7kB/s]"
          }
        },
        "49a3f4f4cf374fa6960a576999bfeaf3": {
          "model_module": "@jupyter-widgets/base",
          "model_name": "LayoutModel",
          "model_module_version": "1.2.0",
          "state": {
            "_model_module": "@jupyter-widgets/base",
            "_model_module_version": "1.2.0",
            "_model_name": "LayoutModel",
            "_view_count": null,
            "_view_module": "@jupyter-widgets/base",
            "_view_module_version": "1.2.0",
            "_view_name": "LayoutView",
            "align_content": null,
            "align_items": null,
            "align_self": null,
            "border": null,
            "bottom": null,
            "display": null,
            "flex": null,
            "flex_flow": null,
            "grid_area": null,
            "grid_auto_columns": null,
            "grid_auto_flow": null,
            "grid_auto_rows": null,
            "grid_column": null,
            "grid_gap": null,
            "grid_row": null,
            "grid_template_areas": null,
            "grid_template_columns": null,
            "grid_template_rows": null,
            "height": null,
            "justify_content": null,
            "justify_items": null,
            "left": null,
            "margin": null,
            "max_height": null,
            "max_width": null,
            "min_height": null,
            "min_width": null,
            "object_fit": null,
            "object_position": null,
            "order": null,
            "overflow": null,
            "overflow_x": null,
            "overflow_y": null,
            "padding": null,
            "right": null,
            "top": null,
            "visibility": null,
            "width": null
          }
        },
        "04ae8d6ad81d499e901a4d6306274d97": {
          "model_module": "@jupyter-widgets/base",
          "model_name": "LayoutModel",
          "model_module_version": "1.2.0",
          "state": {
            "_model_module": "@jupyter-widgets/base",
            "_model_module_version": "1.2.0",
            "_model_name": "LayoutModel",
            "_view_count": null,
            "_view_module": "@jupyter-widgets/base",
            "_view_module_version": "1.2.0",
            "_view_name": "LayoutView",
            "align_content": null,
            "align_items": null,
            "align_self": null,
            "border": null,
            "bottom": null,
            "display": null,
            "flex": null,
            "flex_flow": null,
            "grid_area": null,
            "grid_auto_columns": null,
            "grid_auto_flow": null,
            "grid_auto_rows": null,
            "grid_column": null,
            "grid_gap": null,
            "grid_row": null,
            "grid_template_areas": null,
            "grid_template_columns": null,
            "grid_template_rows": null,
            "height": null,
            "justify_content": null,
            "justify_items": null,
            "left": null,
            "margin": null,
            "max_height": null,
            "max_width": null,
            "min_height": null,
            "min_width": null,
            "object_fit": null,
            "object_position": null,
            "order": null,
            "overflow": null,
            "overflow_x": null,
            "overflow_y": null,
            "padding": null,
            "right": null,
            "top": null,
            "visibility": null,
            "width": null
          }
        },
        "cc39cf0d8e054e049594b7127e96a66b": {
          "model_module": "@jupyter-widgets/controls",
          "model_name": "DescriptionStyleModel",
          "model_module_version": "1.5.0",
          "state": {
            "_model_module": "@jupyter-widgets/controls",
            "_model_module_version": "1.5.0",
            "_model_name": "DescriptionStyleModel",
            "_view_count": null,
            "_view_module": "@jupyter-widgets/base",
            "_view_module_version": "1.2.0",
            "_view_name": "StyleView",
            "description_width": ""
          }
        },
        "764a63c358cb4de3ad85e8f15c9bb628": {
          "model_module": "@jupyter-widgets/base",
          "model_name": "LayoutModel",
          "model_module_version": "1.2.0",
          "state": {
            "_model_module": "@jupyter-widgets/base",
            "_model_module_version": "1.2.0",
            "_model_name": "LayoutModel",
            "_view_count": null,
            "_view_module": "@jupyter-widgets/base",
            "_view_module_version": "1.2.0",
            "_view_name": "LayoutView",
            "align_content": null,
            "align_items": null,
            "align_self": null,
            "border": null,
            "bottom": null,
            "display": null,
            "flex": null,
            "flex_flow": null,
            "grid_area": null,
            "grid_auto_columns": null,
            "grid_auto_flow": null,
            "grid_auto_rows": null,
            "grid_column": null,
            "grid_gap": null,
            "grid_row": null,
            "grid_template_areas": null,
            "grid_template_columns": null,
            "grid_template_rows": null,
            "height": null,
            "justify_content": null,
            "justify_items": null,
            "left": null,
            "margin": null,
            "max_height": null,
            "max_width": null,
            "min_height": null,
            "min_width": null,
            "object_fit": null,
            "object_position": null,
            "order": null,
            "overflow": null,
            "overflow_x": null,
            "overflow_y": null,
            "padding": null,
            "right": null,
            "top": null,
            "visibility": null,
            "width": null
          }
        },
        "15a5dd7c7f8d40eebe96edc03c681ef0": {
          "model_module": "@jupyter-widgets/controls",
          "model_name": "ProgressStyleModel",
          "model_module_version": "1.5.0",
          "state": {
            "_model_module": "@jupyter-widgets/controls",
            "_model_module_version": "1.5.0",
            "_model_name": "ProgressStyleModel",
            "_view_count": null,
            "_view_module": "@jupyter-widgets/base",
            "_view_module_version": "1.2.0",
            "_view_name": "StyleView",
            "bar_color": null,
            "description_width": ""
          }
        },
        "3a1bce781bdf4c8191a7a151e110d3d6": {
          "model_module": "@jupyter-widgets/base",
          "model_name": "LayoutModel",
          "model_module_version": "1.2.0",
          "state": {
            "_model_module": "@jupyter-widgets/base",
            "_model_module_version": "1.2.0",
            "_model_name": "LayoutModel",
            "_view_count": null,
            "_view_module": "@jupyter-widgets/base",
            "_view_module_version": "1.2.0",
            "_view_name": "LayoutView",
            "align_content": null,
            "align_items": null,
            "align_self": null,
            "border": null,
            "bottom": null,
            "display": null,
            "flex": null,
            "flex_flow": null,
            "grid_area": null,
            "grid_auto_columns": null,
            "grid_auto_flow": null,
            "grid_auto_rows": null,
            "grid_column": null,
            "grid_gap": null,
            "grid_row": null,
            "grid_template_areas": null,
            "grid_template_columns": null,
            "grid_template_rows": null,
            "height": null,
            "justify_content": null,
            "justify_items": null,
            "left": null,
            "margin": null,
            "max_height": null,
            "max_width": null,
            "min_height": null,
            "min_width": null,
            "object_fit": null,
            "object_position": null,
            "order": null,
            "overflow": null,
            "overflow_x": null,
            "overflow_y": null,
            "padding": null,
            "right": null,
            "top": null,
            "visibility": null,
            "width": null
          }
        },
        "a85e58ab919d46e89b8327cbc9b71191": {
          "model_module": "@jupyter-widgets/controls",
          "model_name": "DescriptionStyleModel",
          "model_module_version": "1.5.0",
          "state": {
            "_model_module": "@jupyter-widgets/controls",
            "_model_module_version": "1.5.0",
            "_model_name": "DescriptionStyleModel",
            "_view_count": null,
            "_view_module": "@jupyter-widgets/base",
            "_view_module_version": "1.2.0",
            "_view_name": "StyleView",
            "description_width": ""
          }
        },
        "7a991c01838546bca01fe92064388702": {
          "model_module": "@jupyter-widgets/controls",
          "model_name": "HBoxModel",
          "model_module_version": "1.5.0",
          "state": {
            "_dom_classes": [],
            "_model_module": "@jupyter-widgets/controls",
            "_model_module_version": "1.5.0",
            "_model_name": "HBoxModel",
            "_view_count": null,
            "_view_module": "@jupyter-widgets/controls",
            "_view_module_version": "1.5.0",
            "_view_name": "HBoxView",
            "box_style": "",
            "children": [
              "IPY_MODEL_b8b9208bf34e4800a190ef74227fe72c",
              "IPY_MODEL_e3fcce983e34438e8bee713f94dab958",
              "IPY_MODEL_067a1d03c6e643e79e4208593b7a052d"
            ],
            "layout": "IPY_MODEL_cddaf321795e4e0d990e8fe2b9b1f9a6"
          }
        },
        "b8b9208bf34e4800a190ef74227fe72c": {
          "model_module": "@jupyter-widgets/controls",
          "model_name": "HTMLModel",
          "model_module_version": "1.5.0",
          "state": {
            "_dom_classes": [],
            "_model_module": "@jupyter-widgets/controls",
            "_model_module_version": "1.5.0",
            "_model_name": "HTMLModel",
            "_view_count": null,
            "_view_module": "@jupyter-widgets/controls",
            "_view_module_version": "1.5.0",
            "_view_name": "HTMLView",
            "description": "",
            "description_tooltip": null,
            "layout": "IPY_MODEL_0490088d33c148d3b68dd690e7631bc3",
            "placeholder": "​",
            "style": "IPY_MODEL_0025cb410f7a40d6a87474682d2c5e6c",
            "value": "vocab.json: 100%"
          }
        },
        "e3fcce983e34438e8bee713f94dab958": {
          "model_module": "@jupyter-widgets/controls",
          "model_name": "FloatProgressModel",
          "model_module_version": "1.5.0",
          "state": {
            "_dom_classes": [],
            "_model_module": "@jupyter-widgets/controls",
            "_model_module_version": "1.5.0",
            "_model_name": "FloatProgressModel",
            "_view_count": null,
            "_view_module": "@jupyter-widgets/controls",
            "_view_module_version": "1.5.0",
            "_view_name": "ProgressView",
            "bar_style": "success",
            "description": "",
            "description_tooltip": null,
            "layout": "IPY_MODEL_6cb09346c234444fa6dd801a62939808",
            "max": 798293,
            "min": 0,
            "orientation": "horizontal",
            "style": "IPY_MODEL_1f85e855b79e474e809e190d78d3ba42",
            "value": 798293
          }
        },
        "067a1d03c6e643e79e4208593b7a052d": {
          "model_module": "@jupyter-widgets/controls",
          "model_name": "HTMLModel",
          "model_module_version": "1.5.0",
          "state": {
            "_dom_classes": [],
            "_model_module": "@jupyter-widgets/controls",
            "_model_module_version": "1.5.0",
            "_model_name": "HTMLModel",
            "_view_count": null,
            "_view_module": "@jupyter-widgets/controls",
            "_view_module_version": "1.5.0",
            "_view_name": "HTMLView",
            "description": "",
            "description_tooltip": null,
            "layout": "IPY_MODEL_39e18156aa4b4dbaac09688297018842",
            "placeholder": "​",
            "style": "IPY_MODEL_8f3535d1896e4c0dbd81c56c4f21fe6c",
            "value": " 798k/798k [00:00&lt;00:00, 10.5MB/s]"
          }
        },
        "cddaf321795e4e0d990e8fe2b9b1f9a6": {
          "model_module": "@jupyter-widgets/base",
          "model_name": "LayoutModel",
          "model_module_version": "1.2.0",
          "state": {
            "_model_module": "@jupyter-widgets/base",
            "_model_module_version": "1.2.0",
            "_model_name": "LayoutModel",
            "_view_count": null,
            "_view_module": "@jupyter-widgets/base",
            "_view_module_version": "1.2.0",
            "_view_name": "LayoutView",
            "align_content": null,
            "align_items": null,
            "align_self": null,
            "border": null,
            "bottom": null,
            "display": null,
            "flex": null,
            "flex_flow": null,
            "grid_area": null,
            "grid_auto_columns": null,
            "grid_auto_flow": null,
            "grid_auto_rows": null,
            "grid_column": null,
            "grid_gap": null,
            "grid_row": null,
            "grid_template_areas": null,
            "grid_template_columns": null,
            "grid_template_rows": null,
            "height": null,
            "justify_content": null,
            "justify_items": null,
            "left": null,
            "margin": null,
            "max_height": null,
            "max_width": null,
            "min_height": null,
            "min_width": null,
            "object_fit": null,
            "object_position": null,
            "order": null,
            "overflow": null,
            "overflow_x": null,
            "overflow_y": null,
            "padding": null,
            "right": null,
            "top": null,
            "visibility": null,
            "width": null
          }
        },
        "0490088d33c148d3b68dd690e7631bc3": {
          "model_module": "@jupyter-widgets/base",
          "model_name": "LayoutModel",
          "model_module_version": "1.2.0",
          "state": {
            "_model_module": "@jupyter-widgets/base",
            "_model_module_version": "1.2.0",
            "_model_name": "LayoutModel",
            "_view_count": null,
            "_view_module": "@jupyter-widgets/base",
            "_view_module_version": "1.2.0",
            "_view_name": "LayoutView",
            "align_content": null,
            "align_items": null,
            "align_self": null,
            "border": null,
            "bottom": null,
            "display": null,
            "flex": null,
            "flex_flow": null,
            "grid_area": null,
            "grid_auto_columns": null,
            "grid_auto_flow": null,
            "grid_auto_rows": null,
            "grid_column": null,
            "grid_gap": null,
            "grid_row": null,
            "grid_template_areas": null,
            "grid_template_columns": null,
            "grid_template_rows": null,
            "height": null,
            "justify_content": null,
            "justify_items": null,
            "left": null,
            "margin": null,
            "max_height": null,
            "max_width": null,
            "min_height": null,
            "min_width": null,
            "object_fit": null,
            "object_position": null,
            "order": null,
            "overflow": null,
            "overflow_x": null,
            "overflow_y": null,
            "padding": null,
            "right": null,
            "top": null,
            "visibility": null,
            "width": null
          }
        },
        "0025cb410f7a40d6a87474682d2c5e6c": {
          "model_module": "@jupyter-widgets/controls",
          "model_name": "DescriptionStyleModel",
          "model_module_version": "1.5.0",
          "state": {
            "_model_module": "@jupyter-widgets/controls",
            "_model_module_version": "1.5.0",
            "_model_name": "DescriptionStyleModel",
            "_view_count": null,
            "_view_module": "@jupyter-widgets/base",
            "_view_module_version": "1.2.0",
            "_view_name": "StyleView",
            "description_width": ""
          }
        },
        "6cb09346c234444fa6dd801a62939808": {
          "model_module": "@jupyter-widgets/base",
          "model_name": "LayoutModel",
          "model_module_version": "1.2.0",
          "state": {
            "_model_module": "@jupyter-widgets/base",
            "_model_module_version": "1.2.0",
            "_model_name": "LayoutModel",
            "_view_count": null,
            "_view_module": "@jupyter-widgets/base",
            "_view_module_version": "1.2.0",
            "_view_name": "LayoutView",
            "align_content": null,
            "align_items": null,
            "align_self": null,
            "border": null,
            "bottom": null,
            "display": null,
            "flex": null,
            "flex_flow": null,
            "grid_area": null,
            "grid_auto_columns": null,
            "grid_auto_flow": null,
            "grid_auto_rows": null,
            "grid_column": null,
            "grid_gap": null,
            "grid_row": null,
            "grid_template_areas": null,
            "grid_template_columns": null,
            "grid_template_rows": null,
            "height": null,
            "justify_content": null,
            "justify_items": null,
            "left": null,
            "margin": null,
            "max_height": null,
            "max_width": null,
            "min_height": null,
            "min_width": null,
            "object_fit": null,
            "object_position": null,
            "order": null,
            "overflow": null,
            "overflow_x": null,
            "overflow_y": null,
            "padding": null,
            "right": null,
            "top": null,
            "visibility": null,
            "width": null
          }
        },
        "1f85e855b79e474e809e190d78d3ba42": {
          "model_module": "@jupyter-widgets/controls",
          "model_name": "ProgressStyleModel",
          "model_module_version": "1.5.0",
          "state": {
            "_model_module": "@jupyter-widgets/controls",
            "_model_module_version": "1.5.0",
            "_model_name": "ProgressStyleModel",
            "_view_count": null,
            "_view_module": "@jupyter-widgets/base",
            "_view_module_version": "1.2.0",
            "_view_name": "StyleView",
            "bar_color": null,
            "description_width": ""
          }
        },
        "39e18156aa4b4dbaac09688297018842": {
          "model_module": "@jupyter-widgets/base",
          "model_name": "LayoutModel",
          "model_module_version": "1.2.0",
          "state": {
            "_model_module": "@jupyter-widgets/base",
            "_model_module_version": "1.2.0",
            "_model_name": "LayoutModel",
            "_view_count": null,
            "_view_module": "@jupyter-widgets/base",
            "_view_module_version": "1.2.0",
            "_view_name": "LayoutView",
            "align_content": null,
            "align_items": null,
            "align_self": null,
            "border": null,
            "bottom": null,
            "display": null,
            "flex": null,
            "flex_flow": null,
            "grid_area": null,
            "grid_auto_columns": null,
            "grid_auto_flow": null,
            "grid_auto_rows": null,
            "grid_column": null,
            "grid_gap": null,
            "grid_row": null,
            "grid_template_areas": null,
            "grid_template_columns": null,
            "grid_template_rows": null,
            "height": null,
            "justify_content": null,
            "justify_items": null,
            "left": null,
            "margin": null,
            "max_height": null,
            "max_width": null,
            "min_height": null,
            "min_width": null,
            "object_fit": null,
            "object_position": null,
            "order": null,
            "overflow": null,
            "overflow_x": null,
            "overflow_y": null,
            "padding": null,
            "right": null,
            "top": null,
            "visibility": null,
            "width": null
          }
        },
        "8f3535d1896e4c0dbd81c56c4f21fe6c": {
          "model_module": "@jupyter-widgets/controls",
          "model_name": "DescriptionStyleModel",
          "model_module_version": "1.5.0",
          "state": {
            "_model_module": "@jupyter-widgets/controls",
            "_model_module_version": "1.5.0",
            "_model_name": "DescriptionStyleModel",
            "_view_count": null,
            "_view_module": "@jupyter-widgets/base",
            "_view_module_version": "1.2.0",
            "_view_name": "StyleView",
            "description_width": ""
          }
        },
        "df51fa3aa1a54dcdb7b17deefe4c464b": {
          "model_module": "@jupyter-widgets/controls",
          "model_name": "HBoxModel",
          "model_module_version": "1.5.0",
          "state": {
            "_dom_classes": [],
            "_model_module": "@jupyter-widgets/controls",
            "_model_module_version": "1.5.0",
            "_model_name": "HBoxModel",
            "_view_count": null,
            "_view_module": "@jupyter-widgets/controls",
            "_view_module_version": "1.5.0",
            "_view_name": "HBoxView",
            "box_style": "",
            "children": [
              "IPY_MODEL_a1f36c97efe04248a5c147458ac83f74",
              "IPY_MODEL_9229626dfa8c49e586805865e3094fbc",
              "IPY_MODEL_0e5e698f659e4d88accdc87461d45ad1"
            ],
            "layout": "IPY_MODEL_eb2ac5bce93d4555b074619644622b76"
          }
        },
        "a1f36c97efe04248a5c147458ac83f74": {
          "model_module": "@jupyter-widgets/controls",
          "model_name": "HTMLModel",
          "model_module_version": "1.5.0",
          "state": {
            "_dom_classes": [],
            "_model_module": "@jupyter-widgets/controls",
            "_model_module_version": "1.5.0",
            "_model_name": "HTMLModel",
            "_view_count": null,
            "_view_module": "@jupyter-widgets/controls",
            "_view_module_version": "1.5.0",
            "_view_name": "HTMLView",
            "description": "",
            "description_tooltip": null,
            "layout": "IPY_MODEL_56705ff4ef2341f9bd636ba86cb3b542",
            "placeholder": "​",
            "style": "IPY_MODEL_815ef50bbe23433799b16288f29aeb7a",
            "value": "merges.txt: 100%"
          }
        },
        "9229626dfa8c49e586805865e3094fbc": {
          "model_module": "@jupyter-widgets/controls",
          "model_name": "FloatProgressModel",
          "model_module_version": "1.5.0",
          "state": {
            "_dom_classes": [],
            "_model_module": "@jupyter-widgets/controls",
            "_model_module_version": "1.5.0",
            "_model_name": "FloatProgressModel",
            "_view_count": null,
            "_view_module": "@jupyter-widgets/controls",
            "_view_module_version": "1.5.0",
            "_view_name": "ProgressView",
            "bar_style": "success",
            "description": "",
            "description_tooltip": null,
            "layout": "IPY_MODEL_fa1976339e0d4a20ac60391cf5ed059e",
            "max": 456356,
            "min": 0,
            "orientation": "horizontal",
            "style": "IPY_MODEL_1f43fa3461d24414be4a3ad8f4cdbc4b",
            "value": 456356
          }
        },
        "0e5e698f659e4d88accdc87461d45ad1": {
          "model_module": "@jupyter-widgets/controls",
          "model_name": "HTMLModel",
          "model_module_version": "1.5.0",
          "state": {
            "_dom_classes": [],
            "_model_module": "@jupyter-widgets/controls",
            "_model_module_version": "1.5.0",
            "_model_name": "HTMLModel",
            "_view_count": null,
            "_view_module": "@jupyter-widgets/controls",
            "_view_module_version": "1.5.0",
            "_view_name": "HTMLView",
            "description": "",
            "description_tooltip": null,
            "layout": "IPY_MODEL_dd81dad40f6a44818c6e4bd0053c62ff",
            "placeholder": "​",
            "style": "IPY_MODEL_67efe8414d174b93981b73ca9137167c",
            "value": " 456k/456k [00:00&lt;00:00, 13.6MB/s]"
          }
        },
        "eb2ac5bce93d4555b074619644622b76": {
          "model_module": "@jupyter-widgets/base",
          "model_name": "LayoutModel",
          "model_module_version": "1.2.0",
          "state": {
            "_model_module": "@jupyter-widgets/base",
            "_model_module_version": "1.2.0",
            "_model_name": "LayoutModel",
            "_view_count": null,
            "_view_module": "@jupyter-widgets/base",
            "_view_module_version": "1.2.0",
            "_view_name": "LayoutView",
            "align_content": null,
            "align_items": null,
            "align_self": null,
            "border": null,
            "bottom": null,
            "display": null,
            "flex": null,
            "flex_flow": null,
            "grid_area": null,
            "grid_auto_columns": null,
            "grid_auto_flow": null,
            "grid_auto_rows": null,
            "grid_column": null,
            "grid_gap": null,
            "grid_row": null,
            "grid_template_areas": null,
            "grid_template_columns": null,
            "grid_template_rows": null,
            "height": null,
            "justify_content": null,
            "justify_items": null,
            "left": null,
            "margin": null,
            "max_height": null,
            "max_width": null,
            "min_height": null,
            "min_width": null,
            "object_fit": null,
            "object_position": null,
            "order": null,
            "overflow": null,
            "overflow_x": null,
            "overflow_y": null,
            "padding": null,
            "right": null,
            "top": null,
            "visibility": null,
            "width": null
          }
        },
        "56705ff4ef2341f9bd636ba86cb3b542": {
          "model_module": "@jupyter-widgets/base",
          "model_name": "LayoutModel",
          "model_module_version": "1.2.0",
          "state": {
            "_model_module": "@jupyter-widgets/base",
            "_model_module_version": "1.2.0",
            "_model_name": "LayoutModel",
            "_view_count": null,
            "_view_module": "@jupyter-widgets/base",
            "_view_module_version": "1.2.0",
            "_view_name": "LayoutView",
            "align_content": null,
            "align_items": null,
            "align_self": null,
            "border": null,
            "bottom": null,
            "display": null,
            "flex": null,
            "flex_flow": null,
            "grid_area": null,
            "grid_auto_columns": null,
            "grid_auto_flow": null,
            "grid_auto_rows": null,
            "grid_column": null,
            "grid_gap": null,
            "grid_row": null,
            "grid_template_areas": null,
            "grid_template_columns": null,
            "grid_template_rows": null,
            "height": null,
            "justify_content": null,
            "justify_items": null,
            "left": null,
            "margin": null,
            "max_height": null,
            "max_width": null,
            "min_height": null,
            "min_width": null,
            "object_fit": null,
            "object_position": null,
            "order": null,
            "overflow": null,
            "overflow_x": null,
            "overflow_y": null,
            "padding": null,
            "right": null,
            "top": null,
            "visibility": null,
            "width": null
          }
        },
        "815ef50bbe23433799b16288f29aeb7a": {
          "model_module": "@jupyter-widgets/controls",
          "model_name": "DescriptionStyleModel",
          "model_module_version": "1.5.0",
          "state": {
            "_model_module": "@jupyter-widgets/controls",
            "_model_module_version": "1.5.0",
            "_model_name": "DescriptionStyleModel",
            "_view_count": null,
            "_view_module": "@jupyter-widgets/base",
            "_view_module_version": "1.2.0",
            "_view_name": "StyleView",
            "description_width": ""
          }
        },
        "fa1976339e0d4a20ac60391cf5ed059e": {
          "model_module": "@jupyter-widgets/base",
          "model_name": "LayoutModel",
          "model_module_version": "1.2.0",
          "state": {
            "_model_module": "@jupyter-widgets/base",
            "_model_module_version": "1.2.0",
            "_model_name": "LayoutModel",
            "_view_count": null,
            "_view_module": "@jupyter-widgets/base",
            "_view_module_version": "1.2.0",
            "_view_name": "LayoutView",
            "align_content": null,
            "align_items": null,
            "align_self": null,
            "border": null,
            "bottom": null,
            "display": null,
            "flex": null,
            "flex_flow": null,
            "grid_area": null,
            "grid_auto_columns": null,
            "grid_auto_flow": null,
            "grid_auto_rows": null,
            "grid_column": null,
            "grid_gap": null,
            "grid_row": null,
            "grid_template_areas": null,
            "grid_template_columns": null,
            "grid_template_rows": null,
            "height": null,
            "justify_content": null,
            "justify_items": null,
            "left": null,
            "margin": null,
            "max_height": null,
            "max_width": null,
            "min_height": null,
            "min_width": null,
            "object_fit": null,
            "object_position": null,
            "order": null,
            "overflow": null,
            "overflow_x": null,
            "overflow_y": null,
            "padding": null,
            "right": null,
            "top": null,
            "visibility": null,
            "width": null
          }
        },
        "1f43fa3461d24414be4a3ad8f4cdbc4b": {
          "model_module": "@jupyter-widgets/controls",
          "model_name": "ProgressStyleModel",
          "model_module_version": "1.5.0",
          "state": {
            "_model_module": "@jupyter-widgets/controls",
            "_model_module_version": "1.5.0",
            "_model_name": "ProgressStyleModel",
            "_view_count": null,
            "_view_module": "@jupyter-widgets/base",
            "_view_module_version": "1.2.0",
            "_view_name": "StyleView",
            "bar_color": null,
            "description_width": ""
          }
        },
        "dd81dad40f6a44818c6e4bd0053c62ff": {
          "model_module": "@jupyter-widgets/base",
          "model_name": "LayoutModel",
          "model_module_version": "1.2.0",
          "state": {
            "_model_module": "@jupyter-widgets/base",
            "_model_module_version": "1.2.0",
            "_model_name": "LayoutModel",
            "_view_count": null,
            "_view_module": "@jupyter-widgets/base",
            "_view_module_version": "1.2.0",
            "_view_name": "LayoutView",
            "align_content": null,
            "align_items": null,
            "align_self": null,
            "border": null,
            "bottom": null,
            "display": null,
            "flex": null,
            "flex_flow": null,
            "grid_area": null,
            "grid_auto_columns": null,
            "grid_auto_flow": null,
            "grid_auto_rows": null,
            "grid_column": null,
            "grid_gap": null,
            "grid_row": null,
            "grid_template_areas": null,
            "grid_template_columns": null,
            "grid_template_rows": null,
            "height": null,
            "justify_content": null,
            "justify_items": null,
            "left": null,
            "margin": null,
            "max_height": null,
            "max_width": null,
            "min_height": null,
            "min_width": null,
            "object_fit": null,
            "object_position": null,
            "order": null,
            "overflow": null,
            "overflow_x": null,
            "overflow_y": null,
            "padding": null,
            "right": null,
            "top": null,
            "visibility": null,
            "width": null
          }
        },
        "67efe8414d174b93981b73ca9137167c": {
          "model_module": "@jupyter-widgets/controls",
          "model_name": "DescriptionStyleModel",
          "model_module_version": "1.5.0",
          "state": {
            "_model_module": "@jupyter-widgets/controls",
            "_model_module_version": "1.5.0",
            "_model_name": "DescriptionStyleModel",
            "_view_count": null,
            "_view_module": "@jupyter-widgets/base",
            "_view_module_version": "1.2.0",
            "_view_name": "StyleView",
            "description_width": ""
          }
        },
        "8b26277e2287423d9b34b2a7d050e89b": {
          "model_module": "@jupyter-widgets/controls",
          "model_name": "HBoxModel",
          "model_module_version": "1.5.0",
          "state": {
            "_dom_classes": [],
            "_model_module": "@jupyter-widgets/controls",
            "_model_module_version": "1.5.0",
            "_model_name": "HBoxModel",
            "_view_count": null,
            "_view_module": "@jupyter-widgets/controls",
            "_view_module_version": "1.5.0",
            "_view_name": "HBoxView",
            "box_style": "",
            "children": [
              "IPY_MODEL_3ff7cf059b3f4c1ba21b0b4e86a20286",
              "IPY_MODEL_9380357876c244cb96cbade252dc5c65",
              "IPY_MODEL_bae5e11783c04257a3d1bfdba7fc6383"
            ],
            "layout": "IPY_MODEL_979b492fb3574508afd3ff4a617cfc4a"
          }
        },
        "3ff7cf059b3f4c1ba21b0b4e86a20286": {
          "model_module": "@jupyter-widgets/controls",
          "model_name": "HTMLModel",
          "model_module_version": "1.5.0",
          "state": {
            "_dom_classes": [],
            "_model_module": "@jupyter-widgets/controls",
            "_model_module_version": "1.5.0",
            "_model_name": "HTMLModel",
            "_view_count": null,
            "_view_module": "@jupyter-widgets/controls",
            "_view_module_version": "1.5.0",
            "_view_name": "HTMLView",
            "description": "",
            "description_tooltip": null,
            "layout": "IPY_MODEL_259fabf30d3c467e9b803761f632a78c",
            "placeholder": "​",
            "style": "IPY_MODEL_4797992e6d7e417ab2e0478a523ad85c",
            "value": "tokenizer.json: 100%"
          }
        },
        "9380357876c244cb96cbade252dc5c65": {
          "model_module": "@jupyter-widgets/controls",
          "model_name": "FloatProgressModel",
          "model_module_version": "1.5.0",
          "state": {
            "_dom_classes": [],
            "_model_module": "@jupyter-widgets/controls",
            "_model_module_version": "1.5.0",
            "_model_name": "FloatProgressModel",
            "_view_count": null,
            "_view_module": "@jupyter-widgets/controls",
            "_view_module_version": "1.5.0",
            "_view_name": "ProgressView",
            "bar_style": "success",
            "description": "",
            "description_tooltip": null,
            "layout": "IPY_MODEL_67c05301ddc644fdaa2ea94c2ac7bc6d",
            "max": 2108856,
            "min": 0,
            "orientation": "horizontal",
            "style": "IPY_MODEL_14338b3c9b214ecebdacf484d4a39dd9",
            "value": 2108856
          }
        },
        "bae5e11783c04257a3d1bfdba7fc6383": {
          "model_module": "@jupyter-widgets/controls",
          "model_name": "HTMLModel",
          "model_module_version": "1.5.0",
          "state": {
            "_dom_classes": [],
            "_model_module": "@jupyter-widgets/controls",
            "_model_module_version": "1.5.0",
            "_model_name": "HTMLModel",
            "_view_count": null,
            "_view_module": "@jupyter-widgets/controls",
            "_view_module_version": "1.5.0",
            "_view_name": "HTMLView",
            "description": "",
            "description_tooltip": null,
            "layout": "IPY_MODEL_7f4f52a61e4b4b838e074707c46be627",
            "placeholder": "​",
            "style": "IPY_MODEL_1ea1ac169e254d92b3270f5c9ed21686",
            "value": " 2.11M/2.11M [00:00&lt;00:00, 20.8MB/s]"
          }
        },
        "979b492fb3574508afd3ff4a617cfc4a": {
          "model_module": "@jupyter-widgets/base",
          "model_name": "LayoutModel",
          "model_module_version": "1.2.0",
          "state": {
            "_model_module": "@jupyter-widgets/base",
            "_model_module_version": "1.2.0",
            "_model_name": "LayoutModel",
            "_view_count": null,
            "_view_module": "@jupyter-widgets/base",
            "_view_module_version": "1.2.0",
            "_view_name": "LayoutView",
            "align_content": null,
            "align_items": null,
            "align_self": null,
            "border": null,
            "bottom": null,
            "display": null,
            "flex": null,
            "flex_flow": null,
            "grid_area": null,
            "grid_auto_columns": null,
            "grid_auto_flow": null,
            "grid_auto_rows": null,
            "grid_column": null,
            "grid_gap": null,
            "grid_row": null,
            "grid_template_areas": null,
            "grid_template_columns": null,
            "grid_template_rows": null,
            "height": null,
            "justify_content": null,
            "justify_items": null,
            "left": null,
            "margin": null,
            "max_height": null,
            "max_width": null,
            "min_height": null,
            "min_width": null,
            "object_fit": null,
            "object_position": null,
            "order": null,
            "overflow": null,
            "overflow_x": null,
            "overflow_y": null,
            "padding": null,
            "right": null,
            "top": null,
            "visibility": null,
            "width": null
          }
        },
        "259fabf30d3c467e9b803761f632a78c": {
          "model_module": "@jupyter-widgets/base",
          "model_name": "LayoutModel",
          "model_module_version": "1.2.0",
          "state": {
            "_model_module": "@jupyter-widgets/base",
            "_model_module_version": "1.2.0",
            "_model_name": "LayoutModel",
            "_view_count": null,
            "_view_module": "@jupyter-widgets/base",
            "_view_module_version": "1.2.0",
            "_view_name": "LayoutView",
            "align_content": null,
            "align_items": null,
            "align_self": null,
            "border": null,
            "bottom": null,
            "display": null,
            "flex": null,
            "flex_flow": null,
            "grid_area": null,
            "grid_auto_columns": null,
            "grid_auto_flow": null,
            "grid_auto_rows": null,
            "grid_column": null,
            "grid_gap": null,
            "grid_row": null,
            "grid_template_areas": null,
            "grid_template_columns": null,
            "grid_template_rows": null,
            "height": null,
            "justify_content": null,
            "justify_items": null,
            "left": null,
            "margin": null,
            "max_height": null,
            "max_width": null,
            "min_height": null,
            "min_width": null,
            "object_fit": null,
            "object_position": null,
            "order": null,
            "overflow": null,
            "overflow_x": null,
            "overflow_y": null,
            "padding": null,
            "right": null,
            "top": null,
            "visibility": null,
            "width": null
          }
        },
        "4797992e6d7e417ab2e0478a523ad85c": {
          "model_module": "@jupyter-widgets/controls",
          "model_name": "DescriptionStyleModel",
          "model_module_version": "1.5.0",
          "state": {
            "_model_module": "@jupyter-widgets/controls",
            "_model_module_version": "1.5.0",
            "_model_name": "DescriptionStyleModel",
            "_view_count": null,
            "_view_module": "@jupyter-widgets/base",
            "_view_module_version": "1.2.0",
            "_view_name": "StyleView",
            "description_width": ""
          }
        },
        "67c05301ddc644fdaa2ea94c2ac7bc6d": {
          "model_module": "@jupyter-widgets/base",
          "model_name": "LayoutModel",
          "model_module_version": "1.2.0",
          "state": {
            "_model_module": "@jupyter-widgets/base",
            "_model_module_version": "1.2.0",
            "_model_name": "LayoutModel",
            "_view_count": null,
            "_view_module": "@jupyter-widgets/base",
            "_view_module_version": "1.2.0",
            "_view_name": "LayoutView",
            "align_content": null,
            "align_items": null,
            "align_self": null,
            "border": null,
            "bottom": null,
            "display": null,
            "flex": null,
            "flex_flow": null,
            "grid_area": null,
            "grid_auto_columns": null,
            "grid_auto_flow": null,
            "grid_auto_rows": null,
            "grid_column": null,
            "grid_gap": null,
            "grid_row": null,
            "grid_template_areas": null,
            "grid_template_columns": null,
            "grid_template_rows": null,
            "height": null,
            "justify_content": null,
            "justify_items": null,
            "left": null,
            "margin": null,
            "max_height": null,
            "max_width": null,
            "min_height": null,
            "min_width": null,
            "object_fit": null,
            "object_position": null,
            "order": null,
            "overflow": null,
            "overflow_x": null,
            "overflow_y": null,
            "padding": null,
            "right": null,
            "top": null,
            "visibility": null,
            "width": null
          }
        },
        "14338b3c9b214ecebdacf484d4a39dd9": {
          "model_module": "@jupyter-widgets/controls",
          "model_name": "ProgressStyleModel",
          "model_module_version": "1.5.0",
          "state": {
            "_model_module": "@jupyter-widgets/controls",
            "_model_module_version": "1.5.0",
            "_model_name": "ProgressStyleModel",
            "_view_count": null,
            "_view_module": "@jupyter-widgets/base",
            "_view_module_version": "1.2.0",
            "_view_name": "StyleView",
            "bar_color": null,
            "description_width": ""
          }
        },
        "7f4f52a61e4b4b838e074707c46be627": {
          "model_module": "@jupyter-widgets/base",
          "model_name": "LayoutModel",
          "model_module_version": "1.2.0",
          "state": {
            "_model_module": "@jupyter-widgets/base",
            "_model_module_version": "1.2.0",
            "_model_name": "LayoutModel",
            "_view_count": null,
            "_view_module": "@jupyter-widgets/base",
            "_view_module_version": "1.2.0",
            "_view_name": "LayoutView",
            "align_content": null,
            "align_items": null,
            "align_self": null,
            "border": null,
            "bottom": null,
            "display": null,
            "flex": null,
            "flex_flow": null,
            "grid_area": null,
            "grid_auto_columns": null,
            "grid_auto_flow": null,
            "grid_auto_rows": null,
            "grid_column": null,
            "grid_gap": null,
            "grid_row": null,
            "grid_template_areas": null,
            "grid_template_columns": null,
            "grid_template_rows": null,
            "height": null,
            "justify_content": null,
            "justify_items": null,
            "left": null,
            "margin": null,
            "max_height": null,
            "max_width": null,
            "min_height": null,
            "min_width": null,
            "object_fit": null,
            "object_position": null,
            "order": null,
            "overflow": null,
            "overflow_x": null,
            "overflow_y": null,
            "padding": null,
            "right": null,
            "top": null,
            "visibility": null,
            "width": null
          }
        },
        "1ea1ac169e254d92b3270f5c9ed21686": {
          "model_module": "@jupyter-widgets/controls",
          "model_name": "DescriptionStyleModel",
          "model_module_version": "1.5.0",
          "state": {
            "_model_module": "@jupyter-widgets/controls",
            "_model_module_version": "1.5.0",
            "_model_name": "DescriptionStyleModel",
            "_view_count": null,
            "_view_module": "@jupyter-widgets/base",
            "_view_module_version": "1.2.0",
            "_view_name": "StyleView",
            "description_width": ""
          }
        },
        "5a9ccec0d5144e3092329e5e41c6f93b": {
          "model_module": "@jupyter-widgets/controls",
          "model_name": "HBoxModel",
          "model_module_version": "1.5.0",
          "state": {
            "_dom_classes": [],
            "_model_module": "@jupyter-widgets/controls",
            "_model_module_version": "1.5.0",
            "_model_name": "HBoxModel",
            "_view_count": null,
            "_view_module": "@jupyter-widgets/controls",
            "_view_module_version": "1.5.0",
            "_view_name": "HBoxView",
            "box_style": "",
            "children": [
              "IPY_MODEL_43368e900bb743eb83bc71c4ec8c36d6",
              "IPY_MODEL_3cde01d0971f46c58cf1ea13003361d7",
              "IPY_MODEL_90efbaf2b8be4570b564606aba64e065"
            ],
            "layout": "IPY_MODEL_f6f4d77b7a154be9bae364d217172f45"
          }
        },
        "43368e900bb743eb83bc71c4ec8c36d6": {
          "model_module": "@jupyter-widgets/controls",
          "model_name": "HTMLModel",
          "model_module_version": "1.5.0",
          "state": {
            "_dom_classes": [],
            "_model_module": "@jupyter-widgets/controls",
            "_model_module_version": "1.5.0",
            "_model_name": "HTMLModel",
            "_view_count": null,
            "_view_module": "@jupyter-widgets/controls",
            "_view_module_version": "1.5.0",
            "_view_name": "HTMLView",
            "description": "",
            "description_tooltip": null,
            "layout": "IPY_MODEL_a6728561a0794ce5b82caa0f2fe27942",
            "placeholder": "​",
            "style": "IPY_MODEL_2baf461c202d4180870cd1c44d3cdf20",
            "value": "special_tokens_map.json: 100%"
          }
        },
        "3cde01d0971f46c58cf1ea13003361d7": {
          "model_module": "@jupyter-widgets/controls",
          "model_name": "FloatProgressModel",
          "model_module_version": "1.5.0",
          "state": {
            "_dom_classes": [],
            "_model_module": "@jupyter-widgets/controls",
            "_model_module_version": "1.5.0",
            "_model_name": "FloatProgressModel",
            "_view_count": null,
            "_view_module": "@jupyter-widgets/controls",
            "_view_module_version": "1.5.0",
            "_view_name": "ProgressView",
            "bar_style": "success",
            "description": "",
            "description_tooltip": null,
            "layout": "IPY_MODEL_5342a3aa3d434c7fb797cbcbe3773345",
            "max": 280,
            "min": 0,
            "orientation": "horizontal",
            "style": "IPY_MODEL_6d901a6b273d4be1a448640ebe05aaa4",
            "value": 280
          }
        },
        "90efbaf2b8be4570b564606aba64e065": {
          "model_module": "@jupyter-widgets/controls",
          "model_name": "HTMLModel",
          "model_module_version": "1.5.0",
          "state": {
            "_dom_classes": [],
            "_model_module": "@jupyter-widgets/controls",
            "_model_module_version": "1.5.0",
            "_model_name": "HTMLModel",
            "_view_count": null,
            "_view_module": "@jupyter-widgets/controls",
            "_view_module_version": "1.5.0",
            "_view_name": "HTMLView",
            "description": "",
            "description_tooltip": null,
            "layout": "IPY_MODEL_30834fa243674b71bc5da49707c8c702",
            "placeholder": "​",
            "style": "IPY_MODEL_5411cb1c296545a19f989a8e6a29981b",
            "value": " 280/280 [00:00&lt;00:00, 12.4kB/s]"
          }
        },
        "f6f4d77b7a154be9bae364d217172f45": {
          "model_module": "@jupyter-widgets/base",
          "model_name": "LayoutModel",
          "model_module_version": "1.2.0",
          "state": {
            "_model_module": "@jupyter-widgets/base",
            "_model_module_version": "1.2.0",
            "_model_name": "LayoutModel",
            "_view_count": null,
            "_view_module": "@jupyter-widgets/base",
            "_view_module_version": "1.2.0",
            "_view_name": "LayoutView",
            "align_content": null,
            "align_items": null,
            "align_self": null,
            "border": null,
            "bottom": null,
            "display": null,
            "flex": null,
            "flex_flow": null,
            "grid_area": null,
            "grid_auto_columns": null,
            "grid_auto_flow": null,
            "grid_auto_rows": null,
            "grid_column": null,
            "grid_gap": null,
            "grid_row": null,
            "grid_template_areas": null,
            "grid_template_columns": null,
            "grid_template_rows": null,
            "height": null,
            "justify_content": null,
            "justify_items": null,
            "left": null,
            "margin": null,
            "max_height": null,
            "max_width": null,
            "min_height": null,
            "min_width": null,
            "object_fit": null,
            "object_position": null,
            "order": null,
            "overflow": null,
            "overflow_x": null,
            "overflow_y": null,
            "padding": null,
            "right": null,
            "top": null,
            "visibility": null,
            "width": null
          }
        },
        "a6728561a0794ce5b82caa0f2fe27942": {
          "model_module": "@jupyter-widgets/base",
          "model_name": "LayoutModel",
          "model_module_version": "1.2.0",
          "state": {
            "_model_module": "@jupyter-widgets/base",
            "_model_module_version": "1.2.0",
            "_model_name": "LayoutModel",
            "_view_count": null,
            "_view_module": "@jupyter-widgets/base",
            "_view_module_version": "1.2.0",
            "_view_name": "LayoutView",
            "align_content": null,
            "align_items": null,
            "align_self": null,
            "border": null,
            "bottom": null,
            "display": null,
            "flex": null,
            "flex_flow": null,
            "grid_area": null,
            "grid_auto_columns": null,
            "grid_auto_flow": null,
            "grid_auto_rows": null,
            "grid_column": null,
            "grid_gap": null,
            "grid_row": null,
            "grid_template_areas": null,
            "grid_template_columns": null,
            "grid_template_rows": null,
            "height": null,
            "justify_content": null,
            "justify_items": null,
            "left": null,
            "margin": null,
            "max_height": null,
            "max_width": null,
            "min_height": null,
            "min_width": null,
            "object_fit": null,
            "object_position": null,
            "order": null,
            "overflow": null,
            "overflow_x": null,
            "overflow_y": null,
            "padding": null,
            "right": null,
            "top": null,
            "visibility": null,
            "width": null
          }
        },
        "2baf461c202d4180870cd1c44d3cdf20": {
          "model_module": "@jupyter-widgets/controls",
          "model_name": "DescriptionStyleModel",
          "model_module_version": "1.5.0",
          "state": {
            "_model_module": "@jupyter-widgets/controls",
            "_model_module_version": "1.5.0",
            "_model_name": "DescriptionStyleModel",
            "_view_count": null,
            "_view_module": "@jupyter-widgets/base",
            "_view_module_version": "1.2.0",
            "_view_name": "StyleView",
            "description_width": ""
          }
        },
        "5342a3aa3d434c7fb797cbcbe3773345": {
          "model_module": "@jupyter-widgets/base",
          "model_name": "LayoutModel",
          "model_module_version": "1.2.0",
          "state": {
            "_model_module": "@jupyter-widgets/base",
            "_model_module_version": "1.2.0",
            "_model_name": "LayoutModel",
            "_view_count": null,
            "_view_module": "@jupyter-widgets/base",
            "_view_module_version": "1.2.0",
            "_view_name": "LayoutView",
            "align_content": null,
            "align_items": null,
            "align_self": null,
            "border": null,
            "bottom": null,
            "display": null,
            "flex": null,
            "flex_flow": null,
            "grid_area": null,
            "grid_auto_columns": null,
            "grid_auto_flow": null,
            "grid_auto_rows": null,
            "grid_column": null,
            "grid_gap": null,
            "grid_row": null,
            "grid_template_areas": null,
            "grid_template_columns": null,
            "grid_template_rows": null,
            "height": null,
            "justify_content": null,
            "justify_items": null,
            "left": null,
            "margin": null,
            "max_height": null,
            "max_width": null,
            "min_height": null,
            "min_width": null,
            "object_fit": null,
            "object_position": null,
            "order": null,
            "overflow": null,
            "overflow_x": null,
            "overflow_y": null,
            "padding": null,
            "right": null,
            "top": null,
            "visibility": null,
            "width": null
          }
        },
        "6d901a6b273d4be1a448640ebe05aaa4": {
          "model_module": "@jupyter-widgets/controls",
          "model_name": "ProgressStyleModel",
          "model_module_version": "1.5.0",
          "state": {
            "_model_module": "@jupyter-widgets/controls",
            "_model_module_version": "1.5.0",
            "_model_name": "ProgressStyleModel",
            "_view_count": null,
            "_view_module": "@jupyter-widgets/base",
            "_view_module_version": "1.2.0",
            "_view_name": "StyleView",
            "bar_color": null,
            "description_width": ""
          }
        },
        "30834fa243674b71bc5da49707c8c702": {
          "model_module": "@jupyter-widgets/base",
          "model_name": "LayoutModel",
          "model_module_version": "1.2.0",
          "state": {
            "_model_module": "@jupyter-widgets/base",
            "_model_module_version": "1.2.0",
            "_model_name": "LayoutModel",
            "_view_count": null,
            "_view_module": "@jupyter-widgets/base",
            "_view_module_version": "1.2.0",
            "_view_name": "LayoutView",
            "align_content": null,
            "align_items": null,
            "align_self": null,
            "border": null,
            "bottom": null,
            "display": null,
            "flex": null,
            "flex_flow": null,
            "grid_area": null,
            "grid_auto_columns": null,
            "grid_auto_flow": null,
            "grid_auto_rows": null,
            "grid_column": null,
            "grid_gap": null,
            "grid_row": null,
            "grid_template_areas": null,
            "grid_template_columns": null,
            "grid_template_rows": null,
            "height": null,
            "justify_content": null,
            "justify_items": null,
            "left": null,
            "margin": null,
            "max_height": null,
            "max_width": null,
            "min_height": null,
            "min_width": null,
            "object_fit": null,
            "object_position": null,
            "order": null,
            "overflow": null,
            "overflow_x": null,
            "overflow_y": null,
            "padding": null,
            "right": null,
            "top": null,
            "visibility": null,
            "width": null
          }
        },
        "5411cb1c296545a19f989a8e6a29981b": {
          "model_module": "@jupyter-widgets/controls",
          "model_name": "DescriptionStyleModel",
          "model_module_version": "1.5.0",
          "state": {
            "_model_module": "@jupyter-widgets/controls",
            "_model_module_version": "1.5.0",
            "_model_name": "DescriptionStyleModel",
            "_view_count": null,
            "_view_module": "@jupyter-widgets/base",
            "_view_module_version": "1.2.0",
            "_view_name": "StyleView",
            "description_width": ""
          }
        }
      }
    }
  },
  "nbformat": 4,
  "nbformat_minor": 0
}