{
  "cells": [
    {
      "cell_type": "markdown",
      "metadata": {
        "id": "view-in-github",
        "colab_type": "text"
      },
      "source": [
        "<a href=\"https://colab.research.google.com/github/rii92/Datmin/blob/main/011_practical_example.ipynb\" target=\"_parent\"><img src=\"https://colab.research.google.com/assets/colab-badge.svg\" alt=\"Open In Colab\"/></a>"
      ]
    },
    {
      "cell_type": "markdown",
      "metadata": {
        "id": "pIF7n6kwGXy5"
      },
      "source": [
        "# Let's get practical!\n",
        "\n",
        "Woohoo, after days of learning Python, we can decipher lots of python code now. Check below code out and run it!"
      ]
    },
    {
      "cell_type": "markdown",
      "metadata": {
        "id": "dA7b8s4cGXy9"
      },
      "source": [
        "%pip install gradio\n",
        "%pip install typing-extensions --upgrade"
      ]
    },
    {
      "cell_type": "code",
      "source": [
        "%pip install gradio"
      ],
      "metadata": {
        "id": "lNPMJeJQsK7Z",
        "outputId": "8f859747-9151-416b-e759-9a8c857de04d",
        "colab": {
          "base_uri": "https://localhost:8080/"
        }
      },
      "execution_count": 4,
      "outputs": [
        {
          "output_type": "stream",
          "name": "stdout",
          "text": [
            "Requirement already satisfied: gradio in /usr/local/lib/python3.10/dist-packages (4.38.1)\n",
            "Requirement already satisfied: aiofiles<24.0,>=22.0 in /usr/local/lib/python3.10/dist-packages (from gradio) (23.2.1)\n",
            "Requirement already satisfied: altair<6.0,>=5.0 in /usr/local/lib/python3.10/dist-packages (from gradio) (5.3.0)\n",
            "Requirement already satisfied: fastapi in /usr/local/lib/python3.10/dist-packages (from gradio) (0.111.1)\n",
            "Requirement already satisfied: ffmpy in /usr/local/lib/python3.10/dist-packages (from gradio) (0.3.2)\n",
            "Requirement already satisfied: gradio-client==1.1.0 in /usr/local/lib/python3.10/dist-packages (from gradio) (1.1.0)\n",
            "Requirement already satisfied: httpx>=0.24.1 in /usr/local/lib/python3.10/dist-packages (from gradio) (0.27.0)\n",
            "Requirement already satisfied: huggingface-hub>=0.19.3 in /usr/local/lib/python3.10/dist-packages (from gradio) (0.23.4)\n",
            "Requirement already satisfied: importlib-resources<7.0,>=1.3 in /usr/local/lib/python3.10/dist-packages (from gradio) (6.4.0)\n",
            "Requirement already satisfied: jinja2<4.0 in /usr/local/lib/python3.10/dist-packages (from gradio) (3.1.4)\n",
            "Requirement already satisfied: markupsafe~=2.0 in /usr/local/lib/python3.10/dist-packages (from gradio) (2.1.5)\n",
            "Requirement already satisfied: matplotlib~=3.0 in /usr/local/lib/python3.10/dist-packages (from gradio) (3.7.1)\n",
            "Requirement already satisfied: numpy<3.0,>=1.0 in /usr/local/lib/python3.10/dist-packages (from gradio) (1.25.2)\n",
            "Requirement already satisfied: orjson~=3.0 in /usr/local/lib/python3.10/dist-packages (from gradio) (3.10.6)\n",
            "Requirement already satisfied: packaging in /usr/local/lib/python3.10/dist-packages (from gradio) (24.1)\n",
            "Requirement already satisfied: pandas<3.0,>=1.0 in /usr/local/lib/python3.10/dist-packages (from gradio) (2.0.3)\n",
            "Requirement already satisfied: pillow<11.0,>=8.0 in /usr/local/lib/python3.10/dist-packages (from gradio) (9.4.0)\n",
            "Requirement already satisfied: pydantic>=2.0 in /usr/local/lib/python3.10/dist-packages (from gradio) (2.8.2)\n",
            "Requirement already satisfied: pydub in /usr/local/lib/python3.10/dist-packages (from gradio) (0.25.1)\n",
            "Requirement already satisfied: python-multipart>=0.0.9 in /usr/local/lib/python3.10/dist-packages (from gradio) (0.0.9)\n",
            "Requirement already satisfied: pyyaml<7.0,>=5.0 in /usr/local/lib/python3.10/dist-packages (from gradio) (6.0.1)\n",
            "Requirement already satisfied: ruff>=0.2.2 in /usr/local/lib/python3.10/dist-packages (from gradio) (0.5.2)\n",
            "Requirement already satisfied: semantic-version~=2.0 in /usr/local/lib/python3.10/dist-packages (from gradio) (2.10.0)\n",
            "Requirement already satisfied: tomlkit==0.12.0 in /usr/local/lib/python3.10/dist-packages (from gradio) (0.12.0)\n",
            "Requirement already satisfied: typer<1.0,>=0.12 in /usr/local/lib/python3.10/dist-packages (from gradio) (0.12.3)\n",
            "Requirement already satisfied: typing-extensions~=4.0 in /usr/local/lib/python3.10/dist-packages (from gradio) (4.12.2)\n",
            "Requirement already satisfied: urllib3~=2.0 in /usr/local/lib/python3.10/dist-packages (from gradio) (2.0.7)\n",
            "Requirement already satisfied: uvicorn>=0.14.0 in /usr/local/lib/python3.10/dist-packages (from gradio) (0.30.1)\n",
            "Requirement already satisfied: fsspec in /usr/local/lib/python3.10/dist-packages (from gradio-client==1.1.0->gradio) (2023.6.0)\n",
            "Requirement already satisfied: websockets<12.0,>=10.0 in /usr/local/lib/python3.10/dist-packages (from gradio-client==1.1.0->gradio) (11.0.3)\n",
            "Requirement already satisfied: jsonschema>=3.0 in /usr/local/lib/python3.10/dist-packages (from altair<6.0,>=5.0->gradio) (4.19.2)\n",
            "Requirement already satisfied: toolz in /usr/local/lib/python3.10/dist-packages (from altair<6.0,>=5.0->gradio) (0.12.1)\n",
            "Requirement already satisfied: anyio in /usr/local/lib/python3.10/dist-packages (from httpx>=0.24.1->gradio) (3.7.1)\n",
            "Requirement already satisfied: certifi in /usr/local/lib/python3.10/dist-packages (from httpx>=0.24.1->gradio) (2024.7.4)\n",
            "Requirement already satisfied: httpcore==1.* in /usr/local/lib/python3.10/dist-packages (from httpx>=0.24.1->gradio) (1.0.5)\n",
            "Requirement already satisfied: idna in /usr/local/lib/python3.10/dist-packages (from httpx>=0.24.1->gradio) (3.7)\n",
            "Requirement already satisfied: sniffio in /usr/local/lib/python3.10/dist-packages (from httpx>=0.24.1->gradio) (1.3.1)\n",
            "Requirement already satisfied: h11<0.15,>=0.13 in /usr/local/lib/python3.10/dist-packages (from httpcore==1.*->httpx>=0.24.1->gradio) (0.14.0)\n",
            "Requirement already satisfied: filelock in /usr/local/lib/python3.10/dist-packages (from huggingface-hub>=0.19.3->gradio) (3.15.4)\n",
            "Requirement already satisfied: requests in /usr/local/lib/python3.10/dist-packages (from huggingface-hub>=0.19.3->gradio) (2.31.0)\n",
            "Requirement already satisfied: tqdm>=4.42.1 in /usr/local/lib/python3.10/dist-packages (from huggingface-hub>=0.19.3->gradio) (4.66.4)\n",
            "Requirement already satisfied: contourpy>=1.0.1 in /usr/local/lib/python3.10/dist-packages (from matplotlib~=3.0->gradio) (1.2.1)\n",
            "Requirement already satisfied: cycler>=0.10 in /usr/local/lib/python3.10/dist-packages (from matplotlib~=3.0->gradio) (0.12.1)\n",
            "Requirement already satisfied: fonttools>=4.22.0 in /usr/local/lib/python3.10/dist-packages (from matplotlib~=3.0->gradio) (4.53.1)\n",
            "Requirement already satisfied: kiwisolver>=1.0.1 in /usr/local/lib/python3.10/dist-packages (from matplotlib~=3.0->gradio) (1.4.5)\n",
            "Requirement already satisfied: pyparsing>=2.3.1 in /usr/local/lib/python3.10/dist-packages (from matplotlib~=3.0->gradio) (3.1.2)\n",
            "Requirement already satisfied: python-dateutil>=2.7 in /usr/local/lib/python3.10/dist-packages (from matplotlib~=3.0->gradio) (2.8.2)\n",
            "Requirement already satisfied: pytz>=2020.1 in /usr/local/lib/python3.10/dist-packages (from pandas<3.0,>=1.0->gradio) (2023.4)\n",
            "Requirement already satisfied: tzdata>=2022.1 in /usr/local/lib/python3.10/dist-packages (from pandas<3.0,>=1.0->gradio) (2024.1)\n",
            "Requirement already satisfied: annotated-types>=0.4.0 in /usr/local/lib/python3.10/dist-packages (from pydantic>=2.0->gradio) (0.7.0)\n",
            "Requirement already satisfied: pydantic-core==2.20.1 in /usr/local/lib/python3.10/dist-packages (from pydantic>=2.0->gradio) (2.20.1)\n",
            "Requirement already satisfied: click>=8.0.0 in /usr/local/lib/python3.10/dist-packages (from typer<1.0,>=0.12->gradio) (8.1.7)\n",
            "Requirement already satisfied: shellingham>=1.3.0 in /usr/local/lib/python3.10/dist-packages (from typer<1.0,>=0.12->gradio) (1.5.4)\n",
            "Requirement already satisfied: rich>=10.11.0 in /usr/local/lib/python3.10/dist-packages (from typer<1.0,>=0.12->gradio) (13.7.1)\n",
            "Requirement already satisfied: starlette<0.38.0,>=0.37.2 in /usr/local/lib/python3.10/dist-packages (from fastapi->gradio) (0.37.2)\n",
            "Requirement already satisfied: fastapi-cli>=0.0.2 in /usr/local/lib/python3.10/dist-packages (from fastapi->gradio) (0.0.4)\n",
            "Requirement already satisfied: email_validator>=2.0.0 in /usr/local/lib/python3.10/dist-packages (from fastapi->gradio) (2.2.0)\n",
            "Requirement already satisfied: dnspython>=2.0.0 in /usr/local/lib/python3.10/dist-packages (from email_validator>=2.0.0->fastapi->gradio) (2.6.1)\n",
            "Requirement already satisfied: attrs>=22.2.0 in /usr/local/lib/python3.10/dist-packages (from jsonschema>=3.0->altair<6.0,>=5.0->gradio) (23.2.0)\n",
            "Requirement already satisfied: jsonschema-specifications>=2023.03.6 in /usr/local/lib/python3.10/dist-packages (from jsonschema>=3.0->altair<6.0,>=5.0->gradio) (2023.12.1)\n",
            "Requirement already satisfied: referencing>=0.28.4 in /usr/local/lib/python3.10/dist-packages (from jsonschema>=3.0->altair<6.0,>=5.0->gradio) (0.35.1)\n",
            "Requirement already satisfied: rpds-py>=0.7.1 in /usr/local/lib/python3.10/dist-packages (from jsonschema>=3.0->altair<6.0,>=5.0->gradio) (0.19.0)\n",
            "Requirement already satisfied: six>=1.5 in /usr/local/lib/python3.10/dist-packages (from python-dateutil>=2.7->matplotlib~=3.0->gradio) (1.16.0)\n",
            "Requirement already satisfied: markdown-it-py>=2.2.0 in /usr/local/lib/python3.10/dist-packages (from rich>=10.11.0->typer<1.0,>=0.12->gradio) (3.0.0)\n",
            "Requirement already satisfied: pygments<3.0.0,>=2.13.0 in /usr/local/lib/python3.10/dist-packages (from rich>=10.11.0->typer<1.0,>=0.12->gradio) (2.16.1)\n",
            "Requirement already satisfied: exceptiongroup in /usr/local/lib/python3.10/dist-packages (from anyio->httpx>=0.24.1->gradio) (1.2.1)\n",
            "Requirement already satisfied: httptools>=0.5.0 in /usr/local/lib/python3.10/dist-packages (from uvicorn>=0.14.0->gradio) (0.6.1)\n",
            "Requirement already satisfied: python-dotenv>=0.13 in /usr/local/lib/python3.10/dist-packages (from uvicorn>=0.14.0->gradio) (1.0.1)\n",
            "Requirement already satisfied: uvloop!=0.15.0,!=0.15.1,>=0.14.0 in /usr/local/lib/python3.10/dist-packages (from uvicorn>=0.14.0->gradio) (0.19.0)\n",
            "Requirement already satisfied: watchfiles>=0.13 in /usr/local/lib/python3.10/dist-packages (from uvicorn>=0.14.0->gradio) (0.22.0)\n",
            "Requirement already satisfied: charset-normalizer<4,>=2 in /usr/local/lib/python3.10/dist-packages (from requests->huggingface-hub>=0.19.3->gradio) (3.3.2)\n",
            "Requirement already satisfied: mdurl~=0.1 in /usr/local/lib/python3.10/dist-packages (from markdown-it-py>=2.2.0->rich>=10.11.0->typer<1.0,>=0.12->gradio) (0.1.2)\n"
          ]
        }
      ]
    },
    {
      "cell_type": "code",
      "execution_count": 5,
      "metadata": {
        "colab": {
          "base_uri": "https://localhost:8080/",
          "height": 646
        },
        "id": "z371cmatGXy-",
        "outputId": "63c6e46f-5023-4027-a74b-9b3da5d5d895"
      },
      "outputs": [
        {
          "output_type": "stream",
          "name": "stdout",
          "text": [
            "Setting queue=True in a Colab notebook requires sharing enabled. Setting `share=True` (you can turn this off by setting `share=False` in `launch()` explicitly).\n",
            "\n",
            "Colab notebook detected. To show errors in colab notebook, set debug=True in launch()\n",
            "Running on public URL: https://84841edb0fcb69a864.gradio.live\n",
            "\n",
            "This share link expires in 72 hours. For free permanent hosting and GPU upgrades, run `gradio deploy` from Terminal to deploy to Spaces (https://huggingface.co/spaces)\n"
          ]
        },
        {
          "output_type": "display_data",
          "data": {
            "text/plain": [
              "<IPython.core.display.HTML object>"
            ],
            "text/html": [
              "<div><iframe src=\"https://84841edb0fcb69a864.gradio.live\" width=\"100%\" height=\"500\" allow=\"autoplay; camera; microphone; clipboard-read; clipboard-write;\" frameborder=\"0\" allowfullscreen></iframe></div>"
            ]
          },
          "metadata": {}
        },
        {
          "output_type": "execute_result",
          "data": {
            "text/plain": []
          },
          "metadata": {},
          "execution_count": 5
        }
      ],
      "source": [
        "import gradio as gr\n",
        "\n",
        "def greet(name):\n",
        "    return \"Hello \" + name + \"!\"\n",
        "\n",
        "demo = gr.Interface(fn=greet, inputs=\"text\", outputs=\"text\")\n",
        "\n",
        "demo.launch(show_api=False)"
      ]
    },
    {
      "cell_type": "markdown",
      "metadata": {
        "id": "G_oiDvdxGXy_"
      },
      "source": [
        "Before we try to explain several things that haven't been explained yet, try to experiment with above input: What do you get as an output? And how can above code did that?"
      ]
    },
    {
      "cell_type": "markdown",
      "metadata": {
        "id": "jOlSfEwFGXzA"
      },
      "source": [
        "# % (percentage symbol)\n",
        "\n",
        "Percentage symbol is a special symbol when working in Google Colab, which is used to run a shell command. If you know `ls`, `pwd`, etc. in Linux this `%` command is basically enabling us to run those commands in Google Colab. The majority of our use case though is mostly related to using `pip` command, the command that is used to install Python packages.\n",
        "\n",
        "For us that never interacted with Linux command line before, basically it's a \"different\" coding environment than what is used when we're writing Python code in Google Colab, so it doesn't follow the syntax of Python. But again, as we won't be using it other than installing Python packages, you don't need to worry about it."
      ]
    },
    {
      "cell_type": "markdown",
      "metadata": {
        "id": "en7sDLPqGXzB"
      },
      "source": [
        "# `pip`\n",
        "\n",
        "`pip` is a way to install Python packages, basically installing packages that are available in PyPI (Python Package Index) that you can browse on [https://pypi.org/](https://pypi.org/). A Python package is a way to share Python code, so that other people can use it just by installing it using `pip`.\n",
        "\n",
        "```python\n",
        "%pip install gradio\n",
        "%pip install transformers\n",
        "```\n",
        "\n",
        "`pip` is a command line tool, so it's not a Python code and we should prepend the line for `pip` with `%` symbol. The `install` is a command for `pip` to install a package, and the `gradio` and `transformers` are the name of the package that we want to install.\n",
        "\n",
        "Note that the package will be installed to the running runtime, so as long as the runtime is running, the package will be available, and we only need to install it once in a single notebook. If we restart the runtime, we need to install it again."
      ]
    },
    {
      "cell_type": "markdown",
      "metadata": {
        "id": "TIaJ2NbrGXzB"
      },
      "source": [
        "# Library import\n",
        "\n",
        "After the package is installed, we want to import the \"module\" that is available in the package. A module is a way to group Python code, so that we can use it in our code. For example, we can import `transformers` package that we just installed, and use the `pipeline` module that is available in the package.\n",
        "\n",
        "```python\n",
        "%pip install transformers\n",
        "from transformers import pipeline\n",
        "```\n",
        "\n",
        "If a module has the same name as the package, we can shorten the import by doing like so:\n",
        "\n",
        "```python\n",
        "import transformers\n",
        "```\n",
        "\n",
        "## Multiple module import\n",
        "\n",
        "We can also import multiple modules from a package, by separating the module name with comma.\n",
        "\n",
        "```python\n",
        "from transformers import pipeline, AutoTokenizer, AutoModelForSequenceClassification\n",
        "```\n",
        "\n",
        "## Module alias\n",
        "\n",
        "We can also import a module with an alias, so that we can use the alias instead of the full module name to shorten our code.\n",
        "\n",
        "```python\n",
        "import gradio as gr\n",
        "from transformers import pipeline as hf_pipeline\n",
        "from nltk import word_tokenize as tokenize, pos_tag\n",
        "```"
      ]
    },
    {
      "cell_type": "markdown",
      "metadata": {
        "id": "G0lQQsxAGXzD"
      },
      "source": [
        "# Class\n",
        "\n",
        "We won't teach deep about class in this course, but lots of modules that we import are actually a class (even though it can be anything else such as function, string, etc.). Let's see how it works in `gradio` module.\n"
      ]
    },
    {
      "cell_type": "code",
      "execution_count": 6,
      "metadata": {
        "id": "g5dzMwcFGXzD",
        "colab": {
          "base_uri": "https://localhost:8080/",
          "height": 646
        },
        "outputId": "88b00f0b-07be-41a7-913c-72e382e38b18"
      },
      "outputs": [
        {
          "output_type": "stream",
          "name": "stdout",
          "text": [
            "Setting queue=True in a Colab notebook requires sharing enabled. Setting `share=True` (you can turn this off by setting `share=False` in `launch()` explicitly).\n",
            "\n",
            "Colab notebook detected. To show errors in colab notebook, set debug=True in launch()\n",
            "Running on public URL: https://84a27a165ea83a5550.gradio.live\n",
            "\n",
            "This share link expires in 72 hours. For free permanent hosting and GPU upgrades, run `gradio deploy` from Terminal to deploy to Spaces (https://huggingface.co/spaces)\n"
          ]
        },
        {
          "output_type": "display_data",
          "data": {
            "text/plain": [
              "<IPython.core.display.HTML object>"
            ],
            "text/html": [
              "<div><iframe src=\"https://84a27a165ea83a5550.gradio.live\" width=\"100%\" height=\"500\" allow=\"autoplay; camera; microphone; clipboard-read; clipboard-write;\" frameborder=\"0\" allowfullscreen></iframe></div>"
            ]
          },
          "metadata": {}
        },
        {
          "output_type": "execute_result",
          "data": {
            "text/plain": []
          },
          "metadata": {},
          "execution_count": 6
        }
      ],
      "source": [
        "import gradio as gr\n",
        "\n",
        "def classify(text):\n",
        "      return text + \" Done!\"\n",
        "\n",
        "\n",
        "gr.Interface(\n",
        "    fn=classify,\n",
        "    inputs=gr.Textbox(lines=5, label=\"Text\"),\n",
        "    outputs=gr.Label(num_top_classes=3),\n",
        "    title=\"Toxic Comment Classifier\",\n",
        "    description=\"Identify toxic comments from Wikipedia discussion forums\"\n",
        ").launch()"
      ]
    },
    {
      "cell_type": "markdown",
      "metadata": {
        "id": "4bTm7-EqGXzE"
      },
      "source": [
        "You might notice, like string, above `gr` class has methods that we can call as well. It's basically because string is a class, such that `gr` is also a class."
      ]
    },
    {
      "cell_type": "markdown",
      "metadata": {
        "id": "JQI5cTsHGXzF"
      },
      "source": [
        "# Function as first class citizen\n",
        "\n",
        "In Python, function is a first class citizen, which means that we can pass function as an argument to another function, or return a function from another function. We'll focus on the first one, which is passing a function as an argument to another function."
      ]
    },
    {
      "cell_type": "code",
      "execution_count": 9,
      "metadata": {
        "id": "EmkXejupGXzF"
      },
      "outputs": [],
      "source": [
        "def greet(name):\n",
        "    return \"Hello \" + name + \"!\"\n",
        "\n",
        "demo = gr.Interface(fn=greet, inputs=\"text\", outputs=\"text\")"
      ]
    },
    {
      "cell_type": "markdown",
      "metadata": {
        "id": "ftxr22B2GXzG"
      },
      "source": [
        "<!--\n",
        "import gradio as gr\n",
        "\n",
        "def greet(name):\n",
        "    return \"Hello \" + name + \"!\"\n",
        "\n",
        "demo = gr.Interface(fn=greet, inputs=\"text\", outputs=\"text\") -->\n",
        "\n",
        "Before we breakdown the concept of \"Function as first class citizen\", let's breakdown above two other arguments first. The `inputs` is an argument that is used to define the type of input that later the user can pass to the function. The `outputs` is an argument that is used to define the type of output that later the user can get from the function.\n",
        "\n",
        "So if we use `text` as the `inputs`, then, just like what we'll see if we ran above code, the user can input a text to the gradio interface. This text will be passed to the `fn` argument, and because we pass the `greet` function to the `fn` argument, the text will be passed to the `greet` function and then the `greet` can return a value. This value will be converted to `text`, because we use `text` as the `outputs` argument."
      ]
    },
    {
      "cell_type": "markdown",
      "metadata": {
        "id": "L8-yeMkzGXzG"
      },
      "source": [
        "## Other function that receives function as an argument\n",
        "\n",
        "Having understanding of a function being passed as an argument to another function can be crucial, so please enjoy several other examples below and try to understand what is happening."
      ]
    },
    {
      "cell_type": "markdown",
      "metadata": {
        "id": "dafk5fwBGXzG"
      },
      "source": [
        "### `map`\n",
        "\n",
        "`map` is a function that is used to apply a function to each element of a list. For example, if we have a list of numbers, and we want to add 1 to each number, we can use `map` function to do that.\n",
        "\n",
        "Note: We should convert the result of `map` function to a list by using `list` function"
      ]
    },
    {
      "cell_type": "code",
      "execution_count": 10,
      "metadata": {
        "id": "aVNyQZqlGXzG",
        "outputId": "6620bc13-8caf-4ed9-cf87-27ffc6f89fa5",
        "colab": {
          "base_uri": "https://localhost:8080/"
        }
      },
      "outputs": [
        {
          "output_type": "stream",
          "name": "stdout",
          "text": [
            "[8, 11, 16]\n"
          ]
        }
      ],
      "source": [
        "def add_one(x):\n",
        "    return x + 1\n",
        "\n",
        "numbers = [7, 10, 15]\n",
        "\n",
        "print(list(map(add_one, numbers)))"
      ]
    },
    {
      "cell_type": "markdown",
      "metadata": {
        "id": "8T6XWekXGXzH"
      },
      "source": [
        "## `filter`\n",
        "\n",
        "`filter` is a function that is used to filter a list based on a condition. For example, if we have a list of numbers, and we want to filter the list to only contain even numbers, we can use `filter` function to do that."
      ]
    },
    {
      "cell_type": "code",
      "execution_count": 12,
      "metadata": {
        "id": "TbIKL2n8GXzI",
        "outputId": "fecb49e9-d02d-475f-eff0-6c04279f46e2",
        "colab": {
          "base_uri": "https://localhost:8080/"
        }
      },
      "outputs": [
        {
          "output_type": "stream",
          "name": "stdout",
          "text": [
            "[4, 20, 100]\n"
          ]
        }
      ],
      "source": [
        "def is_even(number):\n",
        "    return number % 2 == 0\n",
        "    # % is the modulo operator, it will return the remainder of the division\n",
        "    # (e.g. 5 % 2 = 1, because 5 / 2 = 2 with remainder 1)\n",
        "    # if a number is even, the remainder of the division by 2 will be 0\n",
        "\n",
        "numbers = [4, 11, 20, 33, 100]\n",
        "\n",
        "print(list(filter(is_even, numbers)))"
      ]
    },
    {
      "cell_type": "markdown",
      "metadata": {
        "id": "N3HPZZ6QGXzI"
      },
      "source": [
        "# Challenge!"
      ]
    },
    {
      "cell_type": "markdown",
      "metadata": {
        "id": "k_LsZqz8GXzI"
      },
      "source": [
        "## Challenge 1: Multiply by 7\n",
        "\n",
        "Using `map`, iterate below list and multiply each element by 7."
      ]
    },
    {
      "cell_type": "code",
      "execution_count": 13,
      "metadata": {
        "id": "kUczRnAsGXzI",
        "outputId": "9e592f49-2bf7-4fd1-e7c4-27b840cbe95e",
        "colab": {
          "base_uri": "https://localhost:8080/"
        }
      },
      "outputs": [
        {
          "output_type": "stream",
          "name": "stdout",
          "text": [
            "[28, 77, 140, 231, 700]\n"
          ]
        }
      ],
      "source": [
        "def multiply_by_seven(number):\n",
        "    return number * 7 # Your code here\n",
        "\n",
        "numbers = [4, 11, 20, 33, 100]\n",
        "\n",
        "print(list(map(multiply_by_seven, numbers)))"
      ]
    },
    {
      "cell_type": "markdown",
      "metadata": {
        "id": "kkVLfFyoGXzJ"
      },
      "source": [
        "When you are done with the above challenge, then:\n",
        "\n",
        "1. Run the code block by pressing the play button."
      ]
    },
    {
      "cell_type": "code",
      "execution_count": 14,
      "metadata": {
        "id": "Bsdq6HN8GXzJ",
        "outputId": "9b34f32c-3228-4644-dcf5-e7ff49c4c2db",
        "colab": {
          "base_uri": "https://localhost:8080/",
          "height": 313
        }
      },
      "outputs": [
        {
          "output_type": "stream",
          "name": "stdout",
          "text": [
            "Collecting rggrader\n",
            "  Downloading rggrader-0.1.6-py3-none-any.whl (2.5 kB)\n",
            "Requirement already satisfied: requests in /usr/local/lib/python3.10/dist-packages (from rggrader) (2.31.0)\n",
            "Requirement already satisfied: pandas in /usr/local/lib/python3.10/dist-packages (from rggrader) (2.0.3)\n",
            "Requirement already satisfied: Pillow in /usr/local/lib/python3.10/dist-packages (from rggrader) (9.4.0)\n",
            "Requirement already satisfied: python-dateutil>=2.8.2 in /usr/local/lib/python3.10/dist-packages (from pandas->rggrader) (2.8.2)\n",
            "Requirement already satisfied: pytz>=2020.1 in /usr/local/lib/python3.10/dist-packages (from pandas->rggrader) (2023.4)\n",
            "Requirement already satisfied: tzdata>=2022.1 in /usr/local/lib/python3.10/dist-packages (from pandas->rggrader) (2024.1)\n",
            "Requirement already satisfied: numpy>=1.21.0 in /usr/local/lib/python3.10/dist-packages (from pandas->rggrader) (1.25.2)\n",
            "Requirement already satisfied: charset-normalizer<4,>=2 in /usr/local/lib/python3.10/dist-packages (from requests->rggrader) (3.3.2)\n",
            "Requirement already satisfied: idna<4,>=2.5 in /usr/local/lib/python3.10/dist-packages (from requests->rggrader) (3.7)\n",
            "Requirement already satisfied: urllib3<3,>=1.21.1 in /usr/local/lib/python3.10/dist-packages (from requests->rggrader) (2.0.7)\n",
            "Requirement already satisfied: certifi>=2017.4.17 in /usr/local/lib/python3.10/dist-packages (from requests->rggrader) (2024.7.4)\n",
            "Requirement already satisfied: six>=1.5 in /usr/local/lib/python3.10/dist-packages (from python-dateutil>=2.8.2->pandas->rggrader) (1.16.0)\n",
            "Installing collected packages: rggrader\n",
            "Successfully installed rggrader-0.1.6\n"
          ]
        },
        {
          "output_type": "execute_result",
          "data": {
            "text/plain": [
              "'Assignment successfully submitted'"
            ],
            "application/vnd.google.colaboratory.intrinsic+json": {
              "type": "string"
            }
          },
          "metadata": {},
          "execution_count": 14
        }
      ],
      "source": [
        "!pip install rggrader\n",
        "\n",
        "from rggrader import submit\n",
        "\n",
        "# @title #### Student Identity\n",
        "student_id = \"REAFCDNE\" # @param {type:\"string\"}\n",
        "name = \"Riofebri Prasetia\" # @param {type:\"string\"}\n",
        "\n",
        "# Submit Method\n",
        "assignment_id = \"011_practical_example\"\n",
        "question_id = \"01_data_map\"\n",
        "\n",
        "submit(student_id, name, assignment_id, str(list(map(multiply_by_seven, numbers))), question_id)"
      ]
    },
    {
      "cell_type": "markdown",
      "metadata": {
        "id": "tzsyY3L8GXzJ"
      },
      "source": [
        "## Challenge 2: Return everyone that's not a student\n",
        "\n",
        "We have list of people, and we want to return everyone that's not a student using `filter` function."
      ]
    },
    {
      "cell_type": "code",
      "execution_count": 15,
      "metadata": {
        "id": "s25OWpLJGXzJ",
        "outputId": "e84b9209-cb8b-49f8-9b70-b848fb5cf2b7",
        "colab": {
          "base_uri": "https://localhost:8080/"
        }
      },
      "outputs": [
        {
          "output_type": "stream",
          "name": "stdout",
          "text": [
            "[{'name': 'John', 'age': 25, 'student': False}, {'name': 'Alice', 'age': 20, 'student': False}]\n"
          ]
        }
      ],
      "source": [
        "def is_not_student(data):\n",
        "    return data[\"student\"] == False # Your code here\n",
        "\n",
        "data = [\n",
        "    {\n",
        "        \"name\": \"John\",\n",
        "        \"age\": 25,\n",
        "        \"student\": False\n",
        "    },\n",
        "    {\n",
        "        \"name\": \"Jane\",\n",
        "        \"age\": 22,\n",
        "        \"student\": True\n",
        "    },\n",
        "    {\n",
        "        \"name\": \"Bob\",\n",
        "        \"age\": 18,\n",
        "        \"student\": True\n",
        "    },\n",
        "    {\n",
        "        \"name\": \"Alice\",\n",
        "        \"age\": 20,\n",
        "        \"student\": False\n",
        "    }\n",
        "]\n",
        "\n",
        "print(list(filter(is_not_student, data)))"
      ]
    },
    {
      "cell_type": "markdown",
      "metadata": {
        "id": "QnjwQQrWGXzJ"
      },
      "source": [
        "When you are done with the above challenge, then:\n",
        "\n",
        "1. Run the code block by pressing the play button."
      ]
    },
    {
      "cell_type": "code",
      "execution_count": 16,
      "metadata": {
        "id": "TWjZfSS-GXzJ",
        "outputId": "357871fb-36ce-4ea5-9d0c-37f9e13723b4",
        "colab": {
          "base_uri": "https://localhost:8080/",
          "height": 35
        }
      },
      "outputs": [
        {
          "output_type": "execute_result",
          "data": {
            "text/plain": [
              "'Assignment successfully submitted'"
            ],
            "application/vnd.google.colaboratory.intrinsic+json": {
              "type": "string"
            }
          },
          "metadata": {},
          "execution_count": 16
        }
      ],
      "source": [
        "# Submit Method\n",
        "assignment_id = \"011_practical_example\"\n",
        "question_id = \"02_data_filter\"\n",
        "\n",
        "submit(student_id, name, assignment_id, str(list(filter(is_not_student, data))), question_id)"
      ]
    },
    {
      "cell_type": "markdown",
      "metadata": {
        "id": "5JuUnWSrGXzK"
      },
      "source": [
        "## Creating a function that receives function as an argument\n",
        "\n",
        "Below is an example of how to create a function that receives a function as an argument. Because for most of the time we're only using existing function that will receives function as arguments, we won't be delving deep into this topic."
      ]
    },
    {
      "cell_type": "code",
      "execution_count": 17,
      "metadata": {
        "id": "l5Vle1sSGXzK",
        "colab": {
          "base_uri": "https://localhost:8080/"
        },
        "outputId": "19fd794a-3cd4-4ce4-b265-fd787f0b6abd"
      },
      "outputs": [
        {
          "output_type": "stream",
          "name": "stdout",
          "text": [
            "75.0\n",
            "50.0\n"
          ]
        }
      ],
      "source": [
        "def apply_discount(price, discount_func):\n",
        "    return discount_func(price)\n",
        "\n",
        "def seasonal_discount(price):\n",
        "    return price - price * 0.25  # 25% discount\n",
        "\n",
        "def clearance_discount(price):\n",
        "    return price - price * 0.50  # 50% discount\n",
        "\n",
        "# example usage:\n",
        "original_price = 100\n",
        "print(apply_discount(original_price, seasonal_discount))  # Output: 75.0\n",
        "print(apply_discount(original_price, clearance_discount))  # Output: 50.0"
      ]
    }
  ],
  "metadata": {
    "kernelspec": {
      "display_name": "Python 3 (ipykernel)",
      "language": "python",
      "name": "python3"
    },
    "language_info": {
      "codemirror_mode": {
        "name": "ipython",
        "version": 3
      },
      "file_extension": ".py",
      "mimetype": "text/x-python",
      "name": "python",
      "nbconvert_exporter": "python",
      "pygments_lexer": "ipython3",
      "version": "3.11.3"
    },
    "colab": {
      "provenance": [],
      "include_colab_link": true
    }
  },
  "nbformat": 4,
  "nbformat_minor": 0
}