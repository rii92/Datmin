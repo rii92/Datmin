{
  "cells": [
    {
      "cell_type": "markdown",
      "metadata": {
        "id": "view-in-github",
        "colab_type": "text"
      },
      "source": [
        "<a href=\"https://colab.research.google.com/github/rii92/Datmin/blob/main/006_working_with_multiple_data.ipynb\" target=\"_parent\"><img src=\"https://colab.research.google.com/assets/colab-badge.svg\" alt=\"Open In Colab\"/></a>"
      ]
    },
    {
      "cell_type": "markdown",
      "metadata": {
        "id": "7z8h8T3H1IMi"
      },
      "source": [
        "# Working with list of data\n",
        "\n",
        "When we're coding, often we need to work with a list of data, for example let's take a look another cool machine learning function below 👀."
      ]
    },
    {
      "cell_type": "code",
      "execution_count": 6,
      "metadata": {
        "id": "MYiqNMmx1IMn",
        "colab": {
          "base_uri": "https://localhost:8080/"
        },
        "outputId": "57506bc7-97e3-415e-c9b1-b6c471692028"
      },
      "outputs": [
        {
          "output_type": "stream",
          "name": "stdout",
          "text": [
            "Requirement already satisfied: transformers in /usr/local/lib/python3.10/dist-packages (4.41.2)\n",
            "Requirement already satisfied: filelock in /usr/local/lib/python3.10/dist-packages (from transformers) (3.15.4)\n",
            "Requirement already satisfied: huggingface-hub<1.0,>=0.23.0 in /usr/local/lib/python3.10/dist-packages (from transformers) (0.23.4)\n",
            "Requirement already satisfied: numpy>=1.17 in /usr/local/lib/python3.10/dist-packages (from transformers) (1.25.2)\n",
            "Requirement already satisfied: packaging>=20.0 in /usr/local/lib/python3.10/dist-packages (from transformers) (24.1)\n",
            "Requirement already satisfied: pyyaml>=5.1 in /usr/local/lib/python3.10/dist-packages (from transformers) (6.0.1)\n",
            "Requirement already satisfied: regex!=2019.12.17 in /usr/local/lib/python3.10/dist-packages (from transformers) (2024.5.15)\n",
            "Requirement already satisfied: requests in /usr/local/lib/python3.10/dist-packages (from transformers) (2.31.0)\n",
            "Requirement already satisfied: tokenizers<0.20,>=0.19 in /usr/local/lib/python3.10/dist-packages (from transformers) (0.19.1)\n",
            "Requirement already satisfied: safetensors>=0.4.1 in /usr/local/lib/python3.10/dist-packages (from transformers) (0.4.3)\n",
            "Requirement already satisfied: tqdm>=4.27 in /usr/local/lib/python3.10/dist-packages (from transformers) (4.66.4)\n",
            "Requirement already satisfied: fsspec>=2023.5.0 in /usr/local/lib/python3.10/dist-packages (from huggingface-hub<1.0,>=0.23.0->transformers) (2023.6.0)\n",
            "Requirement already satisfied: typing-extensions>=3.7.4.3 in /usr/local/lib/python3.10/dist-packages (from huggingface-hub<1.0,>=0.23.0->transformers) (4.12.2)\n",
            "Requirement already satisfied: charset-normalizer<4,>=2 in /usr/local/lib/python3.10/dist-packages (from requests->transformers) (3.3.2)\n",
            "Requirement already satisfied: idna<4,>=2.5 in /usr/local/lib/python3.10/dist-packages (from requests->transformers) (3.7)\n",
            "Requirement already satisfied: urllib3<3,>=1.21.1 in /usr/local/lib/python3.10/dist-packages (from requests->transformers) (2.0.7)\n",
            "Requirement already satisfied: certifi>=2017.4.17 in /usr/local/lib/python3.10/dist-packages (from requests->transformers) (2024.7.4)\n"
          ]
        }
      ],
      "source": [
        "%pip install transformers\n",
        "from transformers import pipeline\n",
        "\n",
        "def classify_text(text, candidate_labels):\n",
        "    # Initialize the pipeline for zero-shot classification\n",
        "    classifier = pipeline(\n",
        "        \"zero-shot-classification\",\n",
        "        model=\"facebook/bart-large-mnli\",\n",
        "    )\n",
        "\n",
        "    # Classifying the text\n",
        "    result = classifier(text, candidate_labels)\n",
        "\n",
        "    # Returning the label with the highest score\n",
        "    return result['labels'][0]"
      ]
    },
    {
      "cell_type": "code",
      "execution_count": 7,
      "metadata": {
        "id": "IstrL0A51IMp",
        "colab": {
          "base_uri": "https://localhost:8080/",
          "height": 35
        },
        "outputId": "12161bc1-89ce-4e77-cc56-99a6d2be3749"
      },
      "outputs": [
        {
          "output_type": "execute_result",
          "data": {
            "text/plain": [
              "'weather'"
            ],
            "application/vnd.google.colaboratory.intrinsic+json": {
              "type": "string"
            }
          },
          "metadata": {},
          "execution_count": 7
        }
      ],
      "source": [
        "classify_text(\"Tommorow seems it will be raining\", [\"weather\", \"finance\", \"tech\"] )"
      ]
    },
    {
      "cell_type": "markdown",
      "metadata": {
        "id": "gc4nwtH61IMq"
      },
      "source": [
        "Whoa! New datatype! What is that?\n",
        "\n",
        "It's called a list. A list is a collection of data, and it's denoted by square brackets [ ]. A list might contains several data with several data types, so a list can be a list of numbers, a list of strings, a list of combination between numbers and strings, or even a list of lists!\n",
        "\n",
        "For now please have fun with above code, basically the first argument is the text that you want to classify, and the second argument is the list of possible classification.\n",
        "\n",
        "Try:\n",
        "```python\n",
        "\"Jakarta\", [\"city\", \"country\", \"building\", \"continent\" ]\n",
        "\"Andi\", [\"animal\", \"item\", \"technology\", \"person's name\" ]\n",
        "\"Hello everyone!\",[\"greeting\", \"farewell\" ]\n",
        "\"Algebra\", [\"math\", \"physics\", \"chemistry\", \"biology\", \"geography\", \"history\", \"language\", \"art\", \"music\", \"sport\", \"programming\" ]\n",
        "```"
      ]
    },
    {
      "cell_type": "markdown",
      "metadata": {
        "id": "0m47uFMg1IMq"
      },
      "source": [
        "Note that the list can be varied in length, it can have 1 element, 2 elements, 3 elements, or even 100 elements, or even 0 element! (empty list)"
      ]
    },
    {
      "cell_type": "markdown",
      "metadata": {
        "id": "yIYHq6wy1IMr"
      },
      "source": [
        "# I want to process these texts!\n",
        "\n",
        "Imagine if you have hundreds of text that you want to know the classification like below:\n",
        "\n",
        "- The service at the restaurant was really impressive\n",
        "- What is the status of my order number #1234?\n",
        "- I have a proposal for a new feature in your app\n",
        "- My package arrived late and the item was damaged\n",
        "- Your team is doing an excellent job\n",
        "- Could you help clarify the specifications of this product?\n",
        "- I'm extremely dissatisfied with the customer service\n",
        "- Have you thought about offering more plant-based options on your menu?\n",
        "- I really appreciate the speedy response from your customer service team\n",
        "- I enjoy using your application, great work\n",
        "\n",
        "And we want to classify above list of text into several categories like below:\n",
        "\n",
        "> opinion, complaint, query, suggestion, appreciation\n",
        "\n",
        "Processing list of data like this is a really common task, let's try to see below the basic of how to process this kind of data:"
      ]
    },
    {
      "cell_type": "code",
      "execution_count": 5,
      "metadata": {
        "id": "huXM514y1IMr",
        "colab": {
          "base_uri": "https://localhost:8080/"
        },
        "outputId": "647e2bad-e7d8-4bb5-ee88-80119ce2db87"
      },
      "outputs": [
        {
          "output_type": "stream",
          "name": "stdout",
          "text": [
            "Text: The service at the restaurant was really impressive, Label: appreciation\n",
            "Text: What is the status of my order number #1234?, Label: query\n",
            "Text: I have a proposal for a new feature in your app, Label: suggestion\n",
            "Text: My package arrived late and the item was damaged, Label: complaint\n",
            "Text: Your team is doing an excellent job, Label: appreciation\n",
            "Text: Could you help clarify the specifications of this product?, Label: query\n",
            "Text: I'm extremely dissatisfied with the customer service, Label: complaint\n",
            "Text: Have you thought about offering more plant-based options on your menu?, Label: suggestion\n",
            "Text: I really appreciate the speedy response from your customer service team, Label: appreciation\n",
            "Text: I enjoy using your application, great work, Label: appreciation\n"
          ]
        }
      ],
      "source": [
        "texts = [\n",
        "    \"The service at the restaurant was really impressive\",\n",
        "    \"What is the status of my order number #1234?\",\n",
        "    \"I have a proposal for a new feature in your app\",\n",
        "    \"My package arrived late and the item was damaged\",\n",
        "    \"Your team is doing an excellent job\",\n",
        "    \"Could you help clarify the specifications of this product?\",\n",
        "    \"I'm extremely dissatisfied with the customer service\",\n",
        "    \"Have you thought about offering more plant-based options on your menu?\",\n",
        "    \"I really appreciate the speedy response from your customer service team\",\n",
        "    \"I enjoy using your application, great work\"\n",
        "  ]\n",
        "candidate_labels = [\"opinion\", \"complaint\", \"query\", \"suggestion\", \"appreciation\"]\n",
        "\n",
        "for text in texts:\n",
        "    # Classify the text\n",
        "    label = classify_text(text, candidate_labels)\n",
        "\n",
        "    # Print the text and its corresponding label\n",
        "    print(\"Text: \" + text + \", Label: \" + label)"
      ]
    },
    {
      "cell_type": "markdown",
      "metadata": {
        "id": "pdfXof3o1IMs"
      },
      "source": [
        "As you can see above, we can use what's called a **for loop** to process a list of data. A for loop is a way to repeat a task for every element in a list. Basically every single element in the list will be assigned to a variable, for above example it's `text`, and then we process them in the loop. Like function, for loop is indent-based, so the code that we want to repeat should be indented inside the loop."
      ]
    },
    {
      "cell_type": "markdown",
      "metadata": {
        "id": "mR59Tyrc1IMt"
      },
      "source": [
        "# Challenge!\n",
        "\n",
        "What?! Challenge already?!\n",
        "\n",
        "Because `for loop` can be hard to master, before we dive deeper into the topic, let's try to do several challenges first!"
      ]
    },
    {
      "cell_type": "markdown",
      "metadata": {
        "id": "Frb4bMYg1IMt"
      },
      "source": [
        "## Challenge 1\n",
        "\n",
        "Above we have a list of text, now let's try to do a for loop with a list of numbers!\n",
        "\n",
        "Using below list, create a for loop that will print the number multiplied by 2."
      ]
    },
    {
      "cell_type": "code",
      "execution_count": 8,
      "metadata": {
        "id": "j_jJ7Zkc1IMt",
        "colab": {
          "base_uri": "https://localhost:8080/"
        },
        "outputId": "60567269-7571-4f63-b7fc-b6c17cf32212"
      },
      "outputs": [
        {
          "output_type": "stream",
          "name": "stdout",
          "text": [
            "16\n",
            "18\n",
            "68\n",
            "112\n"
          ]
        }
      ],
      "source": [
        "number_list = [\n",
        "    8,\n",
        "    9,\n",
        "    34,\n",
        "    56,\n",
        "]\n",
        "\n",
        "for number in number_list:\n",
        "    # Change below code to fulfill the requirements\n",
        "    number = number*2\n",
        "    print(number)"
      ]
    },
    {
      "cell_type": "markdown",
      "metadata": {
        "id": "Y3KKumxc1IMu"
      },
      "source": [
        "When you are done with the above challenge, then:\n",
        "1. Input your student_id and name in the box below\n",
        "2. Run the code block by pressing the play button."
      ]
    },
    {
      "cell_type": "code",
      "execution_count": 9,
      "metadata": {
        "id": "-oEuDIR51IMu",
        "outputId": "0d18dd74-317e-48d6-a3a8-0e6e3090f6ab",
        "colab": {
          "base_uri": "https://localhost:8080/",
          "height": 313
        }
      },
      "outputs": [
        {
          "output_type": "stream",
          "name": "stdout",
          "text": [
            "Collecting rggrader\n",
            "  Downloading rggrader-0.1.6-py3-none-any.whl (2.5 kB)\n",
            "Requirement already satisfied: requests in /usr/local/lib/python3.10/dist-packages (from rggrader) (2.31.0)\n",
            "Requirement already satisfied: pandas in /usr/local/lib/python3.10/dist-packages (from rggrader) (2.0.3)\n",
            "Requirement already satisfied: Pillow in /usr/local/lib/python3.10/dist-packages (from rggrader) (9.4.0)\n",
            "Requirement already satisfied: python-dateutil>=2.8.2 in /usr/local/lib/python3.10/dist-packages (from pandas->rggrader) (2.8.2)\n",
            "Requirement already satisfied: pytz>=2020.1 in /usr/local/lib/python3.10/dist-packages (from pandas->rggrader) (2023.4)\n",
            "Requirement already satisfied: tzdata>=2022.1 in /usr/local/lib/python3.10/dist-packages (from pandas->rggrader) (2024.1)\n",
            "Requirement already satisfied: numpy>=1.21.0 in /usr/local/lib/python3.10/dist-packages (from pandas->rggrader) (1.25.2)\n",
            "Requirement already satisfied: charset-normalizer<4,>=2 in /usr/local/lib/python3.10/dist-packages (from requests->rggrader) (3.3.2)\n",
            "Requirement already satisfied: idna<4,>=2.5 in /usr/local/lib/python3.10/dist-packages (from requests->rggrader) (3.7)\n",
            "Requirement already satisfied: urllib3<3,>=1.21.1 in /usr/local/lib/python3.10/dist-packages (from requests->rggrader) (2.0.7)\n",
            "Requirement already satisfied: certifi>=2017.4.17 in /usr/local/lib/python3.10/dist-packages (from requests->rggrader) (2024.7.4)\n",
            "Requirement already satisfied: six>=1.5 in /usr/local/lib/python3.10/dist-packages (from python-dateutil>=2.8.2->pandas->rggrader) (1.16.0)\n",
            "Installing collected packages: rggrader\n",
            "Successfully installed rggrader-0.1.6\n"
          ]
        },
        {
          "output_type": "execute_result",
          "data": {
            "text/plain": [
              "'Assignment successfully submitted'"
            ],
            "application/vnd.google.colaboratory.intrinsic+json": {
              "type": "string"
            }
          },
          "metadata": {},
          "execution_count": 9
        }
      ],
      "source": [
        "!pip install rggrader\n",
        "\n",
        "from rggrader import submit\n",
        "\n",
        "# @title #### Student Identity\n",
        "student_id = \"REAFCDNE\" # @param {type:\"string\"}\n",
        "name = \"Riofebri Prasetia\" # @param {type:\"string\"}\n",
        "\n",
        "# Submit Method\n",
        "assignment_id = \"006_working_with_multiple_data\"\n",
        "question_id = \"01_for_loop_1\"\n",
        "submit(student_id, name, assignment_id, str(number), question_id)"
      ]
    },
    {
      "cell_type": "markdown",
      "metadata": {
        "id": "hPk3AaYj1IMu"
      },
      "source": [
        "# Challenge 2\n",
        "\n",
        "One of function that we can use to process text is `len()`, it will return the length of a string. For example:"
      ]
    },
    {
      "cell_type": "code",
      "execution_count": 17,
      "metadata": {
        "id": "L3qzayuK1IMu",
        "outputId": "4e3f1cf1-d280-412f-82a3-499ce311aa48",
        "colab": {
          "base_uri": "https://localhost:8080/"
        }
      },
      "outputs": [
        {
          "output_type": "stream",
          "name": "stdout",
          "text": [
            "8\n",
            "20\n",
            "42\n"
          ]
        }
      ],
      "source": [
        "print(len(\"Hi there\"))\n",
        "print(len(\"Thanks for your help\"))\n",
        "print(len(\"I really appreciate your help on this task\"))"
      ]
    },
    {
      "cell_type": "markdown",
      "metadata": {
        "id": "PfVMU3v-1IMv"
      },
      "source": [
        "Now with that in mind, let's try to create a for loop that will print the length of each string in the list below:"
      ]
    },
    {
      "cell_type": "code",
      "execution_count": 18,
      "metadata": {
        "id": "wtSrqptz1IMv",
        "outputId": "7881c72b-69ba-45c0-d9f2-c064a8a6bd01",
        "colab": {
          "base_uri": "https://localhost:8080/"
        }
      },
      "outputs": [
        {
          "output_type": "stream",
          "name": "stdout",
          "text": [
            "16\n",
            "31\n",
            "15\n"
          ]
        }
      ],
      "source": [
        "text_data = [\n",
        "    \"Hi, how are you?\",\n",
        "    \"I'm doing great. How about you?\",\n",
        "    \"I'm also great!\",\n",
        "]\n",
        "\n",
        "# Write your code here\n",
        "for text_element in text_data:\n",
        "  print(len(text_element))\n",
        "\n",
        "# Expected printed data:\n",
        "# 16\n",
        "# 31\n",
        "# 15"
      ]
    },
    {
      "cell_type": "markdown",
      "metadata": {
        "id": "AeCQ89_x1IMx"
      },
      "source": [
        "When you are done with the above challenge, then:\n",
        "\n",
        "1. Change the text \"my result\" below with the text \"done\"\n",
        "2. Run the code block by pressing the play button."
      ]
    },
    {
      "cell_type": "code",
      "execution_count": 19,
      "metadata": {
        "id": "PpjhVZqv1IMx",
        "outputId": "6a2c53c7-a706-4008-ffbd-857fd1045b57",
        "colab": {
          "base_uri": "https://localhost:8080/",
          "height": 35
        }
      },
      "outputs": [
        {
          "output_type": "execute_result",
          "data": {
            "text/plain": [
              "'Assignment successfully submitted'"
            ],
            "application/vnd.google.colaboratory.intrinsic+json": {
              "type": "string"
            }
          },
          "metadata": {},
          "execution_count": 19
        }
      ],
      "source": [
        "# Submit Method\n",
        "assignment_id = \"006_working_with_multiple_data\"\n",
        "question_id = \"02_for_loop_2\"\n",
        "\n",
        "result = \"done\"\n",
        "\n",
        "submit(student_id, name, assignment_id, result, question_id)"
      ]
    },
    {
      "cell_type": "markdown",
      "metadata": {
        "id": "z-MlymxQ1IMx"
      },
      "source": [
        "# Challenge 3\n",
        "\n",
        "One string method that we can use to process text is `split()`, it will split a string into a list of string given a character. For example:"
      ]
    },
    {
      "cell_type": "code",
      "execution_count": 20,
      "metadata": {
        "id": "obwzwWCk1IMx",
        "outputId": "2ea91420-c3f9-4c6c-9615-75f2addc4424",
        "colab": {
          "base_uri": "https://localhost:8080/"
        }
      },
      "outputs": [
        {
          "output_type": "execute_result",
          "data": {
            "text/plain": [
              "['Imam', 'Andi', 'Budi', 'Chandra']"
            ]
          },
          "metadata": {},
          "execution_count": 20
        }
      ],
      "source": [
        "\"Imam,Andi,Budi,Chandra\".split(\",\")"
      ]
    },
    {
      "cell_type": "markdown",
      "metadata": {
        "id": "PKbQEoJ71IMy"
      },
      "source": [
        "So for above word we split each word and feed them into a list of string using comma as the separator.\n",
        "\n",
        "Now split below string, and then get the length of each word using for loop!"
      ]
    },
    {
      "cell_type": "code",
      "execution_count": 21,
      "metadata": {
        "id": "5tLu3c_Z1IMy",
        "outputId": "283a2d12-4392-4487-967e-b2086cd151e6",
        "colab": {
          "base_uri": "https://localhost:8080/"
        }
      },
      "outputs": [
        {
          "output_type": "stream",
          "name": "stdout",
          "text": [
            "5\n",
            "6\n",
            "5\n",
            "4\n",
            "4\n",
            "7\n"
          ]
        }
      ],
      "source": [
        "names = \"Fajar,Levina,Putri,Andi,Budi,Chandra\"\n",
        "\n",
        "# Write your code here\n",
        "text_data = names.split(\",\")\n",
        "\n",
        "for text_element in text_data:\n",
        "  print(len(text_element))\n",
        "\n",
        "# Expected printed data:\n",
        "# 5\n",
        "# 6\n",
        "# 5\n",
        "# 4\n",
        "# 4\n",
        "# 7"
      ]
    },
    {
      "cell_type": "markdown",
      "metadata": {
        "id": "G82zEoST1IMy"
      },
      "source": [
        "When you are done with the above challenge, then:\n",
        "\n",
        "1. Change the text \"my result\" below with the text \"done\"\n",
        "2. Run the code block by pressing the play button."
      ]
    },
    {
      "cell_type": "code",
      "execution_count": 22,
      "metadata": {
        "id": "_DbnSXaP1IMy",
        "outputId": "a1eac205-54fa-4a1b-8372-64835a9d9b9a",
        "colab": {
          "base_uri": "https://localhost:8080/",
          "height": 35
        }
      },
      "outputs": [
        {
          "output_type": "execute_result",
          "data": {
            "text/plain": [
              "'Assignment successfully submitted'"
            ],
            "application/vnd.google.colaboratory.intrinsic+json": {
              "type": "string"
            }
          },
          "metadata": {},
          "execution_count": 22
        }
      ],
      "source": [
        "# Submit Method\n",
        "assignment_id = \"006_working_with_multiple_data\"\n",
        "question_id = \"03_for_loop_3\"\n",
        "\n",
        "result = \"done\"\n",
        "\n",
        "submit(student_id, name, assignment_id, result, question_id)"
      ]
    },
    {
      "cell_type": "code",
      "source": [
        "forecast1 = \"Partly sunny\"\n",
        "forecast2 = \"A passing shower in the morning; otherwise, sunshine and patchy clouds\"\n",
        "forecast3 = \"Sunshine and some clouds\"\n",
        "forecast4 = \"Sun through high clouds\"\n",
        "forecast5 = \"Hot with sun through high clouds\"\n",
        "forecast6 = \"Mostly cloudy with a couple of showers in the afternoon\"\n",
        "\n",
        "print(forecast1)\n",
        "print(forecast2)\n",
        "print(forecast3)\n",
        "print(forecast4)\n",
        "print(forecast5)\n",
        "print(forecast6)\n",
        "\n",
        "print(\"==========\")\n",
        "\n",
        "five_day_forecast = [\n",
        "    \"Partly sunny\",\n",
        "    \"A passing shower in the morning; otherwise, sunshine and patchy clouds\",\n",
        "    \"Sunshine and some clouds\",\n",
        "    \"Sun through high clouds\",\n",
        "    \"Hot with sun through high clouds\",\n",
        "    \"Mostly cloudy with a couple of showers in the afternoon\"\n",
        "]\n",
        "\n",
        "print(five_day_forecast)\n",
        "\n",
        "\n",
        "print(\"datanya satu per satu\")\n",
        "\n",
        "for forecast in five_day_forecast:\n",
        "  print(forecast)\n",
        "\n",
        "\n",
        "print(\"==========\")\n",
        "list_temp = [35, 35, 35, 35, 35, 34]\n",
        "print(\"find the average for the next 6 days\")\n",
        "\n",
        "# rata2 = total dari data dibagi dengan jumlah data-nya.\n",
        "# 35 + 35 + 35 + 35 + 35 + 34 dibagi 6\n",
        "\n",
        "#data pertama\n",
        "#temp = 35\n",
        "#total = 0 + 35 = 35\n",
        "\n",
        "#data kedua\n",
        "#temp = 35\n",
        "#total = 35 + 35 = 70\n",
        "\n",
        "total = 0\n",
        "for temp in list_temp:\n",
        "  #total = total + temp\n",
        "  total += temp\n",
        "\n",
        "average = total / len(list_temp)\n",
        "\n",
        "print(total)\n",
        "print(len(list_temp))\n",
        "print(average)\n",
        "\n",
        "print(\"Another way to calculate average:\")\n",
        "average2 = sum(list_temp) / len(list_temp)\n",
        "print(average2)\n",
        "\n",
        "some_string = \"Jakarta\"\n",
        "some_string_in_list = [\"J\", \"a\", \"k\", \"a\", \"r\", \"t\", \"a\"]\n",
        "\n",
        "print(len(some_string))\n",
        "print(len(some_string_in_list))"
      ],
      "metadata": {
        "colab": {
          "base_uri": "https://localhost:8080/"
        },
        "id": "ka7fFPOmMEA7",
        "outputId": "df6441e3-38a0-46ef-89e4-3a49c104cac3"
      },
      "execution_count": 16,
      "outputs": [
        {
          "output_type": "stream",
          "name": "stdout",
          "text": [
            "Partly sunny\n",
            "A passing shower in the morning; otherwise, sunshine and patchy clouds\n",
            "Sunshine and some clouds\n",
            "Sun through high clouds\n",
            "Hot with sun through high clouds\n",
            "Mostly cloudy with a couple of showers in the afternoon\n",
            "==========\n",
            "['Partly sunny', 'A passing shower in the morning; otherwise, sunshine and patchy clouds', 'Sunshine and some clouds', 'Sun through high clouds', 'Hot with sun through high clouds', 'Mostly cloudy with a couple of showers in the afternoon']\n",
            "datanya satu per satu\n",
            "Partly sunny\n",
            "A passing shower in the morning; otherwise, sunshine and patchy clouds\n",
            "Sunshine and some clouds\n",
            "Sun through high clouds\n",
            "Hot with sun through high clouds\n",
            "Mostly cloudy with a couple of showers in the afternoon\n",
            "==========\n",
            "find the average for the next 6 days\n",
            "209\n",
            "6\n",
            "34.833333333333336\n",
            "Another way to calculate average:\n",
            "34.833333333333336\n",
            "7\n",
            "7\n"
          ]
        }
      ]
    }
  ],
  "metadata": {
    "kernelspec": {
      "display_name": "Python 3 (ipykernel)",
      "language": "python",
      "name": "python3"
    },
    "language_info": {
      "codemirror_mode": {
        "name": "ipython",
        "version": 3
      },
      "file_extension": ".py",
      "mimetype": "text/x-python",
      "name": "python",
      "nbconvert_exporter": "python",
      "pygments_lexer": "ipython3",
      "version": "3.11.3"
    },
    "colab": {
      "provenance": [],
      "include_colab_link": true
    }
  },
  "nbformat": 4,
  "nbformat_minor": 0
}