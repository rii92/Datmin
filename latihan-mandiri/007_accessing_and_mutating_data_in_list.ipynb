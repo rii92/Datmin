{
  "cells": [
    {
      "cell_type": "markdown",
      "metadata": {
        "id": "view-in-github",
        "colab_type": "text"
      },
      "source": [
        "<a href=\"https://colab.research.google.com/github/rii92/Datmin/blob/main/007_accessing_and_mutating_data_in_list.ipynb\" target=\"_parent\"><img src=\"https://colab.research.google.com/assets/colab-badge.svg\" alt=\"Open In Colab\"/></a>"
      ]
    },
    {
      "cell_type": "markdown",
      "metadata": {
        "id": "Rs4p3vBu1Mt_"
      },
      "source": [
        "# Accessing data and mutating data"
      ]
    },
    {
      "cell_type": "code",
      "execution_count": 1,
      "metadata": {
        "id": "QXAf8QUg1MuB"
      },
      "outputs": [],
      "source": [
        "texts = [\n",
        "    \"The service at the restaurant was really impressive\",\n",
        "    \"What is the status of my order number #1234?\",\n",
        "    \"I have a proposal for a new feature in your app\",\n",
        "    \"My package arrived late and the item was damaged\",\n",
        "    \"Your team is doing an excellent job\",\n",
        "    \"Could you help clarify the specifications of this product?\",\n",
        "    \"I'm extremely dissatisfied with the customer service\",\n",
        "    \"Have you thought about offering more plant-based options on your menu?\",\n",
        "    \"I really appreciate the speedy response from your customer service team\",\n",
        "    \"I enjoy using your application, great work\"\n",
        "]\n"
      ]
    },
    {
      "cell_type": "markdown",
      "metadata": {
        "id": "-KmR2mRr1MuC"
      },
      "source": [
        "Imagine if we have a requirement of getting only single value from the list. How can we do so?\n",
        "\n",
        "We can use index. Index is the position of the element in our list. Like most other programming languages, Python starts counting from 0. So, the first element in the list has index 0, the second element has index 1, and so on."
      ]
    },
    {
      "cell_type": "code",
      "execution_count": 2,
      "metadata": {
        "id": "cCKcNrfY1MuD",
        "colab": {
          "base_uri": "https://localhost:8080/"
        },
        "outputId": "bd8e1fdd-e54f-4805-87ca-3be11f63334c"
      },
      "outputs": [
        {
          "output_type": "stream",
          "name": "stdout",
          "text": [
            "The service at the restaurant was really impressive\n",
            "My package arrived late and the item was damaged\n",
            "Could you help clarify the specifications of this product?\n"
          ]
        }
      ],
      "source": [
        "print(texts[0])\n",
        "print(texts[3])\n",
        "print(texts[5])"
      ]
    },
    {
      "cell_type": "markdown",
      "metadata": {
        "id": "-ygssWkW1MuE"
      },
      "source": [
        "Please take your time to compare the index, above result, and the list before moving on 😄"
      ]
    },
    {
      "cell_type": "markdown",
      "metadata": {
        "id": "uyWNE4P01MuE"
      },
      "source": [
        "# How to mutate?\n",
        "\n",
        "One of the crucial things to understand about lists is that they are mutable, which means that we can change any of their elements after they have been created. We can do this by assigning new values to specific indexes."
      ]
    },
    {
      "cell_type": "code",
      "execution_count": 3,
      "metadata": {
        "id": "nkxGQUIA1MuE",
        "colab": {
          "base_uri": "https://localhost:8080/"
        },
        "outputId": "3ad40741-7268-473f-a410-2cdda23f231d"
      },
      "outputs": [
        {
          "output_type": "stream",
          "name": "stdout",
          "text": [
            "John\n",
            "Jonathan\n",
            "['Jonathan', 'Jane', 'Jack', 'Jill', 'James']\n"
          ]
        }
      ],
      "source": [
        "names = [\n",
        "    \"John\",\n",
        "    \"Jane\",\n",
        "    \"Jack\",\n",
        "    \"Jill\",\n",
        "    \"James\",\n",
        "]\n",
        "\n",
        "print(names[0])\n",
        "names[0] = \"Jonathan\"\n",
        "print(names[0])\n",
        "\n",
        "print(names)"
      ]
    },
    {
      "cell_type": "markdown",
      "metadata": {
        "id": "-T7xMwBv1MuE"
      },
      "source": [
        "# Mutating several elements at once in a list using for loop\n",
        "\n",
        "We can also mutate several elements at once in a list using for loop. Let's say we want to change all the elements in the list to their multiplied value by 2, we can kinda doing it like below:"
      ]
    },
    {
      "cell_type": "code",
      "execution_count": 4,
      "metadata": {
        "id": "8DoQO8rm1MuE",
        "colab": {
          "base_uri": "https://localhost:8080/"
        },
        "outputId": "a1dca88d-03bd-4d91-f952-f20351e4320e"
      },
      "outputs": [
        {
          "output_type": "stream",
          "name": "stdout",
          "text": [
            "[2, 4, 6, 8, 10]\n"
          ]
        }
      ],
      "source": [
        "numbers = [\n",
        "    1,\n",
        "    2,\n",
        "    3,\n",
        "    4,\n",
        "    5,\n",
        "]\n",
        "\n",
        "numbers[0] = numbers[0] * 2\n",
        "numbers[1] = numbers[1] * 2\n",
        "numbers[2] = numbers[2] * 2\n",
        "numbers[3] = numbers[3] * 2\n",
        "numbers[4] = numbers[4] * 2\n",
        "\n",
        "print(numbers)"
      ]
    },
    {
      "cell_type": "markdown",
      "metadata": {
        "id": "lyv9TcJR1MuF"
      },
      "source": [
        "But of course it's time consuming to write the same line of code over and over again with only difference is in the index. So, we can use for loop to do so."
      ]
    },
    {
      "cell_type": "code",
      "execution_count": 5,
      "metadata": {
        "id": "UBdyZM2b1MuF",
        "colab": {
          "base_uri": "https://localhost:8080/"
        },
        "outputId": "d24e5202-dd09-4aea-fe4d-df6ba6ec84c9"
      },
      "outputs": [
        {
          "output_type": "stream",
          "name": "stdout",
          "text": [
            "[2, 4, 6, 8, 10]\n",
            "['makan nasi', 'makan jagung', 'makan sagu', 'makan kentang']\n"
          ]
        }
      ],
      "source": [
        "numbers = [\n",
        "    1, #index ke-0\n",
        "    2, #index ke-1\n",
        "    3, #index ke-2\n",
        "    4, #index ke-3\n",
        "    5, #index ke-4\n",
        "]\n",
        "\n",
        "\n",
        "for index, number in enumerate(numbers):\n",
        "    numbers[index] = number * 2\n",
        "\n",
        "print(numbers)\n",
        "\n",
        "primary_food = [\n",
        "    \"nasi\",\n",
        "    \"jagung\",\n",
        "    \"sagu\",\n",
        "    \"kentang\",\n",
        "]\n",
        "\n",
        "for index, food in enumerate(primary_food):\n",
        "  primary_food[index] = \"makan \" + food\n",
        "\n",
        "print(primary_food)"
      ]
    },
    {
      "cell_type": "markdown",
      "metadata": {
        "id": "LBr7bn2O1MuG"
      },
      "source": [
        "Above code and the one before that is basically the same, but without the need to write the index over and over again.\n",
        "\n",
        "Here we are using special function called `enumerate`, so we can create a foor loop that iterates over both the indexes and the elements in a list. Just to remind you, if we don't use enumerate, we can only code like this:"
      ]
    },
    {
      "cell_type": "code",
      "execution_count": 6,
      "metadata": {
        "id": "Peole5LO1MuG",
        "outputId": "826aa626-d310-4b48-8f49-747e0873bab3",
        "colab": {
          "base_uri": "https://localhost:8080/"
        }
      },
      "outputs": [
        {
          "output_type": "stream",
          "name": "stdout",
          "text": [
            "2\n",
            "4\n",
            "6\n",
            "8\n",
            "10\n"
          ]
        }
      ],
      "source": [
        "for number in numbers:\n",
        "    print(number)"
      ]
    },
    {
      "cell_type": "markdown",
      "metadata": {
        "id": "Stek-6Ym1MuG"
      },
      "source": [
        "But because we want to mutate each element in the list, we need to know the index of each element. So, we can use enumerate to do so."
      ]
    },
    {
      "cell_type": "markdown",
      "metadata": {
        "id": "WnUIhdKD1MuG"
      },
      "source": [
        "# Challenge!"
      ]
    },
    {
      "cell_type": "markdown",
      "metadata": {
        "id": "cn_HTSYE1MuG"
      },
      "source": [
        "# Challenge 1\n",
        "\n",
        "Change the fourth name `Rahmat` to `Rahmat Adianto` in the list below."
      ]
    },
    {
      "cell_type": "code",
      "execution_count": 7,
      "metadata": {
        "id": "3vCsNCP21MuG",
        "colab": {
          "base_uri": "https://localhost:8080/"
        },
        "outputId": "db967f2e-eb2f-4add-e8e7-9ed13654ff0c"
      },
      "outputs": [
        {
          "output_type": "stream",
          "name": "stdout",
          "text": [
            "['Imran', 'Jake', 'Fadhil', 'Rahmat Adianto', 'Ricky']\n"
          ]
        }
      ],
      "source": [
        "names = [\n",
        "    \"Imran\",\n",
        "    \"Jake\",\n",
        "    \"Fadhil\",\n",
        "    \"Rahmat\",\n",
        "    \"Ricky\"\n",
        "]\n",
        "\n",
        "# Add your code below\n",
        "names[3] = \"Rahmat Adianto\"\n",
        "\n",
        "print(names)"
      ]
    },
    {
      "cell_type": "markdown",
      "metadata": {
        "id": "iInEHfQf1MuH"
      },
      "source": [
        "When you are done with the above challenge, then:\n",
        "1. Input your student_id and name in the box below\n",
        "2. Run the code block by pressing the play button."
      ]
    },
    {
      "cell_type": "code",
      "execution_count": 8,
      "metadata": {
        "id": "HOGHHVZ81MuH",
        "outputId": "f9edd61b-2188-4398-e8c8-f6a836aa149a",
        "colab": {
          "base_uri": "https://localhost:8080/",
          "height": 313
        }
      },
      "outputs": [
        {
          "output_type": "stream",
          "name": "stdout",
          "text": [
            "Collecting rggrader\n",
            "  Downloading rggrader-0.1.6-py3-none-any.whl (2.5 kB)\n",
            "Requirement already satisfied: requests in /usr/local/lib/python3.10/dist-packages (from rggrader) (2.31.0)\n",
            "Requirement already satisfied: pandas in /usr/local/lib/python3.10/dist-packages (from rggrader) (2.0.3)\n",
            "Requirement already satisfied: Pillow in /usr/local/lib/python3.10/dist-packages (from rggrader) (9.4.0)\n",
            "Requirement already satisfied: python-dateutil>=2.8.2 in /usr/local/lib/python3.10/dist-packages (from pandas->rggrader) (2.8.2)\n",
            "Requirement already satisfied: pytz>=2020.1 in /usr/local/lib/python3.10/dist-packages (from pandas->rggrader) (2023.4)\n",
            "Requirement already satisfied: tzdata>=2022.1 in /usr/local/lib/python3.10/dist-packages (from pandas->rggrader) (2024.1)\n",
            "Requirement already satisfied: numpy>=1.21.0 in /usr/local/lib/python3.10/dist-packages (from pandas->rggrader) (1.25.2)\n",
            "Requirement already satisfied: charset-normalizer<4,>=2 in /usr/local/lib/python3.10/dist-packages (from requests->rggrader) (3.3.2)\n",
            "Requirement already satisfied: idna<4,>=2.5 in /usr/local/lib/python3.10/dist-packages (from requests->rggrader) (3.7)\n",
            "Requirement already satisfied: urllib3<3,>=1.21.1 in /usr/local/lib/python3.10/dist-packages (from requests->rggrader) (2.0.7)\n",
            "Requirement already satisfied: certifi>=2017.4.17 in /usr/local/lib/python3.10/dist-packages (from requests->rggrader) (2024.7.4)\n",
            "Requirement already satisfied: six>=1.5 in /usr/local/lib/python3.10/dist-packages (from python-dateutil>=2.8.2->pandas->rggrader) (1.16.0)\n",
            "Installing collected packages: rggrader\n",
            "Successfully installed rggrader-0.1.6\n"
          ]
        },
        {
          "output_type": "execute_result",
          "data": {
            "text/plain": [
              "'Assignment successfully submitted'"
            ],
            "application/vnd.google.colaboratory.intrinsic+json": {
              "type": "string"
            }
          },
          "metadata": {},
          "execution_count": 8
        }
      ],
      "source": [
        "!pip install rggrader\n",
        "\n",
        "from rggrader import submit\n",
        "\n",
        "# @title #### Student Identity\n",
        "student_id = \"REAFCDNE\" # @param {type:\"string\"}\n",
        "name = \"Riofebri Prasetia\" # @param {type:\"string\"}\n",
        "\n",
        "# Submit Method\n",
        "assignment_id = \"007_accessing_and_mutating_data_in_list\"\n",
        "question_id = \"01_list_1\"\n",
        "submit(student_id, name, assignment_id, names[3], question_id)"
      ]
    },
    {
      "cell_type": "markdown",
      "metadata": {
        "id": "pMWC4qse1MuH"
      },
      "source": [
        "## Challenge 2\n",
        "\n",
        "For the first challenge, we want to get the multiplied by 2 value of each element in the list. So when the list is [1, 2, 3, 4, 5], the result should be [2, 4, 6, 8, 10]."
      ]
    },
    {
      "cell_type": "code",
      "execution_count": 17,
      "metadata": {
        "id": "sCqoNHWX1MuH",
        "colab": {
          "base_uri": "https://localhost:8080/"
        },
        "outputId": "9fc7abd8-35ba-40db-a9e2-1b6afd784ed4"
      },
      "outputs": [
        {
          "output_type": "execute_result",
          "data": {
            "text/plain": [
              "[2, 4, 6, 8, 10]"
            ]
          },
          "metadata": {},
          "execution_count": 17
        }
      ],
      "source": [
        "def multiplied_by_2(numbers):\n",
        "    # Your answer here\n",
        "    for index, number in enumerate(numbers):\n",
        "      numbers[index] = number*2\n",
        "    return numbers\n",
        "    pass\n",
        "\n",
        "multiplied_by_2([1, 2, 3, 4, 5]) # Expected output: [2, 4, 6, 8, 10]"
      ]
    },
    {
      "cell_type": "markdown",
      "metadata": {
        "id": "iWtuSDKl1MuH"
      },
      "source": [
        "When you are done with the above challenge, then:\n",
        "\n",
        "1. Run the code block by pressing the play button."
      ]
    },
    {
      "cell_type": "code",
      "execution_count": 18,
      "metadata": {
        "id": "xkVfMF1X1MuH",
        "outputId": "73389d21-96b3-4493-b8d0-3059ee316bb7",
        "colab": {
          "base_uri": "https://localhost:8080/",
          "height": 35
        }
      },
      "outputs": [
        {
          "output_type": "execute_result",
          "data": {
            "text/plain": [
              "'Assignment successfully submitted'"
            ],
            "application/vnd.google.colaboratory.intrinsic+json": {
              "type": "string"
            }
          },
          "metadata": {},
          "execution_count": 18
        }
      ],
      "source": [
        "# Submit Method\n",
        "assignment_id = \"007_accessing_and_mutating_data_in_list\"\n",
        "question_id = \"02_list_2\"\n",
        "\n",
        "submit(student_id, name, assignment_id, str(multiplied_by_2([5, 7, 3, 4, 6])), question_id)"
      ]
    },
    {
      "cell_type": "markdown",
      "metadata": {
        "id": "LnlTv6Gd1MuI"
      },
      "source": [
        "## Challenge 3\n",
        "\n",
        "Using `.upper()` method, change the array of string below to uppercase."
      ]
    },
    {
      "cell_type": "code",
      "execution_count": 19,
      "metadata": {
        "id": "U-4P-EE71MuI",
        "outputId": "ff207f88-fa15-46d2-c164-e86d726ffe23",
        "colab": {
          "base_uri": "https://localhost:8080/"
        }
      },
      "outputs": [
        {
          "output_type": "execute_result",
          "data": {
            "text/plain": [
              "['HELLO', 'WORLD']"
            ]
          },
          "metadata": {},
          "execution_count": 19
        }
      ],
      "source": [
        "def change_to_uppercase(texts):\n",
        "    for index, text in enumerate(texts):\n",
        "      texts[index] = text.upper()\n",
        "    return texts  # Your answer here\n",
        "\n",
        "change_to_uppercase([\"hello\", \"world\"]) # Expected output: [\"HELLO\", \"WORLD\"]"
      ]
    },
    {
      "cell_type": "markdown",
      "metadata": {
        "id": "xS5_fsWO1MuI"
      },
      "source": [
        "When you are done with the above challenge, then:\n",
        "\n",
        "1. Run the code block by pressing the play button."
      ]
    },
    {
      "cell_type": "code",
      "execution_count": 20,
      "metadata": {
        "id": "O3aQiNik1MuI",
        "outputId": "f2acc353-50e2-4cb2-f934-a0acb503084e",
        "colab": {
          "base_uri": "https://localhost:8080/",
          "height": 35
        }
      },
      "outputs": [
        {
          "output_type": "execute_result",
          "data": {
            "text/plain": [
              "'Assignment successfully submitted'"
            ],
            "application/vnd.google.colaboratory.intrinsic+json": {
              "type": "string"
            }
          },
          "metadata": {},
          "execution_count": 20
        }
      ],
      "source": [
        "# Submit Method\n",
        "assignment_id = \"007_accessing_and_mutating_data_in_list\"\n",
        "question_id = \"03_list_3\"\n",
        "\n",
        "submit(student_id, name, assignment_id, str(change_to_uppercase([\"mastering\", \"ai\"])), question_id)"
      ]
    }
  ],
  "metadata": {
    "kernelspec": {
      "display_name": "Python 3 (ipykernel)",
      "language": "python",
      "name": "python3"
    },
    "language_info": {
      "codemirror_mode": {
        "name": "ipython",
        "version": 3
      },
      "file_extension": ".py",
      "mimetype": "text/x-python",
      "name": "python",
      "nbconvert_exporter": "python",
      "pygments_lexer": "ipython3",
      "version": "3.11.3"
    },
    "colab": {
      "provenance": [],
      "include_colab_link": true
    }
  },
  "nbformat": 4,
  "nbformat_minor": 0
}