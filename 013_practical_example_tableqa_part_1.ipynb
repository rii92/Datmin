{
  "cells": [
    {
      "cell_type": "markdown",
      "metadata": {
        "id": "view-in-github",
        "colab_type": "text"
      },
      "source": [
        "<a href=\"https://colab.research.google.com/github/rii92/Datmin/blob/main/013_practical_example_tableqa_part_1.ipynb\" target=\"_parent\"><img src=\"https://colab.research.google.com/assets/colab-badge.svg\" alt=\"Open In Colab\"/></a>"
      ]
    },
    {
      "cell_type": "markdown",
      "metadata": {
        "id": "V4KYvMH0IhuV"
      },
      "source": [
        "# Let's compile everything that we've learned so far\n",
        "\n",
        "Let's try to learn other machine learning model pipeline called \"Table question answering\" which is a question answering system that answers questions about tables. The best way to understand it is to just refer to below code and run it:\n"
      ]
    },
    {
      "cell_type": "code",
      "execution_count": 1,
      "metadata": {
        "id": "MVdUMoFHIhuZ",
        "colab": {
          "base_uri": "https://localhost:8080/"
        },
        "outputId": "09f5d60c-7dca-45d6-f581-1fdc931e462c"
      },
      "outputs": [
        {
          "output_type": "stream",
          "name": "stdout",
          "text": [
            "Requirement already satisfied: transformers in /usr/local/lib/python3.10/dist-packages (4.41.2)\n",
            "Requirement already satisfied: filelock in /usr/local/lib/python3.10/dist-packages (from transformers) (3.15.4)\n",
            "Requirement already satisfied: huggingface-hub<1.0,>=0.23.0 in /usr/local/lib/python3.10/dist-packages (from transformers) (0.23.4)\n",
            "Requirement already satisfied: numpy>=1.17 in /usr/local/lib/python3.10/dist-packages (from transformers) (1.25.2)\n",
            "Requirement already satisfied: packaging>=20.0 in /usr/local/lib/python3.10/dist-packages (from transformers) (24.1)\n",
            "Requirement already satisfied: pyyaml>=5.1 in /usr/local/lib/python3.10/dist-packages (from transformers) (6.0.1)\n",
            "Requirement already satisfied: regex!=2019.12.17 in /usr/local/lib/python3.10/dist-packages (from transformers) (2024.5.15)\n",
            "Requirement already satisfied: requests in /usr/local/lib/python3.10/dist-packages (from transformers) (2.31.0)\n",
            "Requirement already satisfied: tokenizers<0.20,>=0.19 in /usr/local/lib/python3.10/dist-packages (from transformers) (0.19.1)\n",
            "Requirement already satisfied: safetensors>=0.4.1 in /usr/local/lib/python3.10/dist-packages (from transformers) (0.4.3)\n",
            "Requirement already satisfied: tqdm>=4.27 in /usr/local/lib/python3.10/dist-packages (from transformers) (4.66.4)\n",
            "Requirement already satisfied: fsspec>=2023.5.0 in /usr/local/lib/python3.10/dist-packages (from huggingface-hub<1.0,>=0.23.0->transformers) (2023.6.0)\n",
            "Requirement already satisfied: typing-extensions>=3.7.4.3 in /usr/local/lib/python3.10/dist-packages (from huggingface-hub<1.0,>=0.23.0->transformers) (4.12.2)\n",
            "Requirement already satisfied: charset-normalizer<4,>=2 in /usr/local/lib/python3.10/dist-packages (from requests->transformers) (3.3.2)\n",
            "Requirement already satisfied: idna<4,>=2.5 in /usr/local/lib/python3.10/dist-packages (from requests->transformers) (3.7)\n",
            "Requirement already satisfied: urllib3<3,>=1.21.1 in /usr/local/lib/python3.10/dist-packages (from requests->transformers) (2.0.7)\n",
            "Requirement already satisfied: certifi>=2017.4.17 in /usr/local/lib/python3.10/dist-packages (from requests->transformers) (2024.7.4)\n",
            "Requirement already satisfied: pandas in /usr/local/lib/python3.10/dist-packages (2.0.3)\n",
            "Requirement already satisfied: python-dateutil>=2.8.2 in /usr/local/lib/python3.10/dist-packages (from pandas) (2.8.2)\n",
            "Requirement already satisfied: pytz>=2020.1 in /usr/local/lib/python3.10/dist-packages (from pandas) (2023.4)\n",
            "Requirement already satisfied: tzdata>=2022.1 in /usr/local/lib/python3.10/dist-packages (from pandas) (2024.1)\n",
            "Requirement already satisfied: numpy>=1.21.0 in /usr/local/lib/python3.10/dist-packages (from pandas) (1.25.2)\n",
            "Requirement already satisfied: six>=1.5 in /usr/local/lib/python3.10/dist-packages (from python-dateutil>=2.8.2->pandas) (1.16.0)\n"
          ]
        }
      ],
      "source": [
        "%pip install transformers\n",
        "%pip install pandas"
      ]
    },
    {
      "cell_type": "code",
      "execution_count": 2,
      "metadata": {
        "id": "nxuNH0XIIhub",
        "colab": {
          "base_uri": "https://localhost:8080/",
          "height": 371,
          "referenced_widgets": [
            "f70b8f6ae21048dab773364b85295177",
            "014f1fdf186a450297d9a4c657a362cc",
            "66953e47915540578501e17a50b82f5d",
            "77373beba8994c349550ccd1407f931f",
            "adbcbf1bc14a414d9249c632126ac39e",
            "e5b8fa8b577a4f5cb8694fd94f6fa9b6",
            "c729a3b66fbc4d11af90be23ccf779bf",
            "a96b46f33f984747b18b1097430baa1f",
            "d219a1b37b5143ceb21008c471aadc15",
            "3ce4f5fd03c4439db4a35af016428988",
            "e241df23516d4fd09551223637ea067c",
            "8b8af3c978094e61ae65c0197b55598c",
            "51706772679e404bb845a5fc51cb5e3b",
            "9981584ff9ad41e9a26a12c6322929b6",
            "08872a5cb53c4013a5b9e76cfe438b22",
            "bd385db8a32f409889dd1248b43df76c",
            "7314eca3f86943c09293e30c93a5c0be",
            "fb3287fcb1034ca4a2983b11cf28ba16",
            "088a5780bc384b9ea51fe635a663bf88",
            "6ce11b231bbc4a999fa5f52591e352cd",
            "f30815b1fc2540248dacbd4acfe03b0c",
            "8a51a18f1b1645da8cc114e43a083722",
            "cd7a220d74124a7982b1b7cfa59a3e4a",
            "170e81e80b1d443ea8894b500ca5961e",
            "612f525a89214a4ea789a002dd9ae6a8",
            "dfb683ce31c4470ca2039c6e48dd5129",
            "344ecd38c7cd4e7e94726e274b219103",
            "52d1a064e12a4a458aa4ec5a8d0016a5",
            "6d8f04a69d9e4a24a7b9053ad4eeede3",
            "aaca15a1689b44a682bb2e74f0713efb",
            "3d649bc9846d46249c06426778c3f894",
            "07f3fb9b22144117bb0339b6550468dd",
            "0b3fb4b2747d4714b5ddd7cd694392f6",
            "8ae51853d8224a11935a6a1bee7a3300",
            "203c7c8f4c054cc59d43722d645ce88a",
            "34a9488b5e7344229d09a728c7dc221b",
            "85717a2972f24ed8bd1a80e323b643cb",
            "bedeff0ae55243e99335da8d7a3bb83d",
            "b3a3cc50b8974e6bb7b8c4bf5867dc09",
            "3010941eaf934bd4b99f26e3b1994913",
            "dc45793662354aadb963fadca2a9a617",
            "ecb07c879f844065b8c63c03f8186918",
            "0356bd5f788f4bd0b0c83c6eba351e3c",
            "3120a052fb4e4d3da8cd9a0f6ed15cc7",
            "b8e9fdb180f64fa7956399ab1416c9fb",
            "b3000e82f2b34733b859c8325abbcc6d",
            "612916d8a44447d1aa39c62a4d434355",
            "d6b7ff05bf234f40b4e890d019d8270b",
            "bbb1c84a126a43f995f29561ff850a4d",
            "5cc18391b9f74da1b594233ccb78793d",
            "dbaa01ffdcbd449baadd0bd9cae77d30",
            "347937bb99c549a1b8f072fd75a9aa8d",
            "380b04de402c49d7844592d3da97eeb8",
            "79d9fa06f2334cef8ce4c919aaf69654",
            "c5284591526b4b6da19c7bdb0381de96"
          ]
        },
        "outputId": "36c70ba1-3ab3-4fe0-cb94-e22bb6ed165f"
      },
      "outputs": [
        {
          "output_type": "stream",
          "name": "stderr",
          "text": [
            "/usr/local/lib/python3.10/dist-packages/huggingface_hub/utils/_token.py:89: UserWarning: \n",
            "The secret `HF_TOKEN` does not exist in your Colab secrets.\n",
            "To authenticate with the Hugging Face Hub, create a token in your settings tab (https://huggingface.co/settings/tokens), set it as secret in your Google Colab and restart your session.\n",
            "You will be able to reuse this secret in all of your notebooks.\n",
            "Please note that authentication is recommended but still optional to access public models or datasets.\n",
            "  warnings.warn(\n"
          ]
        },
        {
          "output_type": "display_data",
          "data": {
            "text/plain": [
              "config.json:   0%|          | 0.00/1.66k [00:00<?, ?B/s]"
            ],
            "application/vnd.jupyter.widget-view+json": {
              "version_major": 2,
              "version_minor": 0,
              "model_id": "f70b8f6ae21048dab773364b85295177"
            }
          },
          "metadata": {}
        },
        {
          "output_type": "display_data",
          "data": {
            "text/plain": [
              "model.safetensors:   0%|          | 0.00/1.35G [00:00<?, ?B/s]"
            ],
            "application/vnd.jupyter.widget-view+json": {
              "version_major": 2,
              "version_minor": 0,
              "model_id": "8b8af3c978094e61ae65c0197b55598c"
            }
          },
          "metadata": {}
        },
        {
          "output_type": "display_data",
          "data": {
            "text/plain": [
              "tokenizer_config.json:   0%|          | 0.00/490 [00:00<?, ?B/s]"
            ],
            "application/vnd.jupyter.widget-view+json": {
              "version_major": 2,
              "version_minor": 0,
              "model_id": "cd7a220d74124a7982b1b7cfa59a3e4a"
            }
          },
          "metadata": {}
        },
        {
          "output_type": "display_data",
          "data": {
            "text/plain": [
              "vocab.txt:   0%|          | 0.00/262k [00:00<?, ?B/s]"
            ],
            "application/vnd.jupyter.widget-view+json": {
              "version_major": 2,
              "version_minor": 0,
              "model_id": "8ae51853d8224a11935a6a1bee7a3300"
            }
          },
          "metadata": {}
        },
        {
          "output_type": "display_data",
          "data": {
            "text/plain": [
              "special_tokens_map.json:   0%|          | 0.00/154 [00:00<?, ?B/s]"
            ],
            "application/vnd.jupyter.widget-view+json": {
              "version_major": 2,
              "version_minor": 0,
              "model_id": "b8e9fdb180f64fa7956399ab1416c9fb"
            }
          },
          "metadata": {}
        },
        {
          "output_type": "execute_result",
          "data": {
            "text/plain": [
              "{'answer': 'House 4',\n",
              " 'coordinates': [(3, 0)],\n",
              " 'cells': ['House 4'],\n",
              " 'aggregator': 'NONE'}"
            ]
          },
          "metadata": {},
          "execution_count": 2
        }
      ],
      "source": [
        "from transformers import pipeline\n",
        "\n",
        "data = [\n",
        "    {\n",
        "        \"House\": \"House 1\",\n",
        "        \"City\": \"Jakarta\",\n",
        "        \"Price (in million IDR)\": \"5000\",\n",
        "        \"Rooms\": \"2 bed, 2 bath\",\n",
        "        \"Facilities\": \"Pool, Garage, Gym, Garden\",\n",
        "        \"Furnished\": \"Yes\",\n",
        "    },\n",
        "    {\n",
        "        \"House\": \"House 2\",\n",
        "        \"City\": \"Surabaya\",\n",
        "        \"Price (in million IDR)\": \"2000\",\n",
        "        \"Rooms\": \"3 bed, 2 bath\",\n",
        "        \"Facilities\": \"Garage, Library\",\n",
        "        \"Furnished\": \"No\",\n",
        "    },\n",
        "    {\n",
        "        \"House\": \"House 3\",\n",
        "        \"City\": \"Malang\",\n",
        "        \"Price (in million IDR)\": \"1500\",\n",
        "        \"Rooms\": \"2 bed, 1 bath\",\n",
        "        \"Facilities\": \"Pool, Gym, Sauna\",\n",
        "        \"Furnished\": \"No\",\n",
        "    },\n",
        "    {\n",
        "        \"House\": \"House 4\",\n",
        "        \"City\": \"Jakarta\",\n",
        "        \"Price (in million IDR)\": \"5300\",\n",
        "        \"Rooms\": \"1 bed, 1 bath\",\n",
        "        \"Facilities\": \"Gym, Rooftop\",\n",
        "        \"Furnished\": \"Yes\",\n",
        "    },\n",
        "    {\n",
        "        \"House\": \"House 5\",\n",
        "        \"City\": \"Surabaya\",\n",
        "        \"Price (in million IDR)\": \"2200\",\n",
        "        \"Rooms\": \"3 bed, 2 bath\",\n",
        "        \"Facilities\": \"Pool, Garage, Gym, Library\",\n",
        "        \"Furnished\": \"No\",\n",
        "    },\n",
        "    {\n",
        "        \"House\": \"House 6\",\n",
        "        \"City\": \"Malang\",\n",
        "        \"Price (in million IDR)\": \"1600\",\n",
        "        \"Rooms\": \"2 bed, 2 bath\",\n",
        "        \"Facilities\": \"Garage, Gym, Garden\",\n",
        "        \"Furnished\": \"Yes\",\n",
        "    },\n",
        "    {\n",
        "        \"House\": \"House 7\",\n",
        "        \"City\": \"Jakarta\",\n",
        "        \"Price (in million IDR)\": \"4900\",\n",
        "        \"Rooms\": \"4 bed, 3 bath\",\n",
        "        \"Facilities\": \"Pool, Garage, Sauna\",\n",
        "        \"Furnished\": \"Yes\",\n",
        "    },\n",
        "    {\n",
        "        \"House\": \"House 8\",\n",
        "        \"City\": \"Surabaya\",\n",
        "        \"Price (in million IDR)\": \"2100\",\n",
        "        \"Rooms\": \"3 bed, 3 bath\",\n",
        "        \"Facilities\": \"Gym, Garden\",\n",
        "        \"Furnished\": \"No\",\n",
        "    },\n",
        "    {\n",
        "        \"House\": \"House 9\",\n",
        "        \"City\": \"Malang\",\n",
        "        \"Price (in million IDR)\": \"1400\",\n",
        "        \"Rooms\": \"4 bed, 2 bath\",\n",
        "        \"Facilities\": \"Garage, Rooftop\",\n",
        "        \"Furnished\": \"Yes\",\n",
        "    },\n",
        "    {\n",
        "        \"House\": \"House 10\",\n",
        "        \"City\": \"Jakarta\",\n",
        "        \"Price (in million IDR)\": \"5100\",\n",
        "        \"Rooms\": \"3 bed, 1 bath\",\n",
        "        \"Facilities\": \"Pool, Garden, Sauna\",\n",
        "        \"Furnished\": \"No\",\n",
        "    },\n",
        "]\n",
        "\n",
        "# Set up the pipeline:\n",
        "\n",
        "table_qa = pipeline(\"table-question-answering\", model=\"google/tapas-large-finetuned-wtq\")\n",
        "\n",
        "\n",
        "# Ask a question:\n",
        "\n",
        "query = \"Which house is the most expensive?\"\n",
        "table_qa({\"table\": data, \"query\": query})"
      ]
    },
    {
      "cell_type": "markdown",
      "metadata": {
        "id": "5aWhazv5Ihub"
      },
      "source": [
        "As you can see, \"TableQA\" pipeline is basically when we want to ask a machine learning model a question about a set of data. Above table is about several dummy data on houses in several cities.\n",
        "\n",
        "This pipeline will output different things based on given question. Try below questions:\n",
        "\n",
        "- What is the average price of houses in Jakarta?\n",
        "- I want to buy house 7 and house 10, what's the total price?\n",
        "- How many houses in Surabaya that has gym as one of the facility?"
      ]
    },
    {
      "cell_type": "code",
      "source": [
        "query = \"What is the average price of houses in Jakarta?\"\n",
        "table_qa({\"table\": data, \"query\": query})"
      ],
      "metadata": {
        "colab": {
          "base_uri": "https://localhost:8080/"
        },
        "id": "CNYz_EqMptNr",
        "outputId": "ecd9e6b4-4358-479c-fb2a-3ae871629fb3"
      },
      "execution_count": 3,
      "outputs": [
        {
          "output_type": "execute_result",
          "data": {
            "text/plain": [
              "{'answer': 'AVERAGE > 5000, 5300, 4900, 5100',\n",
              " 'coordinates': [(0, 2), (3, 2), (6, 2), (9, 2)],\n",
              " 'cells': ['5000', '5300', '4900', '5100'],\n",
              " 'aggregator': 'AVERAGE'}"
            ]
          },
          "metadata": {},
          "execution_count": 3
        }
      ]
    },
    {
      "cell_type": "markdown",
      "metadata": {
        "id": "w6yNXsSiIhuc"
      },
      "source": [
        "# Quick Note: Tuple\n",
        "\n",
        "Tuple is a data structure that is similar to list, but it is immutable. It means that you cannot change the value of tuple once it is created (we cannot mutate any of its value). You'll see tuple on the output of coordinates from above code.\n",
        "\n",
        "The syntax of tuple is similar to list, but instead of using square brackets, we use round brackets:"
      ]
    },
    {
      "cell_type": "code",
      "execution_count": 4,
      "metadata": {
        "id": "GAN0FmhMIhuc",
        "outputId": "36e5ea04-36e5-4be9-e93d-da643792f0ce",
        "colab": {
          "base_uri": "https://localhost:8080/",
          "height": 211
        }
      },
      "outputs": [
        {
          "output_type": "stream",
          "name": "stdout",
          "text": [
            "(5, 0)\n",
            "5\n"
          ]
        },
        {
          "output_type": "error",
          "ename": "TypeError",
          "evalue": "'tuple' object does not support item assignment",
          "traceback": [
            "\u001b[0;31m---------------------------------------------------------------------------\u001b[0m",
            "\u001b[0;31mTypeError\u001b[0m                                 Traceback (most recent call last)",
            "\u001b[0;32m<ipython-input-4-dbdd9fe97c23>\u001b[0m in \u001b[0;36m<cell line: 3>\u001b[0;34m()\u001b[0m\n\u001b[1;32m      1\u001b[0m \u001b[0mprint\u001b[0m\u001b[0;34m(\u001b[0m\u001b[0;34m(\u001b[0m\u001b[0;36m5\u001b[0m\u001b[0;34m,\u001b[0m \u001b[0;36m0\u001b[0m\u001b[0;34m)\u001b[0m\u001b[0;34m)\u001b[0m\u001b[0;34m\u001b[0m\u001b[0;34m\u001b[0m\u001b[0m\n\u001b[1;32m      2\u001b[0m \u001b[0mprint\u001b[0m\u001b[0;34m(\u001b[0m\u001b[0;34m(\u001b[0m\u001b[0;36m5\u001b[0m\u001b[0;34m,\u001b[0m \u001b[0;36m0\u001b[0m\u001b[0;34m)\u001b[0m\u001b[0;34m[\u001b[0m\u001b[0;36m0\u001b[0m\u001b[0;34m]\u001b[0m\u001b[0;34m)\u001b[0m\u001b[0;34m\u001b[0m\u001b[0;34m\u001b[0m\u001b[0m\n\u001b[0;32m----> 3\u001b[0;31m \u001b[0;34m(\u001b[0m\u001b[0;36m5\u001b[0m\u001b[0;34m,\u001b[0m \u001b[0;36m0\u001b[0m\u001b[0;34m)\u001b[0m\u001b[0;34m[\u001b[0m\u001b[0;36m0\u001b[0m\u001b[0;34m]\u001b[0m \u001b[0;34m=\u001b[0m \u001b[0;36m3\u001b[0m \u001b[0;31m# Error\u001b[0m\u001b[0;34m\u001b[0m\u001b[0;34m\u001b[0m\u001b[0m\n\u001b[0m",
            "\u001b[0;31mTypeError\u001b[0m: 'tuple' object does not support item assignment"
          ]
        }
      ],
      "source": [
        "print((5, 0))\n",
        "print((5, 0)[0])\n",
        "(5, 0)[0] = 3 # Error"
      ]
    },
    {
      "cell_type": "markdown",
      "metadata": {
        "id": "frq4IRt1Ihun"
      },
      "source": [
        "# Different question can lead to different output\n",
        "\n",
        "We're using `TAPAS` model by Google, and it's been fine-tuned on WTQ dataset. Unfortunately we can't dive deeper into learning what each of that mean because it's outside the context of our learning, but check below image:\n",
        "\n",
        "![Tapas for QnA](https://storage.googleapis.com/rg-ai-bootcamp/python-prep/tapas-for-qa-min.png)\n",
        "\n",
        "> This case is also called weak supervision, since the model itself must learn the appropriate aggregation operator (SUM/COUNT/AVERAGE/NONE) given only the answer to the question as supervision.\n",
        "\n",
        "Above image and snippet can be found at https://huggingface.co/docs/transformers/v4.35.0/en/model_doc/tapas#transformers.TFTapasForSequenceClassification, feel free to read it if you're interested (Warning: it's quite technical). To summarize basically TAPAS fine-tuned with WTQ has 4 different output:\n",
        "\n",
        "- `NONE`: No aggregation is needed, the answer is a single cell.\n",
        "- `SUM`: We should sum the values given in the output.\n",
        "- `COUNT`: We should count the number of values given in the output.\n",
        "- `AVERAGE`: We should average the values given in the output."
      ]
    },
    {
      "cell_type": "markdown",
      "metadata": {
        "id": "kZO-3DrTIhun"
      },
      "source": [
        "# Challenge: Start with `count`\n",
        "\n",
        "Let's start with creating the functionality to aggregate `count` first. One of the question that will be answered with `count` aggregation is: \"How many houses in Surabaya that has gym as one of the facility?\". The output can be seen below:\n",
        "\n",
        "```python\n",
        "{'answer': 'COUNT > House 5, House 6, House 8',\n",
        " 'coordinates': [(4, 0), (5, 0), (7, 0)],\n",
        " 'cells': ['House 5', 'House 6', 'House 8'],\n",
        " 'aggregator': 'COUNT'}\n",
        "```\n",
        "\n",
        "We'll create two different function for now:\n",
        "\n",
        "- `aggregate_data`: This function should input above dictionary, and will choose which aggregator to use based on the `aggregator` key. It will return the aggregated value.\n",
        "- `count_aggregator`: This function should input above dictionary, and will count the number of cells in `cells` key. It will return the total count.\n",
        "\n",
        "So you might have to realize that:\n",
        "\n",
        "- For `none` aggregator, you don't need aggregator, just return the `answer` key as it is.\n",
        "- For `count` aggregator, you need to call `count_aggregator` inside the `aggregate_data` function and return the result of `count_aggregator` function."
      ]
    },
    {
      "cell_type": "code",
      "execution_count": 9,
      "metadata": {
        "id": "RkNYf_0oIhup",
        "colab": {
          "base_uri": "https://localhost:8080/"
        },
        "outputId": "3026678d-f893-45d8-bd29-39aec24c25fe"
      },
      "outputs": [
        {
          "output_type": "execute_result",
          "data": {
            "text/plain": [
              "3"
            ]
          },
          "metadata": {},
          "execution_count": 9
        }
      ],
      "source": [
        "def count_aggregator(data):\n",
        "    return len(data['cells'])\n",
        "\n",
        "\n",
        "def aggregate_data(data):\n",
        "  if data['aggregator'] == 'COUNT':\n",
        "    return count_aggregator(data)\n",
        "  else:\n",
        "    return data['answer']\n",
        "\n",
        "\n",
        "aggregate_data({'answer': 'COUNT > House 5, House 6, House 8',\n",
        " 'coordinates': [( 4, 0), (5, 0), (7, 0)],\n",
        " 'cells': ['House 5', 'House 6', 'House 8'],\n",
        " 'aggregator': 'COUNT'})"
      ]
    },
    {
      "cell_type": "code",
      "source": [],
      "metadata": {
        "id": "FUyJxx-_sm2s"
      },
      "execution_count": null,
      "outputs": []
    },
    {
      "cell_type": "markdown",
      "metadata": {
        "id": "7wia4mfhIhuq"
      },
      "source": [
        "When you are done with the above challenge, then:\n",
        "\n",
        "1. Run the code block by pressing the play button."
      ]
    },
    {
      "cell_type": "code",
      "execution_count": 10,
      "metadata": {
        "id": "r59rfNGpIhur",
        "outputId": "e93fa469-d953-485f-c671-8f901e6e3b2a",
        "colab": {
          "base_uri": "https://localhost:8080/",
          "height": 313
        }
      },
      "outputs": [
        {
          "output_type": "stream",
          "name": "stdout",
          "text": [
            "Collecting rggrader\n",
            "  Downloading rggrader-0.1.6-py3-none-any.whl (2.5 kB)\n",
            "Requirement already satisfied: requests in /usr/local/lib/python3.10/dist-packages (from rggrader) (2.31.0)\n",
            "Requirement already satisfied: pandas in /usr/local/lib/python3.10/dist-packages (from rggrader) (2.0.3)\n",
            "Requirement already satisfied: Pillow in /usr/local/lib/python3.10/dist-packages (from rggrader) (9.4.0)\n",
            "Requirement already satisfied: python-dateutil>=2.8.2 in /usr/local/lib/python3.10/dist-packages (from pandas->rggrader) (2.8.2)\n",
            "Requirement already satisfied: pytz>=2020.1 in /usr/local/lib/python3.10/dist-packages (from pandas->rggrader) (2023.4)\n",
            "Requirement already satisfied: tzdata>=2022.1 in /usr/local/lib/python3.10/dist-packages (from pandas->rggrader) (2024.1)\n",
            "Requirement already satisfied: numpy>=1.21.0 in /usr/local/lib/python3.10/dist-packages (from pandas->rggrader) (1.25.2)\n",
            "Requirement already satisfied: charset-normalizer<4,>=2 in /usr/local/lib/python3.10/dist-packages (from requests->rggrader) (3.3.2)\n",
            "Requirement already satisfied: idna<4,>=2.5 in /usr/local/lib/python3.10/dist-packages (from requests->rggrader) (3.7)\n",
            "Requirement already satisfied: urllib3<3,>=1.21.1 in /usr/local/lib/python3.10/dist-packages (from requests->rggrader) (2.0.7)\n",
            "Requirement already satisfied: certifi>=2017.4.17 in /usr/local/lib/python3.10/dist-packages (from requests->rggrader) (2024.7.4)\n",
            "Requirement already satisfied: six>=1.5 in /usr/local/lib/python3.10/dist-packages (from python-dateutil>=2.8.2->pandas->rggrader) (1.16.0)\n",
            "Installing collected packages: rggrader\n",
            "Successfully installed rggrader-0.1.6\n"
          ]
        },
        {
          "output_type": "execute_result",
          "data": {
            "text/plain": [
              "'Assignment successfully submitted'"
            ],
            "application/vnd.google.colaboratory.intrinsic+json": {
              "type": "string"
            }
          },
          "metadata": {},
          "execution_count": 10
        }
      ],
      "source": [
        "!pip install rggrader\n",
        "\n",
        "from rggrader import submit\n",
        "\n",
        "# @title #### Student Identity\n",
        "student_id = \"REAFCDNE\" # @param {type:\"string\"}\n",
        "name = \"Riofebri Prasetia\" # @param {type:\"string\"}\n",
        "\n",
        "# Submit Method\n",
        "assignment_id = \"013_practical_example_tableqa_part_1\"\n",
        "question_id = \"01_count_aggregator\"\n",
        "\n",
        "data_count = {'answer': 'COUNT > House 1, House 2',\n",
        " 'coordinates': [( 4, 0), (5, 0), (7, 0)],\n",
        " 'cells': ['House 1', 'House 2'],\n",
        " 'aggregator': 'COUNT'}\n",
        "\n",
        "submit(student_id, name, assignment_id, str(count_aggregator(data_count)), question_id)"
      ]
    },
    {
      "cell_type": "markdown",
      "metadata": {
        "id": "mRMZkAiEIhur"
      },
      "source": [
        "# Challenge: Create `sum` and `average` aggregator\n",
        "\n",
        "For `sum` and `average` aggregator, you need to use the `cells` key again, convert the `string` to `int`, and then `sum` or `average` it. Feel free to use `for loop` or `map` function to do it."
      ]
    },
    {
      "cell_type": "code",
      "execution_count": 13,
      "metadata": {
        "id": "6EQcvFldIhur",
        "colab": {
          "base_uri": "https://localhost:8080/"
        },
        "outputId": "1b804363-779f-4268-a497-edbefbf56cc4"
      },
      "outputs": [
        {
          "output_type": "stream",
          "name": "stdout",
          "text": [
            "10000\n",
            "5075.0\n"
          ]
        }
      ],
      "source": [
        "def count_aggregator(data):\n",
        "    return len(data['cells'])\n",
        "\n",
        "def aggregate_data(data):\n",
        "  mapper = {\n",
        "      'COUNT': lambda: count_aggregator(data),\n",
        "      'SUM': lambda: sum_aggregator(data),\n",
        "      'AVERAGE': lambda: average_aggregator(data)\n",
        "  }\n",
        "  if data['aggregator'] in mapper:\n",
        "    return mapper[data['aggregator']]()\n",
        "  else:\n",
        "    return data['answer']\n",
        "\n",
        "  # match data['aggregator']:\n",
        "  #   case 'COUNT':\n",
        "  #     return count_aggregator(data)\n",
        "  #   case 'SUM':\n",
        "  #     return sum_aggregator(data)\n",
        "  #   case 'AVERAGE':\n",
        "  #     return average_aggregator(data)\n",
        "  #   case _:\n",
        "  #     return data['answer']\n",
        "\n",
        "\n",
        "  # if data['aggregator'] == 'COUNT':\n",
        "  #   return count_aggregator(data)\n",
        "  # if data['aggregator'] == 'SUM':\n",
        "  #   return sum_aggregator(data)\n",
        "  # if data['aggregator'] == 'AVERAGE':\n",
        "  #   return average_aggregator(data)\n",
        "  # return data['answer']\n",
        "\n",
        "def sum_aggregator(data):\n",
        "    return sum(map(int, data['cells']))\n",
        "\n",
        "def average_aggregator(data):\n",
        "    return sum_aggregator(data) / count_aggregator(data)\n",
        "\n",
        "print(aggregate_data({'answer': 'SUM > 4900, 5100',\n",
        " 'coordinates': [(6, 2), (9, 2)],\n",
        " 'cells': ['4900', '5100'],\n",
        " 'aggregator': 'SUM'}))\n",
        "\n",
        "print(aggregate_data({'answer': 'AVERAGE > 5000, 5300, 4900, 5100',\n",
        " 'coordinates': [(0, 2), (3, 2), (6, 2), (9, 2)],\n",
        " 'cells': ['5000', '5300', '4900', '5100'],\n",
        " 'aggregator': 'AVERAGE'}))"
      ]
    },
    {
      "cell_type": "markdown",
      "metadata": {
        "id": "aXREhkULIhus"
      },
      "source": [
        "When you are done with the above challenge, then:\n",
        "\n",
        "1. Run the code block by pressing the play button."
      ]
    },
    {
      "cell_type": "code",
      "execution_count": 14,
      "metadata": {
        "id": "o53KZR4PIhus",
        "outputId": "5e7fa2f7-e001-454d-a09d-d50ccade4796",
        "colab": {
          "base_uri": "https://localhost:8080/",
          "height": 35
        }
      },
      "outputs": [
        {
          "output_type": "execute_result",
          "data": {
            "text/plain": [
              "'Assignment successfully submitted'"
            ],
            "application/vnd.google.colaboratory.intrinsic+json": {
              "type": "string"
            }
          },
          "metadata": {},
          "execution_count": 14
        }
      ],
      "source": [
        "# Submit Method\n",
        "data_sum = {'answer': 'SUM > 4900, 5300',\n",
        " 'coordinates': [(6, 2), (9, 2)],\n",
        " 'cells': ['4900', '5300'],\n",
        " 'aggregator': 'SUM'}\n",
        "\n",
        "assignment_id = \"013_practical_example_tableqa_part_1\"\n",
        "question_id = \"02_sum_aggregator\"\n",
        "submit(student_id, name, assignment_id, str(sum_aggregator(data_sum)), question_id)\n",
        "\n",
        "#####################################################################################\n",
        "# Submit Method\n",
        "data_avg = {'answer': 'AVERAGE > 5000, 2000, 1500, 5300',\n",
        " 'coordinates': [(0, 2), (3, 2), (6, 2), (9, 2)],\n",
        " 'cells': ['5000', '2000', '1500', '5300'],\n",
        " 'aggregator': 'AVERAGE'}\n",
        "\n",
        "assignment_id = \"013_practical_example_tableqa_part_1\"\n",
        "question_id = \"03_avg_aggregator\"\n",
        "submit(student_id, name, assignment_id, str(average_aggregator(data_avg)), question_id)"
      ]
    },
    {
      "cell_type": "markdown",
      "metadata": {
        "id": "7gClV3tHIhus"
      },
      "source": [
        "# Challenge: Connecting with the pipeline\n",
        "\n",
        "We've created the full functionality for what we need, now we just need to connect it with the pipeline. Now let's see if you can try to connect previous `aggregate_data` function with `table_qa` function!"
      ]
    },
    {
      "cell_type": "code",
      "execution_count": 15,
      "metadata": {
        "id": "DkwGShg8Ihut",
        "colab": {
          "base_uri": "https://localhost:8080/"
        },
        "outputId": "8760cd4d-b770-413e-de41-a4f73fc5f880"
      },
      "outputs": [
        {
          "output_type": "stream",
          "name": "stdout",
          "text": [
            "5075.0\n",
            "3\n",
            "3\n"
          ]
        }
      ],
      "source": [
        "# Let's try to connect `table_qa` with `aggregate_data`:\n",
        "\n",
        "def answer_table_question(question):\n",
        "    raw_aggregate = table_qa({\"table\": data, \"query\": question})\n",
        "    return aggregate_data(raw_aggregate)\n",
        "\n",
        "\n",
        "print(answer_table_question(\"What is the average price of the houses in Jakarta?\")) # The answer should be 5075\n",
        "print(answer_table_question(\"How many houses are there in Malang?\")) # The answer should be 3\n",
        "print(answer_table_question(\"How many houses in Jakarta has a pool as a facility?\")) # The answer should be 3"
      ]
    },
    {
      "cell_type": "markdown",
      "metadata": {
        "id": "KBhW250KIhut"
      },
      "source": [
        "When you are done with the above challenge, then:\n",
        "\n",
        "1. Run the code block by pressing the play button."
      ]
    },
    {
      "cell_type": "code",
      "execution_count": 16,
      "metadata": {
        "id": "h2-BA5I6Ihuu",
        "outputId": "99f6e172-8e5b-4c2f-cfaa-bf1c3ac7ad47",
        "colab": {
          "base_uri": "https://localhost:8080/",
          "height": 35
        }
      },
      "outputs": [
        {
          "output_type": "execute_result",
          "data": {
            "text/plain": [
              "'Assignment successfully submitted'"
            ],
            "application/vnd.google.colaboratory.intrinsic+json": {
              "type": "string"
            }
          },
          "metadata": {},
          "execution_count": 16
        }
      ],
      "source": [
        "# Submit Method\n",
        "assignment_id = \"013_practical_example_tableqa_part_1\"\n",
        "question_id = \"04_answer_table\"\n",
        "submit(student_id, name, assignment_id, str(answer_table_question(\"What is the average price of the houses in Surabaya?\")), question_id)"
      ]
    }
  ],
  "metadata": {
    "kernelspec": {
      "display_name": "Python 3 (ipykernel)",
      "language": "python",
      "name": "python3"
    },
    "language_info": {
      "codemirror_mode": {
        "name": "ipython",
        "version": 3
      },
      "file_extension": ".py",
      "mimetype": "text/x-python",
      "name": "python",
      "nbconvert_exporter": "python",
      "pygments_lexer": "ipython3",
      "version": "3.11.3"
    },
    "colab": {
      "provenance": [],
      "include_colab_link": true
    },
    "widgets": {
      "application/vnd.jupyter.widget-state+json": {
        "f70b8f6ae21048dab773364b85295177": {
          "model_module": "@jupyter-widgets/controls",
          "model_name": "HBoxModel",
          "model_module_version": "1.5.0",
          "state": {
            "_dom_classes": [],
            "_model_module": "@jupyter-widgets/controls",
            "_model_module_version": "1.5.0",
            "_model_name": "HBoxModel",
            "_view_count": null,
            "_view_module": "@jupyter-widgets/controls",
            "_view_module_version": "1.5.0",
            "_view_name": "HBoxView",
            "box_style": "",
            "children": [
              "IPY_MODEL_014f1fdf186a450297d9a4c657a362cc",
              "IPY_MODEL_66953e47915540578501e17a50b82f5d",
              "IPY_MODEL_77373beba8994c349550ccd1407f931f"
            ],
            "layout": "IPY_MODEL_adbcbf1bc14a414d9249c632126ac39e"
          }
        },
        "014f1fdf186a450297d9a4c657a362cc": {
          "model_module": "@jupyter-widgets/controls",
          "model_name": "HTMLModel",
          "model_module_version": "1.5.0",
          "state": {
            "_dom_classes": [],
            "_model_module": "@jupyter-widgets/controls",
            "_model_module_version": "1.5.0",
            "_model_name": "HTMLModel",
            "_view_count": null,
            "_view_module": "@jupyter-widgets/controls",
            "_view_module_version": "1.5.0",
            "_view_name": "HTMLView",
            "description": "",
            "description_tooltip": null,
            "layout": "IPY_MODEL_e5b8fa8b577a4f5cb8694fd94f6fa9b6",
            "placeholder": "​",
            "style": "IPY_MODEL_c729a3b66fbc4d11af90be23ccf779bf",
            "value": "config.json: 100%"
          }
        },
        "66953e47915540578501e17a50b82f5d": {
          "model_module": "@jupyter-widgets/controls",
          "model_name": "FloatProgressModel",
          "model_module_version": "1.5.0",
          "state": {
            "_dom_classes": [],
            "_model_module": "@jupyter-widgets/controls",
            "_model_module_version": "1.5.0",
            "_model_name": "FloatProgressModel",
            "_view_count": null,
            "_view_module": "@jupyter-widgets/controls",
            "_view_module_version": "1.5.0",
            "_view_name": "ProgressView",
            "bar_style": "success",
            "description": "",
            "description_tooltip": null,
            "layout": "IPY_MODEL_a96b46f33f984747b18b1097430baa1f",
            "max": 1659,
            "min": 0,
            "orientation": "horizontal",
            "style": "IPY_MODEL_d219a1b37b5143ceb21008c471aadc15",
            "value": 1659
          }
        },
        "77373beba8994c349550ccd1407f931f": {
          "model_module": "@jupyter-widgets/controls",
          "model_name": "HTMLModel",
          "model_module_version": "1.5.0",
          "state": {
            "_dom_classes": [],
            "_model_module": "@jupyter-widgets/controls",
            "_model_module_version": "1.5.0",
            "_model_name": "HTMLModel",
            "_view_count": null,
            "_view_module": "@jupyter-widgets/controls",
            "_view_module_version": "1.5.0",
            "_view_name": "HTMLView",
            "description": "",
            "description_tooltip": null,
            "layout": "IPY_MODEL_3ce4f5fd03c4439db4a35af016428988",
            "placeholder": "​",
            "style": "IPY_MODEL_e241df23516d4fd09551223637ea067c",
            "value": " 1.66k/1.66k [00:00&lt;00:00, 47.1kB/s]"
          }
        },
        "adbcbf1bc14a414d9249c632126ac39e": {
          "model_module": "@jupyter-widgets/base",
          "model_name": "LayoutModel",
          "model_module_version": "1.2.0",
          "state": {
            "_model_module": "@jupyter-widgets/base",
            "_model_module_version": "1.2.0",
            "_model_name": "LayoutModel",
            "_view_count": null,
            "_view_module": "@jupyter-widgets/base",
            "_view_module_version": "1.2.0",
            "_view_name": "LayoutView",
            "align_content": null,
            "align_items": null,
            "align_self": null,
            "border": null,
            "bottom": null,
            "display": null,
            "flex": null,
            "flex_flow": null,
            "grid_area": null,
            "grid_auto_columns": null,
            "grid_auto_flow": null,
            "grid_auto_rows": null,
            "grid_column": null,
            "grid_gap": null,
            "grid_row": null,
            "grid_template_areas": null,
            "grid_template_columns": null,
            "grid_template_rows": null,
            "height": null,
            "justify_content": null,
            "justify_items": null,
            "left": null,
            "margin": null,
            "max_height": null,
            "max_width": null,
            "min_height": null,
            "min_width": null,
            "object_fit": null,
            "object_position": null,
            "order": null,
            "overflow": null,
            "overflow_x": null,
            "overflow_y": null,
            "padding": null,
            "right": null,
            "top": null,
            "visibility": null,
            "width": null
          }
        },
        "e5b8fa8b577a4f5cb8694fd94f6fa9b6": {
          "model_module": "@jupyter-widgets/base",
          "model_name": "LayoutModel",
          "model_module_version": "1.2.0",
          "state": {
            "_model_module": "@jupyter-widgets/base",
            "_model_module_version": "1.2.0",
            "_model_name": "LayoutModel",
            "_view_count": null,
            "_view_module": "@jupyter-widgets/base",
            "_view_module_version": "1.2.0",
            "_view_name": "LayoutView",
            "align_content": null,
            "align_items": null,
            "align_self": null,
            "border": null,
            "bottom": null,
            "display": null,
            "flex": null,
            "flex_flow": null,
            "grid_area": null,
            "grid_auto_columns": null,
            "grid_auto_flow": null,
            "grid_auto_rows": null,
            "grid_column": null,
            "grid_gap": null,
            "grid_row": null,
            "grid_template_areas": null,
            "grid_template_columns": null,
            "grid_template_rows": null,
            "height": null,
            "justify_content": null,
            "justify_items": null,
            "left": null,
            "margin": null,
            "max_height": null,
            "max_width": null,
            "min_height": null,
            "min_width": null,
            "object_fit": null,
            "object_position": null,
            "order": null,
            "overflow": null,
            "overflow_x": null,
            "overflow_y": null,
            "padding": null,
            "right": null,
            "top": null,
            "visibility": null,
            "width": null
          }
        },
        "c729a3b66fbc4d11af90be23ccf779bf": {
          "model_module": "@jupyter-widgets/controls",
          "model_name": "DescriptionStyleModel",
          "model_module_version": "1.5.0",
          "state": {
            "_model_module": "@jupyter-widgets/controls",
            "_model_module_version": "1.5.0",
            "_model_name": "DescriptionStyleModel",
            "_view_count": null,
            "_view_module": "@jupyter-widgets/base",
            "_view_module_version": "1.2.0",
            "_view_name": "StyleView",
            "description_width": ""
          }
        },
        "a96b46f33f984747b18b1097430baa1f": {
          "model_module": "@jupyter-widgets/base",
          "model_name": "LayoutModel",
          "model_module_version": "1.2.0",
          "state": {
            "_model_module": "@jupyter-widgets/base",
            "_model_module_version": "1.2.0",
            "_model_name": "LayoutModel",
            "_view_count": null,
            "_view_module": "@jupyter-widgets/base",
            "_view_module_version": "1.2.0",
            "_view_name": "LayoutView",
            "align_content": null,
            "align_items": null,
            "align_self": null,
            "border": null,
            "bottom": null,
            "display": null,
            "flex": null,
            "flex_flow": null,
            "grid_area": null,
            "grid_auto_columns": null,
            "grid_auto_flow": null,
            "grid_auto_rows": null,
            "grid_column": null,
            "grid_gap": null,
            "grid_row": null,
            "grid_template_areas": null,
            "grid_template_columns": null,
            "grid_template_rows": null,
            "height": null,
            "justify_content": null,
            "justify_items": null,
            "left": null,
            "margin": null,
            "max_height": null,
            "max_width": null,
            "min_height": null,
            "min_width": null,
            "object_fit": null,
            "object_position": null,
            "order": null,
            "overflow": null,
            "overflow_x": null,
            "overflow_y": null,
            "padding": null,
            "right": null,
            "top": null,
            "visibility": null,
            "width": null
          }
        },
        "d219a1b37b5143ceb21008c471aadc15": {
          "model_module": "@jupyter-widgets/controls",
          "model_name": "ProgressStyleModel",
          "model_module_version": "1.5.0",
          "state": {
            "_model_module": "@jupyter-widgets/controls",
            "_model_module_version": "1.5.0",
            "_model_name": "ProgressStyleModel",
            "_view_count": null,
            "_view_module": "@jupyter-widgets/base",
            "_view_module_version": "1.2.0",
            "_view_name": "StyleView",
            "bar_color": null,
            "description_width": ""
          }
        },
        "3ce4f5fd03c4439db4a35af016428988": {
          "model_module": "@jupyter-widgets/base",
          "model_name": "LayoutModel",
          "model_module_version": "1.2.0",
          "state": {
            "_model_module": "@jupyter-widgets/base",
            "_model_module_version": "1.2.0",
            "_model_name": "LayoutModel",
            "_view_count": null,
            "_view_module": "@jupyter-widgets/base",
            "_view_module_version": "1.2.0",
            "_view_name": "LayoutView",
            "align_content": null,
            "align_items": null,
            "align_self": null,
            "border": null,
            "bottom": null,
            "display": null,
            "flex": null,
            "flex_flow": null,
            "grid_area": null,
            "grid_auto_columns": null,
            "grid_auto_flow": null,
            "grid_auto_rows": null,
            "grid_column": null,
            "grid_gap": null,
            "grid_row": null,
            "grid_template_areas": null,
            "grid_template_columns": null,
            "grid_template_rows": null,
            "height": null,
            "justify_content": null,
            "justify_items": null,
            "left": null,
            "margin": null,
            "max_height": null,
            "max_width": null,
            "min_height": null,
            "min_width": null,
            "object_fit": null,
            "object_position": null,
            "order": null,
            "overflow": null,
            "overflow_x": null,
            "overflow_y": null,
            "padding": null,
            "right": null,
            "top": null,
            "visibility": null,
            "width": null
          }
        },
        "e241df23516d4fd09551223637ea067c": {
          "model_module": "@jupyter-widgets/controls",
          "model_name": "DescriptionStyleModel",
          "model_module_version": "1.5.0",
          "state": {
            "_model_module": "@jupyter-widgets/controls",
            "_model_module_version": "1.5.0",
            "_model_name": "DescriptionStyleModel",
            "_view_count": null,
            "_view_module": "@jupyter-widgets/base",
            "_view_module_version": "1.2.0",
            "_view_name": "StyleView",
            "description_width": ""
          }
        },
        "8b8af3c978094e61ae65c0197b55598c": {
          "model_module": "@jupyter-widgets/controls",
          "model_name": "HBoxModel",
          "model_module_version": "1.5.0",
          "state": {
            "_dom_classes": [],
            "_model_module": "@jupyter-widgets/controls",
            "_model_module_version": "1.5.0",
            "_model_name": "HBoxModel",
            "_view_count": null,
            "_view_module": "@jupyter-widgets/controls",
            "_view_module_version": "1.5.0",
            "_view_name": "HBoxView",
            "box_style": "",
            "children": [
              "IPY_MODEL_51706772679e404bb845a5fc51cb5e3b",
              "IPY_MODEL_9981584ff9ad41e9a26a12c6322929b6",
              "IPY_MODEL_08872a5cb53c4013a5b9e76cfe438b22"
            ],
            "layout": "IPY_MODEL_bd385db8a32f409889dd1248b43df76c"
          }
        },
        "51706772679e404bb845a5fc51cb5e3b": {
          "model_module": "@jupyter-widgets/controls",
          "model_name": "HTMLModel",
          "model_module_version": "1.5.0",
          "state": {
            "_dom_classes": [],
            "_model_module": "@jupyter-widgets/controls",
            "_model_module_version": "1.5.0",
            "_model_name": "HTMLModel",
            "_view_count": null,
            "_view_module": "@jupyter-widgets/controls",
            "_view_module_version": "1.5.0",
            "_view_name": "HTMLView",
            "description": "",
            "description_tooltip": null,
            "layout": "IPY_MODEL_7314eca3f86943c09293e30c93a5c0be",
            "placeholder": "​",
            "style": "IPY_MODEL_fb3287fcb1034ca4a2983b11cf28ba16",
            "value": "model.safetensors: 100%"
          }
        },
        "9981584ff9ad41e9a26a12c6322929b6": {
          "model_module": "@jupyter-widgets/controls",
          "model_name": "FloatProgressModel",
          "model_module_version": "1.5.0",
          "state": {
            "_dom_classes": [],
            "_model_module": "@jupyter-widgets/controls",
            "_model_module_version": "1.5.0",
            "_model_name": "FloatProgressModel",
            "_view_count": null,
            "_view_module": "@jupyter-widgets/controls",
            "_view_module_version": "1.5.0",
            "_view_name": "ProgressView",
            "bar_style": "success",
            "description": "",
            "description_tooltip": null,
            "layout": "IPY_MODEL_088a5780bc384b9ea51fe635a663bf88",
            "max": 1346985282,
            "min": 0,
            "orientation": "horizontal",
            "style": "IPY_MODEL_6ce11b231bbc4a999fa5f52591e352cd",
            "value": 1346985282
          }
        },
        "08872a5cb53c4013a5b9e76cfe438b22": {
          "model_module": "@jupyter-widgets/controls",
          "model_name": "HTMLModel",
          "model_module_version": "1.5.0",
          "state": {
            "_dom_classes": [],
            "_model_module": "@jupyter-widgets/controls",
            "_model_module_version": "1.5.0",
            "_model_name": "HTMLModel",
            "_view_count": null,
            "_view_module": "@jupyter-widgets/controls",
            "_view_module_version": "1.5.0",
            "_view_name": "HTMLView",
            "description": "",
            "description_tooltip": null,
            "layout": "IPY_MODEL_f30815b1fc2540248dacbd4acfe03b0c",
            "placeholder": "​",
            "style": "IPY_MODEL_8a51a18f1b1645da8cc114e43a083722",
            "value": " 1.35G/1.35G [00:13&lt;00:00, 101MB/s]"
          }
        },
        "bd385db8a32f409889dd1248b43df76c": {
          "model_module": "@jupyter-widgets/base",
          "model_name": "LayoutModel",
          "model_module_version": "1.2.0",
          "state": {
            "_model_module": "@jupyter-widgets/base",
            "_model_module_version": "1.2.0",
            "_model_name": "LayoutModel",
            "_view_count": null,
            "_view_module": "@jupyter-widgets/base",
            "_view_module_version": "1.2.0",
            "_view_name": "LayoutView",
            "align_content": null,
            "align_items": null,
            "align_self": null,
            "border": null,
            "bottom": null,
            "display": null,
            "flex": null,
            "flex_flow": null,
            "grid_area": null,
            "grid_auto_columns": null,
            "grid_auto_flow": null,
            "grid_auto_rows": null,
            "grid_column": null,
            "grid_gap": null,
            "grid_row": null,
            "grid_template_areas": null,
            "grid_template_columns": null,
            "grid_template_rows": null,
            "height": null,
            "justify_content": null,
            "justify_items": null,
            "left": null,
            "margin": null,
            "max_height": null,
            "max_width": null,
            "min_height": null,
            "min_width": null,
            "object_fit": null,
            "object_position": null,
            "order": null,
            "overflow": null,
            "overflow_x": null,
            "overflow_y": null,
            "padding": null,
            "right": null,
            "top": null,
            "visibility": null,
            "width": null
          }
        },
        "7314eca3f86943c09293e30c93a5c0be": {
          "model_module": "@jupyter-widgets/base",
          "model_name": "LayoutModel",
          "model_module_version": "1.2.0",
          "state": {
            "_model_module": "@jupyter-widgets/base",
            "_model_module_version": "1.2.0",
            "_model_name": "LayoutModel",
            "_view_count": null,
            "_view_module": "@jupyter-widgets/base",
            "_view_module_version": "1.2.0",
            "_view_name": "LayoutView",
            "align_content": null,
            "align_items": null,
            "align_self": null,
            "border": null,
            "bottom": null,
            "display": null,
            "flex": null,
            "flex_flow": null,
            "grid_area": null,
            "grid_auto_columns": null,
            "grid_auto_flow": null,
            "grid_auto_rows": null,
            "grid_column": null,
            "grid_gap": null,
            "grid_row": null,
            "grid_template_areas": null,
            "grid_template_columns": null,
            "grid_template_rows": null,
            "height": null,
            "justify_content": null,
            "justify_items": null,
            "left": null,
            "margin": null,
            "max_height": null,
            "max_width": null,
            "min_height": null,
            "min_width": null,
            "object_fit": null,
            "object_position": null,
            "order": null,
            "overflow": null,
            "overflow_x": null,
            "overflow_y": null,
            "padding": null,
            "right": null,
            "top": null,
            "visibility": null,
            "width": null
          }
        },
        "fb3287fcb1034ca4a2983b11cf28ba16": {
          "model_module": "@jupyter-widgets/controls",
          "model_name": "DescriptionStyleModel",
          "model_module_version": "1.5.0",
          "state": {
            "_model_module": "@jupyter-widgets/controls",
            "_model_module_version": "1.5.0",
            "_model_name": "DescriptionStyleModel",
            "_view_count": null,
            "_view_module": "@jupyter-widgets/base",
            "_view_module_version": "1.2.0",
            "_view_name": "StyleView",
            "description_width": ""
          }
        },
        "088a5780bc384b9ea51fe635a663bf88": {
          "model_module": "@jupyter-widgets/base",
          "model_name": "LayoutModel",
          "model_module_version": "1.2.0",
          "state": {
            "_model_module": "@jupyter-widgets/base",
            "_model_module_version": "1.2.0",
            "_model_name": "LayoutModel",
            "_view_count": null,
            "_view_module": "@jupyter-widgets/base",
            "_view_module_version": "1.2.0",
            "_view_name": "LayoutView",
            "align_content": null,
            "align_items": null,
            "align_self": null,
            "border": null,
            "bottom": null,
            "display": null,
            "flex": null,
            "flex_flow": null,
            "grid_area": null,
            "grid_auto_columns": null,
            "grid_auto_flow": null,
            "grid_auto_rows": null,
            "grid_column": null,
            "grid_gap": null,
            "grid_row": null,
            "grid_template_areas": null,
            "grid_template_columns": null,
            "grid_template_rows": null,
            "height": null,
            "justify_content": null,
            "justify_items": null,
            "left": null,
            "margin": null,
            "max_height": null,
            "max_width": null,
            "min_height": null,
            "min_width": null,
            "object_fit": null,
            "object_position": null,
            "order": null,
            "overflow": null,
            "overflow_x": null,
            "overflow_y": null,
            "padding": null,
            "right": null,
            "top": null,
            "visibility": null,
            "width": null
          }
        },
        "6ce11b231bbc4a999fa5f52591e352cd": {
          "model_module": "@jupyter-widgets/controls",
          "model_name": "ProgressStyleModel",
          "model_module_version": "1.5.0",
          "state": {
            "_model_module": "@jupyter-widgets/controls",
            "_model_module_version": "1.5.0",
            "_model_name": "ProgressStyleModel",
            "_view_count": null,
            "_view_module": "@jupyter-widgets/base",
            "_view_module_version": "1.2.0",
            "_view_name": "StyleView",
            "bar_color": null,
            "description_width": ""
          }
        },
        "f30815b1fc2540248dacbd4acfe03b0c": {
          "model_module": "@jupyter-widgets/base",
          "model_name": "LayoutModel",
          "model_module_version": "1.2.0",
          "state": {
            "_model_module": "@jupyter-widgets/base",
            "_model_module_version": "1.2.0",
            "_model_name": "LayoutModel",
            "_view_count": null,
            "_view_module": "@jupyter-widgets/base",
            "_view_module_version": "1.2.0",
            "_view_name": "LayoutView",
            "align_content": null,
            "align_items": null,
            "align_self": null,
            "border": null,
            "bottom": null,
            "display": null,
            "flex": null,
            "flex_flow": null,
            "grid_area": null,
            "grid_auto_columns": null,
            "grid_auto_flow": null,
            "grid_auto_rows": null,
            "grid_column": null,
            "grid_gap": null,
            "grid_row": null,
            "grid_template_areas": null,
            "grid_template_columns": null,
            "grid_template_rows": null,
            "height": null,
            "justify_content": null,
            "justify_items": null,
            "left": null,
            "margin": null,
            "max_height": null,
            "max_width": null,
            "min_height": null,
            "min_width": null,
            "object_fit": null,
            "object_position": null,
            "order": null,
            "overflow": null,
            "overflow_x": null,
            "overflow_y": null,
            "padding": null,
            "right": null,
            "top": null,
            "visibility": null,
            "width": null
          }
        },
        "8a51a18f1b1645da8cc114e43a083722": {
          "model_module": "@jupyter-widgets/controls",
          "model_name": "DescriptionStyleModel",
          "model_module_version": "1.5.0",
          "state": {
            "_model_module": "@jupyter-widgets/controls",
            "_model_module_version": "1.5.0",
            "_model_name": "DescriptionStyleModel",
            "_view_count": null,
            "_view_module": "@jupyter-widgets/base",
            "_view_module_version": "1.2.0",
            "_view_name": "StyleView",
            "description_width": ""
          }
        },
        "cd7a220d74124a7982b1b7cfa59a3e4a": {
          "model_module": "@jupyter-widgets/controls",
          "model_name": "HBoxModel",
          "model_module_version": "1.5.0",
          "state": {
            "_dom_classes": [],
            "_model_module": "@jupyter-widgets/controls",
            "_model_module_version": "1.5.0",
            "_model_name": "HBoxModel",
            "_view_count": null,
            "_view_module": "@jupyter-widgets/controls",
            "_view_module_version": "1.5.0",
            "_view_name": "HBoxView",
            "box_style": "",
            "children": [
              "IPY_MODEL_170e81e80b1d443ea8894b500ca5961e",
              "IPY_MODEL_612f525a89214a4ea789a002dd9ae6a8",
              "IPY_MODEL_dfb683ce31c4470ca2039c6e48dd5129"
            ],
            "layout": "IPY_MODEL_344ecd38c7cd4e7e94726e274b219103"
          }
        },
        "170e81e80b1d443ea8894b500ca5961e": {
          "model_module": "@jupyter-widgets/controls",
          "model_name": "HTMLModel",
          "model_module_version": "1.5.0",
          "state": {
            "_dom_classes": [],
            "_model_module": "@jupyter-widgets/controls",
            "_model_module_version": "1.5.0",
            "_model_name": "HTMLModel",
            "_view_count": null,
            "_view_module": "@jupyter-widgets/controls",
            "_view_module_version": "1.5.0",
            "_view_name": "HTMLView",
            "description": "",
            "description_tooltip": null,
            "layout": "IPY_MODEL_52d1a064e12a4a458aa4ec5a8d0016a5",
            "placeholder": "​",
            "style": "IPY_MODEL_6d8f04a69d9e4a24a7b9053ad4eeede3",
            "value": "tokenizer_config.json: 100%"
          }
        },
        "612f525a89214a4ea789a002dd9ae6a8": {
          "model_module": "@jupyter-widgets/controls",
          "model_name": "FloatProgressModel",
          "model_module_version": "1.5.0",
          "state": {
            "_dom_classes": [],
            "_model_module": "@jupyter-widgets/controls",
            "_model_module_version": "1.5.0",
            "_model_name": "FloatProgressModel",
            "_view_count": null,
            "_view_module": "@jupyter-widgets/controls",
            "_view_module_version": "1.5.0",
            "_view_name": "ProgressView",
            "bar_style": "success",
            "description": "",
            "description_tooltip": null,
            "layout": "IPY_MODEL_aaca15a1689b44a682bb2e74f0713efb",
            "max": 490,
            "min": 0,
            "orientation": "horizontal",
            "style": "IPY_MODEL_3d649bc9846d46249c06426778c3f894",
            "value": 490
          }
        },
        "dfb683ce31c4470ca2039c6e48dd5129": {
          "model_module": "@jupyter-widgets/controls",
          "model_name": "HTMLModel",
          "model_module_version": "1.5.0",
          "state": {
            "_dom_classes": [],
            "_model_module": "@jupyter-widgets/controls",
            "_model_module_version": "1.5.0",
            "_model_name": "HTMLModel",
            "_view_count": null,
            "_view_module": "@jupyter-widgets/controls",
            "_view_module_version": "1.5.0",
            "_view_name": "HTMLView",
            "description": "",
            "description_tooltip": null,
            "layout": "IPY_MODEL_07f3fb9b22144117bb0339b6550468dd",
            "placeholder": "​",
            "style": "IPY_MODEL_0b3fb4b2747d4714b5ddd7cd694392f6",
            "value": " 490/490 [00:00&lt;00:00, 16.9kB/s]"
          }
        },
        "344ecd38c7cd4e7e94726e274b219103": {
          "model_module": "@jupyter-widgets/base",
          "model_name": "LayoutModel",
          "model_module_version": "1.2.0",
          "state": {
            "_model_module": "@jupyter-widgets/base",
            "_model_module_version": "1.2.0",
            "_model_name": "LayoutModel",
            "_view_count": null,
            "_view_module": "@jupyter-widgets/base",
            "_view_module_version": "1.2.0",
            "_view_name": "LayoutView",
            "align_content": null,
            "align_items": null,
            "align_self": null,
            "border": null,
            "bottom": null,
            "display": null,
            "flex": null,
            "flex_flow": null,
            "grid_area": null,
            "grid_auto_columns": null,
            "grid_auto_flow": null,
            "grid_auto_rows": null,
            "grid_column": null,
            "grid_gap": null,
            "grid_row": null,
            "grid_template_areas": null,
            "grid_template_columns": null,
            "grid_template_rows": null,
            "height": null,
            "justify_content": null,
            "justify_items": null,
            "left": null,
            "margin": null,
            "max_height": null,
            "max_width": null,
            "min_height": null,
            "min_width": null,
            "object_fit": null,
            "object_position": null,
            "order": null,
            "overflow": null,
            "overflow_x": null,
            "overflow_y": null,
            "padding": null,
            "right": null,
            "top": null,
            "visibility": null,
            "width": null
          }
        },
        "52d1a064e12a4a458aa4ec5a8d0016a5": {
          "model_module": "@jupyter-widgets/base",
          "model_name": "LayoutModel",
          "model_module_version": "1.2.0",
          "state": {
            "_model_module": "@jupyter-widgets/base",
            "_model_module_version": "1.2.0",
            "_model_name": "LayoutModel",
            "_view_count": null,
            "_view_module": "@jupyter-widgets/base",
            "_view_module_version": "1.2.0",
            "_view_name": "LayoutView",
            "align_content": null,
            "align_items": null,
            "align_self": null,
            "border": null,
            "bottom": null,
            "display": null,
            "flex": null,
            "flex_flow": null,
            "grid_area": null,
            "grid_auto_columns": null,
            "grid_auto_flow": null,
            "grid_auto_rows": null,
            "grid_column": null,
            "grid_gap": null,
            "grid_row": null,
            "grid_template_areas": null,
            "grid_template_columns": null,
            "grid_template_rows": null,
            "height": null,
            "justify_content": null,
            "justify_items": null,
            "left": null,
            "margin": null,
            "max_height": null,
            "max_width": null,
            "min_height": null,
            "min_width": null,
            "object_fit": null,
            "object_position": null,
            "order": null,
            "overflow": null,
            "overflow_x": null,
            "overflow_y": null,
            "padding": null,
            "right": null,
            "top": null,
            "visibility": null,
            "width": null
          }
        },
        "6d8f04a69d9e4a24a7b9053ad4eeede3": {
          "model_module": "@jupyter-widgets/controls",
          "model_name": "DescriptionStyleModel",
          "model_module_version": "1.5.0",
          "state": {
            "_model_module": "@jupyter-widgets/controls",
            "_model_module_version": "1.5.0",
            "_model_name": "DescriptionStyleModel",
            "_view_count": null,
            "_view_module": "@jupyter-widgets/base",
            "_view_module_version": "1.2.0",
            "_view_name": "StyleView",
            "description_width": ""
          }
        },
        "aaca15a1689b44a682bb2e74f0713efb": {
          "model_module": "@jupyter-widgets/base",
          "model_name": "LayoutModel",
          "model_module_version": "1.2.0",
          "state": {
            "_model_module": "@jupyter-widgets/base",
            "_model_module_version": "1.2.0",
            "_model_name": "LayoutModel",
            "_view_count": null,
            "_view_module": "@jupyter-widgets/base",
            "_view_module_version": "1.2.0",
            "_view_name": "LayoutView",
            "align_content": null,
            "align_items": null,
            "align_self": null,
            "border": null,
            "bottom": null,
            "display": null,
            "flex": null,
            "flex_flow": null,
            "grid_area": null,
            "grid_auto_columns": null,
            "grid_auto_flow": null,
            "grid_auto_rows": null,
            "grid_column": null,
            "grid_gap": null,
            "grid_row": null,
            "grid_template_areas": null,
            "grid_template_columns": null,
            "grid_template_rows": null,
            "height": null,
            "justify_content": null,
            "justify_items": null,
            "left": null,
            "margin": null,
            "max_height": null,
            "max_width": null,
            "min_height": null,
            "min_width": null,
            "object_fit": null,
            "object_position": null,
            "order": null,
            "overflow": null,
            "overflow_x": null,
            "overflow_y": null,
            "padding": null,
            "right": null,
            "top": null,
            "visibility": null,
            "width": null
          }
        },
        "3d649bc9846d46249c06426778c3f894": {
          "model_module": "@jupyter-widgets/controls",
          "model_name": "ProgressStyleModel",
          "model_module_version": "1.5.0",
          "state": {
            "_model_module": "@jupyter-widgets/controls",
            "_model_module_version": "1.5.0",
            "_model_name": "ProgressStyleModel",
            "_view_count": null,
            "_view_module": "@jupyter-widgets/base",
            "_view_module_version": "1.2.0",
            "_view_name": "StyleView",
            "bar_color": null,
            "description_width": ""
          }
        },
        "07f3fb9b22144117bb0339b6550468dd": {
          "model_module": "@jupyter-widgets/base",
          "model_name": "LayoutModel",
          "model_module_version": "1.2.0",
          "state": {
            "_model_module": "@jupyter-widgets/base",
            "_model_module_version": "1.2.0",
            "_model_name": "LayoutModel",
            "_view_count": null,
            "_view_module": "@jupyter-widgets/base",
            "_view_module_version": "1.2.0",
            "_view_name": "LayoutView",
            "align_content": null,
            "align_items": null,
            "align_self": null,
            "border": null,
            "bottom": null,
            "display": null,
            "flex": null,
            "flex_flow": null,
            "grid_area": null,
            "grid_auto_columns": null,
            "grid_auto_flow": null,
            "grid_auto_rows": null,
            "grid_column": null,
            "grid_gap": null,
            "grid_row": null,
            "grid_template_areas": null,
            "grid_template_columns": null,
            "grid_template_rows": null,
            "height": null,
            "justify_content": null,
            "justify_items": null,
            "left": null,
            "margin": null,
            "max_height": null,
            "max_width": null,
            "min_height": null,
            "min_width": null,
            "object_fit": null,
            "object_position": null,
            "order": null,
            "overflow": null,
            "overflow_x": null,
            "overflow_y": null,
            "padding": null,
            "right": null,
            "top": null,
            "visibility": null,
            "width": null
          }
        },
        "0b3fb4b2747d4714b5ddd7cd694392f6": {
          "model_module": "@jupyter-widgets/controls",
          "model_name": "DescriptionStyleModel",
          "model_module_version": "1.5.0",
          "state": {
            "_model_module": "@jupyter-widgets/controls",
            "_model_module_version": "1.5.0",
            "_model_name": "DescriptionStyleModel",
            "_view_count": null,
            "_view_module": "@jupyter-widgets/base",
            "_view_module_version": "1.2.0",
            "_view_name": "StyleView",
            "description_width": ""
          }
        },
        "8ae51853d8224a11935a6a1bee7a3300": {
          "model_module": "@jupyter-widgets/controls",
          "model_name": "HBoxModel",
          "model_module_version": "1.5.0",
          "state": {
            "_dom_classes": [],
            "_model_module": "@jupyter-widgets/controls",
            "_model_module_version": "1.5.0",
            "_model_name": "HBoxModel",
            "_view_count": null,
            "_view_module": "@jupyter-widgets/controls",
            "_view_module_version": "1.5.0",
            "_view_name": "HBoxView",
            "box_style": "",
            "children": [
              "IPY_MODEL_203c7c8f4c054cc59d43722d645ce88a",
              "IPY_MODEL_34a9488b5e7344229d09a728c7dc221b",
              "IPY_MODEL_85717a2972f24ed8bd1a80e323b643cb"
            ],
            "layout": "IPY_MODEL_bedeff0ae55243e99335da8d7a3bb83d"
          }
        },
        "203c7c8f4c054cc59d43722d645ce88a": {
          "model_module": "@jupyter-widgets/controls",
          "model_name": "HTMLModel",
          "model_module_version": "1.5.0",
          "state": {
            "_dom_classes": [],
            "_model_module": "@jupyter-widgets/controls",
            "_model_module_version": "1.5.0",
            "_model_name": "HTMLModel",
            "_view_count": null,
            "_view_module": "@jupyter-widgets/controls",
            "_view_module_version": "1.5.0",
            "_view_name": "HTMLView",
            "description": "",
            "description_tooltip": null,
            "layout": "IPY_MODEL_b3a3cc50b8974e6bb7b8c4bf5867dc09",
            "placeholder": "​",
            "style": "IPY_MODEL_3010941eaf934bd4b99f26e3b1994913",
            "value": "vocab.txt: 100%"
          }
        },
        "34a9488b5e7344229d09a728c7dc221b": {
          "model_module": "@jupyter-widgets/controls",
          "model_name": "FloatProgressModel",
          "model_module_version": "1.5.0",
          "state": {
            "_dom_classes": [],
            "_model_module": "@jupyter-widgets/controls",
            "_model_module_version": "1.5.0",
            "_model_name": "FloatProgressModel",
            "_view_count": null,
            "_view_module": "@jupyter-widgets/controls",
            "_view_module_version": "1.5.0",
            "_view_name": "ProgressView",
            "bar_style": "success",
            "description": "",
            "description_tooltip": null,
            "layout": "IPY_MODEL_dc45793662354aadb963fadca2a9a617",
            "max": 262028,
            "min": 0,
            "orientation": "horizontal",
            "style": "IPY_MODEL_ecb07c879f844065b8c63c03f8186918",
            "value": 262028
          }
        },
        "85717a2972f24ed8bd1a80e323b643cb": {
          "model_module": "@jupyter-widgets/controls",
          "model_name": "HTMLModel",
          "model_module_version": "1.5.0",
          "state": {
            "_dom_classes": [],
            "_model_module": "@jupyter-widgets/controls",
            "_model_module_version": "1.5.0",
            "_model_name": "HTMLModel",
            "_view_count": null,
            "_view_module": "@jupyter-widgets/controls",
            "_view_module_version": "1.5.0",
            "_view_name": "HTMLView",
            "description": "",
            "description_tooltip": null,
            "layout": "IPY_MODEL_0356bd5f788f4bd0b0c83c6eba351e3c",
            "placeholder": "​",
            "style": "IPY_MODEL_3120a052fb4e4d3da8cd9a0f6ed15cc7",
            "value": " 262k/262k [00:00&lt;00:00, 1.61MB/s]"
          }
        },
        "bedeff0ae55243e99335da8d7a3bb83d": {
          "model_module": "@jupyter-widgets/base",
          "model_name": "LayoutModel",
          "model_module_version": "1.2.0",
          "state": {
            "_model_module": "@jupyter-widgets/base",
            "_model_module_version": "1.2.0",
            "_model_name": "LayoutModel",
            "_view_count": null,
            "_view_module": "@jupyter-widgets/base",
            "_view_module_version": "1.2.0",
            "_view_name": "LayoutView",
            "align_content": null,
            "align_items": null,
            "align_self": null,
            "border": null,
            "bottom": null,
            "display": null,
            "flex": null,
            "flex_flow": null,
            "grid_area": null,
            "grid_auto_columns": null,
            "grid_auto_flow": null,
            "grid_auto_rows": null,
            "grid_column": null,
            "grid_gap": null,
            "grid_row": null,
            "grid_template_areas": null,
            "grid_template_columns": null,
            "grid_template_rows": null,
            "height": null,
            "justify_content": null,
            "justify_items": null,
            "left": null,
            "margin": null,
            "max_height": null,
            "max_width": null,
            "min_height": null,
            "min_width": null,
            "object_fit": null,
            "object_position": null,
            "order": null,
            "overflow": null,
            "overflow_x": null,
            "overflow_y": null,
            "padding": null,
            "right": null,
            "top": null,
            "visibility": null,
            "width": null
          }
        },
        "b3a3cc50b8974e6bb7b8c4bf5867dc09": {
          "model_module": "@jupyter-widgets/base",
          "model_name": "LayoutModel",
          "model_module_version": "1.2.0",
          "state": {
            "_model_module": "@jupyter-widgets/base",
            "_model_module_version": "1.2.0",
            "_model_name": "LayoutModel",
            "_view_count": null,
            "_view_module": "@jupyter-widgets/base",
            "_view_module_version": "1.2.0",
            "_view_name": "LayoutView",
            "align_content": null,
            "align_items": null,
            "align_self": null,
            "border": null,
            "bottom": null,
            "display": null,
            "flex": null,
            "flex_flow": null,
            "grid_area": null,
            "grid_auto_columns": null,
            "grid_auto_flow": null,
            "grid_auto_rows": null,
            "grid_column": null,
            "grid_gap": null,
            "grid_row": null,
            "grid_template_areas": null,
            "grid_template_columns": null,
            "grid_template_rows": null,
            "height": null,
            "justify_content": null,
            "justify_items": null,
            "left": null,
            "margin": null,
            "max_height": null,
            "max_width": null,
            "min_height": null,
            "min_width": null,
            "object_fit": null,
            "object_position": null,
            "order": null,
            "overflow": null,
            "overflow_x": null,
            "overflow_y": null,
            "padding": null,
            "right": null,
            "top": null,
            "visibility": null,
            "width": null
          }
        },
        "3010941eaf934bd4b99f26e3b1994913": {
          "model_module": "@jupyter-widgets/controls",
          "model_name": "DescriptionStyleModel",
          "model_module_version": "1.5.0",
          "state": {
            "_model_module": "@jupyter-widgets/controls",
            "_model_module_version": "1.5.0",
            "_model_name": "DescriptionStyleModel",
            "_view_count": null,
            "_view_module": "@jupyter-widgets/base",
            "_view_module_version": "1.2.0",
            "_view_name": "StyleView",
            "description_width": ""
          }
        },
        "dc45793662354aadb963fadca2a9a617": {
          "model_module": "@jupyter-widgets/base",
          "model_name": "LayoutModel",
          "model_module_version": "1.2.0",
          "state": {
            "_model_module": "@jupyter-widgets/base",
            "_model_module_version": "1.2.0",
            "_model_name": "LayoutModel",
            "_view_count": null,
            "_view_module": "@jupyter-widgets/base",
            "_view_module_version": "1.2.0",
            "_view_name": "LayoutView",
            "align_content": null,
            "align_items": null,
            "align_self": null,
            "border": null,
            "bottom": null,
            "display": null,
            "flex": null,
            "flex_flow": null,
            "grid_area": null,
            "grid_auto_columns": null,
            "grid_auto_flow": null,
            "grid_auto_rows": null,
            "grid_column": null,
            "grid_gap": null,
            "grid_row": null,
            "grid_template_areas": null,
            "grid_template_columns": null,
            "grid_template_rows": null,
            "height": null,
            "justify_content": null,
            "justify_items": null,
            "left": null,
            "margin": null,
            "max_height": null,
            "max_width": null,
            "min_height": null,
            "min_width": null,
            "object_fit": null,
            "object_position": null,
            "order": null,
            "overflow": null,
            "overflow_x": null,
            "overflow_y": null,
            "padding": null,
            "right": null,
            "top": null,
            "visibility": null,
            "width": null
          }
        },
        "ecb07c879f844065b8c63c03f8186918": {
          "model_module": "@jupyter-widgets/controls",
          "model_name": "ProgressStyleModel",
          "model_module_version": "1.5.0",
          "state": {
            "_model_module": "@jupyter-widgets/controls",
            "_model_module_version": "1.5.0",
            "_model_name": "ProgressStyleModel",
            "_view_count": null,
            "_view_module": "@jupyter-widgets/base",
            "_view_module_version": "1.2.0",
            "_view_name": "StyleView",
            "bar_color": null,
            "description_width": ""
          }
        },
        "0356bd5f788f4bd0b0c83c6eba351e3c": {
          "model_module": "@jupyter-widgets/base",
          "model_name": "LayoutModel",
          "model_module_version": "1.2.0",
          "state": {
            "_model_module": "@jupyter-widgets/base",
            "_model_module_version": "1.2.0",
            "_model_name": "LayoutModel",
            "_view_count": null,
            "_view_module": "@jupyter-widgets/base",
            "_view_module_version": "1.2.0",
            "_view_name": "LayoutView",
            "align_content": null,
            "align_items": null,
            "align_self": null,
            "border": null,
            "bottom": null,
            "display": null,
            "flex": null,
            "flex_flow": null,
            "grid_area": null,
            "grid_auto_columns": null,
            "grid_auto_flow": null,
            "grid_auto_rows": null,
            "grid_column": null,
            "grid_gap": null,
            "grid_row": null,
            "grid_template_areas": null,
            "grid_template_columns": null,
            "grid_template_rows": null,
            "height": null,
            "justify_content": null,
            "justify_items": null,
            "left": null,
            "margin": null,
            "max_height": null,
            "max_width": null,
            "min_height": null,
            "min_width": null,
            "object_fit": null,
            "object_position": null,
            "order": null,
            "overflow": null,
            "overflow_x": null,
            "overflow_y": null,
            "padding": null,
            "right": null,
            "top": null,
            "visibility": null,
            "width": null
          }
        },
        "3120a052fb4e4d3da8cd9a0f6ed15cc7": {
          "model_module": "@jupyter-widgets/controls",
          "model_name": "DescriptionStyleModel",
          "model_module_version": "1.5.0",
          "state": {
            "_model_module": "@jupyter-widgets/controls",
            "_model_module_version": "1.5.0",
            "_model_name": "DescriptionStyleModel",
            "_view_count": null,
            "_view_module": "@jupyter-widgets/base",
            "_view_module_version": "1.2.0",
            "_view_name": "StyleView",
            "description_width": ""
          }
        },
        "b8e9fdb180f64fa7956399ab1416c9fb": {
          "model_module": "@jupyter-widgets/controls",
          "model_name": "HBoxModel",
          "model_module_version": "1.5.0",
          "state": {
            "_dom_classes": [],
            "_model_module": "@jupyter-widgets/controls",
            "_model_module_version": "1.5.0",
            "_model_name": "HBoxModel",
            "_view_count": null,
            "_view_module": "@jupyter-widgets/controls",
            "_view_module_version": "1.5.0",
            "_view_name": "HBoxView",
            "box_style": "",
            "children": [
              "IPY_MODEL_b3000e82f2b34733b859c8325abbcc6d",
              "IPY_MODEL_612916d8a44447d1aa39c62a4d434355",
              "IPY_MODEL_d6b7ff05bf234f40b4e890d019d8270b"
            ],
            "layout": "IPY_MODEL_bbb1c84a126a43f995f29561ff850a4d"
          }
        },
        "b3000e82f2b34733b859c8325abbcc6d": {
          "model_module": "@jupyter-widgets/controls",
          "model_name": "HTMLModel",
          "model_module_version": "1.5.0",
          "state": {
            "_dom_classes": [],
            "_model_module": "@jupyter-widgets/controls",
            "_model_module_version": "1.5.0",
            "_model_name": "HTMLModel",
            "_view_count": null,
            "_view_module": "@jupyter-widgets/controls",
            "_view_module_version": "1.5.0",
            "_view_name": "HTMLView",
            "description": "",
            "description_tooltip": null,
            "layout": "IPY_MODEL_5cc18391b9f74da1b594233ccb78793d",
            "placeholder": "​",
            "style": "IPY_MODEL_dbaa01ffdcbd449baadd0bd9cae77d30",
            "value": "special_tokens_map.json: 100%"
          }
        },
        "612916d8a44447d1aa39c62a4d434355": {
          "model_module": "@jupyter-widgets/controls",
          "model_name": "FloatProgressModel",
          "model_module_version": "1.5.0",
          "state": {
            "_dom_classes": [],
            "_model_module": "@jupyter-widgets/controls",
            "_model_module_version": "1.5.0",
            "_model_name": "FloatProgressModel",
            "_view_count": null,
            "_view_module": "@jupyter-widgets/controls",
            "_view_module_version": "1.5.0",
            "_view_name": "ProgressView",
            "bar_style": "success",
            "description": "",
            "description_tooltip": null,
            "layout": "IPY_MODEL_347937bb99c549a1b8f072fd75a9aa8d",
            "max": 154,
            "min": 0,
            "orientation": "horizontal",
            "style": "IPY_MODEL_380b04de402c49d7844592d3da97eeb8",
            "value": 154
          }
        },
        "d6b7ff05bf234f40b4e890d019d8270b": {
          "model_module": "@jupyter-widgets/controls",
          "model_name": "HTMLModel",
          "model_module_version": "1.5.0",
          "state": {
            "_dom_classes": [],
            "_model_module": "@jupyter-widgets/controls",
            "_model_module_version": "1.5.0",
            "_model_name": "HTMLModel",
            "_view_count": null,
            "_view_module": "@jupyter-widgets/controls",
            "_view_module_version": "1.5.0",
            "_view_name": "HTMLView",
            "description": "",
            "description_tooltip": null,
            "layout": "IPY_MODEL_79d9fa06f2334cef8ce4c919aaf69654",
            "placeholder": "​",
            "style": "IPY_MODEL_c5284591526b4b6da19c7bdb0381de96",
            "value": " 154/154 [00:00&lt;00:00, 9.10kB/s]"
          }
        },
        "bbb1c84a126a43f995f29561ff850a4d": {
          "model_module": "@jupyter-widgets/base",
          "model_name": "LayoutModel",
          "model_module_version": "1.2.0",
          "state": {
            "_model_module": "@jupyter-widgets/base",
            "_model_module_version": "1.2.0",
            "_model_name": "LayoutModel",
            "_view_count": null,
            "_view_module": "@jupyter-widgets/base",
            "_view_module_version": "1.2.0",
            "_view_name": "LayoutView",
            "align_content": null,
            "align_items": null,
            "align_self": null,
            "border": null,
            "bottom": null,
            "display": null,
            "flex": null,
            "flex_flow": null,
            "grid_area": null,
            "grid_auto_columns": null,
            "grid_auto_flow": null,
            "grid_auto_rows": null,
            "grid_column": null,
            "grid_gap": null,
            "grid_row": null,
            "grid_template_areas": null,
            "grid_template_columns": null,
            "grid_template_rows": null,
            "height": null,
            "justify_content": null,
            "justify_items": null,
            "left": null,
            "margin": null,
            "max_height": null,
            "max_width": null,
            "min_height": null,
            "min_width": null,
            "object_fit": null,
            "object_position": null,
            "order": null,
            "overflow": null,
            "overflow_x": null,
            "overflow_y": null,
            "padding": null,
            "right": null,
            "top": null,
            "visibility": null,
            "width": null
          }
        },
        "5cc18391b9f74da1b594233ccb78793d": {
          "model_module": "@jupyter-widgets/base",
          "model_name": "LayoutModel",
          "model_module_version": "1.2.0",
          "state": {
            "_model_module": "@jupyter-widgets/base",
            "_model_module_version": "1.2.0",
            "_model_name": "LayoutModel",
            "_view_count": null,
            "_view_module": "@jupyter-widgets/base",
            "_view_module_version": "1.2.0",
            "_view_name": "LayoutView",
            "align_content": null,
            "align_items": null,
            "align_self": null,
            "border": null,
            "bottom": null,
            "display": null,
            "flex": null,
            "flex_flow": null,
            "grid_area": null,
            "grid_auto_columns": null,
            "grid_auto_flow": null,
            "grid_auto_rows": null,
            "grid_column": null,
            "grid_gap": null,
            "grid_row": null,
            "grid_template_areas": null,
            "grid_template_columns": null,
            "grid_template_rows": null,
            "height": null,
            "justify_content": null,
            "justify_items": null,
            "left": null,
            "margin": null,
            "max_height": null,
            "max_width": null,
            "min_height": null,
            "min_width": null,
            "object_fit": null,
            "object_position": null,
            "order": null,
            "overflow": null,
            "overflow_x": null,
            "overflow_y": null,
            "padding": null,
            "right": null,
            "top": null,
            "visibility": null,
            "width": null
          }
        },
        "dbaa01ffdcbd449baadd0bd9cae77d30": {
          "model_module": "@jupyter-widgets/controls",
          "model_name": "DescriptionStyleModel",
          "model_module_version": "1.5.0",
          "state": {
            "_model_module": "@jupyter-widgets/controls",
            "_model_module_version": "1.5.0",
            "_model_name": "DescriptionStyleModel",
            "_view_count": null,
            "_view_module": "@jupyter-widgets/base",
            "_view_module_version": "1.2.0",
            "_view_name": "StyleView",
            "description_width": ""
          }
        },
        "347937bb99c549a1b8f072fd75a9aa8d": {
          "model_module": "@jupyter-widgets/base",
          "model_name": "LayoutModel",
          "model_module_version": "1.2.0",
          "state": {
            "_model_module": "@jupyter-widgets/base",
            "_model_module_version": "1.2.0",
            "_model_name": "LayoutModel",
            "_view_count": null,
            "_view_module": "@jupyter-widgets/base",
            "_view_module_version": "1.2.0",
            "_view_name": "LayoutView",
            "align_content": null,
            "align_items": null,
            "align_self": null,
            "border": null,
            "bottom": null,
            "display": null,
            "flex": null,
            "flex_flow": null,
            "grid_area": null,
            "grid_auto_columns": null,
            "grid_auto_flow": null,
            "grid_auto_rows": null,
            "grid_column": null,
            "grid_gap": null,
            "grid_row": null,
            "grid_template_areas": null,
            "grid_template_columns": null,
            "grid_template_rows": null,
            "height": null,
            "justify_content": null,
            "justify_items": null,
            "left": null,
            "margin": null,
            "max_height": null,
            "max_width": null,
            "min_height": null,
            "min_width": null,
            "object_fit": null,
            "object_position": null,
            "order": null,
            "overflow": null,
            "overflow_x": null,
            "overflow_y": null,
            "padding": null,
            "right": null,
            "top": null,
            "visibility": null,
            "width": null
          }
        },
        "380b04de402c49d7844592d3da97eeb8": {
          "model_module": "@jupyter-widgets/controls",
          "model_name": "ProgressStyleModel",
          "model_module_version": "1.5.0",
          "state": {
            "_model_module": "@jupyter-widgets/controls",
            "_model_module_version": "1.5.0",
            "_model_name": "ProgressStyleModel",
            "_view_count": null,
            "_view_module": "@jupyter-widgets/base",
            "_view_module_version": "1.2.0",
            "_view_name": "StyleView",
            "bar_color": null,
            "description_width": ""
          }
        },
        "79d9fa06f2334cef8ce4c919aaf69654": {
          "model_module": "@jupyter-widgets/base",
          "model_name": "LayoutModel",
          "model_module_version": "1.2.0",
          "state": {
            "_model_module": "@jupyter-widgets/base",
            "_model_module_version": "1.2.0",
            "_model_name": "LayoutModel",
            "_view_count": null,
            "_view_module": "@jupyter-widgets/base",
            "_view_module_version": "1.2.0",
            "_view_name": "LayoutView",
            "align_content": null,
            "align_items": null,
            "align_self": null,
            "border": null,
            "bottom": null,
            "display": null,
            "flex": null,
            "flex_flow": null,
            "grid_area": null,
            "grid_auto_columns": null,
            "grid_auto_flow": null,
            "grid_auto_rows": null,
            "grid_column": null,
            "grid_gap": null,
            "grid_row": null,
            "grid_template_areas": null,
            "grid_template_columns": null,
            "grid_template_rows": null,
            "height": null,
            "justify_content": null,
            "justify_items": null,
            "left": null,
            "margin": null,
            "max_height": null,
            "max_width": null,
            "min_height": null,
            "min_width": null,
            "object_fit": null,
            "object_position": null,
            "order": null,
            "overflow": null,
            "overflow_x": null,
            "overflow_y": null,
            "padding": null,
            "right": null,
            "top": null,
            "visibility": null,
            "width": null
          }
        },
        "c5284591526b4b6da19c7bdb0381de96": {
          "model_module": "@jupyter-widgets/controls",
          "model_name": "DescriptionStyleModel",
          "model_module_version": "1.5.0",
          "state": {
            "_model_module": "@jupyter-widgets/controls",
            "_model_module_version": "1.5.0",
            "_model_name": "DescriptionStyleModel",
            "_view_count": null,
            "_view_module": "@jupyter-widgets/base",
            "_view_module_version": "1.2.0",
            "_view_name": "StyleView",
            "description_width": ""
          }
        }
      }
    }
  },
  "nbformat": 4,
  "nbformat_minor": 0
}