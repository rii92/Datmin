{
  "cells": [
    {
      "cell_type": "markdown",
      "metadata": {
        "id": "view-in-github",
        "colab_type": "text"
      },
      "source": [
        "<a href=\"https://colab.research.google.com/github/rii92/Datmin/blob/main/bootcamp/session1/02_control_structures.ipynb\" target=\"_parent\"><img src=\"https://colab.research.google.com/assets/colab-badge.svg\" alt=\"Open In Colab\"/></a>"
      ]
    },
    {
      "cell_type": "markdown",
      "metadata": {
        "id": "AyZpNK40onFW"
      },
      "source": [
        "# Control Structures"
      ]
    },
    {
      "cell_type": "markdown",
      "metadata": {
        "id": "TB-8TR5JonFa"
      },
      "source": [
        "## Conditional Branching"
      ]
    },
    {
      "cell_type": "markdown",
      "metadata": {
        "id": "9tv2L52_onFa"
      },
      "source": [
        "### `if` statement\n",
        "\n",
        "The `if` statement checks if a specific condition or expression evaluates to `True`. If the condition is satisfied (`True`), the block of code associated with the `if` statement will be executed."
      ]
    },
    {
      "cell_type": "code",
      "execution_count": 1,
      "metadata": {
        "id": "GP1neKNzonFb",
        "colab": {
          "base_uri": "https://localhost:8080/"
        },
        "outputId": "f235066b-35b1-481e-9a7e-3e6658978d4f"
      },
      "outputs": [
        {
          "output_type": "stream",
          "name": "stdout",
          "text": [
            "x is positive.\n",
            "The value of x is 10\n"
          ]
        }
      ],
      "source": [
        "x = 10\n",
        "\n",
        "if x > 0:\n",
        "    print(\"x is positive.\")\n",
        "    print(\"The value of x is\", x)"
      ]
    },
    {
      "cell_type": "code",
      "source": [
        "x = 0\n",
        "\n",
        "if x > 0:\n",
        "    print(\"x is positive.\")\n",
        "    print(\"The value of x is\", x)"
      ],
      "metadata": {
        "id": "4JXV-eXHNwuB"
      },
      "execution_count": 2,
      "outputs": []
    },
    {
      "cell_type": "markdown",
      "metadata": {
        "id": "Uh7LsDV2onFd"
      },
      "source": [
        "In this example, the condition `x > 0` evaluates to `True`, so the indented block of code following the `if` statement is executed."
      ]
    },
    {
      "cell_type": "markdown",
      "metadata": {
        "id": "BvLs1-yqonFd"
      },
      "source": [
        "### `if-else` statement\n",
        "\n",
        "The `else` statement is used whenever you want to execute a different block of code if the condition in the `if` statement is `False`."
      ]
    },
    {
      "cell_type": "code",
      "execution_count": 3,
      "metadata": {
        "id": "o5PDqDqmonFe",
        "colab": {
          "base_uri": "https://localhost:8080/"
        },
        "outputId": "69bf8190-4486-442b-c061-3a3f922917aa"
      },
      "outputs": [
        {
          "output_type": "stream",
          "name": "stdout",
          "text": [
            "x is not positive.\n"
          ]
        }
      ],
      "source": [
        "x = -5\n",
        "\n",
        "if x > 0:\n",
        "    print(\"x is positive.\")\n",
        "else:\n",
        "    print(\"x is not positive.\")"
      ]
    },
    {
      "cell_type": "markdown",
      "metadata": {
        "id": "fC8OQKVIonFe"
      },
      "source": [
        "In this example, the condition `x > 0` evaluates to `False`, so the block of code following the `else` statement is executed."
      ]
    },
    {
      "cell_type": "markdown",
      "metadata": {
        "id": "lPKzGI-ponFf"
      },
      "source": [
        "### `if-elif-else` statement\n",
        "\n",
        "Use the `elif` statement to check multiple conditions. `elif` (short for \"else if\") is used in conjunction with `if` and `else` to create a series of conditions. The block of code associated with the first `if/elif` condition that evaluates to `True` will be executed. If no condition is satisfied, the code associated with the `else` statement (if present) will be executed.\n"
      ]
    },
    {
      "cell_type": "code",
      "execution_count": 4,
      "metadata": {
        "id": "lt4gAW18onFf",
        "colab": {
          "base_uri": "https://localhost:8080/"
        },
        "outputId": "09259844-561d-4500-8727-b8a1a78efd26"
      },
      "outputs": [
        {
          "output_type": "stream",
          "name": "stdout",
          "text": [
            "It's chilly outside.\n"
          ]
        }
      ],
      "source": [
        "temperature = 15\n",
        "\n",
        "if temperature < 0:\n",
        "    print(\"It's freezing outside.\")\n",
        "elif temperature < 10:\n",
        "    print(\"It's cold outside.\")\n",
        "elif temperature < 20:\n",
        "    print(\"It's chilly outside.\")\n",
        "elif temperature < 30:\n",
        "    print(\"It's warm outside.\")\n",
        "else:\n",
        "    print(\"It's hot outside.\")"
      ]
    },
    {
      "cell_type": "markdown",
      "metadata": {
        "id": "X2zGLYsxonFf"
      },
      "source": [
        "In this example, the first two conditions (`temperature < 0` and `temperature < 10`) evaluate to `False`,\n",
        "while the third condition (`temperature < 20`) evaluates to `True`. Thus, the block of code associated with this condition is executed, and \"It's chilly outside.\" is printed as output."
      ]
    },
    {
      "cell_type": "markdown",
      "metadata": {
        "id": "bia7ihDdonFg"
      },
      "source": [
        "### Nested `if` statements\n",
        "\n",
        "Nested `if` statements allow you to make more complex condition checks by placing an `if` statement inside another `if` statement."
      ]
    },
    {
      "cell_type": "code",
      "execution_count": 5,
      "metadata": {
        "id": "_wUGx8b0onFg",
        "colab": {
          "base_uri": "https://localhost:8080/"
        },
        "outputId": "3f324d3a-6efb-4596-c901-2a8e8c6b8f9b"
      },
      "outputs": [
        {
          "output_type": "stream",
          "name": "stdout",
          "text": [
            "x is positive, but y is not.\n"
          ]
        }
      ],
      "source": [
        "x = 5\n",
        "y = -2\n",
        "\n",
        "if x > 0:\n",
        "    if y > 0:\n",
        "        print(\"Both x and y are positive.\")\n",
        "    else:\n",
        "        print(\"x is positive, but y is not.\")\n",
        "else:\n",
        "    if y > 0:\n",
        "        print(\"y is positive, but x is not.\")\n",
        "    else:\n",
        "        print(\"Neither x nor y is positive.\")"
      ]
    },
    {
      "cell_type": "markdown",
      "metadata": {
        "id": "unbOTRTtonFg"
      },
      "source": [
        "In this example, the condition `x > 0` evaluates to `True`, so the first nested `if` statement is executed. Within the nested statement, the condition `y > 0` evaluates to `False`, executing the code associated with the `else` statement. Thus, \"x is positive, but y is not.\" is the output."
      ]
    },
    {
      "cell_type": "markdown",
      "metadata": {
        "id": "WlPmVdbkonFg"
      },
      "source": [
        "### One-liner `if-else` expression\n",
        "\n",
        "You can use a single line of code to execute simple `if-else` statements. This is called the ternary conditional operator."
      ]
    },
    {
      "cell_type": "code",
      "execution_count": 6,
      "metadata": {
        "scrolled": true,
        "id": "29l-rH92onFg",
        "colab": {
          "base_uri": "https://localhost:8080/",
          "height": 35
        },
        "outputId": "1ea9995f-c86f-480f-8981-ada3d1e58be9"
      },
      "outputs": [
        {
          "output_type": "execute_result",
          "data": {
            "text/plain": [
              "'x is positive'"
            ],
            "application/vnd.google.colaboratory.intrinsic+json": {
              "type": "string"
            }
          },
          "metadata": {},
          "execution_count": 6
        }
      ],
      "source": [
        "x = 5\n",
        "str_result = \"x is positive\" if x > 0 else \"x is not positive\"\n",
        "str_result"
      ]
    },
    {
      "cell_type": "markdown",
      "metadata": {
        "id": "CL8sxWRQonFh"
      },
      "source": [
        "In this example, the condition `x > 0` is `True`, so the variable `str_result` will be assigned the value \"x is positive\""
      ]
    },
    {
      "cell_type": "markdown",
      "metadata": {
        "id": "nzGezQ8conFh"
      },
      "source": [
        "## Loops"
      ]
    },
    {
      "cell_type": "markdown",
      "metadata": {
        "id": "Dpb7vwrVonFj"
      },
      "source": [
        "### `for` loop\n",
        "\n",
        "The `for` loop in Python is used to iterate over a sequence, such as a list, tuple, or string. `for` loops iterate over each element in the sequence, executing the associated block of code for each element."
      ]
    },
    {
      "cell_type": "code",
      "execution_count": 7,
      "metadata": {
        "id": "iSY90uuQonFj",
        "colab": {
          "base_uri": "https://localhost:8080/"
        },
        "outputId": "2713606c-52e5-47b6-bf11-cec6a5a81c80"
      },
      "outputs": [
        {
          "output_type": "stream",
          "name": "stdout",
          "text": [
            "11\n",
            "12\n",
            "13\n",
            "14\n",
            "15\n"
          ]
        }
      ],
      "source": [
        "# Example using a list\n",
        "numbers = [1, 2, 3, 4, 5]\n",
        "for num in numbers:\n",
        "    print(num + 10)"
      ]
    },
    {
      "cell_type": "code",
      "source": [
        "# Example using a list\n",
        "numbers = [1, 2, 3, 4, 5]\n",
        "for num in numbers:\n",
        "  if num == 5:\n",
        "    print(num + 10)\n",
        "  else:\n",
        "    print(num + 1)"
      ],
      "metadata": {
        "colab": {
          "base_uri": "https://localhost:8080/"
        },
        "id": "mlOKqZUQO6nJ",
        "outputId": "9314a179-5c7c-417a-f3d7-fce99db74000"
      },
      "execution_count": 8,
      "outputs": [
        {
          "output_type": "stream",
          "name": "stdout",
          "text": [
            "2\n",
            "3\n",
            "4\n",
            "5\n",
            "15\n"
          ]
        }
      ]
    },
    {
      "cell_type": "markdown",
      "metadata": {
        "id": "pxKblRXuonFj"
      },
      "source": [
        "In this example, the `for` loop iterates over each element in the `numbers` list. The loop variable `num` takes on the value of each element in the list, and the `print(num)` statement is executed."
      ]
    },
    {
      "cell_type": "code",
      "execution_count": 9,
      "metadata": {
        "id": "7AVqVXKEonFj",
        "colab": {
          "base_uri": "https://localhost:8080/"
        },
        "outputId": "389440f1-bb42-4e86-ce6f-41560a3b0eed"
      },
      "outputs": [
        {
          "output_type": "stream",
          "name": "stdout",
          "text": [
            "P\n",
            "y\n",
            "t\n",
            "h\n",
            "o\n",
            "n\n"
          ]
        }
      ],
      "source": [
        "# Example using a string\n",
        "name = \"Python\"\n",
        "for letter in name:\n",
        "    print(letter)"
      ]
    },
    {
      "cell_type": "markdown",
      "metadata": {
        "id": "lFJG0x32onFj"
      },
      "source": [
        "In this example, the `for` loop iterates over each character in the name string."
      ]
    },
    {
      "cell_type": "markdown",
      "metadata": {
        "id": "gn1908amonFj"
      },
      "source": [
        "### `for` loop with `range()`\n",
        "\n",
        "The `range()` function generates a sequence of numbers. It is commonly used in `for` loops when you want to repeat a block of code a specific number of times."
      ]
    },
    {
      "cell_type": "code",
      "execution_count": 10,
      "metadata": {
        "id": "xSdkhUk9onFk",
        "colab": {
          "base_uri": "https://localhost:8080/"
        },
        "outputId": "669a0142-b84e-442f-a914-433edf9c5085"
      },
      "outputs": [
        {
          "output_type": "stream",
          "name": "stdout",
          "text": [
            "0\n",
            "1\n",
            "2\n",
            "3\n",
            "4\n",
            "5\n",
            "6\n",
            "7\n",
            "8\n",
            "9\n"
          ]
        }
      ],
      "source": [
        "# range(stop): Generates a sequence of numbers from 0 to stop - 1\n",
        "for i in range(10):\n",
        "    print(i)"
      ]
    },
    {
      "cell_type": "markdown",
      "metadata": {
        "id": "wU5c1pVFonFk"
      },
      "source": [
        "In this example, the `range(5)` function generates the sequence `[0, 1, 2, 3, 4]`, and the `for` loop iterates over that sequence."
      ]
    },
    {
      "cell_type": "markdown",
      "metadata": {
        "id": "ug8fd_J9onFk"
      },
      "source": [
        "### `while` loop\n",
        "\n",
        "The `while` loop is used to repeatedly execute a block of code while a specified condition is `True`. When the condition becomes `False`, the loop terminates, and the program continues with the code following the `while` loop."
      ]
    },
    {
      "cell_type": "code",
      "execution_count": 11,
      "metadata": {
        "id": "VQt0hck8onFk",
        "colab": {
          "base_uri": "https://localhost:8080/"
        },
        "outputId": "78decd70-41ce-461d-f113-5585873c460f"
      },
      "outputs": [
        {
          "output_type": "stream",
          "name": "stdout",
          "text": [
            "counter: 0\n",
            "counter: 1\n",
            "counter: 2\n",
            "counter: 3\n",
            "counter: 4\n"
          ]
        }
      ],
      "source": [
        "# Example\n",
        "counter = 0\n",
        "while counter < 5:\n",
        "    print(\"counter:\", counter)\n",
        "    counter = counter + 1"
      ]
    },
    {
      "cell_type": "code",
      "source": [
        "# Example\n",
        "counter = 0\n",
        "while counter < 5:\n",
        "    print(\"counter:\", counter)\n",
        "    counter += 1"
      ],
      "metadata": {
        "colab": {
          "base_uri": "https://localhost:8080/"
        },
        "id": "pcpylmZNP0uQ",
        "outputId": "aa224513-6650-4bbd-fea7-3c163e6b5fc9"
      },
      "execution_count": 12,
      "outputs": [
        {
          "output_type": "stream",
          "name": "stdout",
          "text": [
            "counter: 0\n",
            "counter: 1\n",
            "counter: 2\n",
            "counter: 3\n",
            "counter: 4\n"
          ]
        }
      ]
    },
    {
      "cell_type": "markdown",
      "metadata": {
        "id": "QjyQlT-conFk"
      },
      "source": [
        "In this example, the `while` loop will continue to execute its block of code as long as the `counter` variable is less than 5. After each iteration, the value of `counter` is incremented by 1. When `counter` reaches 5, the loop condition becomes `False`, and the loop terminates."
      ]
    },
    {
      "cell_type": "markdown",
      "metadata": {
        "id": "mGubE2aronFk"
      },
      "source": [
        "## List Comprehensions\n",
        "\n",
        "List comprehensions are a concise and readable way to create lists in Python. They provide an alternative to creating lists using `for` loops, offering more compact and readable code for specific scenarios. List comprehensions are especially useful when working with transformations or filters for lists.\n",
        "\n",
        "The syntax for list comprehensions is as follows:\n",
        "```py\n",
        "[expression for item in iterable if condition]\n",
        "```\n",
        "\n",
        "notes: `if condition` is optional. This is the filter that will only include `item` in the resulting list if the given condition is `True`."
      ]
    },
    {
      "cell_type": "code",
      "execution_count": 13,
      "metadata": {
        "id": "CUJAlxKfonFl"
      },
      "outputs": [],
      "source": [
        "# Create a list of the squares of the numbers from 1 to 10:\n",
        "squares = [x**2 for x in range(1, 11)]\n",
        "\n",
        "# Create a list of even numbers between 1 and 20:\n",
        "even_numbers = [x for x in range(1, 21) if x % 2 == 0]"
      ]
    },
    {
      "cell_type": "code",
      "source": [
        "squares"
      ],
      "metadata": {
        "colab": {
          "base_uri": "https://localhost:8080/"
        },
        "id": "lAFU5drMQGnP",
        "outputId": "25ad8a1c-1a04-41b4-e816-59fa55d1ec8a"
      },
      "execution_count": 14,
      "outputs": [
        {
          "output_type": "execute_result",
          "data": {
            "text/plain": [
              "[1, 4, 9, 16, 25, 36, 49, 64, 81, 100]"
            ]
          },
          "metadata": {},
          "execution_count": 14
        }
      ]
    },
    {
      "cell_type": "code",
      "source": [
        "squares_2 = []\n",
        "\n",
        "for i in range(1, 11):\n",
        "  value = i**2\n",
        "  squares_2.append(value)"
      ],
      "metadata": {
        "id": "U9JkEs9zQJf9"
      },
      "execution_count": 15,
      "outputs": []
    },
    {
      "cell_type": "code",
      "source": [
        "squares_2"
      ],
      "metadata": {
        "id": "XuB9kH-gQRfb",
        "outputId": "cb8e959c-a7d9-4572-96b6-085ab03e973e",
        "colab": {
          "base_uri": "https://localhost:8080/"
        }
      },
      "execution_count": 16,
      "outputs": [
        {
          "output_type": "execute_result",
          "data": {
            "text/plain": [
              "[1, 4, 9, 16, 25, 36, 49, 64, 81, 100]"
            ]
          },
          "metadata": {},
          "execution_count": 16
        }
      ]
    },
    {
      "cell_type": "markdown",
      "metadata": {
        "id": "EX38Fl-UonFl"
      },
      "source": [
        "## Exercise Control Structures"
      ]
    },
    {
      "cell_type": "code",
      "execution_count": 17,
      "metadata": {
        "id": "EZ_E-lQQonFl",
        "colab": {
          "base_uri": "https://localhost:8080/"
        },
        "outputId": "e6bd195d-cc31-485a-aea1-440b9ed7ad3a"
      },
      "outputs": [
        {
          "output_type": "stream",
          "name": "stdout",
          "text": [
            "Collecting rggrader\n",
            "  Downloading rggrader-0.1.6-py3-none-any.whl (2.5 kB)\n",
            "Requirement already satisfied: requests in /usr/local/lib/python3.10/dist-packages (from rggrader) (2.31.0)\n",
            "Requirement already satisfied: pandas in /usr/local/lib/python3.10/dist-packages (from rggrader) (2.0.3)\n",
            "Requirement already satisfied: Pillow in /usr/local/lib/python3.10/dist-packages (from rggrader) (9.4.0)\n",
            "Requirement already satisfied: python-dateutil>=2.8.2 in /usr/local/lib/python3.10/dist-packages (from pandas->rggrader) (2.8.2)\n",
            "Requirement already satisfied: pytz>=2020.1 in /usr/local/lib/python3.10/dist-packages (from pandas->rggrader) (2023.4)\n",
            "Requirement already satisfied: tzdata>=2022.1 in /usr/local/lib/python3.10/dist-packages (from pandas->rggrader) (2024.1)\n",
            "Requirement already satisfied: numpy>=1.21.0 in /usr/local/lib/python3.10/dist-packages (from pandas->rggrader) (1.25.2)\n",
            "Requirement already satisfied: charset-normalizer<4,>=2 in /usr/local/lib/python3.10/dist-packages (from requests->rggrader) (3.3.2)\n",
            "Requirement already satisfied: idna<4,>=2.5 in /usr/local/lib/python3.10/dist-packages (from requests->rggrader) (3.7)\n",
            "Requirement already satisfied: urllib3<3,>=1.21.1 in /usr/local/lib/python3.10/dist-packages (from requests->rggrader) (2.0.7)\n",
            "Requirement already satisfied: certifi>=2017.4.17 in /usr/local/lib/python3.10/dist-packages (from requests->rggrader) (2024.7.4)\n",
            "Requirement already satisfied: six>=1.5 in /usr/local/lib/python3.10/dist-packages (from python-dateutil>=2.8.2->pandas->rggrader) (1.16.0)\n",
            "Installing collected packages: rggrader\n",
            "Successfully installed rggrader-0.1.6\n"
          ]
        }
      ],
      "source": [
        "!pip install rggrader"
      ]
    },
    {
      "cell_type": "code",
      "execution_count": 18,
      "metadata": {
        "id": "22wQNgRyonFl"
      },
      "outputs": [],
      "source": [
        "# @title #### Student Identity\n",
        "student_id = \"REAFCDNE\" # @param {type:\"string\"}\n",
        "name = \"Riofebri Prasetia\" # @param {type:\"string\"}"
      ]
    },
    {
      "cell_type": "code",
      "execution_count": 22,
      "metadata": {
        "id": "OvPPeIvjonFl",
        "colab": {
          "base_uri": "https://localhost:8080/",
          "height": 53
        },
        "outputId": "9f79edfd-cc44-42b2-dea0-0b911751a41c"
      },
      "outputs": [
        {
          "output_type": "stream",
          "name": "stdout",
          "text": [
            "650\n"
          ]
        },
        {
          "output_type": "execute_result",
          "data": {
            "text/plain": [
              "'Assignment successfully submitted'"
            ],
            "application/vnd.google.colaboratory.intrinsic+json": {
              "type": "string"
            }
          },
          "metadata": {},
          "execution_count": 22
        }
      ],
      "source": [
        "# @title #### 00. Sum of Even Numbers\n",
        "from rggrader import submit\n",
        "\n",
        "# sum = 2 + 4 + ... + n\n",
        "\n",
        "n = 50\n",
        "# TODO: compute the sum\n",
        "# The sum of all even numbers from 1 to n:\n",
        "sum = 0\n",
        "\n",
        "for x in range(1,51):\n",
        "  if (x % 2 == 0):\n",
        "    sum += x\n",
        "\n",
        "print(sum)\n",
        "\n",
        "\n",
        "# Submit Method\n",
        "assignment_id = \"01-control-structures\"\n",
        "question_id = \"00_sum-of-even-numbers\"\n",
        "submit(student_id, name, assignment_id, str(sum), question_id)"
      ]
    },
    {
      "cell_type": "code",
      "execution_count": 23,
      "metadata": {
        "id": "JVj9gg1ponFl",
        "colab": {
          "base_uri": "https://localhost:8080/"
        },
        "outputId": "de00e618-5dd7-4a57-de02-bb0c0bd19e3d"
      },
      "outputs": [
        {
          "output_type": "stream",
          "name": "stdout",
          "text": [
            "625\n"
          ]
        }
      ],
      "source": [
        "# @title #### 01. Alternating Sum Even Odd\n",
        "from rggrader import submit\n",
        "\n",
        "# sum = -1 + 2 - 3 + 4 + ... + n\n",
        "\n",
        "n = 50\n",
        "# TODO: compute the sum\n",
        "# Sum all even numbers and subtract all odd numbers from 1 to n:\n",
        "sum = 0\n",
        "\n",
        "for x in range(1,51):\n",
        "  if (x % 2 != 0):\n",
        "    sum += x\n",
        "\n",
        "print(sum)\n",
        "\n",
        "# Submit Method\n",
        "assignment_id = \"01-control-structures\"\n",
        "question_id = \"01_alternating-sum-even-odd\"\n",
        "# submit(student_id, name, assignment_id, str(sum), question_id)"
      ]
    }
  ],
  "metadata": {
    "celltoolbar": "Slideshow",
    "kernelspec": {
      "display_name": "Python 3 (ipykernel)",
      "language": "python",
      "name": "python3"
    },
    "language_info": {
      "codemirror_mode": {
        "name": "ipython",
        "version": 3
      },
      "file_extension": ".py",
      "mimetype": "text/x-python",
      "name": "python",
      "nbconvert_exporter": "python",
      "pygments_lexer": "ipython3",
      "version": "3.11.3"
    },
    "colab": {
      "provenance": [],
      "include_colab_link": true
    }
  },
  "nbformat": 4,
  "nbformat_minor": 0
}