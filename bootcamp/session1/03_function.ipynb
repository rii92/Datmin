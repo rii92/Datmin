{
  "cells": [
    {
      "cell_type": "markdown",
      "metadata": {
        "id": "view-in-github",
        "colab_type": "text"
      },
      "source": [
        "<a href=\"https://colab.research.google.com/github/rii92/Datmin/blob/main/bootcamp/session1/03_function.ipynb\" target=\"_parent\"><img src=\"https://colab.research.google.com/assets/colab-badge.svg\" alt=\"Open In Colab\"/></a>"
      ]
    },
    {
      "cell_type": "markdown",
      "metadata": {
        "id": "-yzz-pFcpMpM"
      },
      "source": [
        "# Function"
      ]
    },
    {
      "cell_type": "code",
      "source": [
        "x = -10\n",
        "abs(x)"
      ],
      "metadata": {
        "colab": {
          "base_uri": "https://localhost:8080/"
        },
        "id": "oxae448TQohH",
        "outputId": "c038223d-676c-47eb-9302-3c12ecf123e7"
      },
      "execution_count": 1,
      "outputs": [
        {
          "output_type": "execute_result",
          "data": {
            "text/plain": [
              "10"
            ]
          },
          "metadata": {},
          "execution_count": 1
        }
      ]
    },
    {
      "cell_type": "code",
      "source": [
        "[x**2 for x in range(1,11) if x==2]"
      ],
      "metadata": {
        "colab": {
          "base_uri": "https://localhost:8080/"
        },
        "id": "woho_JBJQxNy",
        "outputId": "4897e016-deae-40d6-97b9-9f4c24718869"
      },
      "execution_count": 2,
      "outputs": [
        {
          "output_type": "execute_result",
          "data": {
            "text/plain": [
              "[4]"
            ]
          },
          "metadata": {},
          "execution_count": 2
        }
      ]
    },
    {
      "cell_type": "markdown",
      "metadata": {
        "id": "IUPWtP4dpMpP"
      },
      "source": [
        "## Defining and calling functions\n",
        "\n",
        "To define a function in Python, use the `def` statement, followed by a function name, parentheses `()`, and a colon `:`. The function body is indented, usually by 4 spaces. Functions can return values using the `return` statement. And to call a function, simply use the function's name followed by parentheses `()`."
      ]
    },
    {
      "cell_type": "markdown",
      "source": [
        "UDF --> user defined functions"
      ],
      "metadata": {
        "id": "VZm3XLPhREf1"
      }
    },
    {
      "cell_type": "code",
      "source": [
        "def absolute(value):\n",
        "  return value * -1"
      ],
      "metadata": {
        "id": "XFaBYfNlRIlX"
      },
      "execution_count": 3,
      "outputs": []
    },
    {
      "cell_type": "code",
      "source": [
        "absolute(x)"
      ],
      "metadata": {
        "colab": {
          "base_uri": "https://localhost:8080/"
        },
        "id": "S7Tt9RR_RMgW",
        "outputId": "91c282bc-dfda-4c12-8a14-8a9e666ed071"
      },
      "execution_count": 4,
      "outputs": [
        {
          "output_type": "execute_result",
          "data": {
            "text/plain": [
              "10"
            ]
          },
          "metadata": {},
          "execution_count": 4
        }
      ]
    },
    {
      "cell_type": "code",
      "execution_count": 5,
      "metadata": {
        "id": "Qq74acKHpMpQ",
        "colab": {
          "base_uri": "https://localhost:8080/"
        },
        "outputId": "358ef3e7-3f1b-4d57-b1f0-a0bf22787828"
      },
      "outputs": [
        {
          "output_type": "stream",
          "name": "stdout",
          "text": [
            "Hello, World!\n"
          ]
        }
      ],
      "source": [
        "def greet():\n",
        "    print(\"Hello, World!\")\n",
        "\n",
        "greet()"
      ]
    },
    {
      "cell_type": "code",
      "source": [
        "for x in range(1, 11, 2):\n",
        "  print(x)"
      ],
      "metadata": {
        "colab": {
          "base_uri": "https://localhost:8080/"
        },
        "id": "HsCeiIcvRgHd",
        "outputId": "165bf49e-f647-4620-ce95-6e9146193885"
      },
      "execution_count": 6,
      "outputs": [
        {
          "output_type": "stream",
          "name": "stdout",
          "text": [
            "1\n",
            "3\n",
            "5\n",
            "7\n",
            "9\n"
          ]
        }
      ]
    },
    {
      "cell_type": "markdown",
      "metadata": {
        "id": "ztrIr1mjpMpR"
      },
      "source": [
        "## Arguments and Parameters\n",
        "\n",
        "Functions can have input values, called arguments, which are passed to the function when it is called. Within the function, these input values are known as parameters. Parameters are defined within the parentheses `()` in the function definition, and arguments are passed to the function within the parentheses when calling the function."
      ]
    },
    {
      "cell_type": "code",
      "execution_count": 7,
      "metadata": {
        "id": "_7h7M1qNpMpS",
        "colab": {
          "base_uri": "https://localhost:8080/"
        },
        "outputId": "91c0e8ad-4916-40bf-8149-f85cfaaa11e5"
      },
      "outputs": [
        {
          "output_type": "stream",
          "name": "stdout",
          "text": [
            "Hello, Alice\n"
          ]
        }
      ],
      "source": [
        "# Defining a function with a parameter 'name'\n",
        "def greet(name):\n",
        "    print(\"Hello,\", name)\n",
        "\n",
        "# Calling the function with an argument 'Alice'\n",
        "greet(\"Alice\")"
      ]
    },
    {
      "cell_type": "code",
      "source": [
        "a = greet(\"Adipta\")"
      ],
      "metadata": {
        "colab": {
          "base_uri": "https://localhost:8080/"
        },
        "id": "YyZg13rSRtOy",
        "outputId": "137f6cbe-6246-4fb2-fda3-7ccb78e3eceb"
      },
      "execution_count": 8,
      "outputs": [
        {
          "output_type": "stream",
          "name": "stdout",
          "text": [
            "Hello, Adipta\n"
          ]
        }
      ]
    },
    {
      "cell_type": "code",
      "source": [
        "greet = \"halo\""
      ],
      "metadata": {
        "id": "rxqQSE3SSEwd"
      },
      "execution_count": 9,
      "outputs": []
    },
    {
      "cell_type": "code",
      "source": [
        "greet"
      ],
      "metadata": {
        "colab": {
          "base_uri": "https://localhost:8080/",
          "height": 35
        },
        "id": "Si3W03hZSGcj",
        "outputId": "0cb83210-47d9-4c5d-e82c-54798463b587"
      },
      "execution_count": 10,
      "outputs": [
        {
          "output_type": "execute_result",
          "data": {
            "text/plain": [
              "'halo'"
            ],
            "application/vnd.google.colaboratory.intrinsic+json": {
              "type": "string"
            }
          },
          "metadata": {},
          "execution_count": 10
        }
      ]
    },
    {
      "cell_type": "code",
      "source": [
        "greet(\"Adipta\")"
      ],
      "metadata": {
        "colab": {
          "base_uri": "https://localhost:8080/",
          "height": 141
        },
        "id": "EqkpylE7SIiF",
        "outputId": "e690dc72-8f38-4b39-d719-52397284040c"
      },
      "execution_count": 11,
      "outputs": [
        {
          "output_type": "error",
          "ename": "TypeError",
          "evalue": "'str' object is not callable",
          "traceback": [
            "\u001b[0;31m---------------------------------------------------------------------------\u001b[0m",
            "\u001b[0;31mTypeError\u001b[0m                                 Traceback (most recent call last)",
            "\u001b[0;32m<ipython-input-11-40288f1e0f38>\u001b[0m in \u001b[0;36m<cell line: 1>\u001b[0;34m()\u001b[0m\n\u001b[0;32m----> 1\u001b[0;31m \u001b[0mgreet\u001b[0m\u001b[0;34m(\u001b[0m\u001b[0;34m\"Adipta\"\u001b[0m\u001b[0;34m)\u001b[0m\u001b[0;34m\u001b[0m\u001b[0;34m\u001b[0m\u001b[0m\n\u001b[0m",
            "\u001b[0;31mTypeError\u001b[0m: 'str' object is not callable"
          ]
        }
      ]
    },
    {
      "cell_type": "code",
      "source": [
        "def addition(x, y):\n",
        "  return x + y\n",
        "\n",
        "def substraction(x, y):\n",
        "  return x - y"
      ],
      "metadata": {
        "id": "SPB8FZk-RxbU"
      },
      "execution_count": 12,
      "outputs": []
    },
    {
      "cell_type": "code",
      "source": [
        "if addition:\n",
        "  addition(x, y)\n",
        "else:\n",
        "  substraction(x, y)"
      ],
      "metadata": {
        "id": "JoqRSNm0R6fh",
        "outputId": "024370ad-4dd6-4117-afc9-9807e818a1e7",
        "colab": {
          "base_uri": "https://localhost:8080/",
          "height": 193
        }
      },
      "execution_count": 13,
      "outputs": [
        {
          "output_type": "error",
          "ename": "NameError",
          "evalue": "name 'y' is not defined",
          "traceback": [
            "\u001b[0;31m---------------------------------------------------------------------------\u001b[0m",
            "\u001b[0;31mNameError\u001b[0m                                 Traceback (most recent call last)",
            "\u001b[0;32m<ipython-input-13-3c0aed3545a1>\u001b[0m in \u001b[0;36m<cell line: 1>\u001b[0;34m()\u001b[0m\n\u001b[1;32m      1\u001b[0m \u001b[0;32mif\u001b[0m \u001b[0maddition\u001b[0m\u001b[0;34m:\u001b[0m\u001b[0;34m\u001b[0m\u001b[0;34m\u001b[0m\u001b[0m\n\u001b[0;32m----> 2\u001b[0;31m   \u001b[0maddition\u001b[0m\u001b[0;34m(\u001b[0m\u001b[0mx\u001b[0m\u001b[0;34m,\u001b[0m \u001b[0my\u001b[0m\u001b[0;34m)\u001b[0m\u001b[0;34m\u001b[0m\u001b[0;34m\u001b[0m\u001b[0m\n\u001b[0m\u001b[1;32m      3\u001b[0m \u001b[0;32melse\u001b[0m\u001b[0;34m:\u001b[0m\u001b[0;34m\u001b[0m\u001b[0;34m\u001b[0m\u001b[0m\n\u001b[1;32m      4\u001b[0m   \u001b[0msubstraction\u001b[0m\u001b[0;34m(\u001b[0m\u001b[0mx\u001b[0m\u001b[0;34m,\u001b[0m \u001b[0my\u001b[0m\u001b[0;34m)\u001b[0m\u001b[0;34m\u001b[0m\u001b[0;34m\u001b[0m\u001b[0m\n",
            "\u001b[0;31mNameError\u001b[0m: name 'y' is not defined"
          ]
        }
      ]
    },
    {
      "cell_type": "markdown",
      "metadata": {
        "id": "BRjEFTEspMpS"
      },
      "source": [
        "## Lambda functions\n",
        "\n",
        "Lambda functions, also known as anonymous functions, are small, single-expression functions in Python that you can define using the `lambda` keyword. They are useful for short, simple operations and can be defined in one line. Lambda functions are useful when working with functions like `map()`, `filter()` or `sorted()`, where a small function needs to be passed.\n",
        "\n",
        "```py\n",
        "lambda arguments: expression\n",
        "```\n",
        "\n",
        "Remember: Use lambda functions for simple operations, and regular `def` functions for more complex tasks to keep your code readable."
      ]
    },
    {
      "cell_type": "code",
      "execution_count": 14,
      "metadata": {
        "id": "vbND0EiapMpS",
        "colab": {
          "base_uri": "https://localhost:8080/"
        },
        "outputId": "51414666-3827-4df9-e942-d05bc22a41ed"
      },
      "outputs": [
        {
          "output_type": "stream",
          "name": "stdout",
          "text": [
            "8\n",
            "16\n",
            "['kiwi', 'apple', 'banana', 'cherry']\n"
          ]
        }
      ],
      "source": [
        "# A lambda function to add two numbers:\n",
        "add = lambda x, y: x + y\n",
        "result1 = add(5, 3)\n",
        "print(result1)\n",
        "\n",
        "# A lambda function to find the square of a number:\n",
        "square = lambda x: x**2\n",
        "result2 = square(4)\n",
        "print(result2)\n",
        "\n",
        "# sorting a list of strings by length:\n",
        "text_list = [\"apple\", \"banana\", \"cherry\", \"kiwi\"]\n",
        "sorted_list = sorted(text_list, key=lambda x: len(x))\n",
        "print(sorted_list)"
      ]
    },
    {
      "cell_type": "code",
      "source": [
        "add = lambda x, y: x + y\n",
        "result1 = add(5, 3)\n",
        "print(result1)"
      ],
      "metadata": {
        "colab": {
          "base_uri": "https://localhost:8080/"
        },
        "id": "-q3K1DO1SToO",
        "outputId": "44381f49-aa47-448e-879c-a42c37728373"
      },
      "execution_count": 15,
      "outputs": [
        {
          "output_type": "stream",
          "name": "stdout",
          "text": [
            "8\n"
          ]
        }
      ]
    },
    {
      "cell_type": "code",
      "source": [
        "def addition(x, y):\n",
        "  return x + y"
      ],
      "metadata": {
        "id": "_U-oBEPdSZ8Q"
      },
      "execution_count": 16,
      "outputs": []
    },
    {
      "cell_type": "code",
      "source": [
        "result = addition(5, 3)"
      ],
      "metadata": {
        "id": "6OCd9pBBSbVp"
      },
      "execution_count": 17,
      "outputs": []
    },
    {
      "cell_type": "code",
      "source": [
        "result"
      ],
      "metadata": {
        "colab": {
          "base_uri": "https://localhost:8080/"
        },
        "id": "zDBXk8mETaOY",
        "outputId": "15a20624-0fea-405c-a5d2-fb0dc57c3889"
      },
      "execution_count": 18,
      "outputs": [
        {
          "output_type": "execute_result",
          "data": {
            "text/plain": [
              "8"
            ]
          },
          "metadata": {},
          "execution_count": 18
        }
      ]
    },
    {
      "cell_type": "code",
      "source": [
        "def addition2(x, y):\n",
        "  print(x+y)"
      ],
      "metadata": {
        "id": "tc3xgFf0S57N"
      },
      "execution_count": 19,
      "outputs": []
    },
    {
      "cell_type": "code",
      "source": [
        "addition2(3,5)"
      ],
      "metadata": {
        "colab": {
          "base_uri": "https://localhost:8080/"
        },
        "id": "eB97GySIS9QZ",
        "outputId": "fe4bd7d5-67c1-4fd8-e96b-bc967dfe50d7"
      },
      "execution_count": 20,
      "outputs": [
        {
          "output_type": "stream",
          "name": "stdout",
          "text": [
            "8\n"
          ]
        }
      ]
    },
    {
      "cell_type": "code",
      "source": [
        "result_2 = addition2(3,5)"
      ],
      "metadata": {
        "colab": {
          "base_uri": "https://localhost:8080/"
        },
        "id": "s_KidUUAS_O7",
        "outputId": "70567b18-cc24-45a3-f18c-5bdd9626fb33"
      },
      "execution_count": 21,
      "outputs": [
        {
          "output_type": "stream",
          "name": "stdout",
          "text": [
            "8\n"
          ]
        }
      ]
    },
    {
      "cell_type": "code",
      "source": [
        "result_2 == None"
      ],
      "metadata": {
        "colab": {
          "base_uri": "https://localhost:8080/"
        },
        "id": "qP_LTruwTTtc",
        "outputId": "e2278951-b5b3-44cf-cf8f-2d9cc13a5e1a"
      },
      "execution_count": 22,
      "outputs": [
        {
          "output_type": "execute_result",
          "data": {
            "text/plain": [
              "True"
            ]
          },
          "metadata": {},
          "execution_count": 22
        }
      ]
    },
    {
      "cell_type": "code",
      "source": [
        "type(result_2)"
      ],
      "metadata": {
        "colab": {
          "base_uri": "https://localhost:8080/"
        },
        "id": "gXhPBLIZTfb5",
        "outputId": "177bd39b-62eb-4f42-bb92-164ce8b6f0c4"
      },
      "execution_count": 23,
      "outputs": [
        {
          "output_type": "execute_result",
          "data": {
            "text/plain": [
              "NoneType"
            ]
          },
          "metadata": {},
          "execution_count": 23
        }
      ]
    },
    {
      "cell_type": "markdown",
      "metadata": {
        "id": "UeF__cXrpMpT"
      },
      "source": [
        "## Built-in functions\n",
        "\n",
        "Python comes with numerous built-in functions that are readily available for use. These are just a few examples of the built-in functions available in Python that are commonly used. There are many other built-in functions that can save time and simplify code when working with data. Refer to the official Python documentation for the complete list: [Python Built-in Functions](https://docs.python.org/3/library/functions.html)"
      ]
    },
    {
      "cell_type": "markdown",
      "metadata": {
        "id": "tKdvOhkhpMpU"
      },
      "source": [
        "### `sorted()`\n",
        "\n",
        "`sorted(iterable, *, key=None, reverse=False)`: Returns a new sorted list from the specified iterable."
      ]
    },
    {
      "cell_type": "code",
      "execution_count": 24,
      "metadata": {
        "id": "E7bO_dLcpMpU",
        "colab": {
          "base_uri": "https://localhost:8080/"
        },
        "outputId": "57e5eba8-a5cd-4a71-d182-29dd9ddd88bc"
      },
      "outputs": [
        {
          "output_type": "stream",
          "name": "stdout",
          "text": [
            "[1, 2, 3, 4, 5]\n"
          ]
        }
      ],
      "source": [
        "my_list = [3, 2, 5, 1, 4]\n",
        "sorted_list = sorted(my_list)\n",
        "print(sorted_list)"
      ]
    },
    {
      "cell_type": "markdown",
      "metadata": {
        "id": "VM2op9htpMpU"
      },
      "source": [
        "### `map()`\n",
        "\n",
        "`map(function, iterable)`: Applies a given function to all items in the input iterable, such as lists or tuples, and returns an iterable of the results."
      ]
    },
    {
      "cell_type": "code",
      "execution_count": 25,
      "metadata": {
        "id": "oi-W5p8zpMpU",
        "outputId": "1a15c5f5-fed7-4e59-e8f9-588824d6ab7c",
        "colab": {
          "base_uri": "https://localhost:8080/"
        }
      },
      "outputs": [
        {
          "output_type": "stream",
          "name": "stdout",
          "text": [
            "[1, 4, 9, 16, 25]\n"
          ]
        }
      ],
      "source": [
        "numbers = [1, 2, 3, 4, 5]\n",
        "squares = list(map(lambda x: x**2, numbers))\n",
        "print(squares)"
      ]
    },
    {
      "cell_type": "markdown",
      "metadata": {
        "id": "_irsYGVvpMpU"
      },
      "source": [
        "### `filter()`\n",
        "\n",
        "`filter(function, iterable)`: Filters the elements from an iterable, passing only those elements for which the input function returns `True`."
      ]
    },
    {
      "cell_type": "code",
      "execution_count": 26,
      "metadata": {
        "id": "F0w6T3fkpMpV",
        "outputId": "0e588b72-5faa-48b2-9d86-31295614c11c",
        "colab": {
          "base_uri": "https://localhost:8080/"
        }
      },
      "outputs": [
        {
          "output_type": "stream",
          "name": "stdout",
          "text": [
            "[2, 4]\n"
          ]
        }
      ],
      "source": [
        "numbers = [1, 2, 3, 4, 5]\n",
        "even_numbers = list(filter(lambda x: x % 2 == 0, numbers))\n",
        "print(even_numbers)"
      ]
    },
    {
      "cell_type": "markdown",
      "metadata": {
        "id": "v1gtMe0upMpV"
      },
      "source": [
        "### `zip()`\n",
        "\n",
        "`zip(*iterables)`: Combines multiple iterables, like lists or tuples, into a single iterable, pairing elements at the same index in each input iterable."
      ]
    },
    {
      "cell_type": "code",
      "execution_count": 27,
      "metadata": {
        "id": "SLGZtGx9pMpV",
        "outputId": "dfcac89b-674b-4022-f61c-7d3b07d10e45",
        "colab": {
          "base_uri": "https://localhost:8080/"
        }
      },
      "outputs": [
        {
          "output_type": "stream",
          "name": "stdout",
          "text": [
            "[('Alice', 30), ('Bob', 25), ('Carol', 28)]\n"
          ]
        }
      ],
      "source": [
        "names = [\"Alice\", \"Bob\", \"Carol\"]\n",
        "ages = [30, 25, 28]\n",
        "combined = list(zip(names, ages))\n",
        "print(combined)"
      ]
    },
    {
      "cell_type": "code",
      "source": [
        "%%writefile test.py\n",
        "print(\"Hello world\")"
      ],
      "metadata": {
        "colab": {
          "base_uri": "https://localhost:8080/"
        },
        "id": "2Odww_E6WSOb",
        "outputId": "158811c1-3aa2-43f7-932b-b51a084c02b7"
      },
      "execution_count": 28,
      "outputs": [
        {
          "output_type": "stream",
          "name": "stdout",
          "text": [
            "Writing test.py\n"
          ]
        }
      ]
    },
    {
      "cell_type": "markdown",
      "metadata": {
        "id": "JYvW-lFcpMpV"
      },
      "source": [
        "## Exercise Function"
      ]
    },
    {
      "cell_type": "code",
      "execution_count": 29,
      "metadata": {
        "id": "1WPHCt-mpMpV",
        "outputId": "4c7ddde8-0623-4329-c2f7-f090fabdd823",
        "colab": {
          "base_uri": "https://localhost:8080/"
        }
      },
      "outputs": [
        {
          "output_type": "stream",
          "name": "stdout",
          "text": [
            "Collecting rggrader\n",
            "  Downloading rggrader-0.1.6-py3-none-any.whl (2.5 kB)\n",
            "Requirement already satisfied: requests in /usr/local/lib/python3.10/dist-packages (from rggrader) (2.31.0)\n",
            "Requirement already satisfied: pandas in /usr/local/lib/python3.10/dist-packages (from rggrader) (2.0.3)\n",
            "Requirement already satisfied: Pillow in /usr/local/lib/python3.10/dist-packages (from rggrader) (9.4.0)\n",
            "Requirement already satisfied: python-dateutil>=2.8.2 in /usr/local/lib/python3.10/dist-packages (from pandas->rggrader) (2.8.2)\n",
            "Requirement already satisfied: pytz>=2020.1 in /usr/local/lib/python3.10/dist-packages (from pandas->rggrader) (2023.4)\n",
            "Requirement already satisfied: tzdata>=2022.1 in /usr/local/lib/python3.10/dist-packages (from pandas->rggrader) (2024.1)\n",
            "Requirement already satisfied: numpy>=1.21.0 in /usr/local/lib/python3.10/dist-packages (from pandas->rggrader) (1.25.2)\n",
            "Requirement already satisfied: charset-normalizer<4,>=2 in /usr/local/lib/python3.10/dist-packages (from requests->rggrader) (3.3.2)\n",
            "Requirement already satisfied: idna<4,>=2.5 in /usr/local/lib/python3.10/dist-packages (from requests->rggrader) (3.7)\n",
            "Requirement already satisfied: urllib3<3,>=1.21.1 in /usr/local/lib/python3.10/dist-packages (from requests->rggrader) (2.0.7)\n",
            "Requirement already satisfied: certifi>=2017.4.17 in /usr/local/lib/python3.10/dist-packages (from requests->rggrader) (2024.7.4)\n",
            "Requirement already satisfied: six>=1.5 in /usr/local/lib/python3.10/dist-packages (from python-dateutil>=2.8.2->pandas->rggrader) (1.16.0)\n",
            "Installing collected packages: rggrader\n",
            "Successfully installed rggrader-0.1.6\n"
          ]
        }
      ],
      "source": [
        "!pip install rggrader"
      ]
    },
    {
      "cell_type": "code",
      "execution_count": 30,
      "metadata": {
        "id": "Ug9fWL5gpMpV"
      },
      "outputs": [],
      "source": [
        "# @title #### Student Identity\n",
        "student_id = \"REAFCDNE\" # @param {type:\"string\"}\n",
        "name = \"Riofebri Prasetia\" # @param {type:\"string\"}"
      ]
    },
    {
      "cell_type": "code",
      "source": [
        "student_id = \"123\"\n",
        "name = \"adipta\""
      ],
      "metadata": {
        "id": "52quaaR4UgkY"
      },
      "execution_count": 31,
      "outputs": []
    },
    {
      "cell_type": "code",
      "source": [
        "def calculate_circle_area(radius):\n",
        "    # your code here\n",
        "    # pi * r * r\n",
        "    return 3.14 * radius * radius"
      ],
      "metadata": {
        "id": "RpoxsKhrWsTx"
      },
      "execution_count": 32,
      "outputs": []
    },
    {
      "cell_type": "code",
      "source": [
        "calculate_circle_area(10)"
      ],
      "metadata": {
        "colab": {
          "base_uri": "https://localhost:8080/"
        },
        "id": "LqkBmC4tWyFa",
        "outputId": "6dcb7ac2-05ff-4ab5-b9d5-c4ed958c05de"
      },
      "execution_count": 33,
      "outputs": [
        {
          "output_type": "execute_result",
          "data": {
            "text/plain": [
              "314.0"
            ]
          },
          "metadata": {},
          "execution_count": 33
        }
      ]
    },
    {
      "cell_type": "code",
      "execution_count": 39,
      "metadata": {
        "id": "3oXDRqP-pMpW",
        "outputId": "2f08f635-1128-45d8-d7fe-8f7c820ecf44",
        "colab": {
          "base_uri": "https://localhost:8080/",
          "height": 53
        }
      },
      "outputs": [
        {
          "output_type": "stream",
          "name": "stdout",
          "text": [
            "78.5\n"
          ]
        },
        {
          "output_type": "execute_result",
          "data": {
            "text/plain": [
              "'Assignment successfully submitted'"
            ],
            "application/vnd.google.colaboratory.intrinsic+json": {
              "type": "string"
            }
          },
          "metadata": {},
          "execution_count": 39
        }
      ],
      "source": [
        "# @title #### 00. Circle Area Function\n",
        "from rggrader import submit\n",
        "import math\n",
        "\n",
        "rad = 5\n",
        "\n",
        "# TODO: Define a function 'calculate_area' that takes a radius as a parameter and returns the area of a circle with that radius.\n",
        "def calculate_circle_area(radius):\n",
        "    return 3.14 * radius * radius\n",
        "\n",
        "print(calculate_circle_area(5))\n",
        "\n",
        "# Submit Method\n",
        "assignment_id = \"02-function\"\n",
        "question_id = \"00_circle-area-function\"\n",
        "submit(student_id, name, assignment_id, str(calculate_circle_area(rad)), question_id)"
      ]
    },
    {
      "cell_type": "code",
      "execution_count": 40,
      "metadata": {
        "id": "QkJXqd8dpMpW",
        "outputId": "1875de12-bbec-4ddf-bd96-8a5f6c3673b6",
        "colab": {
          "base_uri": "https://localhost:8080/",
          "height": 53
        }
      },
      "outputs": [
        {
          "output_type": "stream",
          "name": "stdout",
          "text": [
            "[1, 2, 3, 4, 5]\n"
          ]
        },
        {
          "output_type": "execute_result",
          "data": {
            "text/plain": [
              "'Assignment successfully submitted'"
            ],
            "application/vnd.google.colaboratory.intrinsic+json": {
              "type": "string"
            }
          },
          "metadata": {},
          "execution_count": 40
        }
      ],
      "source": [
        "# @title #### 02. Fun with Lambda and Filter\n",
        "from rggrader import submit\n",
        "\n",
        "# Given a list of positive integers\n",
        "numbers = [1, 2, 3, 4, 5, 6, 7, 8, 9, 10]\n",
        "\n",
        "# TODO: Use a lambda function and the 'filter' function to keep numbers less than 6.\n",
        "# Result should be a list of numbers less than 6.\n",
        "filtered_numbers = list(filter(lambda x: x < 6, numbers))\n",
        "print(filtered_numbers)\n",
        "# Submit Method\n",
        "assignment_id = \"02-functions\"\n",
        "question_id = \"01_fun-with-lambda-and-filter\"\n",
        "submit(student_id, name, assignment_id, str(filtered_numbers), question_id)"
      ]
    },
    {
      "cell_type": "code",
      "execution_count": 42,
      "metadata": {
        "id": "SrCusnfypMpW",
        "outputId": "35cc3e4c-2b34-419d-9e70-c6dc0e1d6299",
        "colab": {
          "base_uri": "https://localhost:8080/",
          "height": 53
        }
      },
      "outputs": [
        {
          "output_type": "stream",
          "name": "stdout",
          "text": [
            "[True, True, True, True, True, True, True, True, True, True]\n"
          ]
        },
        {
          "output_type": "execute_result",
          "data": {
            "text/plain": [
              "'Assignment successfully submitted'"
            ],
            "application/vnd.google.colaboratory.intrinsic+json": {
              "type": "string"
            }
          },
          "metadata": {},
          "execution_count": 42
        }
      ],
      "source": [
        "# @title #### 03. Adventures with Map and Filter\n",
        "from rggrader import submit\n",
        "\n",
        "# Given a list of positive integers\n",
        "numbers = [1, 2, 3, 4, 5, 6, 7, 8, 9, 10]\n",
        "\n",
        "# TODO: Use the 'map' function to double the numbers and the 'filter' function to keep numbers less than 15.\n",
        "# Hint: You can use 'map' and 'filter' together.\n",
        "modified_numbers = list(map(lambda x: x<15, numbers))\n",
        "print(modified_numbers)\n",
        "# Submit Method\n",
        "assignment_id = \"02-functions\"\n",
        "question_id = \"02_adventures-with-map-and-filter\"\n",
        "submit(student_id, name, assignment_id, str(modified_numbers), question_id)"
      ]
    }
  ],
  "metadata": {
    "celltoolbar": "Slideshow",
    "kernelspec": {
      "display_name": "Python 3 (ipykernel)",
      "language": "python",
      "name": "python3"
    },
    "language_info": {
      "codemirror_mode": {
        "name": "ipython",
        "version": 3
      },
      "file_extension": ".py",
      "mimetype": "text/x-python",
      "name": "python",
      "nbconvert_exporter": "python",
      "pygments_lexer": "ipython3",
      "version": "3.11.3"
    },
    "colab": {
      "provenance": [],
      "include_colab_link": true
    }
  },
  "nbformat": 4,
  "nbformat_minor": 0
}