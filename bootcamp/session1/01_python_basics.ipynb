{
  "cells": [
    {
      "cell_type": "markdown",
      "metadata": {
        "id": "view-in-github",
        "colab_type": "text"
      },
      "source": [
        "<a href=\"https://colab.research.google.com/github/rii92/Datmin/blob/main/bootcamp/session1/01_python_basics.ipynb\" target=\"_parent\"><img src=\"https://colab.research.google.com/assets/colab-badge.svg\" alt=\"Open In Colab\"/></a>"
      ]
    },
    {
      "cell_type": "markdown",
      "metadata": {
        "id": "Iy-kZFBBm4ay"
      },
      "source": [
        "# Python Basics"
      ]
    },
    {
      "cell_type": "markdown",
      "metadata": {
        "id": "Zd6QsgU8m4a2"
      },
      "source": [
        "## Basic syntax"
      ]
    },
    {
      "cell_type": "markdown",
      "metadata": {
        "id": "o86VImIum4a2"
      },
      "source": [
        "### Comment\n",
        "\n",
        "Comments are completely ignored by the interpreter. They are meant for fellow programmers. In Python, there are two types of comments:\n",
        "- Single-line comment\n",
        "- Multi-line comment\n",
        "\n",
        "We use the `#` symbol to write a single-line comment and triple quotes, either `'''` or `\"\"\"` to write multi-line comment."
      ]
    },
    {
      "cell_type": "code",
      "execution_count": 1,
      "metadata": {
        "id": "RNyWEcs-m4a3",
        "colab": {
          "base_uri": "https://localhost:8080/",
          "height": 35
        },
        "outputId": "e0c7b39d-5435-43f1-ace2-4e7bf6152f9d"
      },
      "outputs": [
        {
          "output_type": "execute_result",
          "data": {
            "text/plain": [
              "'\\nThis is a\\nmulti-line\\ncomment in Python\\n'"
            ],
            "application/vnd.google.colaboratory.intrinsic+json": {
              "type": "string"
            }
          },
          "metadata": {},
          "execution_count": 1
        }
      ],
      "source": [
        "# This is a single-line comment in Python\n",
        "\n",
        "\"\"\"\n",
        "This is a\n",
        "multi-line\n",
        "comment in Python\n",
        "\"\"\""
      ]
    },
    {
      "cell_type": "markdown",
      "metadata": {
        "id": "-wS_lOIEm4a4"
      },
      "source": [
        "### Indentation\n",
        "\n",
        "Python uses indentation to define blocks of code, instead of curly braces. Both tabs and spaces are supported, but the standard indentation requires standard Python code to use four spaces"
      ]
    },
    {
      "cell_type": "code",
      "source": [
        "if 5 > 2:\n",
        "  print(\"oke\")"
      ],
      "metadata": {
        "colab": {
          "base_uri": "https://localhost:8080/"
        },
        "id": "rQguiKQSKedW",
        "outputId": "2331bfa3-f8ec-43f3-cb6a-2849f967e681"
      },
      "execution_count": 2,
      "outputs": [
        {
          "output_type": "stream",
          "name": "stdout",
          "text": [
            "oke\n"
          ]
        }
      ]
    },
    {
      "cell_type": "code",
      "source": [
        "if 5 > 2:\n",
        "print(\"oke\")"
      ],
      "metadata": {
        "colab": {
          "base_uri": "https://localhost:8080/",
          "height": 106
        },
        "id": "sbNdCLIyKk7Q",
        "outputId": "3e0c2de0-a6a8-4765-f38e-f301ce8b984a"
      },
      "execution_count": 3,
      "outputs": [
        {
          "output_type": "error",
          "ename": "IndentationError",
          "evalue": "expected an indented block after 'if' statement on line 1 (<ipython-input-3-e1cd14725f1c>, line 2)",
          "traceback": [
            "\u001b[0;36m  File \u001b[0;32m\"<ipython-input-3-e1cd14725f1c>\"\u001b[0;36m, line \u001b[0;32m2\u001b[0m\n\u001b[0;31m    print(\"oke\")\u001b[0m\n\u001b[0m    ^\u001b[0m\n\u001b[0;31mIndentationError\u001b[0m\u001b[0;31m:\u001b[0m expected an indented block after 'if' statement on line 1\n"
          ]
        }
      ]
    },
    {
      "cell_type": "code",
      "source": [
        "if 5 > 2:\n",
        "  if 10 > 2:\n",
        "    if 15 > 2:\n",
        "      print(\"yaaaaa\")"
      ],
      "metadata": {
        "colab": {
          "base_uri": "https://localhost:8080/"
        },
        "id": "NpGR4pGCKsIc",
        "outputId": "7033ae45-2496-44c5-e343-5be62ca6bc9c"
      },
      "execution_count": 5,
      "outputs": [
        {
          "output_type": "stream",
          "name": "stdout",
          "text": [
            "yaaaaa\n"
          ]
        }
      ]
    },
    {
      "cell_type": "code",
      "execution_count": 6,
      "metadata": {
        "id": "Kz0wE0YFm4a5",
        "outputId": "67b2ff78-a5ec-43a1-9a7e-1ccc31f322b9",
        "colab": {
          "base_uri": "https://localhost:8080/"
        }
      },
      "outputs": [
        {
          "output_type": "stream",
          "name": "stdout",
          "text": [
            "5 is greater than 2\n",
            "10 is greater than 5\n"
          ]
        }
      ],
      "source": [
        "if 5 > 2:\n",
        "    # Indented four spaces\n",
        "    # This block has one level of indentation\n",
        "    print(\"5 is greater than 2\")\n",
        "\n",
        "    if 10 > 5:\n",
        "        # This block has two levels of indentation\n",
        "        print(\"10 is greater than 5\")"
      ]
    },
    {
      "cell_type": "markdown",
      "metadata": {
        "id": "I2HhDF1dm4a5"
      },
      "source": [
        "### Lines\n",
        "\n",
        "You can use a backslash if you need to place a long statement on multiple lines or put multiple short statements on the same line using a semicolon."
      ]
    },
    {
      "cell_type": "code",
      "execution_count": 7,
      "metadata": {
        "id": "1tt3Jauvm4a6"
      },
      "outputs": [],
      "source": [
        "# This is a long statement broken into two lines by using a backslash\n",
        "result = 1 + 2 + 3 + 4 + \\\n",
        "         5 + 6 + 7 + 8\n",
        "\n",
        "# These are two short statements placed on the same line using a semicolon\n",
        "x = 5; y = 10"
      ]
    },
    {
      "cell_type": "code",
      "source": [
        "result"
      ],
      "metadata": {
        "colab": {
          "base_uri": "https://localhost:8080/"
        },
        "id": "yW9ktHguK5tD",
        "outputId": "d2e0d8bb-e5ea-4531-c5a1-66542ccdc533"
      },
      "execution_count": 8,
      "outputs": [
        {
          "output_type": "execute_result",
          "data": {
            "text/plain": [
              "36"
            ]
          },
          "metadata": {},
          "execution_count": 8
        }
      ]
    },
    {
      "cell_type": "markdown",
      "metadata": {
        "id": "aCu454Kam4a7"
      },
      "source": [
        "## Data types"
      ]
    },
    {
      "cell_type": "markdown",
      "metadata": {
        "id": "8w2J6Uzbm4a7"
      },
      "source": [
        "### Numbers\n",
        "\n",
        "Python supports two types of numbers - integers(whole numbers) and floating point numbers(decimals).\n",
        "\n",
        "Integers are whole numbers, both positive and negative, without decimals. Floats represent real numbers, both positive and negative, with decimal points."
      ]
    },
    {
      "cell_type": "code",
      "execution_count": 9,
      "metadata": {
        "id": "yJTlxQErm4a8"
      },
      "outputs": [],
      "source": [
        "myint1 = 5  # An integer\n",
        "myint2 = -42 # Another integer\n",
        "\n",
        "myfloat1 = 3.14   # A float\n",
        "myfloat2 = -0.007 # Another float"
      ]
    },
    {
      "cell_type": "code",
      "source": [
        "type(myint1)"
      ],
      "metadata": {
        "colab": {
          "base_uri": "https://localhost:8080/"
        },
        "id": "7Ntl0_FILBxl",
        "outputId": "50e925a9-d811-4fd7-ccee-aed820920814"
      },
      "execution_count": 10,
      "outputs": [
        {
          "output_type": "execute_result",
          "data": {
            "text/plain": [
              "int"
            ]
          },
          "metadata": {},
          "execution_count": 10
        }
      ]
    },
    {
      "cell_type": "code",
      "source": [
        "type(myfloat1)"
      ],
      "metadata": {
        "colab": {
          "base_uri": "https://localhost:8080/"
        },
        "id": "TZ6Tz-syLFRU",
        "outputId": "9df91a1b-a4d3-4d48-9d53-51818415ebed"
      },
      "execution_count": 11,
      "outputs": [
        {
          "output_type": "execute_result",
          "data": {
            "text/plain": [
              "float"
            ]
          },
          "metadata": {},
          "execution_count": 11
        }
      ]
    },
    {
      "cell_type": "markdown",
      "metadata": {
        "id": "5Rbus5VHm4a8"
      },
      "source": [
        "### String\n",
        "\n",
        "Strings are sequences of characters, enclosed in single or double quotes."
      ]
    },
    {
      "cell_type": "code",
      "execution_count": 12,
      "metadata": {
        "id": "shVsE9rum4a8"
      },
      "outputs": [],
      "source": [
        "mystring1 = 'Hello, World!' # A string using single quotes\n",
        "mystring2 = \"Hello, World!\" # A string using double quotes"
      ]
    },
    {
      "cell_type": "code",
      "source": [
        "type(mystring1)"
      ],
      "metadata": {
        "colab": {
          "base_uri": "https://localhost:8080/"
        },
        "id": "frYuCwkTLSmJ",
        "outputId": "4928c520-3827-4670-acdd-0c8074f5cdf0"
      },
      "execution_count": 13,
      "outputs": [
        {
          "output_type": "execute_result",
          "data": {
            "text/plain": [
              "str"
            ]
          },
          "metadata": {},
          "execution_count": 13
        }
      ]
    },
    {
      "cell_type": "markdown",
      "metadata": {
        "id": "vWqqJpWlm4a8"
      },
      "source": [
        "### Boolean\n",
        "\n",
        "A binary variable, having two possible values called `True` and `False`.\n"
      ]
    },
    {
      "cell_type": "code",
      "execution_count": 14,
      "metadata": {
        "id": "wZADrG2Um4a8"
      },
      "outputs": [],
      "source": [
        "x = True  # A boolean with the value True\n",
        "y = False # A boolean with the value False"
      ]
    },
    {
      "cell_type": "code",
      "source": [
        "type(x)"
      ],
      "metadata": {
        "colab": {
          "base_uri": "https://localhost:8080/"
        },
        "id": "fd0tcuvbLXlR",
        "outputId": "392fd69d-0153-4cda-8b57-d91137d1799d"
      },
      "execution_count": 15,
      "outputs": [
        {
          "output_type": "execute_result",
          "data": {
            "text/plain": [
              "bool"
            ]
          },
          "metadata": {},
          "execution_count": 15
        }
      ]
    },
    {
      "cell_type": "markdown",
      "metadata": {
        "id": "BWA_U4Hom4a9"
      },
      "source": [
        "## Variables and value assignment"
      ]
    },
    {
      "cell_type": "markdown",
      "metadata": {
        "id": "HopT54Nzm4a9"
      },
      "source": [
        "Variable names in Python should start with a letter or an underscore (_) and can be followed by any combination of letters, numbers, or underscores. They are case-sensitive, so `var1` and `Var1` are different variables. Assigning a value to a variable is done using the assignment operator (`=`)."
      ]
    },
    {
      "cell_type": "code",
      "execution_count": 16,
      "metadata": {
        "id": "SCSNH2_sm4a9"
      },
      "outputs": [],
      "source": [
        "# Assigning an integer value to a variable\n",
        "x = 10\n",
        "\n",
        "# Assigning a float value to a variable\n",
        "y = 5.5\n",
        "\n",
        "# Assigning a string value to a variable\n",
        "name = \"John Doe\"\n",
        "\n",
        "# Assigning a boolean value to a variable\n",
        "is_active = True"
      ]
    },
    {
      "cell_type": "code",
      "source": [
        "name"
      ],
      "metadata": {
        "colab": {
          "base_uri": "https://localhost:8080/",
          "height": 35
        },
        "id": "I4csCaK7Lke-",
        "outputId": "9df14811-353e-45df-e3e4-dcbbfa6135d8"
      },
      "execution_count": 17,
      "outputs": [
        {
          "output_type": "execute_result",
          "data": {
            "text/plain": [
              "'John Doe'"
            ],
            "application/vnd.google.colaboratory.intrinsic+json": {
              "type": "string"
            }
          },
          "metadata": {},
          "execution_count": 17
        }
      ]
    },
    {
      "cell_type": "code",
      "source": [
        "nama"
      ],
      "metadata": {
        "colab": {
          "base_uri": "https://localhost:8080/",
          "height": 141
        },
        "id": "I4okDfOjLn9U",
        "outputId": "8a7d1365-366e-461a-8a7c-7a0c07166ec1"
      },
      "execution_count": 18,
      "outputs": [
        {
          "output_type": "error",
          "ename": "NameError",
          "evalue": "name 'nama' is not defined",
          "traceback": [
            "\u001b[0;31m---------------------------------------------------------------------------\u001b[0m",
            "\u001b[0;31mNameError\u001b[0m                                 Traceback (most recent call last)",
            "\u001b[0;32m<ipython-input-18-7182ea43d375>\u001b[0m in \u001b[0;36m<cell line: 1>\u001b[0;34m()\u001b[0m\n\u001b[0;32m----> 1\u001b[0;31m \u001b[0mnama\u001b[0m\u001b[0;34m\u001b[0m\u001b[0;34m\u001b[0m\u001b[0m\n\u001b[0m",
            "\u001b[0;31mNameError\u001b[0m: name 'nama' is not defined"
          ]
        }
      ]
    },
    {
      "cell_type": "markdown",
      "metadata": {
        "id": "oW9kLzyBm4a9"
      },
      "source": [
        "Assignments can be done on more than one variable \"simultaneously\" on the same line, and you can assign the same value to multiple variables"
      ]
    },
    {
      "cell_type": "code",
      "execution_count": 20,
      "metadata": {
        "id": "5KQ8R4arm4a9"
      },
      "outputs": [],
      "source": [
        "# assign values to multiple variables\n",
        "a, b, c = 1, 2, 3\n",
        "\n",
        "# assign the same value to multiple variables\n",
        "x = y = z = 8\n",
        "a = 10\n",
        "z = 15"
      ]
    },
    {
      "cell_type": "code",
      "source": [
        "a"
      ],
      "metadata": {
        "colab": {
          "base_uri": "https://localhost:8080/"
        },
        "id": "78IApGK-L2e3",
        "outputId": "c578161b-76b0-4287-94e3-6208369de11c"
      },
      "execution_count": 21,
      "outputs": [
        {
          "output_type": "execute_result",
          "data": {
            "text/plain": [
              "10"
            ]
          },
          "metadata": {},
          "execution_count": 21
        }
      ]
    },
    {
      "cell_type": "code",
      "source": [
        "z"
      ],
      "metadata": {
        "colab": {
          "base_uri": "https://localhost:8080/"
        },
        "id": "ufxO5KU-MEMu",
        "outputId": "dc247699-4bbe-4d3b-f0a0-bf981e508554"
      },
      "execution_count": 22,
      "outputs": [
        {
          "output_type": "execute_result",
          "data": {
            "text/plain": [
              "15"
            ]
          },
          "metadata": {},
          "execution_count": 22
        }
      ]
    },
    {
      "cell_type": "markdown",
      "metadata": {
        "id": "J_LBqxTSm4a-"
      },
      "source": [
        "## Mathematical and comparison operations"
      ]
    },
    {
      "cell_type": "markdown",
      "metadata": {
        "id": "5WBGPGNNm4a-"
      },
      "source": [
        "### Mathematical Operations"
      ]
    },
    {
      "cell_type": "code",
      "execution_count": 23,
      "metadata": {
        "id": "xj8Iq10Qm4a-"
      },
      "outputs": [],
      "source": [
        "# Addition (+)\n",
        "a = 5 + 3 # a will be 8\n",
        "\n",
        "# Subtraction (-)\n",
        "b = 5 - 3 # b will be 2\n",
        "\n",
        "# Multiplication (*)\n",
        "c = 5 * 3 # c will be 15\n",
        "\n",
        "# Division (/)\n",
        "d = 15 / 3 # d will be 5.0\n",
        "\n",
        "# Modulus (%)\n",
        "e = 7 % 3 # e will be 1\n",
        "\n",
        "# Exponentiation (**)\n",
        "f = 2 ** 3 # f will be 8\n",
        "\n",
        "# Floor Division (//)\n",
        "g = 7 // 3 # g will be 2"
      ]
    },
    {
      "cell_type": "code",
      "source": [
        "d * a"
      ],
      "metadata": {
        "colab": {
          "base_uri": "https://localhost:8080/"
        },
        "id": "dt7NtNNtMNMJ",
        "outputId": "dc12b574-27d4-468a-d982-75113500ddd7"
      },
      "execution_count": 24,
      "outputs": [
        {
          "output_type": "execute_result",
          "data": {
            "text/plain": [
              "40.0"
            ]
          },
          "metadata": {},
          "execution_count": 24
        }
      ]
    },
    {
      "cell_type": "markdown",
      "metadata": {
        "id": "m9FbW6t1m4a-"
      },
      "source": [
        "### Comparison Operations"
      ]
    },
    {
      "cell_type": "code",
      "execution_count": 25,
      "metadata": {
        "id": "pGEmxfoWm4a-"
      },
      "outputs": [],
      "source": [
        "# Equal to (==)\n",
        "result1 = (5 == 3) # result will be False\n",
        "\n",
        "# Not equal to (!=)\n",
        "result2 = (5 != 3) # result will be True\n",
        "\n",
        "# Greater than (>)\n",
        "result3 = (5 > 3) # result will be True\n",
        "\n",
        "# Less than (<)\n",
        "result4 = (5 < 3) # result will be False\n",
        "\n",
        "# Greater than or equal to (>=)\n",
        "result5 = (5 >= 3) # result will be True\n",
        "\n",
        "# Less than or equal to (<=)\n",
        "result6 = (5 <= 3) # result will be False"
      ]
    },
    {
      "cell_type": "code",
      "source": [
        "result1"
      ],
      "metadata": {
        "colab": {
          "base_uri": "https://localhost:8080/"
        },
        "id": "IyOpbAIMMfX6",
        "outputId": "a313ad36-b320-4bb1-c01a-a3c4abd6a7c6"
      },
      "execution_count": 26,
      "outputs": [
        {
          "output_type": "execute_result",
          "data": {
            "text/plain": [
              "False"
            ]
          },
          "metadata": {},
          "execution_count": 26
        }
      ]
    },
    {
      "cell_type": "code",
      "source": [
        "result3"
      ],
      "metadata": {
        "colab": {
          "base_uri": "https://localhost:8080/"
        },
        "id": "5Lz6_De5MouE",
        "outputId": "8944a0d5-92b0-44b7-def5-fd46a55e058e"
      },
      "execution_count": 27,
      "outputs": [
        {
          "output_type": "execute_result",
          "data": {
            "text/plain": [
              "True"
            ]
          },
          "metadata": {},
          "execution_count": 27
        }
      ]
    },
    {
      "cell_type": "markdown",
      "metadata": {
        "id": "fTrHwozSm4a_"
      },
      "source": [
        "## Logical operations\n",
        "\n",
        "In Python, you can perform logical operations using the following logical operators: `and`, `or`, and `not`. They are used to combine or modify boolean values (`True` and `False`)."
      ]
    },
    {
      "cell_type": "markdown",
      "metadata": {
        "id": "BKytuJ6fm4a_"
      },
      "source": [
        "### `and`\n",
        "\n",
        "Returns `True` if **both** operands are `True`, otherwise returns `False`."
      ]
    },
    {
      "cell_type": "code",
      "execution_count": 28,
      "metadata": {
        "id": "brqXDhX_m4a_"
      },
      "outputs": [],
      "source": [
        "x = True and False # x will be False\n",
        "y = True and True  # y will be True"
      ]
    },
    {
      "cell_type": "code",
      "source": [
        "5 > 3 and 5==3"
      ],
      "metadata": {
        "colab": {
          "base_uri": "https://localhost:8080/"
        },
        "id": "ZfwGpav4M07v",
        "outputId": "446501eb-154b-437f-90f2-2986c0f6b0ef"
      },
      "execution_count": 29,
      "outputs": [
        {
          "output_type": "execute_result",
          "data": {
            "text/plain": [
              "False"
            ]
          },
          "metadata": {},
          "execution_count": 29
        }
      ]
    },
    {
      "cell_type": "markdown",
      "metadata": {
        "id": "fZx3DyAim4a_"
      },
      "source": [
        "### `or`\n",
        "\n",
        "Returns `True` if **at least one** operand is `True`, otherwise returns `False`."
      ]
    },
    {
      "cell_type": "code",
      "execution_count": 30,
      "metadata": {
        "id": "LiP4z56zm4a_"
      },
      "outputs": [],
      "source": [
        "x = True or False # x will be True\n",
        "y = False or False # y will be False"
      ]
    },
    {
      "cell_type": "code",
      "source": [
        "5 > 3 or 5==3"
      ],
      "metadata": {
        "colab": {
          "base_uri": "https://localhost:8080/"
        },
        "id": "wqfB0Gu6NDWC",
        "outputId": "b782da32-3683-4c24-ced1-816fc6fa989f"
      },
      "execution_count": 31,
      "outputs": [
        {
          "output_type": "execute_result",
          "data": {
            "text/plain": [
              "True"
            ]
          },
          "metadata": {},
          "execution_count": 31
        }
      ]
    },
    {
      "cell_type": "markdown",
      "metadata": {
        "id": "sf-5N07Gm4a_"
      },
      "source": [
        "### `not`\n",
        "\n",
        "Returns `True` if the operand is `False`, and `False` if the operand is `True`."
      ]
    },
    {
      "cell_type": "code",
      "execution_count": 32,
      "metadata": {
        "id": "SYgTAr3km4a_"
      },
      "outputs": [],
      "source": [
        "x = not True  # x will be False\n",
        "y = not False # y will be True"
      ]
    },
    {
      "cell_type": "code",
      "source": [
        "not (5 > 3 or 5==3)"
      ],
      "metadata": {
        "colab": {
          "base_uri": "https://localhost:8080/"
        },
        "id": "s9ovUDzkNJww",
        "outputId": "69b51b60-68d3-4cce-9441-529ed7100cef"
      },
      "execution_count": 33,
      "outputs": [
        {
          "output_type": "execute_result",
          "data": {
            "text/plain": [
              "False"
            ]
          },
          "metadata": {},
          "execution_count": 33
        }
      ]
    },
    {
      "cell_type": "markdown",
      "metadata": {
        "id": "WWpDWGKVm4bA"
      },
      "source": [
        "You can combine multiple logical operators and use parentheses to group conditions and control the order of evaluation."
      ]
    },
    {
      "cell_type": "code",
      "execution_count": 34,
      "metadata": {
        "id": "PhUANcGim4bA"
      },
      "outputs": [],
      "source": [
        "a = 5\n",
        "b = 3\n",
        "c = 2\n",
        "\n",
        "result = (a > b) and (c < b) # result will be True"
      ]
    },
    {
      "cell_type": "markdown",
      "metadata": {
        "id": "bvwYJoh6m4bA"
      },
      "source": [
        "In this example, (a > b) is True, (c < b) is True, and as both conditions are True, the logical and operation returns True."
      ]
    },
    {
      "cell_type": "markdown",
      "metadata": {
        "id": "U4mhfiYRm4bA"
      },
      "source": [
        "## Exercise Python Basics"
      ]
    },
    {
      "cell_type": "code",
      "execution_count": 35,
      "metadata": {
        "id": "1S5-JPH6m4bA",
        "colab": {
          "base_uri": "https://localhost:8080/"
        },
        "outputId": "263dda1f-c795-4b3e-810c-af18b6e74bf1"
      },
      "outputs": [
        {
          "output_type": "stream",
          "name": "stdout",
          "text": [
            "Collecting rggrader\n",
            "  Downloading rggrader-0.1.6-py3-none-any.whl (2.5 kB)\n",
            "Requirement already satisfied: requests in /usr/local/lib/python3.10/dist-packages (from rggrader) (2.31.0)\n",
            "Requirement already satisfied: pandas in /usr/local/lib/python3.10/dist-packages (from rggrader) (2.0.3)\n",
            "Requirement already satisfied: Pillow in /usr/local/lib/python3.10/dist-packages (from rggrader) (9.4.0)\n",
            "Requirement already satisfied: python-dateutil>=2.8.2 in /usr/local/lib/python3.10/dist-packages (from pandas->rggrader) (2.8.2)\n",
            "Requirement already satisfied: pytz>=2020.1 in /usr/local/lib/python3.10/dist-packages (from pandas->rggrader) (2023.4)\n",
            "Requirement already satisfied: tzdata>=2022.1 in /usr/local/lib/python3.10/dist-packages (from pandas->rggrader) (2024.1)\n",
            "Requirement already satisfied: numpy>=1.21.0 in /usr/local/lib/python3.10/dist-packages (from pandas->rggrader) (1.25.2)\n",
            "Requirement already satisfied: charset-normalizer<4,>=2 in /usr/local/lib/python3.10/dist-packages (from requests->rggrader) (3.3.2)\n",
            "Requirement already satisfied: idna<4,>=2.5 in /usr/local/lib/python3.10/dist-packages (from requests->rggrader) (3.7)\n",
            "Requirement already satisfied: urllib3<3,>=1.21.1 in /usr/local/lib/python3.10/dist-packages (from requests->rggrader) (2.0.7)\n",
            "Requirement already satisfied: certifi>=2017.4.17 in /usr/local/lib/python3.10/dist-packages (from requests->rggrader) (2024.7.4)\n",
            "Requirement already satisfied: six>=1.5 in /usr/local/lib/python3.10/dist-packages (from python-dateutil>=2.8.2->pandas->rggrader) (1.16.0)\n",
            "Installing collected packages: rggrader\n",
            "Successfully installed rggrader-0.1.6\n"
          ]
        }
      ],
      "source": [
        "!pip install rggrader"
      ]
    },
    {
      "cell_type": "code",
      "execution_count": 36,
      "metadata": {
        "id": "QB9loqNcm4bA"
      },
      "outputs": [],
      "source": [
        "# @title #### Student Identity\n",
        "student_id = \"REAFCDNE\" # @param {type:\"string\"}\n",
        "name = \"Riofebri Prasetia\" # @param {type:\"string\"}"
      ]
    },
    {
      "cell_type": "code",
      "execution_count": 37,
      "metadata": {
        "id": "tmQdcucGm4bA",
        "colab": {
          "base_uri": "https://localhost:8080/",
          "height": 35
        },
        "outputId": "e8697bb7-beee-4f4a-9319-7e0ceb83f802"
      },
      "outputs": [
        {
          "output_type": "execute_result",
          "data": {
            "text/plain": [
              "'Assignment successfully submitted'"
            ],
            "application/vnd.google.colaboratory.intrinsic+json": {
              "type": "string"
            }
          },
          "metadata": {},
          "execution_count": 37
        }
      ],
      "source": [
        "# @title #### 00. Area of a circle\n",
        "from rggrader import submit\n",
        "\n",
        "r = 5\n",
        "\n",
        "# TODO:\n",
        "# Compute the area of a circle with radius r.\n",
        "# Store the result in the 'area' variable.\n",
        "area = 22 / 7 * r * r\n",
        "\n",
        "# Submit Method\n",
        "assignment_id = \"00_python-basics\"\n",
        "question_id = \"00_area-of-circle\"\n",
        "\n",
        "\n",
        "submit(student_id, name, assignment_id, str(area), question_id)"
      ]
    }
  ],
  "metadata": {
    "celltoolbar": "Slideshow",
    "kernelspec": {
      "display_name": "Python 3 (ipykernel)",
      "language": "python",
      "name": "python3"
    },
    "language_info": {
      "codemirror_mode": {
        "name": "ipython",
        "version": 3
      },
      "file_extension": ".py",
      "mimetype": "text/x-python",
      "name": "python",
      "nbconvert_exporter": "python",
      "pygments_lexer": "ipython3",
      "version": "3.11.3"
    },
    "colab": {
      "provenance": [],
      "include_colab_link": true
    }
  },
  "nbformat": 4,
  "nbformat_minor": 0
}