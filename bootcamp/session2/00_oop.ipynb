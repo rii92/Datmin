{
  "cells": [
    {
      "cell_type": "markdown",
      "metadata": {
        "id": "view-in-github",
        "colab_type": "text"
      },
      "source": [
        "<a href=\"https://colab.research.google.com/github/rii92/Datmin/blob/main/bootcamp/session2/00_oop.ipynb\" target=\"_parent\"><img src=\"https://colab.research.google.com/assets/colab-badge.svg\" alt=\"Open In Colab\"/></a>"
      ]
    },
    {
      "cell_type": "code",
      "source": [
        "#OOP ya bukan OOTD atau OOT tapi OOP"
      ],
      "metadata": {
        "id": "goqbHtH558qw"
      },
      "execution_count": null,
      "outputs": []
    },
    {
      "cell_type": "markdown",
      "metadata": {
        "id": "yv4m3_AvDa5O"
      },
      "source": [
        "# Object oriented programming: Fitting functionality into single objects\n",
        "\n",
        "Object oriented programming is a programming paradigm that uses something called objects to fit lots of functionality and data into a single object."
      ]
    },
    {
      "cell_type": "code",
      "execution_count": 1,
      "metadata": {
        "id": "FROJYPJnDa5Q",
        "outputId": "1a3be009-b22b-4b36-d65b-579923b6e3a4",
        "colab": {
          "base_uri": "https://localhost:8080/"
        }
      },
      "outputs": [
        {
          "output_type": "stream",
          "name": "stdout",
          "text": [
            "Grades for Alice:\n",
            "Math: 90\n",
            "English: 85\n",
            "History: 92\n",
            "Alice's GPA: 89.0\n",
            "\n",
            "\n",
            "Grades for Bob:\n",
            "Math: 78\n",
            "English: 92\n",
            "History: 88\n",
            "Bob's GPA: 86.0\n"
          ]
        }
      ],
      "source": [
        "class Student:\n",
        "    def __init__(self, name, age):\n",
        "        self.name = name\n",
        "        self.age = age\n",
        "        self.grades = {}\n",
        "\n",
        "    def add_grade(self, subject, grade):\n",
        "        self.grades[subject] = grade\n",
        "\n",
        "    def calculate_gpa(self):\n",
        "        if not self.grades:\n",
        "            return 0  # No grades available\n",
        "\n",
        "        total_grade_points = sum(self.grades.values())\n",
        "        num_subjects = len(self.grades)\n",
        "        return total_grade_points / num_subjects\n",
        "\n",
        "    def display_grades(self):\n",
        "        print(f\"Grades for {self.name}:\")\n",
        "        for subject, grade in self.grades.items():\n",
        "            print(f\"{subject}: {grade}\")\n",
        "\n",
        "# Example usage:\n",
        "student1 = Student(\"Alice\", 18)\n",
        "student1.add_grade(\"Math\", 90)\n",
        "student1.add_grade(\"English\", 85)\n",
        "student1.add_grade(\"History\", 92)\n",
        "\n",
        "student2 = Student(\"Bob\", 19)\n",
        "student2.add_grade(\"Math\", 78)\n",
        "student2.add_grade(\"English\", 92)\n",
        "student2.add_grade(\"History\", 88)\n",
        "\n",
        "# Display grades and calculate GPA\n",
        "student1.display_grades()\n",
        "print(f\"{student1.name}'s GPA: {student1.calculate_gpa()}\")\n",
        "\n",
        "print(\"\\n\")\n",
        "\n",
        "student2.display_grades()\n",
        "print(f\"{student2.name}'s GPA: {student2.calculate_gpa()}\")\n"
      ]
    },
    {
      "cell_type": "markdown",
      "metadata": {
        "id": "TgZ9r_xpDa5S"
      },
      "source": [
        "As you can see above, we can have a \"self-sufficient\" data-type that contains both data and functionality that they can use to manipulate themselves."
      ]
    },
    {
      "cell_type": "markdown",
      "metadata": {
        "id": "Q2ayqjVsDa5S"
      },
      "source": [
        "# Object oriented programming mimics real life\n",
        "\n",
        "To understand object oriented programming, it is best to think of it as a way to mimic how we think about things in real life.\n",
        "\n",
        "## Method\n",
        "\n",
        "An object in real life is something that \"contains\" lots of functionalities by itself. For example, a car is an object that can drive, park, and honk.\n",
        "\n",
        "If we try to model above car in Python, we can do it like so:\n",
        "\n",
        "```python\n",
        "class Car:\n",
        "    def drive(self):\n",
        "        print(\"Driving\")\n",
        "        # Do something to drive the car\n",
        "    \n",
        "    def park(self):\n",
        "        print(\"Parking\")\n",
        "        # Do something to park the car\n",
        "    \n",
        "    def honk(self):\n",
        "        print(\"Honking\")\n",
        "        # Do something to honk the car\n",
        "```\n",
        "\n",
        "For the usage is as simple like we're using a function:\n",
        "\n",
        "```python\n",
        "car = Car()\n",
        "car.drive()\n",
        "car.park()\n",
        "car.honk()\n",
        "```\n",
        "\n",
        "## Attributes\n",
        "\n",
        "In addition to having methods, objects also have attributes. Attributes are data that the object contains. For example, a car has a color, a model, and a year.\n",
        "\n",
        "```python\n",
        "class Car:\n",
        "    def __init__(self, color, model, year):\n",
        "        self.color = color\n",
        "        self.model = model\n",
        "        self.year = year\n",
        "```\n",
        "\n",
        "To access the attributes, we can do it like so:\n",
        "\n",
        "```python\n",
        "car = Car(\"red\", \"Toyota\", 2019)\n",
        "print(car.color)\n",
        "print(car.model)\n",
        "print(car.year)\n",
        "```"
      ]
    },
    {
      "cell_type": "code",
      "source": [
        "class Car:\n",
        "\n",
        "    def __init__(self, color: str, model: str, year: int):\n",
        "        self.color = color\n",
        "        self.model = model\n",
        "        self.year = year\n",
        "\n",
        "    def drive(self):\n",
        "        print(\"Driving\")\n",
        "        # Do something to drive the car\n",
        "\n",
        "    def park(self):\n",
        "        print(\"Parking\")\n",
        "        # Do something to park the car\n",
        "\n",
        "    def honk(self):\n",
        "        print(\"Honking\")\n",
        "        # Do something to honk the car"
      ],
      "metadata": {
        "id": "4lTeOoBX6lJc"
      },
      "execution_count": 2,
      "outputs": []
    },
    {
      "cell_type": "code",
      "source": [
        "def substraction(x: int, y: int)"
      ],
      "metadata": {
        "id": "U57nJT7P8hC7",
        "outputId": "fbfa0990-661d-493b-b944-9b271732ac56",
        "colab": {
          "base_uri": "https://localhost:8080/",
          "height": 106
        }
      },
      "execution_count": 3,
      "outputs": [
        {
          "output_type": "error",
          "ename": "SyntaxError",
          "evalue": "expected ':' (<ipython-input-3-ec36e4f4ee0a>, line 1)",
          "traceback": [
            "\u001b[0;36m  File \u001b[0;32m\"<ipython-input-3-ec36e4f4ee0a>\"\u001b[0;36m, line \u001b[0;32m1\u001b[0m\n\u001b[0;31m    def substraction(x: int, y: int)\u001b[0m\n\u001b[0m                                    ^\u001b[0m\n\u001b[0;31mSyntaxError\u001b[0m\u001b[0;31m:\u001b[0m expected ':'\n"
          ]
        }
      ]
    },
    {
      "cell_type": "code",
      "source": [
        "car_1 = Car()"
      ],
      "metadata": {
        "id": "NehX_Iq569Ia",
        "outputId": "28880697-953a-43c1-c353-6724d291b6eb",
        "colab": {
          "base_uri": "https://localhost:8080/",
          "height": 141
        }
      },
      "execution_count": 4,
      "outputs": [
        {
          "output_type": "error",
          "ename": "TypeError",
          "evalue": "Car.__init__() missing 3 required positional arguments: 'color', 'model', and 'year'",
          "traceback": [
            "\u001b[0;31m---------------------------------------------------------------------------\u001b[0m",
            "\u001b[0;31mTypeError\u001b[0m                                 Traceback (most recent call last)",
            "\u001b[0;32m<ipython-input-4-5cbb16bde797>\u001b[0m in \u001b[0;36m<cell line: 1>\u001b[0;34m()\u001b[0m\n\u001b[0;32m----> 1\u001b[0;31m \u001b[0mcar_1\u001b[0m \u001b[0;34m=\u001b[0m \u001b[0mCar\u001b[0m\u001b[0;34m(\u001b[0m\u001b[0;34m)\u001b[0m\u001b[0;34m\u001b[0m\u001b[0;34m\u001b[0m\u001b[0m\n\u001b[0m",
            "\u001b[0;31mTypeError\u001b[0m: Car.__init__() missing 3 required positional arguments: 'color', 'model', and 'year'"
          ]
        }
      ]
    },
    {
      "cell_type": "code",
      "source": [
        "car_1.drive()"
      ],
      "metadata": {
        "colab": {
          "base_uri": "https://localhost:8080/",
          "height": 141
        },
        "id": "R0erhMCn7DW-",
        "outputId": "8483fefc-1c46-45ed-e83d-bbfef8bad236"
      },
      "execution_count": 5,
      "outputs": [
        {
          "output_type": "error",
          "ename": "NameError",
          "evalue": "name 'car_1' is not defined",
          "traceback": [
            "\u001b[0;31m---------------------------------------------------------------------------\u001b[0m",
            "\u001b[0;31mNameError\u001b[0m                                 Traceback (most recent call last)",
            "\u001b[0;32m<ipython-input-5-f3b71d13c90f>\u001b[0m in \u001b[0;36m<cell line: 1>\u001b[0;34m()\u001b[0m\n\u001b[0;32m----> 1\u001b[0;31m \u001b[0mcar_1\u001b[0m\u001b[0;34m.\u001b[0m\u001b[0mdrive\u001b[0m\u001b[0;34m(\u001b[0m\u001b[0;34m)\u001b[0m\u001b[0;34m\u001b[0m\u001b[0;34m\u001b[0m\u001b[0m\n\u001b[0m",
            "\u001b[0;31mNameError\u001b[0m: name 'car_1' is not defined"
          ]
        }
      ]
    },
    {
      "cell_type": "code",
      "source": [
        "car_1.drive()"
      ],
      "metadata": {
        "colab": {
          "base_uri": "https://localhost:8080/",
          "height": 141
        },
        "id": "CnJYT0RG7Glu",
        "outputId": "3f820ac1-918f-4394-a04f-317f764961ad"
      },
      "execution_count": 6,
      "outputs": [
        {
          "output_type": "error",
          "ename": "NameError",
          "evalue": "name 'car_1' is not defined",
          "traceback": [
            "\u001b[0;31m---------------------------------------------------------------------------\u001b[0m",
            "\u001b[0;31mNameError\u001b[0m                                 Traceback (most recent call last)",
            "\u001b[0;32m<ipython-input-6-f3b71d13c90f>\u001b[0m in \u001b[0;36m<cell line: 1>\u001b[0;34m()\u001b[0m\n\u001b[0;32m----> 1\u001b[0;31m \u001b[0mcar_1\u001b[0m\u001b[0;34m.\u001b[0m\u001b[0mdrive\u001b[0m\u001b[0;34m(\u001b[0m\u001b[0;34m)\u001b[0m\u001b[0;34m\u001b[0m\u001b[0;34m\u001b[0m\u001b[0m\n\u001b[0m",
            "\u001b[0;31mNameError\u001b[0m: name 'car_1' is not defined"
          ]
        }
      ]
    },
    {
      "cell_type": "code",
      "source": [
        "car_2 = Car(\"Yellow\", \"Avanza\", 2019)"
      ],
      "metadata": {
        "id": "q2VaQt807fQf"
      },
      "execution_count": 7,
      "outputs": []
    },
    {
      "cell_type": "code",
      "source": [
        "car_2.year"
      ],
      "metadata": {
        "colab": {
          "base_uri": "https://localhost:8080/"
        },
        "id": "ictlhsJT7sWO",
        "outputId": "3aa7e50f-7446-4a26-f5d6-f6adaa66eda7"
      },
      "execution_count": 8,
      "outputs": [
        {
          "output_type": "execute_result",
          "data": {
            "text/plain": [
              "2019"
            ]
          },
          "metadata": {},
          "execution_count": 8
        }
      ]
    },
    {
      "cell_type": "markdown",
      "metadata": {
        "id": "3POB_gVRDa5S"
      },
      "source": [
        "# Term: Class and object\n",
        "\n",
        "For now let's take a step back and talk about some terminology."
      ]
    },
    {
      "cell_type": "markdown",
      "metadata": {
        "id": "pW7nOLL3Da5T"
      },
      "source": [
        "## Class\n",
        "\n",
        "Class is a blueprint, it will define what kind of data and functionality an object will have.\n",
        "\n",
        "```python\n",
        "class Car:\n",
        "    def __init__(self, manufacturer, model, year):\n",
        "        self.manufacturer = manufacturer\n",
        "        self.model = model\n",
        "        self.year = year\n",
        "        self.speed = 0\n",
        "\n",
        "    def accelerate(self):\n",
        "        self.speed += 5\n",
        "        print(f\"{self.manufacturer} {self.model} is accelerating. Current speed: {self.speed} mph\")\n",
        "\n",
        "    def brake(self):\n",
        "        if self.speed > 0:\n",
        "            self.speed -= 5\n",
        "            print(f\"{self.manufacturer} {self.model} is braking. Current speed: {self.speed} mph\")\n",
        "        else:\n",
        "            print(f\"{self.manufacturer} {self.model} is already stationary.\")\n",
        "```\n",
        "\n",
        "As you can see above, we have a class called `Car`. It has 3 data attributes (which is defined in `__init__` method): `manufacturer`, `model`, and `year`. It also has 2 \"functionalities\" (which more commonly called methods): `accelerate` and `brake`."
      ]
    },
    {
      "cell_type": "markdown",
      "metadata": {
        "id": "pfyxSgX1Da5T"
      },
      "source": [
        "## Object\n",
        "\n",
        "Object is a derived instance of a class, basically a class is a blueprint and an object is the actual thing that is built from the blueprint.\n",
        "\n",
        "```python\n",
        "# Creating an object from `Car` class\n",
        "car1 = Car(\"Toyota\", \"Camry\", 2022)\n",
        "car2 = Car(\"Ford\", \"Mustang\", 2023)\n",
        "\n",
        "# Using the objects\n",
        "car1.accelerate()\n",
        "car2.accelerate()\n",
        "car1.brake()\n",
        "car2.brake()\n",
        "```"
      ]
    },
    {
      "cell_type": "markdown",
      "metadata": {
        "id": "aTB0o69sDa5T"
      },
      "source": [
        "# __init__ method\n",
        "\n",
        "`__init__` method is a special method that is called when an object is created. It is usually used to initialize the data attributes of the object.\n",
        "\n",
        "```python\n",
        "```\n"
      ]
    },
    {
      "cell_type": "code",
      "execution_count": 9,
      "metadata": {
        "id": "Bd_qN64gDa5T",
        "outputId": "1d00b8d6-7009-4db4-d3f9-1da9fd0549bf",
        "colab": {
          "base_uri": "https://localhost:8080/"
        }
      },
      "outputs": [
        {
          "output_type": "stream",
          "name": "stdout",
          "text": [
            "Alice\n",
            "18\n",
            "Beginner\n"
          ]
        }
      ],
      "source": [
        "class Person:\n",
        "    def __init__(self, name, age):\n",
        "        self.name = name\n",
        "        self.age = age\n",
        "        self.level = \"Beginner\"\n",
        "\n",
        "person = Person(\"Alice\", 18)\n",
        "print(person.name)\n",
        "print(person.age)\n",
        "print(person.level)"
      ]
    },
    {
      "cell_type": "code",
      "source": [
        "class Person:\n",
        "    def __init__(self):\n",
        "      pass\n",
        "\n",
        "person = Person()"
      ],
      "metadata": {
        "id": "-fkig_rP9Z-z"
      },
      "execution_count": 10,
      "outputs": []
    },
    {
      "cell_type": "markdown",
      "metadata": {
        "id": "RXWZgcOUDa5T"
      },
      "source": [
        "You can see on above code that we are assigning three data attributes to the object: `name`, `age`, and `level`. `name` and `age` are assigned from the arguments that we passed when creating the object, while `level` is assigned with a default value of `\"Beginner\"`.\n",
        "\n",
        "`self` is a special keyword, that we'll learn in just a bit."
      ]
    },
    {
      "cell_type": "markdown",
      "metadata": {
        "id": "9onGAwL0Da5U"
      },
      "source": [
        "# Using instance methods\n",
        "\n",
        "Instance methods are methods that are defined inside a class, and can be used by the object of that class."
      ]
    },
    {
      "cell_type": "code",
      "execution_count": 11,
      "metadata": {
        "id": "LDoAH9mPDa5U",
        "outputId": "a5176321-5ffa-42cc-fda4-edb13103745b",
        "colab": {
          "base_uri": "https://localhost:8080/"
        }
      },
      "outputs": [
        {
          "output_type": "stream",
          "name": "stdout",
          "text": [
            "Hello, my name is Alice!\n"
          ]
        }
      ],
      "source": [
        "class Person:\n",
        "    def __init__(self, name, age):\n",
        "        self.name = name\n",
        "        self.age = age\n",
        "        self.level = \"Beginner\"\n",
        "\n",
        "    def greet(self):\n",
        "        print(f\"Hello, my name is {self.name}!\")\n",
        "\n",
        "person = Person(\"Alice\", 18)\n",
        "person.greet()"
      ]
    },
    {
      "cell_type": "code",
      "source": [
        "person = Person(\"Adipta\", 18)\n",
        "person.greet()"
      ],
      "metadata": {
        "colab": {
          "base_uri": "https://localhost:8080/"
        },
        "id": "qRnqfa9V9sgJ",
        "outputId": "f42d8f9a-4bb4-45f0-8c01-f43de38508df"
      },
      "execution_count": 12,
      "outputs": [
        {
          "output_type": "stream",
          "name": "stdout",
          "text": [
            "Hello, my name is Adipta!\n"
          ]
        }
      ]
    },
    {
      "cell_type": "markdown",
      "metadata": {
        "id": "ufcsSBdWDa5U"
      },
      "source": [
        "# Mutating instance attributes\n",
        "\n",
        "Instance attributes can be mutated by two ways\n",
        "\n",
        "## Directly accessing the attribute on the object"
      ]
    },
    {
      "cell_type": "code",
      "execution_count": 13,
      "metadata": {
        "id": "9IXBCOCBDa5U",
        "outputId": "7f09b004-134a-4604-cbd9-9e5d0eab84aa",
        "colab": {
          "base_uri": "https://localhost:8080/"
        }
      },
      "outputs": [
        {
          "output_type": "stream",
          "name": "stdout",
          "text": [
            "18\n",
            "Upps salah harusnya umurnya 19\n",
            "19\n"
          ]
        }
      ],
      "source": [
        "class Person:\n",
        "    def __init__(self, name, age):\n",
        "        self.name = name\n",
        "        self.age = age\n",
        "        self.level = \"Beginner\"\n",
        "\n",
        "person = Person(\"Alice\", 18)\n",
        "print(person.age)\n",
        "print(\"Upps salah harusnya umurnya 19\")\n",
        "person.age = 19\n",
        "print(person.age)"
      ]
    },
    {
      "cell_type": "markdown",
      "metadata": {
        "id": "KwoeXOJqDa5U"
      },
      "source": [
        "## Mutating the attribute using a method"
      ]
    },
    {
      "cell_type": "code",
      "execution_count": 14,
      "metadata": {
        "id": "Pd2baYfDDa5U",
        "outputId": "b8cb210d-7e7c-43cd-d8c0-e8daef68c311",
        "colab": {
          "base_uri": "https://localhost:8080/"
        }
      },
      "outputs": [
        {
          "output_type": "stream",
          "name": "stdout",
          "text": [
            "18\n",
            "19\n"
          ]
        }
      ],
      "source": [
        "class Person:\n",
        "    def __init__(self, name, age):\n",
        "        self.name = name\n",
        "        self.age = age\n",
        "        self.level = \"Beginner\"\n",
        "\n",
        "    def set_age(self, age):\n",
        "        self.age = age\n",
        "\n",
        "person = Person(\"Alice\", 18)\n",
        "print(person.age)\n",
        "person.set_age(19)\n",
        "print(person.age)"
      ]
    },
    {
      "cell_type": "markdown",
      "metadata": {
        "id": "pYQ1ucO3Da5V"
      },
      "source": [
        "# `self` keyword\n",
        "\n",
        "We've mentioned `self` keyword a couple of times now, but what is it? Basically `self` is a reference to the object itself. It is a special keyword that is used to access the \"current\" object's attributes and methods."
      ]
    },
    {
      "cell_type": "markdown",
      "metadata": {
        "id": "A2PGB6pPDa5V"
      },
      "source": [
        "# Two objects created from the same class are independent\n",
        "\n",
        "Two objects created from the same class are independent from each other. Mutating one object's attribute will not affect the other object's attribute."
      ]
    },
    {
      "cell_type": "code",
      "execution_count": 15,
      "metadata": {
        "id": "MZIFgp1gDa5V",
        "colab": {
          "base_uri": "https://localhost:8080/"
        },
        "outputId": "f0aaff91-9f4e-4bec-b763-678046238231"
      },
      "outputs": [
        {
          "output_type": "stream",
          "name": "stdout",
          "text": [
            "18\n",
            "19\n",
            "19\n",
            "20\n"
          ]
        }
      ],
      "source": [
        "class Person:\n",
        "    def __init__(self, name, age):\n",
        "        self.name = name\n",
        "        self.age = age\n",
        "        self.level = \"Beginner\"\n",
        "\n",
        "    def set_age(self, age):\n",
        "        self.age = age\n",
        "\n",
        "person = Person(\"Alice\", 18)\n",
        "person2 = Person(\"Bob\", 19)\n",
        "\n",
        "print(person.age)\n",
        "print(person2.age)\n",
        "\n",
        "person.set_age(19)\n",
        "person2.set_age(20)\n",
        "\n",
        "print(person.age)\n",
        "print(person2.age)"
      ]
    },
    {
      "cell_type": "code",
      "source": [
        "class Person:\n",
        "    def __init__(self, name, age):\n",
        "        self.name = name\n",
        "        self.age = age\n",
        "        self.level = \"Beginner\"\n",
        "\n",
        "    def set_age(age):\n",
        "        print(age)"
      ],
      "metadata": {
        "id": "wPbOnAyn-STj"
      },
      "execution_count": 23,
      "outputs": []
    },
    {
      "cell_type": "code",
      "source": [
        "person3 = Person(\"Adipta\", 17)"
      ],
      "metadata": {
        "id": "pYZ_DRo9-WmS"
      },
      "execution_count": 17,
      "outputs": []
    },
    {
      "cell_type": "code",
      "source": [
        "person3.set_age(20)"
      ],
      "metadata": {
        "colab": {
          "base_uri": "https://localhost:8080/",
          "height": 141
        },
        "id": "Y1hFpED_-Z9c",
        "outputId": "45bad3a8-5bd6-41c1-eb10-d8bcff52b44b"
      },
      "execution_count": 24,
      "outputs": [
        {
          "output_type": "error",
          "ename": "TypeError",
          "evalue": "Person.set_age() takes 1 positional argument but 2 were given",
          "traceback": [
            "\u001b[0;31m---------------------------------------------------------------------------\u001b[0m",
            "\u001b[0;31mTypeError\u001b[0m                                 Traceback (most recent call last)",
            "\u001b[0;32m<ipython-input-24-4547ff423458>\u001b[0m in \u001b[0;36m<cell line: 1>\u001b[0;34m()\u001b[0m\n\u001b[0;32m----> 1\u001b[0;31m \u001b[0mperson3\u001b[0m\u001b[0;34m.\u001b[0m\u001b[0mset_age\u001b[0m\u001b[0;34m(\u001b[0m\u001b[0;36m20\u001b[0m\u001b[0;34m)\u001b[0m\u001b[0;34m\u001b[0m\u001b[0;34m\u001b[0m\u001b[0m\n\u001b[0m",
            "\u001b[0;31mTypeError\u001b[0m: Person.set_age() takes 1 positional argument but 2 were given"
          ]
        }
      ]
    },
    {
      "cell_type": "code",
      "source": [
        "person3.set_age"
      ],
      "metadata": {
        "colab": {
          "base_uri": "https://localhost:8080/",
          "height": 104
        },
        "id": "2Z1BvaFD-fvo",
        "outputId": "f5177162-9742-463d-a309-31fc022f008c"
      },
      "execution_count": 19,
      "outputs": [
        {
          "output_type": "execute_result",
          "data": {
            "text/plain": [
              "<bound method Person.set_age of <__main__.Person object at 0x7a66b7c87340>>"
            ],
            "text/html": [
              "<div style=\"max-width:800px; border: 1px solid var(--colab-border-color);\"><style>\n",
              "      pre.function-repr-contents {\n",
              "        overflow-x: auto;\n",
              "        padding: 8px 12px;\n",
              "        max-height: 500px;\n",
              "      }\n",
              "\n",
              "      pre.function-repr-contents.function-repr-contents-collapsed {\n",
              "        cursor: pointer;\n",
              "        max-height: 100px;\n",
              "      }\n",
              "    </style>\n",
              "    <pre style=\"white-space: initial; background:\n",
              "         var(--colab-secondary-surface-color); padding: 8px 12px;\n",
              "         border-bottom: 1px solid var(--colab-border-color);\"><b>Person.set_age</b><br/>def set_age(age)</pre><pre class=\"function-repr-contents function-repr-contents-collapsed\" style=\"\"><a class=\"filepath\" style=\"display:none\" href=\"#\">/content/&lt;ipython-input-16-9a5d8aac4463&gt;</a>&lt;no docstring&gt;</pre></div>"
            ]
          },
          "metadata": {},
          "execution_count": 19
        }
      ]
    },
    {
      "cell_type": "markdown",
      "source": [
        "class attributes"
      ],
      "metadata": {
        "id": "-U0ZCV24_Lum"
      }
    },
    {
      "cell_type": "markdown",
      "source": [
        "instance attributes"
      ],
      "metadata": {
        "id": "ZsnU0VQR_QZr"
      }
    },
    {
      "cell_type": "code",
      "source": [
        "class DataPreprocessor:\n",
        "\n",
        "  def __init__(self):\n",
        "    pass\n",
        "\n",
        "  def handle_missing_values()"
      ],
      "metadata": {
        "id": "OiCJ9B3QAGlF",
        "outputId": "8f59f501-88b0-4d49-cb63-f21737166f2c",
        "colab": {
          "base_uri": "https://localhost:8080/",
          "height": 106
        }
      },
      "execution_count": 27,
      "outputs": [
        {
          "output_type": "error",
          "ename": "SyntaxError",
          "evalue": "expected ':' (<ipython-input-27-505eef52c57e>, line 6)",
          "traceback": [
            "\u001b[0;36m  File \u001b[0;32m\"<ipython-input-27-505eef52c57e>\"\u001b[0;36m, line \u001b[0;32m6\u001b[0m\n\u001b[0;31m    def handle_missing_values()\u001b[0m\n\u001b[0m                               ^\u001b[0m\n\u001b[0;31mSyntaxError\u001b[0m\u001b[0;31m:\u001b[0m expected ':'\n"
          ]
        }
      ]
    },
    {
      "cell_type": "code",
      "source": [
        "import numpy"
      ],
      "metadata": {
        "id": "i7kpuVbsAakE"
      },
      "execution_count": 28,
      "outputs": []
    },
    {
      "cell_type": "code",
      "source": [
        "class Car:\n",
        "\n",
        "    total_wheel = 4\n",
        "\n",
        "    def __init__(self, color: str, model: str, year: numpy.array):\n",
        "        self.color = color\n",
        "        self.model = model\n",
        "        self.year = year\n",
        "\n",
        "    def drive(self):\n",
        "        print(\"Driving\")\n",
        "        # Do something to drive the car\n",
        "\n",
        "    def park(self):\n",
        "        print(\"Parking\")\n",
        "        # Do something to park the car\n",
        "\n",
        "    def honk(self):\n",
        "        print(\"Honking\")\n",
        "        # Do something to honk the car"
      ],
      "metadata": {
        "id": "XaWM12_k-xaQ"
      },
      "execution_count": 29,
      "outputs": []
    },
    {
      "cell_type": "code",
      "source": [
        "class Car:\n",
        "\n",
        "    #class attributes\n",
        "    total_wheel = 4\n",
        "    total_door = 4\n",
        "\n",
        "    def __init__(self, color: str, model: str, year: numpy.array):\n",
        "\n",
        "        #instance attributes\n",
        "        self.color = color\n",
        "        self.model = model\n",
        "        self.year = year\n",
        "\n",
        "    def drive(self):\n",
        "        print(\"Driving\")\n",
        "        # Do something to drive the car\n",
        "\n",
        "    def park(self):\n",
        "        print(\"Parking\")\n",
        "        # Do something to park the car\n",
        "\n",
        "    def honk(self):\n",
        "        print(\"Honking\")\n",
        "        # Do something to honk the car"
      ],
      "metadata": {
        "id": "FjhRlkzI_lVV"
      },
      "execution_count": 30,
      "outputs": []
    },
    {
      "cell_type": "code",
      "source": [
        "car4 = Car(\"yellow\", \"avanza\", \"2020\")\n"
      ],
      "metadata": {
        "id": "sYoRGYXJ-71c"
      },
      "execution_count": 31,
      "outputs": []
    },
    {
      "cell_type": "code",
      "source": [
        "car6 = Car()"
      ],
      "metadata": {
        "colab": {
          "base_uri": "https://localhost:8080/",
          "height": 141
        },
        "id": "cgZmehhrAw7l",
        "outputId": "077fcb7a-f270-4e27-e622-bb1e98a704c5"
      },
      "execution_count": 32,
      "outputs": [
        {
          "output_type": "error",
          "ename": "TypeError",
          "evalue": "Car.__init__() missing 3 required positional arguments: 'color', 'model', and 'year'",
          "traceback": [
            "\u001b[0;31m---------------------------------------------------------------------------\u001b[0m",
            "\u001b[0;31mTypeError\u001b[0m                                 Traceback (most recent call last)",
            "\u001b[0;32m<ipython-input-32-104de29edf9f>\u001b[0m in \u001b[0;36m<cell line: 1>\u001b[0;34m()\u001b[0m\n\u001b[0;32m----> 1\u001b[0;31m \u001b[0mcar6\u001b[0m \u001b[0;34m=\u001b[0m \u001b[0mCar\u001b[0m\u001b[0;34m(\u001b[0m\u001b[0;34m)\u001b[0m\u001b[0;34m\u001b[0m\u001b[0;34m\u001b[0m\u001b[0m\n\u001b[0m",
            "\u001b[0;31mTypeError\u001b[0m: Car.__init__() missing 3 required positional arguments: 'color', 'model', and 'year'"
          ]
        }
      ]
    },
    {
      "cell_type": "code",
      "source": [
        "car7 = Car(\"blue\", \"avanza\", \"2025\")"
      ],
      "metadata": {
        "id": "80Z1cZlxBO5v"
      },
      "execution_count": 33,
      "outputs": []
    },
    {
      "cell_type": "code",
      "source": [
        "car7.total_wheel"
      ],
      "metadata": {
        "colab": {
          "base_uri": "https://localhost:8080/"
        },
        "id": "ktlmnZToBUPk",
        "outputId": "b3230966-032c-41c4-e789-89f1ec8a0cb7"
      },
      "execution_count": 34,
      "outputs": [
        {
          "output_type": "execute_result",
          "data": {
            "text/plain": [
              "4"
            ]
          },
          "metadata": {},
          "execution_count": 34
        }
      ]
    },
    {
      "cell_type": "code",
      "source": [
        "car7.total_door"
      ],
      "metadata": {
        "colab": {
          "base_uri": "https://localhost:8080/"
        },
        "id": "HRQ43hJHBZN3",
        "outputId": "49a9a812-d0eb-420e-a1c2-ecc52e6c1c59"
      },
      "execution_count": 35,
      "outputs": [
        {
          "output_type": "execute_result",
          "data": {
            "text/plain": [
              "4"
            ]
          },
          "metadata": {},
          "execution_count": 35
        }
      ]
    },
    {
      "cell_type": "code",
      "source": [
        "car6.drive()"
      ],
      "metadata": {
        "colab": {
          "base_uri": "https://localhost:8080/",
          "height": 141
        },
        "id": "-3xXf-BSAzsi",
        "outputId": "36ff33f5-2e1f-4479-dfe2-695bf671edb0"
      },
      "execution_count": 36,
      "outputs": [
        {
          "output_type": "error",
          "ename": "NameError",
          "evalue": "name 'car6' is not defined",
          "traceback": [
            "\u001b[0;31m---------------------------------------------------------------------------\u001b[0m",
            "\u001b[0;31mNameError\u001b[0m                                 Traceback (most recent call last)",
            "\u001b[0;32m<ipython-input-36-98c543b31a01>\u001b[0m in \u001b[0;36m<cell line: 1>\u001b[0;34m()\u001b[0m\n\u001b[0;32m----> 1\u001b[0;31m \u001b[0mcar6\u001b[0m\u001b[0;34m.\u001b[0m\u001b[0mdrive\u001b[0m\u001b[0;34m(\u001b[0m\u001b[0;34m)\u001b[0m\u001b[0;34m\u001b[0m\u001b[0;34m\u001b[0m\u001b[0m\n\u001b[0m",
            "\u001b[0;31mNameError\u001b[0m: name 'car6' is not defined"
          ]
        }
      ]
    },
    {
      "cell_type": "code",
      "source": [
        "car4.total_wheel"
      ],
      "metadata": {
        "colab": {
          "base_uri": "https://localhost:8080/"
        },
        "id": "7c7zqg1r_BA9",
        "outputId": "d96f34c2-8858-418c-d58f-99e0681defa2"
      },
      "execution_count": 37,
      "outputs": [
        {
          "output_type": "execute_result",
          "data": {
            "text/plain": [
              "4"
            ]
          },
          "metadata": {},
          "execution_count": 37
        }
      ]
    },
    {
      "cell_type": "code",
      "source": [
        "car4.year"
      ],
      "metadata": {
        "colab": {
          "base_uri": "https://localhost:8080/",
          "height": 35
        },
        "id": "iaTSKACF_Y4s",
        "outputId": "00ded9b5-6887-4cee-92e5-2ff9e8b4b5c2"
      },
      "execution_count": 38,
      "outputs": [
        {
          "output_type": "execute_result",
          "data": {
            "text/plain": [
              "'2020'"
            ],
            "application/vnd.google.colaboratory.intrinsic+json": {
              "type": "string"
            }
          },
          "metadata": {},
          "execution_count": 38
        }
      ]
    },
    {
      "cell_type": "code",
      "source": [
        "car5.total_wheel"
      ],
      "metadata": {
        "colab": {
          "base_uri": "https://localhost:8080/",
          "height": 141
        },
        "id": "2AZMWBFx_HZY",
        "outputId": "cb3e51b9-ca7c-4120-c79a-7bd65c2ae9aa"
      },
      "execution_count": 39,
      "outputs": [
        {
          "output_type": "error",
          "ename": "NameError",
          "evalue": "name 'car5' is not defined",
          "traceback": [
            "\u001b[0;31m---------------------------------------------------------------------------\u001b[0m",
            "\u001b[0;31mNameError\u001b[0m                                 Traceback (most recent call last)",
            "\u001b[0;32m<ipython-input-39-01b57c9596c4>\u001b[0m in \u001b[0;36m<cell line: 1>\u001b[0;34m()\u001b[0m\n\u001b[0;32m----> 1\u001b[0;31m \u001b[0mcar5\u001b[0m\u001b[0;34m.\u001b[0m\u001b[0mtotal_wheel\u001b[0m\u001b[0;34m\u001b[0m\u001b[0;34m\u001b[0m\u001b[0m\n\u001b[0m",
            "\u001b[0;31mNameError\u001b[0m: name 'car5' is not defined"
          ]
        }
      ]
    },
    {
      "cell_type": "code",
      "source": [
        "car5.year"
      ],
      "metadata": {
        "colab": {
          "base_uri": "https://localhost:8080/",
          "height": 141
        },
        "id": "0oy9Om_c_aca",
        "outputId": "3a26ba9d-e76f-47d1-e304-eed25e58d50b"
      },
      "execution_count": 40,
      "outputs": [
        {
          "output_type": "error",
          "ename": "NameError",
          "evalue": "name 'car5' is not defined",
          "traceback": [
            "\u001b[0;31m---------------------------------------------------------------------------\u001b[0m",
            "\u001b[0;31mNameError\u001b[0m                                 Traceback (most recent call last)",
            "\u001b[0;32m<ipython-input-40-e41b6d8ed99d>\u001b[0m in \u001b[0;36m<cell line: 1>\u001b[0;34m()\u001b[0m\n\u001b[0;32m----> 1\u001b[0;31m \u001b[0mcar5\u001b[0m\u001b[0;34m.\u001b[0m\u001b[0myear\u001b[0m\u001b[0;34m\u001b[0m\u001b[0;34m\u001b[0m\u001b[0m\n\u001b[0m",
            "\u001b[0;31mNameError\u001b[0m: name 'car5' is not defined"
          ]
        }
      ]
    },
    {
      "cell_type": "code",
      "source": [
        "car4.total_wheel=5"
      ],
      "metadata": {
        "id": "Cf78bFFB_dlD"
      },
      "execution_count": 41,
      "outputs": []
    },
    {
      "cell_type": "code",
      "source": [
        "car4.total_wheel"
      ],
      "metadata": {
        "colab": {
          "base_uri": "https://localhost:8080/"
        },
        "id": "I8vTnH1B_e7R",
        "outputId": "d9918280-dd43-4aa6-e478-f95062cebf1c"
      },
      "execution_count": 42,
      "outputs": [
        {
          "output_type": "execute_result",
          "data": {
            "text/plain": [
              "5"
            ]
          },
          "metadata": {},
          "execution_count": 42
        }
      ]
    },
    {
      "cell_type": "code",
      "source": [
        "car5.total_wheel"
      ],
      "metadata": {
        "colab": {
          "base_uri": "https://localhost:8080/",
          "height": 141
        },
        "id": "TfnddDt0_hz2",
        "outputId": "6f61bd97-2b0c-4ea3-9610-e0eb0cb84f8b"
      },
      "execution_count": 43,
      "outputs": [
        {
          "output_type": "error",
          "ename": "NameError",
          "evalue": "name 'car5' is not defined",
          "traceback": [
            "\u001b[0;31m---------------------------------------------------------------------------\u001b[0m",
            "\u001b[0;31mNameError\u001b[0m                                 Traceback (most recent call last)",
            "\u001b[0;32m<ipython-input-43-01b57c9596c4>\u001b[0m in \u001b[0;36m<cell line: 1>\u001b[0;34m()\u001b[0m\n\u001b[0;32m----> 1\u001b[0;31m \u001b[0mcar5\u001b[0m\u001b[0;34m.\u001b[0m\u001b[0mtotal_wheel\u001b[0m\u001b[0;34m\u001b[0m\u001b[0;34m\u001b[0m\u001b[0m\n\u001b[0m",
            "\u001b[0;31mNameError\u001b[0m: name 'car5' is not defined"
          ]
        }
      ]
    },
    {
      "cell_type": "markdown",
      "metadata": {
        "id": "_JDmX23oDa5V"
      },
      "source": [
        "# Exercise"
      ]
    },
    {
      "cell_type": "code",
      "execution_count": 44,
      "metadata": {
        "id": "pl5xUb7ADa5V",
        "outputId": "81209d23-5126-4d28-c553-334961963438",
        "colab": {
          "base_uri": "https://localhost:8080/"
        }
      },
      "outputs": [
        {
          "output_type": "stream",
          "name": "stdout",
          "text": [
            "Collecting rggrader\n",
            "  Downloading rggrader-0.1.6-py3-none-any.whl (2.5 kB)\n",
            "Requirement already satisfied: requests in /usr/local/lib/python3.10/dist-packages (from rggrader) (2.31.0)\n",
            "Requirement already satisfied: pandas in /usr/local/lib/python3.10/dist-packages (from rggrader) (2.0.3)\n",
            "Requirement already satisfied: Pillow in /usr/local/lib/python3.10/dist-packages (from rggrader) (9.4.0)\n",
            "Requirement already satisfied: python-dateutil>=2.8.2 in /usr/local/lib/python3.10/dist-packages (from pandas->rggrader) (2.8.2)\n",
            "Requirement already satisfied: pytz>=2020.1 in /usr/local/lib/python3.10/dist-packages (from pandas->rggrader) (2023.4)\n",
            "Requirement already satisfied: tzdata>=2022.1 in /usr/local/lib/python3.10/dist-packages (from pandas->rggrader) (2024.1)\n",
            "Requirement already satisfied: numpy>=1.21.0 in /usr/local/lib/python3.10/dist-packages (from pandas->rggrader) (1.25.2)\n",
            "Requirement already satisfied: charset-normalizer<4,>=2 in /usr/local/lib/python3.10/dist-packages (from requests->rggrader) (3.3.2)\n",
            "Requirement already satisfied: idna<4,>=2.5 in /usr/local/lib/python3.10/dist-packages (from requests->rggrader) (3.7)\n",
            "Requirement already satisfied: urllib3<3,>=1.21.1 in /usr/local/lib/python3.10/dist-packages (from requests->rggrader) (2.0.7)\n",
            "Requirement already satisfied: certifi>=2017.4.17 in /usr/local/lib/python3.10/dist-packages (from requests->rggrader) (2024.7.4)\n",
            "Requirement already satisfied: six>=1.5 in /usr/local/lib/python3.10/dist-packages (from python-dateutil>=2.8.2->pandas->rggrader) (1.16.0)\n",
            "Installing collected packages: rggrader\n",
            "Successfully installed rggrader-0.1.6\n"
          ]
        }
      ],
      "source": [
        "!pip install rggrader"
      ]
    },
    {
      "cell_type": "code",
      "execution_count": 45,
      "metadata": {
        "id": "aD-Cc9PLDa5V"
      },
      "outputs": [],
      "source": [
        "# @title #### Student Identity\n",
        "student_id = \"REAFCDNE\" # @param {type:\"string\"}\n",
        "name = \"Riofebri Prasetia\" # @param {type:\"string\"}"
      ]
    },
    {
      "cell_type": "code",
      "execution_count": 51,
      "metadata": {
        "id": "ddP6XsMpDa5V",
        "outputId": "d4e2e1d9-fdcc-4c45-81e8-58cceaaf163c",
        "colab": {
          "base_uri": "https://localhost:8080/",
          "height": 105
        }
      },
      "outputs": [
        {
          "output_type": "stream",
          "name": "stdout",
          "text": [
            "This car is a Toyota Corolla\n",
            "Toyota says honk honk!\n",
            "This car is a Ford Mustang\n",
            "Ford says honk honk!\n"
          ]
        },
        {
          "output_type": "execute_result",
          "data": {
            "text/plain": [
              "'Assignment successfully submitted'"
            ],
            "application/vnd.google.colaboratory.intrinsic+json": {
              "type": "string"
            }
          },
          "metadata": {},
          "execution_count": 51
        }
      ],
      "source": [
        "# @title #### 04. Automobile Dealership\n",
        "from rggrader import submit\n",
        "\n",
        "# In this assignment, you will implement classes in Python.\n",
        "\n",
        "# Here's the details of the task:\n",
        "# 1. Create a class named 'Car' having attributes 'manufacturer' and 'model'.\n",
        "# 2. The 'Car' class should have the following methods:\n",
        "#     a. `display_info`: This should return a string \"This car is a {manufacturer} {model}\". The placeholders correspond to the 'manufacturer' and 'model' respectively.\n",
        "#     b. `honk`: This should return a string \"{manufacturer} says honk honk!\". The placeholder corresponds to the 'manufacturer'.\n",
        "#     c. `set_car_info`: This should be a method to set a new 'manufacturer' and 'model' for the car.\n",
        "#\n",
        "# The initial creation of a Car object should take the 'manufacturer' and 'model' as arguments.\n",
        "# Here is an example of what your code should emulate:\n",
        "\n",
        "class Car:\n",
        "\n",
        "    def __init__(self, manufacturer, model):\n",
        "        self.manufacturer = manufacturer\n",
        "        self.model = model\n",
        "        #instance attributes\n",
        "\n",
        "    def display_info(self):\n",
        "        print(f'This car is a {self.manufacturer} {self.model}')\n",
        "        # Do something to drive the car\n",
        "\n",
        "    def honk(self):\n",
        "        print(f\"{self.manufacturer} says honk honk!\")\n",
        "        # Do something to park the car\n",
        "\n",
        "    def set_car_info(self, manufacturer, model):\n",
        "        self.manufacturer = manufacturer\n",
        "        self.model = model\n",
        "        # Do something to honk the car\n",
        "\n",
        "my_car = Car(\"Toyota\", \"Corolla\")\n",
        "answer = []\n",
        "answer.append(my_car.display_info()) # This should add \"This car is a Toyota Corolla\" to the 'answer' list\n",
        "answer.append(my_car.honk()) # This should add \"Toyota says honk honk!\" to the 'answer' list\n",
        "my_car.set_car_info(\"Ford\", \"Mustang\")\n",
        "answer.append(my_car.display_info()) # This should add \"This car is a Ford Mustang\" to the 'answer' list\n",
        "answer.append(my_car.honk()) # This should add \"Ford says honk honk!\" to the 'answer' list\n",
        "# Finally submit your answer\n",
        "assignment_id = \"04-classes\"\n",
        "question_id = \"04_automobile_dealership\"\n",
        "submit(student_id, name, assignment_id, str(answer), question_id)"
      ]
    }
  ],
  "metadata": {
    "celltoolbar": "Slideshow",
    "kernelspec": {
      "display_name": "Python 3 (ipykernel)",
      "language": "python",
      "name": "python3"
    },
    "language_info": {
      "codemirror_mode": {
        "name": "ipython",
        "version": 3
      },
      "file_extension": ".py",
      "mimetype": "text/x-python",
      "name": "python",
      "nbconvert_exporter": "python",
      "pygments_lexer": "ipython3",
      "version": "3.11.3"
    },
    "colab": {
      "provenance": [],
      "include_colab_link": true
    }
  },
  "nbformat": 4,
  "nbformat_minor": 0
}