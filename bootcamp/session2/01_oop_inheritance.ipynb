{
  "cells": [
    {
      "cell_type": "markdown",
      "metadata": {
        "id": "view-in-github",
        "colab_type": "text"
      },
      "source": [
        "<a href=\"https://colab.research.google.com/github/rii92/Datmin/blob/main/bootcamp/session2/01_oop_inheritance.ipynb\" target=\"_parent\"><img src=\"https://colab.research.google.com/assets/colab-badge.svg\" alt=\"Open In Colab\"/></a>"
      ]
    },
    {
      "cell_type": "markdown",
      "metadata": {
        "id": "ttv0-t7EDdN8"
      },
      "source": [
        "# Inheritance\n",
        "\n",
        "Inheritance is a way to create a derived class from a base class. The derived class will inherit all the attributes and methods from the base class."
      ]
    },
    {
      "cell_type": "code",
      "source": [
        "print(\"halo aku adipta\")"
      ],
      "metadata": {
        "colab": {
          "base_uri": "https://localhost:8080/"
        },
        "id": "kTmvFWmOD0eR",
        "outputId": "6d930e96-eed7-44d4-d35e-e72c178b1221"
      },
      "execution_count": 1,
      "outputs": [
        {
          "output_type": "stream",
          "name": "stdout",
          "text": [
            "halo aku adipta\n"
          ]
        }
      ]
    },
    {
      "cell_type": "code",
      "source": [
        "print(\"halo aku bayu\")"
      ],
      "metadata": {
        "colab": {
          "base_uri": "https://localhost:8080/"
        },
        "id": "0BX6a-nOD3CF",
        "outputId": "8f4ad6be-b46d-42ed-efcc-042975834432"
      },
      "execution_count": 2,
      "outputs": [
        {
          "output_type": "stream",
          "name": "stdout",
          "text": [
            "halo aku bayu\n"
          ]
        }
      ]
    },
    {
      "cell_type": "code",
      "source": [
        "print(\"halo aku sinta\")"
      ],
      "metadata": {
        "colab": {
          "base_uri": "https://localhost:8080/"
        },
        "id": "hdF1B9spD40p",
        "outputId": "928bd1dc-d39a-40c6-c92e-963f3bd1b48a"
      },
      "execution_count": 3,
      "outputs": [
        {
          "output_type": "stream",
          "name": "stdout",
          "text": [
            "halo aku sinta\n"
          ]
        }
      ]
    },
    {
      "cell_type": "code",
      "source": [
        "nama = \"Adipta\"\n",
        "print(f\"halo aku {nama}\")"
      ],
      "metadata": {
        "colab": {
          "base_uri": "https://localhost:8080/"
        },
        "id": "-bjtrm0GD7Y3",
        "outputId": "316daa79-10c9-4e22-8ff1-e8891174a0e5"
      },
      "execution_count": 4,
      "outputs": [
        {
          "output_type": "stream",
          "name": "stdout",
          "text": [
            "halo aku Adipta\n"
          ]
        }
      ]
    },
    {
      "cell_type": "code",
      "execution_count": 5,
      "metadata": {
        "id": "NO1TE0ClDdN_"
      },
      "outputs": [],
      "source": [
        "class Employee:\n",
        "    def __init__(self, name, employee_id, salary):\n",
        "        self.name = name\n",
        "        self.employee_id = employee_id\n",
        "        self.salary = salary\n",
        "\n",
        "    def display_info(self):\n",
        "        print(f\"Employee ID: {self.employee_id}\\nName: {self.name}\\nSalary: ${self.salary}\")\n",
        "\n",
        "class Manager(Employee):\n",
        "    def __init__(self, name, employee_id, salary, department):\n",
        "        super().__init__(name, employee_id, salary)\n",
        "        self.department = department\n",
        "        self.projects = []\n",
        "\n",
        "    def display_info(self):\n",
        "        super().display_info()\n",
        "        print(f\"Department: {self.department}\\nRole: Manager\")\n",
        "\n",
        "    def add_project(self, project_name):\n",
        "        self.projects.append(project_name)\n",
        "        print(f\"{self.name} added a new project: {project_name}\")\n",
        "\n",
        "    def manage_team(self):\n",
        "        print(f\"{self.name} is managing the team and projects.\")\n",
        "\n",
        "class Developer(Employee):\n",
        "    def __init__(self, name, employee_id, salary, programming_language):\n",
        "        super().__init__(name, employee_id, salary)\n",
        "        self.programming_language = programming_language\n",
        "        self.tasks = []\n",
        "\n",
        "    def display_info(self):\n",
        "        super().display_info()\n",
        "        print(f\"Programming Language: {self.programming_language}\\nRole: Developer\")\n",
        "\n",
        "    def add_task(self, task_name):\n",
        "        self.tasks.append(task_name)\n",
        "        print(f\"{self.name} added a new task: {task_name}\")\n",
        "\n",
        "    def write_code(self):\n",
        "        print(f\"{self.name} is writing code for the project.\")"
      ]
    },
    {
      "cell_type": "code",
      "source": [
        "%%writefile main.py\n",
        "\n",
        "def substraction(x, y):\n",
        "   print(x - y)\n",
        "\n",
        "if __name__ == '__main__':\n",
        "   substraction(10, 5)"
      ],
      "metadata": {
        "colab": {
          "base_uri": "https://localhost:8080/"
        },
        "id": "bEkFBXj_EY2w",
        "outputId": "686c68b6-7460-4d83-ebbb-81cec17c494a"
      },
      "execution_count": 6,
      "outputs": [
        {
          "output_type": "stream",
          "name": "stdout",
          "text": [
            "Writing main.py\n"
          ]
        }
      ]
    },
    {
      "cell_type": "code",
      "source": [
        "!python main.py"
      ],
      "metadata": {
        "colab": {
          "base_uri": "https://localhost:8080/"
        },
        "id": "SgBs1ZA-Eoaz",
        "outputId": "3f2dda53-da5e-4f82-a105-8a41d43f9e93"
      },
      "execution_count": 7,
      "outputs": [
        {
          "output_type": "stream",
          "name": "stdout",
          "text": [
            "5\n"
          ]
        }
      ]
    },
    {
      "cell_type": "code",
      "source": [
        "def set_double(self, x):\n",
        "    self.double = lambda x: x * 2"
      ],
      "metadata": {
        "id": "1bB4m14hE7Q4"
      },
      "execution_count": 8,
      "outputs": []
    },
    {
      "cell_type": "code",
      "source": [
        "# Creating instances of the subclasses\n",
        "manager1 = Manager(\"Alice\", 1001, 80000, \"Engineering\")\n",
        "developer1 = Developer(\"Bob\", 2001, 70000, \"Python\")"
      ],
      "metadata": {
        "id": "IO53JWjGCar_"
      },
      "execution_count": 9,
      "outputs": []
    },
    {
      "cell_type": "code",
      "source": [
        "# Using the objects\n",
        "print(\"Manager Information:\")\n",
        "manager1.display_info()"
      ],
      "metadata": {
        "colab": {
          "base_uri": "https://localhost:8080/"
        },
        "id": "B9IS63KkCfdx",
        "outputId": "52c78591-12bf-448d-cb16-8019f52f31a2"
      },
      "execution_count": 10,
      "outputs": [
        {
          "output_type": "stream",
          "name": "stdout",
          "text": [
            "Manager Information:\n",
            "Employee ID: 1001\n",
            "Name: Alice\n",
            "Salary: $80000\n",
            "Department: Engineering\n",
            "Role: Manager\n"
          ]
        }
      ]
    },
    {
      "cell_type": "code",
      "source": [
        "\n",
        "\n",
        "\n",
        "manager1.add_project(\"Project A\")\n",
        "manager1.manage_team()\n",
        "\n",
        "print(\"\\nDeveloper Information:\")\n",
        "developer1.display_info()\n",
        "developer1.add_task(\"Feature X\")\n",
        "developer1.write_code()"
      ],
      "metadata": {
        "id": "Z5xKAe2eCV2-",
        "outputId": "d4051b54-5c98-40d5-e466-8a71d2884d8a",
        "colab": {
          "base_uri": "https://localhost:8080/"
        }
      },
      "execution_count": 11,
      "outputs": [
        {
          "output_type": "stream",
          "name": "stdout",
          "text": [
            "Alice added a new project: Project A\n",
            "Alice is managing the team and projects.\n",
            "\n",
            "Developer Information:\n",
            "Employee ID: 2001\n",
            "Name: Bob\n",
            "Salary: $70000\n",
            "Programming Language: Python\n",
            "Role: Developer\n",
            "Bob added a new task: Feature X\n",
            "Bob is writing code for the project.\n"
          ]
        }
      ]
    },
    {
      "cell_type": "markdown",
      "metadata": {
        "id": "QFINmMbnDdOB"
      },
      "source": [
        "As you can see above we can create different type of employees by inheriting from the base class Employee, now we have a Developer and a Manager class. This concept of inheritance is very useful like what we can see in the example above, developers and managers are both employees, so they can share the same attributes and methods from the base class Employee, but still they have their own attributes and methods that are unique to them when needed."
      ]
    },
    {
      "cell_type": "markdown",
      "metadata": {
        "id": "fptSuzWzDdOC"
      },
      "source": [
        "# Parent and child\n",
        "\n",
        "In object oriented programming when a class inherits from another class, the class that inherits is called the child class and the class that is being inherited from is called the parent class. The syntax is pretty simple:"
      ]
    },
    {
      "cell_type": "code",
      "execution_count": 12,
      "metadata": {
        "id": "fFaBaYGaDdOD",
        "outputId": "2c631f6c-7225-4fae-81b9-4b9f30bcb1be",
        "colab": {
          "base_uri": "https://localhost:8080/"
        }
      },
      "outputs": [
        {
          "output_type": "stream",
          "name": "stdout",
          "text": [
            "Name: Alice\n",
            "Age: 20\n"
          ]
        }
      ],
      "source": [
        "# Create python parent and child\n",
        "# base class atau parent\n",
        "class Person:\n",
        "    def __init__(self, name, age):\n",
        "        self.name = name\n",
        "        self.age = age\n",
        "\n",
        "    def display_info(self):\n",
        "        print(f\"Name: {self.name}\\nAge: {self.age}\")\n",
        "\n",
        "# child\n",
        "class Student(Person):\n",
        "    def __init__(self, name, age, student_id, major):\n",
        "        super().__init__(name, age)\n",
        "        self.student_id = student_id\n",
        "        self.major = major\n",
        "\n",
        "student = Student(\"Alice\", 20, 1001, \"Computer Science\")\n",
        "student.display_info()"
      ]
    },
    {
      "cell_type": "markdown",
      "metadata": {
        "id": "JuT8_MhzDdOD"
      },
      "source": [
        "# Overriding parent methods\n",
        "\n",
        "Sometimes we want to change the behavior of a method that is inherited from the parent class. We can do this by overriding the method in the child class."
      ]
    },
    {
      "cell_type": "code",
      "execution_count": 13,
      "metadata": {
        "id": "zXHqQHk6DdOE",
        "outputId": "c0efb3bb-aeda-463f-f663-3e7164452fc6",
        "colab": {
          "base_uri": "https://localhost:8080/"
        }
      },
      "outputs": [
        {
          "output_type": "stream",
          "name": "stdout",
          "text": [
            "Name: Alice\n",
            "Age: 20\n",
            "Student ID: 1001\n",
            "Major: Computer Science\n"
          ]
        }
      ],
      "source": [
        "# Create python parent and child\n",
        "\n",
        "class Person:\n",
        "    def __init__(self, name, age):\n",
        "        self.name = name\n",
        "        self.age = age\n",
        "\n",
        "    def display_info(self):\n",
        "        print(f\"Name: {self.name}\\nAge: {self.age}\")\n",
        "\n",
        "class Student(Person):\n",
        "    def __init__(self, name, age, student_id, major):\n",
        "        super().__init__(name, age)\n",
        "        self.student_id = student_id\n",
        "        self.major = major\n",
        "\n",
        "    def display_info(self):\n",
        "        print(f\"Name: {self.name}\\nAge: {self.age}\\nStudent ID: {self.student_id}\\nMajor: {self.major}\")\n",
        "\n",
        "student = Student(\"Alice\", 20, 1001, \"Computer Science\")\n",
        "student.display_info()"
      ]
    },
    {
      "cell_type": "markdown",
      "metadata": {
        "id": "dSArrBdPDdOE"
      },
      "source": [
        "# `super()`\n",
        "\n",
        "`super()` is a function that allows us to use the parent class methods and attributes. When we call `super()` we are calling the parent class and we can access its methods and attributes."
      ]
    },
    {
      "cell_type": "code",
      "execution_count": 14,
      "metadata": {
        "id": "wiaoiao9DdOE",
        "outputId": "8c2ed26b-d23d-48ca-ddbd-c18eb2e1a9d9",
        "colab": {
          "base_uri": "https://localhost:8080/"
        }
      },
      "outputs": [
        {
          "output_type": "stream",
          "name": "stdout",
          "text": [
            "Name: Alice\n",
            "Age: 20\n",
            "Student ID: 1001\n",
            "Major: Computer Science\n"
          ]
        }
      ],
      "source": [
        "# Create python parent and child\n",
        "\n",
        "class Person:\n",
        "    def __init__(self, name, age):\n",
        "        self.name = name\n",
        "        self.age = age\n",
        "\n",
        "    def display_info(self):\n",
        "        print(f\"Name: {self.name}\\nAge: {self.age}\")\n",
        "\n",
        "class Student(Person):\n",
        "    def __init__(self, name, age, student_id, major):\n",
        "        super().__init__(name, age)\n",
        "        self.student_id = student_id\n",
        "        self.major = major\n",
        "\n",
        "    def display_info(self):\n",
        "        super().display_info()\n",
        "        print(f\"Student ID: {self.student_id}\\nMajor: {self.major}\")\n",
        "\n",
        "student = Student(\"Alice\", 20, 1001, \"Computer Science\")\n",
        "student.display_info()"
      ]
    },
    {
      "cell_type": "markdown",
      "metadata": {
        "id": "L1wIacvFDdOF"
      },
      "source": [
        "As we can see above that we call the parent's class `display_info()` method in our overridden method `display_info()`, it makes us possible to use the parent's class method and add some extra functionality to it rather than rewriting the whole method."
      ]
    },
    {
      "cell_type": "markdown",
      "metadata": {
        "id": "cQFquMPRDdOF"
      },
      "source": [
        "# Exercise"
      ]
    },
    {
      "cell_type": "code",
      "source": [
        "!pip install rggrader"
      ],
      "metadata": {
        "id": "RJ3dWOBhUE0Z",
        "outputId": "400d4270-5fc3-4c0f-e7a3-ef5b552e86e1",
        "colab": {
          "base_uri": "https://localhost:8080/"
        }
      },
      "execution_count": 15,
      "outputs": [
        {
          "output_type": "stream",
          "name": "stdout",
          "text": [
            "Collecting rggrader\n",
            "  Downloading rggrader-0.1.6-py3-none-any.whl (2.5 kB)\n",
            "Requirement already satisfied: requests in /usr/local/lib/python3.10/dist-packages (from rggrader) (2.31.0)\n",
            "Requirement already satisfied: pandas in /usr/local/lib/python3.10/dist-packages (from rggrader) (2.0.3)\n",
            "Requirement already satisfied: Pillow in /usr/local/lib/python3.10/dist-packages (from rggrader) (9.4.0)\n",
            "Requirement already satisfied: python-dateutil>=2.8.2 in /usr/local/lib/python3.10/dist-packages (from pandas->rggrader) (2.8.2)\n",
            "Requirement already satisfied: pytz>=2020.1 in /usr/local/lib/python3.10/dist-packages (from pandas->rggrader) (2023.4)\n",
            "Requirement already satisfied: tzdata>=2022.1 in /usr/local/lib/python3.10/dist-packages (from pandas->rggrader) (2024.1)\n",
            "Requirement already satisfied: numpy>=1.21.0 in /usr/local/lib/python3.10/dist-packages (from pandas->rggrader) (1.25.2)\n",
            "Requirement already satisfied: charset-normalizer<4,>=2 in /usr/local/lib/python3.10/dist-packages (from requests->rggrader) (3.3.2)\n",
            "Requirement already satisfied: idna<4,>=2.5 in /usr/local/lib/python3.10/dist-packages (from requests->rggrader) (3.7)\n",
            "Requirement already satisfied: urllib3<3,>=1.21.1 in /usr/local/lib/python3.10/dist-packages (from requests->rggrader) (2.0.7)\n",
            "Requirement already satisfied: certifi>=2017.4.17 in /usr/local/lib/python3.10/dist-packages (from requests->rggrader) (2024.7.4)\n",
            "Requirement already satisfied: six>=1.5 in /usr/local/lib/python3.10/dist-packages (from python-dateutil>=2.8.2->pandas->rggrader) (1.16.0)\n",
            "Installing collected packages: rggrader\n",
            "Successfully installed rggrader-0.1.6\n"
          ]
        }
      ]
    },
    {
      "cell_type": "code",
      "source": [
        "# @title #### Student Identity\n",
        "student_id = \"REAFCDNE\" # @param {type:\"string\"}\n",
        "name = \"Riofebri Prasetia\" # @param {type:\"string\"}"
      ],
      "metadata": {
        "id": "BATtW4gxUD-Q"
      },
      "execution_count": 16,
      "outputs": []
    },
    {
      "cell_type": "code",
      "execution_count": 19,
      "metadata": {
        "id": "9tq2fSnODdOF",
        "outputId": "8a0eacae-c14f-4e43-bcab-e5931c0ab6e9",
        "colab": {
          "base_uri": "https://localhost:8080/",
          "height": 140
        }
      },
      "outputs": [
        {
          "output_type": "stream",
          "name": "stdout",
          "text": [
            "Nemo makes a sound\n",
            "Nemo is an animal\n",
            "Rex says woof!\n",
            "Rex is an animal\n",
            "Misty says meow!\n",
            "Misty is an animal\n"
          ]
        },
        {
          "output_type": "execute_result",
          "data": {
            "text/plain": [
              "'Assignment successfully submitted'"
            ],
            "application/vnd.google.colaboratory.intrinsic+json": {
              "type": "string"
            }
          },
          "metadata": {},
          "execution_count": 19
        }
      ],
      "source": [
        "from rggrader import submit\n",
        "\n",
        "# @title #### 05. Animals World\n",
        "\n",
        "# In this assignment, you will reinforce your understanding of inheritance in Python.\n",
        "\n",
        "# Here are the specific tasks for this assignment:\n",
        "# 1. Create a parent class named 'Animal' with an attribute 'name'.\n",
        "# 2. Add two methods to the 'Animal' class:\n",
        "#     a. `speak`: This should return a string \"{name} makes a sound\".\n",
        "#     b. `description`: This should return a string \"{name} is an animal\".\n",
        "#\n",
        "# 3. Create two child classes that inherit from Animal class, 'Dog' and 'Cat'.\n",
        "# 4. Both 'Dog' and 'Cat' classes should use the `super()` function to inherit the name attribute from the Animal class.\n",
        "# 5. Both 'Dog' and 'Cat' classes should override the 'speak' method from the Animal class.\n",
        "#     a. For 'Dog' class, the 'speak' method should return \"{name} says woof!\"\n",
        "#     b. For 'Cat' class, the 'speak' method should return \"{name} says meow!\"\n",
        "#\n",
        "# Remember, the `description` method in the 'Animal' class should not be overridden in child classes.\n",
        "#\n",
        "# At the end of your implementation, create instances of Animal, Dog, and Cat, and call their 'speak' and 'description' methods. Append all outputs to an 'answer' list and submit this list as your assignment.\n",
        "\n",
        "class Animal:\n",
        "    def __init__(self, name):\n",
        "        self.name = name\n",
        "\n",
        "    def speak(self):\n",
        "        print(f\"{self.name} makes a sound\")\n",
        "\n",
        "    def description(self):\n",
        "        print(f\"{self.name} is an animal\")\n",
        "\n",
        "class Dog(Animal):\n",
        "    def __init__(self, name):\n",
        "        super().__init__(name)\n",
        "\n",
        "    def speak(self):\n",
        "        print(f\"{self.name} says woof!\")\n",
        "\n",
        "class Cat(Animal):\n",
        "    def __init__(self, name):\n",
        "        super().__init__(name)\n",
        "\n",
        "    def speak(self):\n",
        "        print(f\"{self.name} says meow!\")\n",
        "\n",
        "# Here is an example of what your code should emulate but not limited to:\n",
        "animal = Animal(\"Nemo\")\n",
        "dog = Dog(\"Rex\")\n",
        "cat = Cat(\"Misty\")\n",
        "answer = []\n",
        "answer.append(animal.speak()) # Adds \"Nemo makes a sound\" to 'answer' list\n",
        "answer.append(animal.description()) # Adds \"Nemo is an animal.\" to 'answer' list\n",
        "answer.append(dog.speak()) # Adds \"Rex says woof!\" to 'answer' list\n",
        "answer.append(dog.description()) # Adds \"Rex is an animal.\" to 'answer' list\n",
        "answer.append(cat.speak()) # Adds \"Misty says meow!\" to 'answer' list\n",
        "answer.append(cat.description()) # Adds \"Misty is an animal.\" to 'answer' list\n",
        "assignment_id = \"05-classes-inheritance\"\n",
        "question_id = \"05_animals_world\"\n",
        "submit(student_id, name, assignment_id, str(answer), question_id)"
      ]
    }
  ],
  "metadata": {
    "kernelspec": {
      "display_name": "Python 3 (ipykernel)",
      "language": "python",
      "name": "python3"
    },
    "language_info": {
      "codemirror_mode": {
        "name": "ipython",
        "version": 3
      },
      "file_extension": ".py",
      "mimetype": "text/x-python",
      "name": "python",
      "nbconvert_exporter": "python",
      "pygments_lexer": "ipython3",
      "version": "3.11.3"
    },
    "colab": {
      "provenance": [],
      "include_colab_link": true
    }
  },
  "nbformat": 4,
  "nbformat_minor": 0
}