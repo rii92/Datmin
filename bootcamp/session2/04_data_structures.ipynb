{
  "cells": [
    {
      "cell_type": "markdown",
      "metadata": {
        "id": "view-in-github",
        "colab_type": "text"
      },
      "source": [
        "<a href=\"https://colab.research.google.com/github/rii92/Datmin/blob/main/bootcamp/session2/04_data_structures.ipynb\" target=\"_parent\"><img src=\"https://colab.research.google.com/assets/colab-badge.svg\" alt=\"Open In Colab\"/></a>"
      ]
    },
    {
      "cell_type": "markdown",
      "source": [
        "# Session #2 - Python #2\n",
        "- Adipta Martulandi (https://www.linkedin.com/in/adiptamartulandi/)\n",
        "- Agenda\n",
        "  1. 19.30-20.30 Materi Sesi 1\n",
        "  4. 20.30-20.40 Istirahat\n",
        "  5. 20.40-21.15 Materi Sesi 2\n",
        "  6. 21.15-21.30 QnA"
      ],
      "metadata": {
        "id": "2gXwypRWk7NA"
      }
    },
    {
      "cell_type": "markdown",
      "source": [
        "***"
      ],
      "metadata": {
        "id": "4YVErZ-Ek9bm"
      }
    },
    {
      "cell_type": "markdown",
      "source": [
        "***"
      ],
      "metadata": {
        "id": "OGx_p-yumr4X"
      }
    },
    {
      "cell_type": "markdown",
      "source": [
        "***"
      ],
      "metadata": {
        "id": "ig6Hx7ummtIm"
      }
    },
    {
      "cell_type": "markdown",
      "source": [
        "***"
      ],
      "metadata": {
        "id": "TvqQcshDmuNg"
      }
    },
    {
      "cell_type": "markdown",
      "metadata": {
        "id": "7rKaj0dtpQ32"
      },
      "source": [
        "# Data Structures\n",
        "\n",
        "Data structures are essential for organizing, managing, and storing data in a program. Python provides built-in data structures like Lists, Tuples, Sets, and Dictionaries that offer different functionalities and use cases. For more information on Python data structures and their methods, you can visit [learnpython](www.learnpython.org)."
      ]
    },
    {
      "cell_type": "markdown",
      "metadata": {
        "id": "Mr5zolTwpQ34"
      },
      "source": [
        "## List\n",
        "\n",
        "- Ordering: Lists are ordered collections.\n",
        "- Mutability: Lists are mutable; they can be modified after creation.\n",
        "- Duplicates: Lists allow duplicate elements.\n",
        "- Syntax: Lists are created using square brackets `[]`.\n",
        "\n",
        "A common use case for lists is storing and accessing a collection of items in a specific order."
      ]
    },
    {
      "cell_type": "code",
      "source": [
        "# Creating a list of student names\n",
        "student_names = [\"Alice\", \"Bob\", \"Charlie\", \"David\", \"Charlie\"]"
      ],
      "metadata": {
        "id": "rPzWvbZLpvDF"
      },
      "execution_count": 1,
      "outputs": []
    },
    {
      "cell_type": "code",
      "source": [
        "student_names"
      ],
      "metadata": {
        "colab": {
          "base_uri": "https://localhost:8080/"
        },
        "id": "djwU2y8QpwZg",
        "outputId": "802fe01f-e087-4bdc-ce01-ca7767199859"
      },
      "execution_count": 2,
      "outputs": [
        {
          "output_type": "execute_result",
          "data": {
            "text/plain": [
              "['Alice', 'Bob', 'Charlie', 'David', 'Charlie']"
            ]
          },
          "metadata": {},
          "execution_count": 2
        }
      ]
    },
    {
      "cell_type": "code",
      "source": [
        "type(student_names)"
      ],
      "metadata": {
        "colab": {
          "base_uri": "https://localhost:8080/"
        },
        "id": "cQFZue_jpyOO",
        "outputId": "b3e491ff-d238-4a4e-bdcc-47f39bbeb60c"
      },
      "execution_count": 3,
      "outputs": [
        {
          "output_type": "execute_result",
          "data": {
            "text/plain": [
              "list"
            ]
          },
          "metadata": {},
          "execution_count": 3
        }
      ]
    },
    {
      "cell_type": "code",
      "source": [
        "# Adding a student to the list\n",
        "student_names.append(\"Eve\")"
      ],
      "metadata": {
        "id": "QFs6IF-sp6v0"
      },
      "execution_count": 4,
      "outputs": []
    },
    {
      "cell_type": "code",
      "source": [
        "student_names"
      ],
      "metadata": {
        "colab": {
          "base_uri": "https://localhost:8080/"
        },
        "id": "LW85Vlw_p-Yl",
        "outputId": "6eb8fc69-0961-4b22-ea58-2d7c9841afdc"
      },
      "execution_count": 5,
      "outputs": [
        {
          "output_type": "execute_result",
          "data": {
            "text/plain": [
              "['Alice', 'Bob', 'Charlie', 'David', 'Charlie', 'Eve']"
            ]
          },
          "metadata": {},
          "execution_count": 5
        }
      ]
    },
    {
      "cell_type": "code",
      "source": [
        "# Removing a student from the list\n",
        "student_names.remove(\"Bob\")"
      ],
      "metadata": {
        "id": "QOfQ1X-fqEL0"
      },
      "execution_count": 6,
      "outputs": []
    },
    {
      "cell_type": "code",
      "source": [
        "student_names"
      ],
      "metadata": {
        "colab": {
          "base_uri": "https://localhost:8080/"
        },
        "id": "pKSFesP7qHNw",
        "outputId": "12a6933c-5c10-4db6-9fd8-b639ee6a8e76"
      },
      "execution_count": 7,
      "outputs": [
        {
          "output_type": "execute_result",
          "data": {
            "text/plain": [
              "['Alice', 'Charlie', 'David', 'Charlie', 'Eve']"
            ]
          },
          "metadata": {},
          "execution_count": 7
        }
      ]
    },
    {
      "cell_type": "code",
      "execution_count": 8,
      "metadata": {
        "id": "PMX_1mVNpQ34",
        "colab": {
          "base_uri": "https://localhost:8080/"
        },
        "outputId": "51c1b9f3-3591-49d2-aef5-9a22ecc0cf90"
      },
      "outputs": [
        {
          "output_type": "stream",
          "name": "stdout",
          "text": [
            "Alice\n",
            "Charlie\n",
            "David\n",
            "Charlie\n",
            "Eve\n"
          ]
        }
      ],
      "source": [
        "# Iterating through the list of student names\n",
        "for name in student_names:\n",
        "    print(name)"
      ]
    },
    {
      "cell_type": "code",
      "source": [
        "student_names[2]"
      ],
      "metadata": {
        "colab": {
          "base_uri": "https://localhost:8080/",
          "height": 35
        },
        "id": "E6-wWiFQqRuD",
        "outputId": "81a17104-94b5-4956-f5af-e72a32b2341f"
      },
      "execution_count": 9,
      "outputs": [
        {
          "output_type": "execute_result",
          "data": {
            "text/plain": [
              "'David'"
            ],
            "application/vnd.google.colaboratory.intrinsic+json": {
              "type": "string"
            }
          },
          "metadata": {},
          "execution_count": 9
        }
      ]
    },
    {
      "cell_type": "code",
      "source": [
        "data_siswa_adipta = [\"AI Engineer\", 2, False, 8.5]"
      ],
      "metadata": {
        "id": "ureceBuPqnmb"
      },
      "execution_count": 10,
      "outputs": []
    },
    {
      "cell_type": "code",
      "source": [
        "data_siswa_adipta[-1]"
      ],
      "metadata": {
        "colab": {
          "base_uri": "https://localhost:8080/"
        },
        "id": "T8L9zvA6q0xi",
        "outputId": "bc262b7f-33c0-400f-8922-37e686339e06"
      },
      "execution_count": 11,
      "outputs": [
        {
          "output_type": "execute_result",
          "data": {
            "text/plain": [
              "8.5"
            ]
          },
          "metadata": {},
          "execution_count": 11
        }
      ]
    },
    {
      "cell_type": "code",
      "source": [
        "data_siswa_adipta[-2]"
      ],
      "metadata": {
        "colab": {
          "base_uri": "https://localhost:8080/"
        },
        "id": "-Zrf841Rq_et",
        "outputId": "ccb97948-5dd0-4241-ad6f-d2c792e3b8df"
      },
      "execution_count": 12,
      "outputs": [
        {
          "output_type": "execute_result",
          "data": {
            "text/plain": [
              "False"
            ]
          },
          "metadata": {},
          "execution_count": 12
        }
      ]
    },
    {
      "cell_type": "markdown",
      "metadata": {
        "id": "PQ6ErsVEpQ36"
      },
      "source": [
        "Operations on lists:\n",
        "\n",
        "- Accessing elements: `student_names[1]` returns `\"Bob\"`.\n",
        "- Modifying elements: `student_names[0] = \"Bryan\"` changes the first element to `Bryan`.\n",
        "- Adding elements: `student_names.append(\"Eric\")` adds `\"Eric\"` to the end of the list.\n",
        "- Removing elements: `student_names.remove(\"Charlie\")` removes the first occurrence of `\"Charlie\"` from the list."
      ]
    },
    {
      "cell_type": "markdown",
      "metadata": {
        "id": "ByUZ9UlmpQ36"
      },
      "source": [
        "## Tuples\n",
        "\n",
        "- Ordering: Tuples are ordered collections.\n",
        "- Mutability: Tuples are immutable; they cannot be modified after creation.\n",
        "- Duplicates: Tuples allow duplicate elements.\n",
        "- Syntax: Tuples are created using round brackets `()`.\n",
        "\n",
        "Tuples are useful when you have a fixed collection of items that should not change throughout the program's execution."
      ]
    },
    {
      "cell_type": "code",
      "source": [
        "# Defining coordinates as a tuple\n",
        "coordinates = (12.34, 56.78)"
      ],
      "metadata": {
        "id": "GfJ-QZTvrONL"
      },
      "execution_count": 13,
      "outputs": []
    },
    {
      "cell_type": "code",
      "source": [
        "type(coordinates)"
      ],
      "metadata": {
        "colab": {
          "base_uri": "https://localhost:8080/"
        },
        "id": "o-_yMmqsrQD2",
        "outputId": "a3ec3f62-98d1-4bc3-ba53-b502446651b7"
      },
      "execution_count": 14,
      "outputs": [
        {
          "output_type": "execute_result",
          "data": {
            "text/plain": [
              "tuple"
            ]
          },
          "metadata": {},
          "execution_count": 14
        }
      ]
    },
    {
      "cell_type": "code",
      "source": [
        "# Accessing the longitude and latitude\n",
        "longitude, latitude = coordinates"
      ],
      "metadata": {
        "id": "N6wU5Q7mrRtW"
      },
      "execution_count": 15,
      "outputs": []
    },
    {
      "cell_type": "code",
      "source": [
        "longitude"
      ],
      "metadata": {
        "colab": {
          "base_uri": "https://localhost:8080/"
        },
        "id": "Hgd0Y7XnrdFk",
        "outputId": "ec3ac666-a4b3-4a0a-90c9-12d8de2cd666"
      },
      "execution_count": 16,
      "outputs": [
        {
          "output_type": "execute_result",
          "data": {
            "text/plain": [
              "12.34"
            ]
          },
          "metadata": {},
          "execution_count": 16
        }
      ]
    },
    {
      "cell_type": "code",
      "source": [
        "coordinates.append(10)"
      ],
      "metadata": {
        "colab": {
          "base_uri": "https://localhost:8080/",
          "height": 141
        },
        "id": "0wCB3-P2re8q",
        "outputId": "a202ce2c-12d6-4d07-a0e7-f37022d6bce6"
      },
      "execution_count": 28,
      "outputs": [
        {
          "output_type": "error",
          "ename": "AttributeError",
          "evalue": "'tuple' object has no attribute 'append'",
          "traceback": [
            "\u001b[0;31m---------------------------------------------------------------------------\u001b[0m",
            "\u001b[0;31mAttributeError\u001b[0m                            Traceback (most recent call last)",
            "\u001b[0;32m<ipython-input-28-52db659608d0>\u001b[0m in \u001b[0;36m<cell line: 1>\u001b[0;34m()\u001b[0m\n\u001b[0;32m----> 1\u001b[0;31m \u001b[0mcoordinates\u001b[0m\u001b[0;34m.\u001b[0m\u001b[0mappend\u001b[0m\u001b[0;34m(\u001b[0m\u001b[0;36m10\u001b[0m\u001b[0;34m)\u001b[0m\u001b[0;34m\u001b[0m\u001b[0;34m\u001b[0m\u001b[0m\n\u001b[0m",
            "\u001b[0;31mAttributeError\u001b[0m: 'tuple' object has no attribute 'append'"
          ]
        }
      ]
    },
    {
      "cell_type": "code",
      "execution_count": 18,
      "metadata": {
        "id": "yf7HljMSpQ36",
        "outputId": "b20bf616-da33-4986-8568-b58f1fef5abf",
        "colab": {
          "base_uri": "https://localhost:8080/"
        }
      },
      "outputs": [
        {
          "output_type": "stream",
          "name": "stdout",
          "text": [
            "Sacramento\n"
          ]
        }
      ],
      "source": [
        "\n",
        "\n",
        "\n",
        "\n",
        "# Tuples can be used as keys in dictionaries\n",
        "capital_cities = {(\"United States\", \"California\"): \"Sacramento\", (\"France\", \"Île-de-France\"): \"Paris\"}\n",
        "\n",
        "# Accessing the capital city of California, United States\n",
        "capital = capital_cities[(\"United States\", \"California\")]\n",
        "print(capital)"
      ]
    },
    {
      "cell_type": "markdown",
      "metadata": {
        "id": "qe-AV-UQpQ4G"
      },
      "source": [
        "## Sets\n",
        "\n",
        "- Ordering: Sets are unordered collections.\n",
        "- Mutability: Sets are mutable; they can be modified after creation.\n",
        "- Duplicates: Sets do not allow duplicate elements.\n",
        "- Syntax: Sets are created using curly brackets `{}`.\n",
        "\n",
        "Sets are useful for efficiently storing unique values and performing set operations."
      ]
    },
    {
      "cell_type": "code",
      "source": [
        "# Creating sets of unique hobbies for two people\n",
        "hobbies_alice = {\"reading\", \"hiking\", \"cooking\"}\n",
        "hobbies_bob = {\"cooking\", \"painting\", \"cycling\"}"
      ],
      "metadata": {
        "id": "Q8An_Dm4sImV"
      },
      "execution_count": 19,
      "outputs": []
    },
    {
      "cell_type": "code",
      "source": [
        "type(hobbies_alice)"
      ],
      "metadata": {
        "colab": {
          "base_uri": "https://localhost:8080/"
        },
        "id": "oOs4WtVisKoT",
        "outputId": "aeffdc37-eb1c-40e3-a8d8-f7c9c942ae20"
      },
      "execution_count": 20,
      "outputs": [
        {
          "output_type": "execute_result",
          "data": {
            "text/plain": [
              "set"
            ]
          },
          "metadata": {},
          "execution_count": 20
        }
      ]
    },
    {
      "cell_type": "code",
      "source": [
        "hobbies_alice = {\"reading\", \"hiking\", \"cooking\", \"reading\"}"
      ],
      "metadata": {
        "id": "MzMLQvPfsNFg"
      },
      "execution_count": 21,
      "outputs": []
    },
    {
      "cell_type": "code",
      "source": [
        "hobbies_alice"
      ],
      "metadata": {
        "colab": {
          "base_uri": "https://localhost:8080/"
        },
        "id": "oLUefo0_sQSK",
        "outputId": "36f3a290-1097-4e0d-ecc1-9fbb8e4a7dae"
      },
      "execution_count": 22,
      "outputs": [
        {
          "output_type": "execute_result",
          "data": {
            "text/plain": [
              "{'cooking', 'hiking', 'reading'}"
            ]
          },
          "metadata": {},
          "execution_count": 22
        }
      ]
    },
    {
      "cell_type": "code",
      "execution_count": 23,
      "metadata": {
        "id": "EB-eU1j5pQ4G",
        "outputId": "4ad7120e-b001-4410-d769-878350f09406",
        "colab": {
          "base_uri": "https://localhost:8080/"
        }
      },
      "outputs": [
        {
          "output_type": "stream",
          "name": "stdout",
          "text": [
            "Common hobbies: {'cooking'}\n",
            "All hobbies: {'hiking', 'cooking', 'painting', 'reading', 'cycling'}\n"
          ]
        }
      ],
      "source": [
        "# Finding common hobbies\n",
        "common_hobbies = hobbies_alice.intersection(hobbies_bob)\n",
        "print(\"Common hobbies:\", common_hobbies)\n",
        "\n",
        "# Finding the union of hobbies\n",
        "all_hobbies = hobbies_alice.union(hobbies_bob)\n",
        "print(\"All hobbies:\", all_hobbies)"
      ]
    },
    {
      "cell_type": "code",
      "source": [
        "hobbies_alice.add(\"riding\")"
      ],
      "metadata": {
        "id": "tzREmo5MsdAN"
      },
      "execution_count": 24,
      "outputs": []
    },
    {
      "cell_type": "code",
      "source": [
        "hobbies_alice.remove(\"reading\")"
      ],
      "metadata": {
        "id": "PEmdDLA5shUO"
      },
      "execution_count": 25,
      "outputs": []
    },
    {
      "cell_type": "code",
      "source": [
        "hobbies_alice"
      ],
      "metadata": {
        "colab": {
          "base_uri": "https://localhost:8080/"
        },
        "id": "Q_UpKl8FspLN",
        "outputId": "3a81d94e-d515-4274-a365-4517fd62a26f"
      },
      "execution_count": 26,
      "outputs": [
        {
          "output_type": "execute_result",
          "data": {
            "text/plain": [
              "{'cooking', 'hiking', 'riding'}"
            ]
          },
          "metadata": {},
          "execution_count": 26
        }
      ]
    },
    {
      "cell_type": "markdown",
      "metadata": {
        "id": "ZiXFeqOFpQ4H"
      },
      "source": [
        "Operations on sets:\n",
        "\n",
        "- Adding elements: `hobbies_alice.add(\"riding\")` adds `\"riding\"` to the set.\n",
        "- Removing elements: `hobbies_alice.remove(\"hiking\")` removes `\"hiking\"` from the set.\n",
        "- Unions and intersections: `hobbies_alice.union(another_set)` returns a new set containing elements from both sets, while `hobbies_alice.intersection(another_set)` returns a new set containing common elements."
      ]
    },
    {
      "cell_type": "markdown",
      "metadata": {
        "id": "_7wVR31lpQ4H"
      },
      "source": [
        "## Dictionaries\n",
        "\n",
        "- Ordering: Dictionaries are unordered collections.\n",
        "- Mutability: Dictionaries are mutable; they can be modified after creation.\n",
        "- Duplicates: Dictionaries do not allow duplicate keys, but values can be duplicated.\n",
        "- Structure: Dictionaries consist of key-value pairs.\n",
        "- Syntax: Dictionaries are created using curly brackets {} with key-value pairs separated by colons.\n",
        "\n",
        "Dictionaries are useful for storing key-value pairs and efficiently accessing values using their keys."
      ]
    },
    {
      "cell_type": "code",
      "source": [
        "fish (key) --> ikan (value)"
      ],
      "metadata": {
        "id": "PszDDdWesv7K",
        "outputId": "f49a1157-26b2-4793-c525-7a14f4684e56",
        "colab": {
          "base_uri": "https://localhost:8080/",
          "height": 106
        }
      },
      "execution_count": 27,
      "outputs": [
        {
          "output_type": "error",
          "ename": "SyntaxError",
          "evalue": "invalid syntax (<ipython-input-27-a491aa216e8b>, line 1)",
          "traceback": [
            "\u001b[0;36m  File \u001b[0;32m\"<ipython-input-27-a491aa216e8b>\"\u001b[0;36m, line \u001b[0;32m1\u001b[0m\n\u001b[0;31m    fish (key) --> ikan (value)\u001b[0m\n\u001b[0m                ^\u001b[0m\n\u001b[0;31mSyntaxError\u001b[0m\u001b[0;31m:\u001b[0m invalid syntax\n"
          ]
        }
      ]
    },
    {
      "cell_type": "code",
      "source": [
        "# Creating a dictionary that maps student names to their ages\n",
        "student_ages = {\"Alice\": 20,\n",
        "                \"Bob\": 22,\n",
        "                \"Charlie\": 21}"
      ],
      "metadata": {
        "id": "s731cOTSs83R"
      },
      "execution_count": 29,
      "outputs": []
    },
    {
      "cell_type": "code",
      "source": [
        "student_ages"
      ],
      "metadata": {
        "colab": {
          "base_uri": "https://localhost:8080/"
        },
        "id": "uUG5rns4tB1-",
        "outputId": "c3519535-e39d-45b1-8479-e9798d60e1fe"
      },
      "execution_count": 30,
      "outputs": [
        {
          "output_type": "execute_result",
          "data": {
            "text/plain": [
              "{'Alice': 20, 'Bob': 22, 'Charlie': 21}"
            ]
          },
          "metadata": {},
          "execution_count": 30
        }
      ]
    },
    {
      "cell_type": "code",
      "source": [
        "type(student_ages)"
      ],
      "metadata": {
        "colab": {
          "base_uri": "https://localhost:8080/"
        },
        "id": "hBVFSR0AtDv4",
        "outputId": "9fd6f5b2-cccd-48f5-a395-ad62fb8c8c4e"
      },
      "execution_count": 31,
      "outputs": [
        {
          "output_type": "execute_result",
          "data": {
            "text/plain": [
              "dict"
            ]
          },
          "metadata": {},
          "execution_count": 31
        }
      ]
    },
    {
      "cell_type": "code",
      "source": [
        "# Adding a new student to the dictionary\n",
        "student_ages[\"David\"] = 23"
      ],
      "metadata": {
        "id": "x7r3jgBFtHW9"
      },
      "execution_count": 32,
      "outputs": []
    },
    {
      "cell_type": "code",
      "source": [
        "student_ages"
      ],
      "metadata": {
        "colab": {
          "base_uri": "https://localhost:8080/"
        },
        "id": "CjK5JuZhtKYI",
        "outputId": "fc887de1-0eec-42b3-b15a-e57de28264f0"
      },
      "execution_count": 33,
      "outputs": [
        {
          "output_type": "execute_result",
          "data": {
            "text/plain": [
              "{'Alice': 20, 'Bob': 22, 'Charlie': 21, 'David': 23}"
            ]
          },
          "metadata": {},
          "execution_count": 33
        }
      ]
    },
    {
      "cell_type": "code",
      "source": [
        "# Updating a student's age\n",
        "student_ages[\"Alice\"] = 21"
      ],
      "metadata": {
        "id": "2pC7f3XrtMSw"
      },
      "execution_count": 34,
      "outputs": []
    },
    {
      "cell_type": "code",
      "source": [
        "student_ages"
      ],
      "metadata": {
        "colab": {
          "base_uri": "https://localhost:8080/"
        },
        "id": "FbbHxVsMtS0y",
        "outputId": "c8bfc13d-98e8-472d-e996-9b3e573c5058"
      },
      "execution_count": 35,
      "outputs": [
        {
          "output_type": "execute_result",
          "data": {
            "text/plain": [
              "{'Alice': 21, 'Bob': 22, 'Charlie': 21, 'David': 23}"
            ]
          },
          "metadata": {},
          "execution_count": 35
        }
      ]
    },
    {
      "cell_type": "code",
      "source": [
        "# Iterating through the dictionary and printing student names and ages\n",
        "for name, age in student_ages.items():\n",
        "    print(name, \"is\", age, \"years old\")"
      ],
      "metadata": {
        "colab": {
          "base_uri": "https://localhost:8080/"
        },
        "id": "HrMPntB5tWpT",
        "outputId": "f75b840c-58bc-4554-d11f-fc773486883a"
      },
      "execution_count": 36,
      "outputs": [
        {
          "output_type": "stream",
          "name": "stdout",
          "text": [
            "Alice is 21 years old\n",
            "Bob is 22 years old\n",
            "Charlie is 21 years old\n",
            "David is 23 years old\n"
          ]
        }
      ]
    },
    {
      "cell_type": "code",
      "source": [
        "for name in student_ages.keys():\n",
        "    print(name)"
      ],
      "metadata": {
        "colab": {
          "base_uri": "https://localhost:8080/"
        },
        "id": "6g-Ci2xBte9M",
        "outputId": "15455b4d-039a-49eb-96bb-bb7a0eebc16f"
      },
      "execution_count": 37,
      "outputs": [
        {
          "output_type": "stream",
          "name": "stdout",
          "text": [
            "Alice\n",
            "Bob\n",
            "Charlie\n",
            "David\n"
          ]
        }
      ]
    },
    {
      "cell_type": "code",
      "source": [
        "for age in student_ages.values():\n",
        "    print(age)"
      ],
      "metadata": {
        "colab": {
          "base_uri": "https://localhost:8080/"
        },
        "id": "7cp7KGcUtj1Z",
        "outputId": "cb640f7f-424b-4e4a-8f8d-83ae2aea24ef"
      },
      "execution_count": 38,
      "outputs": [
        {
          "output_type": "stream",
          "name": "stdout",
          "text": [
            "21\n",
            "22\n",
            "21\n",
            "23\n"
          ]
        }
      ]
    },
    {
      "cell_type": "code",
      "execution_count": 38,
      "metadata": {
        "id": "ECLmdQUzpQ4H"
      },
      "outputs": [],
      "source": [
        "\n",
        "\n",
        "\n",
        "\n",
        "\n",
        "\n"
      ]
    },
    {
      "cell_type": "markdown",
      "metadata": {
        "id": "BD_0QwOHpQ4I"
      },
      "source": [
        "Operations on dictionaries:\n",
        "\n",
        "- Accessing values: `student_ages[\"Alice\"]` returns `20`.\n",
        "- Modifying values: `student_ages[\"Alice\"] = 21` changes the value of `\"Alice\"` to `21`.\n",
        "- Adding key-value pairs: `student_ages[\"Fulan\"] = 20` adds a new key-value pair to the dictionary.\n",
        "- Removing key-value pairs: `student_ages.pop(\"Fulan\")` removes the key-value pair with the key `\"Fulan\"`."
      ]
    },
    {
      "cell_type": "markdown",
      "metadata": {
        "id": "oPV6GYjXpQ4I"
      },
      "source": [
        "## Exercise Data Structures"
      ]
    },
    {
      "cell_type": "code",
      "execution_count": 39,
      "metadata": {
        "id": "u-D8zfBlpQ4I",
        "outputId": "b1affa05-8acb-46ff-d5b3-ba4bdf72826d",
        "colab": {
          "base_uri": "https://localhost:8080/"
        }
      },
      "outputs": [
        {
          "output_type": "stream",
          "name": "stdout",
          "text": [
            "Collecting rggrader\n",
            "  Downloading rggrader-0.1.6-py3-none-any.whl (2.5 kB)\n",
            "Requirement already satisfied: requests in /usr/local/lib/python3.10/dist-packages (from rggrader) (2.31.0)\n",
            "Requirement already satisfied: pandas in /usr/local/lib/python3.10/dist-packages (from rggrader) (2.0.3)\n",
            "Requirement already satisfied: Pillow in /usr/local/lib/python3.10/dist-packages (from rggrader) (9.4.0)\n",
            "Requirement already satisfied: python-dateutil>=2.8.2 in /usr/local/lib/python3.10/dist-packages (from pandas->rggrader) (2.8.2)\n",
            "Requirement already satisfied: pytz>=2020.1 in /usr/local/lib/python3.10/dist-packages (from pandas->rggrader) (2023.4)\n",
            "Requirement already satisfied: tzdata>=2022.1 in /usr/local/lib/python3.10/dist-packages (from pandas->rggrader) (2024.1)\n",
            "Requirement already satisfied: numpy>=1.21.0 in /usr/local/lib/python3.10/dist-packages (from pandas->rggrader) (1.25.2)\n",
            "Requirement already satisfied: charset-normalizer<4,>=2 in /usr/local/lib/python3.10/dist-packages (from requests->rggrader) (3.3.2)\n",
            "Requirement already satisfied: idna<4,>=2.5 in /usr/local/lib/python3.10/dist-packages (from requests->rggrader) (3.7)\n",
            "Requirement already satisfied: urllib3<3,>=1.21.1 in /usr/local/lib/python3.10/dist-packages (from requests->rggrader) (2.0.7)\n",
            "Requirement already satisfied: certifi>=2017.4.17 in /usr/local/lib/python3.10/dist-packages (from requests->rggrader) (2024.7.4)\n",
            "Requirement already satisfied: six>=1.5 in /usr/local/lib/python3.10/dist-packages (from python-dateutil>=2.8.2->pandas->rggrader) (1.16.0)\n",
            "Installing collected packages: rggrader\n",
            "Successfully installed rggrader-0.1.6\n"
          ]
        }
      ],
      "source": [
        "!pip install rggrader"
      ]
    },
    {
      "cell_type": "code",
      "execution_count": 40,
      "metadata": {
        "id": "6Ep_tbfBpQ4I"
      },
      "outputs": [],
      "source": [
        "# @title #### Student Identity\n",
        "student_id = \"REAFCDNE\" # @param {type:\"string\"}\n",
        "name = \"Riofebri Prasetia\" # @param {type:\"string\"}"
      ]
    },
    {
      "cell_type": "code",
      "execution_count": 48,
      "metadata": {
        "id": "sKWqnEJHpQ4I",
        "outputId": "2ad08fda-cad7-4d05-eaed-94ac5860bcac",
        "colab": {
          "base_uri": "https://localhost:8080/",
          "height": 53
        }
      },
      "outputs": [
        {
          "output_type": "stream",
          "name": "stdout",
          "text": [
            "The final fruits list is ['Apple', 'Cherry', 'Dragonfruit', 'Elderberry']\n"
          ]
        },
        {
          "output_type": "execute_result",
          "data": {
            "text/plain": [
              "'Assignment successfully submitted'"
            ],
            "application/vnd.google.colaboratory.intrinsic+json": {
              "type": "string"
            }
          },
          "metadata": {},
          "execution_count": 48
        }
      ],
      "source": [
        "# @title #### 00. Fun with Fruits\n",
        "from rggrader import submit\n",
        "\n",
        "# TODO: Create a list 'fruits' that contains \"Apple\", \"Banana\", and \"Cherry\".\n",
        "# Then remove \"Banana\" from the 'fruits' list and append \"Dragonfruit\" and \"Elderberry\".\n",
        "fruits = []\n",
        "\n",
        "# Put your code here:\n",
        "fruits = [\"Apple\", \"Banana\", \"Cherry\"]\n",
        "fruits.remove(\"Banana\")\n",
        "fruits.append(\"Dragonfruit\")\n",
        "fruits.append(\"Elderberry\")\n",
        "# ---- End of your code ----\n",
        "\n",
        "print(f\"The final fruits list is {fruits}\")\n",
        "\n",
        "# Submit Method\n",
        "assignment_id = \"03-data-structures\"\n",
        "question_id = \"00_fun_with_fruits\"\n",
        "submit(student_id, name, assignment_id, \", \".join(fruits), question_id)\n",
        "\n",
        "# Example:\n",
        "# List: [\"Peach\", \"Pear\", \"Plum\"]\n",
        "# Remove: \"Pear\"\n",
        "# Append: [\"Grape\", \"Guava\"]\n",
        "# Output: ['Peach', 'Plum', 'Grape', 'Guava']"
      ]
    },
    {
      "cell_type": "code",
      "execution_count": 49,
      "metadata": {
        "id": "KPa69G7LpQ4J",
        "outputId": "25719768-447c-4d2c-cf4f-340a4bbc2455",
        "colab": {
          "base_uri": "https://localhost:8080/",
          "height": 53
        }
      },
      "outputs": [
        {
          "output_type": "stream",
          "name": "stdout",
          "text": [
            "The coordinates for Brussels are (50.85, 4.35)\n"
          ]
        },
        {
          "output_type": "execute_result",
          "data": {
            "text/plain": [
              "'Assignment successfully submitted'"
            ],
            "application/vnd.google.colaboratory.intrinsic+json": {
              "type": "string"
            }
          },
          "metadata": {},
          "execution_count": 49
        }
      ],
      "source": [
        "# @title #### 01. Trip to Brussels\n",
        "from rggrader import submit\n",
        "\n",
        "# TODO: You're planning a trip to Brussels! Create a tuple 'coordinates' that represents a longitude\n",
        "#       of 50.85 and a latitude of 4.35 (which is the coordinates of Brussels).\n",
        "\n",
        "\n",
        "# Put your code here:\n",
        "coordinates = None\n",
        "longitude = 50.85\n",
        "latitude = 4.35\n",
        "coordinates = (longitude, latitude)\n",
        "\n",
        "# ---- End of your code ----\n",
        "\n",
        "print(f\"The coordinates for Brussels are {coordinates}\")\n",
        "\n",
        "# Submit Method\n",
        "assignment_id = \"03-data-structures\"\n",
        "question_id = \"01_trip_to_brussels\"\n",
        "submit(student_id, name, assignment_id, \", \".join(map(str, coordinates)), question_id)\n",
        "\n",
        "# Example:\n",
        "# Longitude: 60.17\n",
        "# Latitude: 24.94\n",
        "# Output: (60.17, 24.94)"
      ]
    },
    {
      "cell_type": "code",
      "execution_count": 56,
      "metadata": {
        "id": "gJNV9nxApQ4J",
        "outputId": "ec6b6798-4b52-451c-cd30-df03457d27b0",
        "colab": {
          "base_uri": "https://localhost:8080/",
          "height": 53
        }
      },
      "outputs": [
        {
          "output_type": "stream",
          "name": "stdout",
          "text": [
            "The final ages dictionary is {'Alice': 26, 'Bob': 30, 'Charlie': 35, 'David': 40}\n"
          ]
        },
        {
          "output_type": "execute_result",
          "data": {
            "text/plain": [
              "'Assignment successfully submitted'"
            ],
            "application/vnd.google.colaboratory.intrinsic+json": {
              "type": "string"
            }
          },
          "metadata": {},
          "execution_count": 56
        }
      ],
      "source": [
        "# @title #### 02. Birthday Party\n",
        "from rggrader import submit\n",
        "\n",
        "# TODO: You're throwing a birthday party! Create a dictionary 'ages' that contains key-value pairs of your friends' names\n",
        "#       and their ages: \"Alice\": 25, \"Bob\": 30, \"Charlie\": 35.\n",
        "# Alice just had her birthday! So, change the age of \"Alice\" to 26. Then, add your friend \"David\" who is 40 to the party.\n",
        "\n",
        "\n",
        "# Put your code here:\n",
        "ages = {\"Alice\": 25, \"Bob\": 30, \"Charlie\": 35}\n",
        "\n",
        "ages[\"Alice\"] = 26\n",
        "ages[\"David\"] = 40\n",
        "\n",
        "# ---- End of your code ----\n",
        "\n",
        "print(f\"The final ages dictionary is {ages}\")\n",
        "\n",
        "# Submit Method\n",
        "assignment_id = \"03-data-structures\"\n",
        "question_id = \"02_birthday_party\"\n",
        "submit(student_id, name, assignment_id, str(ages), question_id)\n",
        "\n",
        "# Example:\n",
        "# Dictionary: {\"John\": 28, \"Linda\": 25, \"Peter\": 30}\n",
        "# Change Age: John turns 29\n",
        "# Add New Friend: {\"Mary\": 32}\n",
        "# Output: {\"John\": 29, \"Linda\": 25, \"Peter\": 30, \"Mary\": 32}"
      ]
    },
    {
      "cell_type": "code",
      "execution_count": 58,
      "metadata": {
        "id": "LqxIzbgIpQ4J",
        "outputId": "32e487df-da23-4286-c708-fe72ef7a6b43",
        "colab": {
          "base_uri": "https://localhost:8080/",
          "height": 53
        }
      },
      "outputs": [
        {
          "output_type": "stream",
          "name": "stdout",
          "text": [
            "The count of odd numbers is 5 and the count of even numbers is 4\n"
          ]
        },
        {
          "output_type": "execute_result",
          "data": {
            "text/plain": [
              "'Assignment successfully submitted'"
            ],
            "application/vnd.google.colaboratory.intrinsic+json": {
              "type": "string"
            }
          },
          "metadata": {},
          "execution_count": 58
        }
      ],
      "source": [
        "# @title #### 03. Count Odd and Even\n",
        "from rggrader import submit\n",
        "\n",
        "# TODO: Create a list 'series' that contains the numbers 1, 2, 3, 4, 5, 6, 7, 8, 9.\n",
        "# Write a program to count the number of odd and even numbers from a series of numbers.\n",
        "\n",
        "series = []\n",
        "odd_count = 0\n",
        "even_count = 0\n",
        "\n",
        "# Put your code here:\n",
        "series = [1, 2, 3, 4, 5, 6, 7, 8, 9]\n",
        "\n",
        "for x in series:\n",
        "  if (x % 2 == 0):\n",
        "    even_count += 1\n",
        "  else:\n",
        "    odd_count += 1\n",
        "\n",
        "# ---- End of your code ----\n",
        "\n",
        "print(f\"The count of odd numbers is {odd_count} and the count of even numbers is {even_count}\")\n",
        "\n",
        "# Submit Method\n",
        "assignment_id = \"01-control-structures\"\n",
        "question_id = \"03_count-odd-even\"\n",
        "submit(student_id, name, assignment_id, str(odd_count) + ' ' + str(even_count), question_id)\n",
        "\n",
        "# Example:\n",
        "# Series: [2, 4, 6, 7, 9, 11, 13, 15]\n",
        "# Output: The count of odd numbers is 5 and the count of even numbers is 3"
      ]
    },
    {
      "cell_type": "code",
      "execution_count": 59,
      "metadata": {
        "id": "nJHsojtcpQ4J",
        "colab": {
          "base_uri": "https://localhost:8080/"
        },
        "outputId": "9d518ec0-7e33-45f4-ae8c-7db38bd1adde"
      },
      "outputs": [
        {
          "output_type": "stream",
          "name": "stdout",
          "text": [
            "The final fruits set is {'Apple', 'Elderberry', 'Dragonfruit', 'Cherry'}\n"
          ]
        }
      ],
      "source": [
        "# @title #### 04. Fun with Sets\n",
        "# from rggrader import submit\n",
        "\n",
        "# TODO: Create a set 'fruits' that contains \"Apple\", \"Banana\", and \"Cherry\".\n",
        "# Then remove \"Banana\" from the 'fruits' set and add \"Dragonfruit\" and \"Elderberry\".\n",
        "\n",
        "\n",
        "# Put your code here:\n",
        "fruits = set()\n",
        "fruits = {\"Apple\", \"Banana\", \"Cherry\"}\n",
        "fruits.remove(\"Banana\")\n",
        "fruits.add(\"Dragonfruit\")\n",
        "fruits.add(\"Elderberry\")\n",
        "# ---- End of your code ----\n",
        "\n",
        "print(f\"The final fruits set is {fruits}\")\n",
        "\n",
        "# Submit Method\n",
        "assignment_id = \"03-data-structures\"\n",
        "question_id = \"04_fun_with_sets\"\n",
        "# submit(student_id, name, assignment_id, \", \".join(fruits), question_id)\n",
        "\n",
        "# Note: set is an unordered collection of items, so the output can be in any order.\n",
        "\n",
        "# Example:\n",
        "# Set: {\"Peach\", \"Pear\", \"Plum\"}\n",
        "# Remove: \"Pear\"\n",
        "# Add: {\"Grape\", \"Guava\"}\n",
        "# Output: {\"Peach\", \"Plum\", \"Grape\", \"Guava\"}"
      ]
    },
    {
      "cell_type": "code",
      "execution_count": 60,
      "metadata": {
        "id": "3i12dbD9pQ4J",
        "outputId": "4e44b367-4bd4-46b9-f64f-fba6b9b99dde",
        "colab": {
          "base_uri": "https://localhost:8080/",
          "height": 53
        }
      },
      "outputs": [
        {
          "output_type": "stream",
          "name": "stdout",
          "text": [
            "The final city_coordinates dictionary is {'CityA': (10.0, 20.0), 'CityB': (30.0, 40.0), 'CityC': (50.0, 60.0)}\n"
          ]
        },
        {
          "output_type": "execute_result",
          "data": {
            "text/plain": [
              "'Assignment successfully submitted'"
            ],
            "application/vnd.google.colaboratory.intrinsic+json": {
              "type": "string"
            }
          },
          "metadata": {},
          "execution_count": 60
        }
      ],
      "source": [
        "# @title #### 05. Pair Coordinates\n",
        "from rggrader import submit\n",
        "\n",
        "# TODO: You're given two lists of cities and their coordinates.\n",
        "# cities = ['CityA', 'CityB', 'CityC']\n",
        "# coordinates = [(10.00, 20.00), (30.00, 40.00), (50.00, 60.00)]\n",
        "# Create a dictionary 'city_coordinates' that contains cities as keys and their coordinates as values.\n",
        "\n",
        "cities = ['CityA', 'CityB', 'CityC']\n",
        "coordinates = [(10.00, 20.00), (30.00, 40.00), (50.00, 60.00)]\n",
        "city_coordinates = {}\n",
        "\n",
        "# Put your code here:\n",
        "city_coordinates[\"CityA\"] = (10.00, 20.00)\n",
        "city_coordinates[\"CityB\"] = (30.00, 40.00)\n",
        "city_coordinates[\"CityC\"] = (50.00, 60.00)\n",
        "# ---- End of your code ----\n",
        "\n",
        "print(f\"The final city_coordinates dictionary is {city_coordinates}\")\n",
        "\n",
        "# Submit Method\n",
        "assignment_id = \"03-data-structures\"\n",
        "question_id = \"05_pair_coordinates\"\n",
        "submit(student_id, name, assignment_id, str(city_coordinates), question_id)\n",
        "\n",
        "# Example:\n",
        "# Cities: ['Helsinki', 'Oslo', 'Copenhagen']\n",
        "# Coordinates: [(60.17, 24.94), (59.91, 10.75), (55.67, 12.57)]\n",
        "# Output: {'Helsinki': (60.17, 24.94), 'Oslo': (59.91, 10.75), 'Copenhagen': (55.67, 12.57)}"
      ]
    }
  ],
  "metadata": {
    "kernelspec": {
      "display_name": "Python 3 (ipykernel)",
      "language": "python",
      "name": "python3"
    },
    "language_info": {
      "codemirror_mode": {
        "name": "ipython",
        "version": 3
      },
      "file_extension": ".py",
      "mimetype": "text/x-python",
      "name": "python",
      "nbconvert_exporter": "python",
      "pygments_lexer": "ipython3",
      "version": "3.11.3"
    },
    "colab": {
      "provenance": [],
      "include_colab_link": true
    }
  },
  "nbformat": 4,
  "nbformat_minor": 0
}