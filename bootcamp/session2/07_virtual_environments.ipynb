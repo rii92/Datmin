{
  "cells": [
    {
      "cell_type": "markdown",
      "metadata": {
        "id": "view-in-github",
        "colab_type": "text"
      },
      "source": [
        "<a href=\"https://colab.research.google.com/github/rii92/Datmin/blob/main/bootcamp/session2/07_virtual_environments.ipynb\" target=\"_parent\"><img src=\"https://colab.research.google.com/assets/colab-badge.svg\" alt=\"Open In Colab\"/></a>"
      ]
    },
    {
      "cell_type": "code",
      "source": [
        "!pip install openai"
      ],
      "metadata": {
        "colab": {
          "base_uri": "https://localhost:8080/"
        },
        "id": "5qf6Un-61T2M",
        "outputId": "d47a2139-db40-4a97-c9de-9b57698b5da7"
      },
      "execution_count": null,
      "outputs": [
        {
          "output_type": "stream",
          "name": "stdout",
          "text": [
            "Collecting openai\n",
            "  Downloading openai-1.14.3-py3-none-any.whl (262 kB)\n",
            "\u001b[2K     \u001b[90m━━━━━━━━━━━━━━━━━━━━━━━━━━━━━━━━━━━━━━━━\u001b[0m \u001b[32m262.9/262.9 kB\u001b[0m \u001b[31m2.5 MB/s\u001b[0m eta \u001b[36m0:00:00\u001b[0m\n",
            "\u001b[?25hRequirement already satisfied: anyio<5,>=3.5.0 in /usr/local/lib/python3.10/dist-packages (from openai) (3.7.1)\n",
            "Requirement already satisfied: distro<2,>=1.7.0 in /usr/lib/python3/dist-packages (from openai) (1.7.0)\n",
            "Collecting httpx<1,>=0.23.0 (from openai)\n",
            "  Downloading httpx-0.27.0-py3-none-any.whl (75 kB)\n",
            "\u001b[2K     \u001b[90m━━━━━━━━━━━━━━━━━━━━━━━━━━━━━━━━━━━━━━━━\u001b[0m \u001b[32m75.6/75.6 kB\u001b[0m \u001b[31m7.6 MB/s\u001b[0m eta \u001b[36m0:00:00\u001b[0m\n",
            "\u001b[?25hRequirement already satisfied: pydantic<3,>=1.9.0 in /usr/local/lib/python3.10/dist-packages (from openai) (2.6.4)\n",
            "Requirement already satisfied: sniffio in /usr/local/lib/python3.10/dist-packages (from openai) (1.3.1)\n",
            "Requirement already satisfied: tqdm>4 in /usr/local/lib/python3.10/dist-packages (from openai) (4.66.2)\n",
            "Requirement already satisfied: typing-extensions<5,>=4.7 in /usr/local/lib/python3.10/dist-packages (from openai) (4.10.0)\n",
            "Requirement already satisfied: idna>=2.8 in /usr/local/lib/python3.10/dist-packages (from anyio<5,>=3.5.0->openai) (3.6)\n",
            "Requirement already satisfied: exceptiongroup in /usr/local/lib/python3.10/dist-packages (from anyio<5,>=3.5.0->openai) (1.2.0)\n",
            "Requirement already satisfied: certifi in /usr/local/lib/python3.10/dist-packages (from httpx<1,>=0.23.0->openai) (2024.2.2)\n",
            "Collecting httpcore==1.* (from httpx<1,>=0.23.0->openai)\n",
            "  Downloading httpcore-1.0.5-py3-none-any.whl (77 kB)\n",
            "\u001b[2K     \u001b[90m━━━━━━━━━━━━━━━━━━━━━━━━━━━━━━━━━━━━━━━━\u001b[0m \u001b[32m77.9/77.9 kB\u001b[0m \u001b[31m8.7 MB/s\u001b[0m eta \u001b[36m0:00:00\u001b[0m\n",
            "\u001b[?25hCollecting h11<0.15,>=0.13 (from httpcore==1.*->httpx<1,>=0.23.0->openai)\n",
            "  Downloading h11-0.14.0-py3-none-any.whl (58 kB)\n",
            "\u001b[2K     \u001b[90m━━━━━━━━━━━━━━━━━━━━━━━━━━━━━━━━━━━━━━━━\u001b[0m \u001b[32m58.3/58.3 kB\u001b[0m \u001b[31m4.8 MB/s\u001b[0m eta \u001b[36m0:00:00\u001b[0m\n",
            "\u001b[?25hRequirement already satisfied: annotated-types>=0.4.0 in /usr/local/lib/python3.10/dist-packages (from pydantic<3,>=1.9.0->openai) (0.6.0)\n",
            "Requirement already satisfied: pydantic-core==2.16.3 in /usr/local/lib/python3.10/dist-packages (from pydantic<3,>=1.9.0->openai) (2.16.3)\n",
            "Installing collected packages: h11, httpcore, httpx, openai\n",
            "Successfully installed h11-0.14.0 httpcore-1.0.5 httpx-0.27.0 openai-1.14.3\n"
          ]
        }
      ]
    },
    {
      "cell_type": "code",
      "source": [
        "import openai"
      ],
      "metadata": {
        "id": "ZDWApjNo0_vn"
      },
      "execution_count": null,
      "outputs": []
    },
    {
      "cell_type": "markdown",
      "metadata": {
        "id": "9XLkBFaNp_Tw"
      },
      "source": [
        "# Virtual Environments"
      ]
    },
    {
      "cell_type": "markdown",
      "metadata": {
        "id": "tO8ipzQGp_T0"
      },
      "source": [
        "## Creating and Managing Virtual Environments\n",
        "\n",
        "Creating and managing virtual environments in Python is essential when working with multiple projects, as it allows you to maintain isolated environments for each project, preventing conflicts between package versions."
      ]
    },
    {
      "cell_type": "markdown",
      "metadata": {
        "id": "yTvVTZVCp_T0"
      },
      "source": [
        "### Creating a Virtual Environment\n",
        "\n",
        "To create a virtual environment, you can use Python's built-in `venv` module for Python 3.3+ or `virtualenv` package for earlier versions of Python."
      ]
    },
    {
      "cell_type": "markdown",
      "metadata": {
        "id": "225QyK9Jp_T1"
      },
      "source": [
        "Now, let's create a new virtual environment called `my_venv`"
      ]
    },
    {
      "cell_type": "markdown",
      "metadata": {
        "id": "Px64duGzp_T1"
      },
      "source": [
        "- Using venv for Python 3.3+\n",
        "\n",
        "    ```shell\n",
        "    python -m venv my_venv\n",
        "    ```"
      ]
    },
    {
      "cell_type": "markdown",
      "metadata": {
        "id": "s-wmxZDRp_T2"
      },
      "source": [
        "- Using `virtualenv` for earlier versions\n",
        "\n",
        "    ```shell\n",
        "    virtualenv my_venv\n",
        "    ```"
      ]
    },
    {
      "cell_type": "markdown",
      "metadata": {
        "id": "BJ_qGU6Tp_T2"
      },
      "source": [
        "### Activating the Virtual Environment\n",
        "\n",
        "Activate the virtual environment to modify the current shell environment variables and ensure that the appropriate Python interpreter and packages are used"
      ]
    },
    {
      "cell_type": "markdown",
      "metadata": {
        "id": "ndfEstzLp_T3"
      },
      "source": [
        "- On Windows\n",
        "\n",
        "    ```shell\n",
        "    my_venv\\Scripts\\activate\n",
        "    ```"
      ]
    },
    {
      "cell_type": "markdown",
      "metadata": {
        "id": "v3lEyDj8p_T3"
      },
      "source": [
        "- On macOS/Linux\n",
        "\n",
        "    ```shell\n",
        "    source my_venv/bin/activate\n",
        "    ```"
      ]
    },
    {
      "cell_type": "markdown",
      "metadata": {
        "id": "GV7BSh07p_T4"
      },
      "source": [
        "After activation, the command prompt should change to show the virtual environment's name (in this case, `my_venv`)."
      ]
    },
    {
      "cell_type": "markdown",
      "metadata": {
        "id": "ZVJVzvI5p_T4"
      },
      "source": [
        "### Package management\n",
        "\n",
        "Once a virtual environment is activated, you can use `pip` to install packages specifically for that environment. These packages won't affect the global Python interpreter or any other virtual environments."
      ]
    },
    {
      "cell_type": "markdown",
      "metadata": {
        "id": "hCEz8SiSp_T4"
      },
      "source": [
        "For example, let's install the `numpy`, `pandas`, `matplotlib` package:\n",
        "\n",
        "```shell\n",
        "pip install numpy pandas matplotlib\n",
        "```\n",
        "\n",
        "Now, the `numpy`, `pandas`, `matplotlib` package is installed only in the my_venv virtual environment and won't affect the global Python interpreter or any other virtual environments."
      ]
    },
    {
      "cell_type": "markdown",
      "metadata": {
        "id": "G-49xfhfp_T4"
      },
      "source": [
        "### Deactivating the Virtual Environment\n",
        "\n",
        "When you're done working with the virtual environment, deactivate it by running the following command:\n",
        "\n",
        "```shell\n",
        "deactivate\n",
        "```\n",
        "\n",
        "This returns you back to the global Python interpreter."
      ]
    },
    {
      "cell_type": "markdown",
      "metadata": {
        "id": "KGnFs5hep_T5"
      },
      "source": [
        "## Using Virtual Environments for Projects\n",
        "\n",
        "Using virtual environments for projects in Python offers several key benefits that enhance the development, maintenance, and collaboration aspects of the projects."
      ]
    },
    {
      "cell_type": "markdown",
      "metadata": {
        "id": "W_0JAztVp_T5"
      },
      "source": [
        "### Isolated dependencies\n",
        "\n",
        "Virtual environments enable each project to have its own isolated dependencies, preventing conflicts between package versions. This way, upgrading or downgrading a package for one project won't impact any other projects or the global Python installation."
      ]
    },
    {
      "cell_type": "markdown",
      "metadata": {
        "id": "SbPolWUPp_T5"
      },
      "source": [
        "### Reproducibility\n",
        "\n",
        "Virtual environments facilitate the process of reproducing your project on other machines or sharing it with collaborators. When working with a virtual environment, you can easily generate a list of the project's dependencies and later install those dependencies in another virtual environment with `pip install -r requirements.txt`."
      ]
    },
    {
      "cell_type": "markdown",
      "metadata": {
        "id": "8fcJv4ukp_T5"
      },
      "source": [
        "### Consistency\n",
        "\n",
        "By using virtual environments, you can maintain a consistent development environment across your team, as everyone will use the same Python interpreter and package versions specified in the project's virtual environment. This reduces the risk of discrepancies between development environments that could lead to inconsistent behavior."
      ]
    },
    {
      "cell_type": "markdown",
      "metadata": {
        "id": "jgGozZV5p_T5"
      },
      "source": [
        "### Easier debugging & testing\n",
        "\n",
        "By testing your code in an isolated environment with specific package versions, you can more accurately identify issues and avoid unexpected runtime errors. Virtual environments make it easier to test different configurations or package versions without affecting other projects or the global Python installation."
      ]
    },
    {
      "cell_type": "markdown",
      "metadata": {
        "id": "14rrrfxrp_T5"
      },
      "source": [
        "### Simplified deployment\n",
        "\n",
        "Deploying a project with a virtual environment simplifies the process of setting up dependencies on the target machine, reducing the risk of version mismatch issues. Virtual environments help ensure your project runs with the correct package versions during deployment."
      ]
    },
    {
      "cell_type": "markdown",
      "metadata": {
        "id": "PFAoq-GBp_T6"
      },
      "source": [
        "### Summary\n",
        "\n",
        "Here are some advantages of using a virtual environment for Python projects:\n",
        "- Helps maintain project-specific dependencies\n",
        "- Improve reproducibility\n",
        "- Provide a consistent development environment\n",
        "- Simplify debugging and testing processes\n",
        "- Simplify deployment."
      ]
    }
  ],
  "metadata": {
    "celltoolbar": "Slideshow",
    "kernelspec": {
      "display_name": "Python 3 (ipykernel)",
      "language": "python",
      "name": "python3"
    },
    "language_info": {
      "codemirror_mode": {
        "name": "ipython",
        "version": 3
      },
      "file_extension": ".py",
      "mimetype": "text/x-python",
      "name": "python",
      "nbconvert_exporter": "python",
      "pygments_lexer": "ipython3",
      "version": "3.11.3"
    },
    "colab": {
      "provenance": [],
      "include_colab_link": true
    }
  },
  "nbformat": 4,
  "nbformat_minor": 0
}