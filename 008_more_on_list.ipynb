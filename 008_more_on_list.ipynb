{
  "cells": [
    {
      "cell_type": "markdown",
      "metadata": {
        "id": "view-in-github",
        "colab_type": "text"
      },
      "source": [
        "<a href=\"https://colab.research.google.com/github/rii92/Datmin/blob/main/008_more_on_list.ipynb\" target=\"_parent\"><img src=\"https://colab.research.google.com/assets/colab-badge.svg\" alt=\"Open In Colab\"/></a>"
      ]
    },
    {
      "cell_type": "markdown",
      "metadata": {
        "id": "KddcudgT1OLH"
      },
      "source": [
        "# Appending data\n",
        "\n",
        "We can add new data to an existing list using the append() method. The append() method adds the data to the end of the list."
      ]
    },
    {
      "cell_type": "code",
      "execution_count": 2,
      "metadata": {
        "id": "ETImYpy41OLJ",
        "outputId": "64a40615-68d2-42de-abe1-e1cd95f8126f",
        "colab": {
          "base_uri": "https://localhost:8080/"
        }
      },
      "outputs": [
        {
          "output_type": "stream",
          "name": "stdout",
          "text": [
            "['Peter', 'John', 'Mary', 'George', 'Paul']\n",
            "['Peter', 'John', 'Mary', 'George', 'Paul', 'Jill']\n"
          ]
        }
      ],
      "source": [
        "names = [\n",
        "    \"Peter\",\n",
        "    \"John\",\n",
        "    \"Mary\",\n",
        "    \"George\",\n",
        "    \"Paul\",\n",
        "]\n",
        "\n",
        "print(names)\n",
        "names.append(\"Jill\")\n",
        "print(names)"
      ]
    },
    {
      "cell_type": "markdown",
      "metadata": {
        "id": "_6NKK-zU1OLK"
      },
      "source": [
        "# Inserting data at specific index\n",
        "\n",
        "If we want to insert data at a specific index rather than at the end of the list, we can use the insert() method."
      ]
    },
    {
      "cell_type": "code",
      "execution_count": 3,
      "metadata": {
        "id": "uX4L-wqj1OLK",
        "outputId": "3476857e-ab67-489c-d2bb-e1eb16194f1b",
        "colab": {
          "base_uri": "https://localhost:8080/"
        }
      },
      "outputs": [
        {
          "output_type": "stream",
          "name": "stdout",
          "text": [
            "['Peter', 'John', 'Mary', 'George', 'Paul']\n",
            "['Peter', 'John', 'Jill', 'Mary', 'George', 'Paul']\n"
          ]
        }
      ],
      "source": [
        "names = [\n",
        "    \"Peter\",\n",
        "    \"John\",\n",
        "    \"Mary\",\n",
        "    \"George\",\n",
        "    \"Paul\",\n",
        "]\n",
        "\n",
        "print(names)\n",
        "names.insert(2, \"Jill\")\n",
        "print(names)"
      ]
    },
    {
      "cell_type": "markdown",
      "metadata": {
        "id": "xKb3bZb51OLK"
      },
      "source": [
        "As you can see above, `Jill` was added to the second index of the list and pushing the name `Mary` to be the third index."
      ]
    },
    {
      "cell_type": "markdown",
      "metadata": {
        "id": "t2zF806I1OLL"
      },
      "source": [
        "# Popping data\n",
        "\n",
        "We can remove the last data from a list using the pop() method. The pop() method returns the data that was removed."
      ]
    },
    {
      "cell_type": "code",
      "execution_count": 4,
      "metadata": {
        "id": "m_boMwbn1OLL",
        "outputId": "8d94c7cc-3fe9-4629-eb79-29c2261cf0db",
        "colab": {
          "base_uri": "https://localhost:8080/"
        }
      },
      "outputs": [
        {
          "output_type": "stream",
          "name": "stdout",
          "text": [
            "['Peter', 'John', 'Mary', 'George', 'Paul']\n",
            "['Peter', 'John', 'Mary', 'George']\n"
          ]
        }
      ],
      "source": [
        "names = [\n",
        "    \"Peter\",\n",
        "    \"John\",\n",
        "    \"Mary\",\n",
        "    \"George\",\n",
        "    \"Paul\",\n",
        "]\n",
        "\n",
        "print(names)\n",
        "names.pop()\n",
        "print(names)"
      ]
    },
    {
      "cell_type": "markdown",
      "metadata": {
        "id": "rPBPOj891OLL"
      },
      "source": [
        "You can specify the index of the data you want to remove too like so:"
      ]
    },
    {
      "cell_type": "code",
      "execution_count": 5,
      "metadata": {
        "id": "CFYex41V1OLL",
        "outputId": "39d094c3-67d1-4185-ecaa-b17298e36590",
        "colab": {
          "base_uri": "https://localhost:8080/"
        }
      },
      "outputs": [
        {
          "output_type": "stream",
          "name": "stdout",
          "text": [
            "['Peter', 'John', 'Mary', 'George', 'Paul']\n",
            "['Peter', 'John', 'George', 'Paul']\n"
          ]
        }
      ],
      "source": [
        "names = [\n",
        "    \"Peter\",\n",
        "    \"John\",\n",
        "    \"Mary\",\n",
        "    \"George\",\n",
        "    \"Paul\",\n",
        "]\n",
        "\n",
        "print(names)\n",
        "names.pop(2)\n",
        "print(names)"
      ]
    },
    {
      "cell_type": "markdown",
      "metadata": {
        "id": "xb_I37vZ1OLM"
      },
      "source": [
        "# Challenge!"
      ]
    },
    {
      "cell_type": "markdown",
      "metadata": {
        "id": "qScfbTOa1OLM"
      },
      "source": [
        "# Challenge 1\n",
        "\n",
        "Append new car named `Toyota` to the list of cars."
      ]
    },
    {
      "cell_type": "code",
      "execution_count": 6,
      "metadata": {
        "id": "HZeVHIgc1OLM",
        "outputId": "d3a4dab0-1f27-440d-f71f-0bfab2a96e57",
        "colab": {
          "base_uri": "https://localhost:8080/"
        }
      },
      "outputs": [
        {
          "output_type": "stream",
          "name": "stdout",
          "text": [
            "['BMW', 'Audi', 'Mercedes', 'Volkswagen', 'Porsche', 'Toyota']\n"
          ]
        }
      ],
      "source": [
        "cars = [\"BMW\", \"Audi\", \"Mercedes\", \"Volkswagen\", \"Porsche\"]\n",
        "\n",
        "# Add your code below!\n",
        "cars.append(\"Toyota\")\n",
        "\n",
        "\n",
        "print(cars) # Expected output: ['BMW', 'Audi', 'Mercedes', 'Volkswagen', 'Porsche', 'Toyota']"
      ]
    },
    {
      "cell_type": "markdown",
      "metadata": {
        "id": "VO2OuLmR1OLN"
      },
      "source": [
        "When you are done with the above challenge, then:\n",
        "1. Input your student_id and name in the box below\n",
        "2. Run the code block by pressing the play button."
      ]
    },
    {
      "cell_type": "code",
      "execution_count": 7,
      "metadata": {
        "id": "kst6HAX01OLN",
        "outputId": "b572295a-31e3-4887-ec42-42e5cf6e15fd",
        "colab": {
          "base_uri": "https://localhost:8080/",
          "height": 313
        }
      },
      "outputs": [
        {
          "output_type": "stream",
          "name": "stdout",
          "text": [
            "Collecting rggrader\n",
            "  Downloading rggrader-0.1.6-py3-none-any.whl (2.5 kB)\n",
            "Requirement already satisfied: requests in /usr/local/lib/python3.10/dist-packages (from rggrader) (2.31.0)\n",
            "Requirement already satisfied: pandas in /usr/local/lib/python3.10/dist-packages (from rggrader) (2.0.3)\n",
            "Requirement already satisfied: Pillow in /usr/local/lib/python3.10/dist-packages (from rggrader) (9.4.0)\n",
            "Requirement already satisfied: python-dateutil>=2.8.2 in /usr/local/lib/python3.10/dist-packages (from pandas->rggrader) (2.8.2)\n",
            "Requirement already satisfied: pytz>=2020.1 in /usr/local/lib/python3.10/dist-packages (from pandas->rggrader) (2023.4)\n",
            "Requirement already satisfied: tzdata>=2022.1 in /usr/local/lib/python3.10/dist-packages (from pandas->rggrader) (2024.1)\n",
            "Requirement already satisfied: numpy>=1.21.0 in /usr/local/lib/python3.10/dist-packages (from pandas->rggrader) (1.25.2)\n",
            "Requirement already satisfied: charset-normalizer<4,>=2 in /usr/local/lib/python3.10/dist-packages (from requests->rggrader) (3.3.2)\n",
            "Requirement already satisfied: idna<4,>=2.5 in /usr/local/lib/python3.10/dist-packages (from requests->rggrader) (3.7)\n",
            "Requirement already satisfied: urllib3<3,>=1.21.1 in /usr/local/lib/python3.10/dist-packages (from requests->rggrader) (2.0.7)\n",
            "Requirement already satisfied: certifi>=2017.4.17 in /usr/local/lib/python3.10/dist-packages (from requests->rggrader) (2024.7.4)\n",
            "Requirement already satisfied: six>=1.5 in /usr/local/lib/python3.10/dist-packages (from python-dateutil>=2.8.2->pandas->rggrader) (1.16.0)\n",
            "Installing collected packages: rggrader\n",
            "Successfully installed rggrader-0.1.6\n"
          ]
        },
        {
          "output_type": "execute_result",
          "data": {
            "text/plain": [
              "'Assignment successfully submitted'"
            ],
            "application/vnd.google.colaboratory.intrinsic+json": {
              "type": "string"
            }
          },
          "metadata": {},
          "execution_count": 7
        }
      ],
      "source": [
        "!pip install rggrader\n",
        "\n",
        "from rggrader import submit\n",
        "\n",
        "# @title #### Student Identity\n",
        "student_id = \"REAFCDNE\" # @param {type:\"string\"}\n",
        "name = \"Riofebri Prasetia\" # @param {type:\"string\"}\n",
        "\n",
        "# Submit Method\n",
        "assignment_id = \"008_more_on_list\"\n",
        "question_id = \"01_more_list_1\"\n",
        "submit(student_id, name, assignment_id, cars[5], question_id)"
      ]
    },
    {
      "cell_type": "markdown",
      "metadata": {
        "id": "PdMS2cwL1OLN"
      },
      "source": [
        "## Challenge 2\n",
        "\n",
        "Insert a new car named `Honda` between `Mercedes` and `Volkswagen`"
      ]
    },
    {
      "cell_type": "code",
      "execution_count": 8,
      "metadata": {
        "id": "hH31ny641OLN",
        "outputId": "2d01b570-c52d-4d8a-ac05-4ddebbd995fd",
        "colab": {
          "base_uri": "https://localhost:8080/"
        }
      },
      "outputs": [
        {
          "output_type": "stream",
          "name": "stdout",
          "text": [
            "['BMW', 'Audi', 'Mercedes', 'Honda', 'Volkswagen', 'Porsche']\n"
          ]
        }
      ],
      "source": [
        "cars = [\"BMW\", \"Audi\", \"Mercedes\", \"Volkswagen\", \"Porsche\"]\n",
        "\n",
        "# Add your code below!\n",
        "cars.insert(3, \"Honda\")\n",
        "\n",
        "print(cars) # Expected output: ['BMW', 'Audi', 'Mercedes', 'Honda', 'Volkswagen', 'Porsche']"
      ]
    },
    {
      "cell_type": "markdown",
      "metadata": {
        "id": "XX5butO51OLN"
      },
      "source": [
        "When you are done with the above challenge, then:\n",
        "1. Run the code block by pressing the play button."
      ]
    },
    {
      "cell_type": "code",
      "execution_count": 9,
      "metadata": {
        "id": "jUocdIoq1OLN",
        "outputId": "68ff5597-5915-49fa-9be8-26ef5c036d14",
        "colab": {
          "base_uri": "https://localhost:8080/",
          "height": 35
        }
      },
      "outputs": [
        {
          "output_type": "execute_result",
          "data": {
            "text/plain": [
              "'Assignment successfully submitted'"
            ],
            "application/vnd.google.colaboratory.intrinsic+json": {
              "type": "string"
            }
          },
          "metadata": {},
          "execution_count": 9
        }
      ],
      "source": [
        "# Submit Method\n",
        "assignment_id = \"008_more_on_list\"\n",
        "question_id = \"02_more_list_2\"\n",
        "\n",
        "submit(student_id, name, assignment_id, cars[3], question_id)"
      ]
    },
    {
      "cell_type": "markdown",
      "metadata": {
        "id": "fFCJtOhq1OLN"
      },
      "source": [
        "## Challenge 3\n",
        "\n",
        "Remove \"BMW\" and \"Porsche\" from the list of cars."
      ]
    },
    {
      "cell_type": "code",
      "execution_count": 21,
      "metadata": {
        "id": "TW3FVYEc1OLO",
        "outputId": "1d96ebe8-6e11-471d-a941-3a78d2bb8e9a",
        "colab": {
          "base_uri": "https://localhost:8080/"
        }
      },
      "outputs": [
        {
          "output_type": "stream",
          "name": "stdout",
          "text": [
            "['Audi', 'Mercedes', 'Volkswagen']\n"
          ]
        }
      ],
      "source": [
        "cars = [\"BMW\", \"Audi\", \"Mercedes\", \"Volkswagen\", \"Porsche\"]\n",
        "\n",
        "# Add your code below!\n",
        "cars.pop(0)\n",
        "cars.pop()\n",
        "\n",
        "print(cars) # Expected output: ['Audi', 'Mercedes', 'Volkswagen']"
      ]
    },
    {
      "cell_type": "markdown",
      "metadata": {
        "id": "fZV8Rs1a1OLO"
      },
      "source": [
        "When you are done with the above challenge, then:\n",
        "1. Run the code block by pressing the play button."
      ]
    },
    {
      "cell_type": "code",
      "execution_count": 22,
      "metadata": {
        "id": "sgItDZG11OLP",
        "outputId": "4e954c6e-84dd-4ebb-e76d-c9aeac2d8123",
        "colab": {
          "base_uri": "https://localhost:8080/",
          "height": 35
        }
      },
      "outputs": [
        {
          "output_type": "execute_result",
          "data": {
            "text/plain": [
              "'Assignment successfully submitted'"
            ],
            "application/vnd.google.colaboratory.intrinsic+json": {
              "type": "string"
            }
          },
          "metadata": {},
          "execution_count": 22
        }
      ],
      "source": [
        "# Submit Method\n",
        "assignment_id = \"008_more_on_list\"\n",
        "question_id = \"03_more_list_3\"\n",
        "\n",
        "submit(student_id, name, assignment_id, cars[0], question_id)"
      ]
    },
    {
      "cell_type": "markdown",
      "metadata": {
        "id": "Ij40cyW71OLP"
      },
      "source": [
        "# Filtering data on list by creating a new list\n",
        "\n",
        "We can filter data on a list by creating a new list. Let's say we want to filter out all employees who are not in the `Sales` department. We can do so by creating a new list and adding only the employees who are in the `Sales` department to the new list.\n",
        "\n",
        "How so? Using combination of `for` loop and `if` statement of course!"
      ]
    },
    {
      "cell_type": "code",
      "execution_count": 23,
      "metadata": {
        "id": "4Xrc2e-V1OLP",
        "outputId": "44fe08f8-ed20-47b7-f737-01a8fc7925cd",
        "colab": {
          "base_uri": "https://localhost:8080/"
        }
      },
      "outputs": [
        {
          "output_type": "stream",
          "name": "stdout",
          "text": [
            "[1, 3, 5, 7, 9]\n"
          ]
        }
      ],
      "source": [
        "all_numbers = [1, 2, 3, 4, 5, 6, 7, 8, 9]\n",
        "odd_numbers = []\n",
        "\n",
        "for number in all_numbers:\n",
        "    if number % 2 == 1:\n",
        "        odd_numbers.append(number)\n",
        "\n",
        "print(odd_numbers)"
      ]
    },
    {
      "cell_type": "markdown",
      "metadata": {
        "id": "MP5bAR9Z1OLQ"
      },
      "source": [
        "# Challenge!"
      ]
    },
    {
      "cell_type": "markdown",
      "metadata": {
        "id": "p3Q-7Mg21OLQ"
      },
      "source": [
        "## Challenge 1\n",
        "\n",
        "Create a new list of numbers that is greater than 5 from the list of numbers below."
      ]
    },
    {
      "cell_type": "code",
      "execution_count": 25,
      "metadata": {
        "id": "HuPaeA7l1OLQ",
        "outputId": "16beb23d-e517-412a-bf14-f818e3fa5f9f",
        "colab": {
          "base_uri": "https://localhost:8080/"
        }
      },
      "outputs": [
        {
          "output_type": "stream",
          "name": "stdout",
          "text": [
            "[6, 7, 8, 9]\n"
          ]
        }
      ],
      "source": [
        "all_numbers = [1, 2, 3, 4, 5, 6, 7, 8, 9]\n",
        "greater_than_five = []\n",
        "\n",
        "for number in all_numbers:\n",
        "    if number > 5:\n",
        "        greater_than_five.append(number)\n",
        "\n",
        "print(greater_than_five) # Expected output: [6, 7, 8, 9]"
      ]
    },
    {
      "cell_type": "markdown",
      "metadata": {
        "id": "cNLG_h3I1OLQ"
      },
      "source": [
        "When you are done with the above challenge, then:\n",
        "1. Run the code block by pressing the play button."
      ]
    },
    {
      "cell_type": "code",
      "execution_count": 26,
      "metadata": {
        "id": "f9Q1HKnj1OLQ",
        "outputId": "627f7e24-5306-4fa4-baff-0b217ccbf701",
        "colab": {
          "base_uri": "https://localhost:8080/",
          "height": 35
        }
      },
      "outputs": [
        {
          "output_type": "execute_result",
          "data": {
            "text/plain": [
              "'Assignment successfully submitted'"
            ],
            "application/vnd.google.colaboratory.intrinsic+json": {
              "type": "string"
            }
          },
          "metadata": {},
          "execution_count": 26
        }
      ],
      "source": [
        "# Submit Method\n",
        "assignment_id = \"008_more_on_list\"\n",
        "question_id = \"04_filter_1\"\n",
        "\n",
        "submit(student_id, name, assignment_id, str(greater_than_five), question_id)"
      ]
    },
    {
      "cell_type": "markdown",
      "metadata": {
        "id": "ERd_0o5R1OLQ"
      },
      "source": [
        "## Challenge 2\n",
        "\n",
        "Get all names that are longer than 5 characters from the list of words below."
      ]
    },
    {
      "cell_type": "code",
      "execution_count": 28,
      "metadata": {
        "id": "uVlFQat71OLR",
        "outputId": "f5b856c6-149a-41b1-d278-e06708867059",
        "colab": {
          "base_uri": "https://localhost:8080/"
        }
      },
      "outputs": [
        {
          "output_type": "stream",
          "name": "stdout",
          "text": [
            "['Ardian', 'Jennifer', 'Pahlevi']\n"
          ]
        }
      ],
      "source": [
        "all_names = ['John', 'Ardian', 'Jill', 'Jennifer', 'Pahlevi', 'Ricky']\n",
        "names_more_than_five_characters = []\n",
        "\n",
        "# Add your code below!\n",
        "for name in all_names:\n",
        "  if len(name) > 5:\n",
        "    names_more_than_five_characters.append(name)\n",
        "\n",
        "print(names_more_than_five_characters) # Expected output: ['Ardian', 'Jennifer', 'Pahlevi']"
      ]
    },
    {
      "cell_type": "markdown",
      "metadata": {
        "id": "r21-hT3_1OLR"
      },
      "source": [
        "When you are done with the above challenge, then:\n",
        "1. Run the code block by pressing the play button."
      ]
    },
    {
      "cell_type": "code",
      "execution_count": 29,
      "metadata": {
        "id": "s0HCwJue1OLR",
        "outputId": "769912c6-6019-498c-d54c-3ae369a552e3",
        "colab": {
          "base_uri": "https://localhost:8080/",
          "height": 35
        }
      },
      "outputs": [
        {
          "output_type": "execute_result",
          "data": {
            "text/plain": [
              "'Assignment successfully submitted'"
            ],
            "application/vnd.google.colaboratory.intrinsic+json": {
              "type": "string"
            }
          },
          "metadata": {},
          "execution_count": 29
        }
      ],
      "source": [
        "# Submit Method\n",
        "assignment_id = \"008_more_on_list\"\n",
        "question_id = \"05_filter_2\"\n",
        "\n",
        "submit(student_id, name, assignment_id, str(names_more_than_five_characters), question_id)"
      ]
    },
    {
      "cell_type": "code",
      "source": [
        "#extra lessons\n",
        "cars = [\"BMW\", \"Audi\", \"Mercedes\", \"Volkswagen\", \"Porsche\"]\n",
        "\n",
        "# Challenge-nya: tambahkan \"Honda\" setelah \"Audi\" dan \"Toyota\" setelah \"Volkswagen\"\n",
        "\n",
        "#Step-1: output-nya seperti apa?\n",
        "#[\"BMW\", \"Audi\", \"Honda\", \"Mercedes\", \"Volkswagen\", \"Toyota\", \"Porsche\"]\n",
        "\n",
        "#Step-2: cara-nya / logika-nya seperti apa ?\n",
        "# looping cars\n",
        "#   di setiap index cek apakah data-nya = Audi atau data-nya = Volkswagen\n",
        "#     kalau ya Audi, maka kita masukkan Honda setelah Audi\n",
        "#     kalau ya Volkswagen, maka kita masukkan Toyota setelah Volkswagen\n",
        "\n",
        "#Step-3: baru kita coding\n",
        "#insert(index, data)\n",
        "for index, car in enumerate(cars):\n",
        "  if car == \"Audi\":\n",
        "    cars.insert(index+1, \"Honda\")\n",
        "  if car == \"Volkswagen\":\n",
        "    cars.insert(index+1, \"Toyota\")\n",
        "\n",
        "print(cars)\n",
        "\n",
        "\n"
      ],
      "metadata": {
        "colab": {
          "base_uri": "https://localhost:8080/"
        },
        "id": "LKKRdjrwb-Xu",
        "outputId": "02d5d0e4-096a-4d68-c2d3-23acdcf86d00"
      },
      "execution_count": 30,
      "outputs": [
        {
          "output_type": "stream",
          "name": "stdout",
          "text": [
            "['BMW', 'Audi', 'Honda', 'Mercedes', 'Volkswagen', 'Toyota', 'Porsche']\n"
          ]
        }
      ]
    }
  ],
  "metadata": {
    "kernelspec": {
      "display_name": "Python 3",
      "name": "python3"
    },
    "language_info": {
      "codemirror_mode": {
        "name": "ipython",
        "version": 3
      },
      "file_extension": ".py",
      "mimetype": "text/x-python",
      "name": "python",
      "nbconvert_exporter": "python",
      "pygments_lexer": "ipython3",
      "version": "3.11.3"
    },
    "colab": {
      "provenance": [],
      "include_colab_link": true
    }
  },
  "nbformat": 4,
  "nbformat_minor": 0
}