{
  "cells": [
    {
      "cell_type": "markdown",
      "metadata": {
        "id": "view-in-github",
        "colab_type": "text"
      },
      "source": [
        "<a href=\"https://colab.research.google.com/github/rii92/Datmin/blob/main/001_the_basics.ipynb\" target=\"_parent\"><img src=\"https://colab.research.google.com/assets/colab-badge.svg\" alt=\"Open In Colab\"/></a>"
      ]
    },
    {
      "cell_type": "markdown",
      "metadata": {
        "id": "kQU5zIFiRUqn"
      },
      "source": [
        "# Objective:\n",
        "\n",
        "Can understanding that programming is basically manipulating data to fit into a specific requirement."
      ]
    },
    {
      "cell_type": "markdown",
      "metadata": {
        "id": "_UydBXPGRUqp"
      },
      "source": [
        "# What is programming?\n",
        "\n",
        "![image.png](https://storage.googleapis.com/rg-ai-bootcamp/python-prep/programming-main-focus-min.png)\n",
        "\n",
        "The real foundation of programming, the essence of it is to manipulate data to adhere to what we need to do next.\n",
        "\n",
        "This \"what we need to do next\" itself is depends on what kind of programming we currently doing. For example, if we're doing a web programming, the \"thing we need to do next after manipulating data\" might be to render a web page, saving user data to database, or sending an email. If we're doing a game programming, what we need to do might be to render a game screen, playing a sound, or saving the game state.\n",
        "\n",
        "Let's check below simple program:"
      ]
    },
    {
      "cell_type": "code",
      "execution_count": 2,
      "metadata": {
        "id": "n5fNaK47RUqq",
        "colab": {
          "base_uri": "https://localhost:8080/"
        },
        "outputId": "9c887bd0-61fa-46f5-cea1-958c5948f48b"
      },
      "outputs": [
        {
          "output_type": "stream",
          "name": "stdout",
          "text": [
            "Requirement already satisfied: transformers in /usr/local/lib/python3.10/dist-packages (4.41.2)\n",
            "Requirement already satisfied: filelock in /usr/local/lib/python3.10/dist-packages (from transformers) (3.15.4)\n",
            "Requirement already satisfied: huggingface-hub<1.0,>=0.23.0 in /usr/local/lib/python3.10/dist-packages (from transformers) (0.23.4)\n",
            "Requirement already satisfied: numpy>=1.17 in /usr/local/lib/python3.10/dist-packages (from transformers) (1.25.2)\n",
            "Requirement already satisfied: packaging>=20.0 in /usr/local/lib/python3.10/dist-packages (from transformers) (24.1)\n",
            "Requirement already satisfied: pyyaml>=5.1 in /usr/local/lib/python3.10/dist-packages (from transformers) (6.0.1)\n",
            "Requirement already satisfied: regex!=2019.12.17 in /usr/local/lib/python3.10/dist-packages (from transformers) (2024.5.15)\n",
            "Requirement already satisfied: requests in /usr/local/lib/python3.10/dist-packages (from transformers) (2.31.0)\n",
            "Requirement already satisfied: tokenizers<0.20,>=0.19 in /usr/local/lib/python3.10/dist-packages (from transformers) (0.19.1)\n",
            "Requirement already satisfied: safetensors>=0.4.1 in /usr/local/lib/python3.10/dist-packages (from transformers) (0.4.3)\n",
            "Requirement already satisfied: tqdm>=4.27 in /usr/local/lib/python3.10/dist-packages (from transformers) (4.66.4)\n",
            "Requirement already satisfied: fsspec>=2023.5.0 in /usr/local/lib/python3.10/dist-packages (from huggingface-hub<1.0,>=0.23.0->transformers) (2023.6.0)\n",
            "Requirement already satisfied: typing-extensions>=3.7.4.3 in /usr/local/lib/python3.10/dist-packages (from huggingface-hub<1.0,>=0.23.0->transformers) (4.12.2)\n",
            "Requirement already satisfied: charset-normalizer<4,>=2 in /usr/local/lib/python3.10/dist-packages (from requests->transformers) (3.3.2)\n",
            "Requirement already satisfied: idna<4,>=2.5 in /usr/local/lib/python3.10/dist-packages (from requests->transformers) (3.7)\n",
            "Requirement already satisfied: urllib3<3,>=1.21.1 in /usr/local/lib/python3.10/dist-packages (from requests->transformers) (2.0.7)\n",
            "Requirement already satisfied: certifi>=2017.4.17 in /usr/local/lib/python3.10/dist-packages (from requests->transformers) (2024.6.2)\n",
            "Requirement already satisfied: torch in /usr/local/lib/python3.10/dist-packages (2.3.0+cu121)\n",
            "Requirement already satisfied: filelock in /usr/local/lib/python3.10/dist-packages (from torch) (3.15.4)\n",
            "Requirement already satisfied: typing-extensions>=4.8.0 in /usr/local/lib/python3.10/dist-packages (from torch) (4.12.2)\n",
            "Requirement already satisfied: sympy in /usr/local/lib/python3.10/dist-packages (from torch) (1.12.1)\n",
            "Requirement already satisfied: networkx in /usr/local/lib/python3.10/dist-packages (from torch) (3.3)\n",
            "Requirement already satisfied: jinja2 in /usr/local/lib/python3.10/dist-packages (from torch) (3.1.4)\n",
            "Requirement already satisfied: fsspec in /usr/local/lib/python3.10/dist-packages (from torch) (2023.6.0)\n",
            "Requirement already satisfied: nvidia-cuda-nvrtc-cu12==12.1.105 in /usr/local/lib/python3.10/dist-packages (from torch) (12.1.105)\n",
            "Requirement already satisfied: nvidia-cuda-runtime-cu12==12.1.105 in /usr/local/lib/python3.10/dist-packages (from torch) (12.1.105)\n",
            "Requirement already satisfied: nvidia-cuda-cupti-cu12==12.1.105 in /usr/local/lib/python3.10/dist-packages (from torch) (12.1.105)\n",
            "Requirement already satisfied: nvidia-cudnn-cu12==8.9.2.26 in /usr/local/lib/python3.10/dist-packages (from torch) (8.9.2.26)\n",
            "Requirement already satisfied: nvidia-cublas-cu12==12.1.3.1 in /usr/local/lib/python3.10/dist-packages (from torch) (12.1.3.1)\n",
            "Requirement already satisfied: nvidia-cufft-cu12==11.0.2.54 in /usr/local/lib/python3.10/dist-packages (from torch) (11.0.2.54)\n",
            "Requirement already satisfied: nvidia-curand-cu12==10.3.2.106 in /usr/local/lib/python3.10/dist-packages (from torch) (10.3.2.106)\n",
            "Requirement already satisfied: nvidia-cusolver-cu12==11.4.5.107 in /usr/local/lib/python3.10/dist-packages (from torch) (11.4.5.107)\n",
            "Requirement already satisfied: nvidia-cusparse-cu12==12.1.0.106 in /usr/local/lib/python3.10/dist-packages (from torch) (12.1.0.106)\n",
            "Requirement already satisfied: nvidia-nccl-cu12==2.20.5 in /usr/local/lib/python3.10/dist-packages (from torch) (2.20.5)\n",
            "Requirement already satisfied: nvidia-nvtx-cu12==12.1.105 in /usr/local/lib/python3.10/dist-packages (from torch) (12.1.105)\n",
            "Requirement already satisfied: triton==2.3.0 in /usr/local/lib/python3.10/dist-packages (from torch) (2.3.0)\n",
            "Requirement already satisfied: nvidia-nvjitlink-cu12 in /usr/local/lib/python3.10/dist-packages (from nvidia-cusolver-cu12==11.4.5.107->torch) (12.5.82)\n",
            "Requirement already satisfied: MarkupSafe>=2.0 in /usr/local/lib/python3.10/dist-packages (from jinja2->torch) (2.1.5)\n",
            "Requirement already satisfied: mpmath<1.4.0,>=1.1.0 in /usr/local/lib/python3.10/dist-packages (from sympy->torch) (1.3.0)\n"
          ]
        }
      ],
      "source": [
        "#@title Preparation so we can do get_emotion(data), you can just run and ignore this line of code for now\n",
        "%pip install transformers\n",
        "%pip install torch\n",
        "from transformers import pipeline\n",
        "\n",
        "classifier = pipeline(task=\"text-classification\", model=\"SamLowe/roberta-base-go_emotions\", top_k=None)\n",
        "\n",
        "def get_emotion(text):\n",
        "    model_outputs = classifier(text)\n",
        "    return highest_confidence_label(model_outputs[0])\n",
        "\n",
        "def highest_confidence_label(data):\n",
        "    highest_score = max(data, key=lambda x:x['score'])\n",
        "    confidence = round(highest_score['score'] * 100, 2)\n",
        "    return f\"{highest_score['label']}, {confidence}% confidence\""
      ]
    },
    {
      "cell_type": "code",
      "execution_count": 3,
      "metadata": {
        "id": "laHQmrhhRUqs",
        "colab": {
          "base_uri": "https://localhost:8080/",
          "height": 36
        },
        "outputId": "a2a5410b-f33f-4e7d-8d1c-7d887e31b346"
      },
      "outputs": [
        {
          "output_type": "execute_result",
          "data": {
            "text/plain": [
              "'excitement, 81.15% confidence'"
            ],
            "application/vnd.google.colaboratory.intrinsic+json": {
              "type": "string"
            }
          },
          "metadata": {},
          "execution_count": 3
        }
      ],
      "source": [
        "get_emotion(\"I'm so excited to meet you guys there!\")"
      ]
    },
    {
      "cell_type": "markdown",
      "metadata": {
        "id": "VZfWy7LGRUqs"
      },
      "source": [
        "In above line of code we can see that:\n",
        "\n",
        "- We have a data that we want to process: \"I'm so excited to meet you guys there!\"\n",
        "- We have a requirement that we want to do: Get the emotion probability of the data using get_emotion(\"we put our data here\")\n",
        "- And it return a response of the confidence of the emotion probability: excitement, 81.15% confidence\n",
        "\n",
        "So we have an input, we process it, and we get an output, we can use that output as an input again, and so on. That's the essence of programming.\n",
        "\n",
        "> Please have fun: While you're at it, have fun change the data above (change inside the `\"` symbol) to feed it with your own data, and see what kind of emotion probability that you get. Try to change it something like \"Why are you running late?\", \"Stuck in traffic, ugh!\", \"I'm not feeling well today, sorry guys\""
      ]
    },
    {
      "cell_type": "markdown",
      "metadata": {
        "id": "TjE3dFsVRUqt"
      },
      "source": [
        "# Challenge\n",
        "\n",
        "## Challenge 1\n",
        "\n",
        "For the first challenge we'll start with a really simple task:\n",
        "\n",
        "Change the `get_emotion(\"I'm so excited to meet you guys there!\")` to \"I'm really stressed out for this meeting, I hope it goes well\" and send the result of the probability."
      ]
    },
    {
      "cell_type": "code",
      "execution_count": 4,
      "metadata": {
        "id": "5ESRGxlGRUqt",
        "colab": {
          "base_uri": "https://localhost:8080/",
          "height": 36
        },
        "outputId": "6ded2650-9dab-4158-cbb6-3c313501142f"
      },
      "outputs": [
        {
          "output_type": "execute_result",
          "data": {
            "text/plain": [
              "'optimism, 39.45% confidence'"
            ],
            "application/vnd.google.colaboratory.intrinsic+json": {
              "type": "string"
            }
          },
          "metadata": {},
          "execution_count": 4
        }
      ],
      "source": [
        "get_emotion(\"I'm really stressed out for this meeting, I hope it goes well\") #Change the text inside get_emotion()"
      ]
    },
    {
      "cell_type": "markdown",
      "metadata": {
        "id": "uh--d61sRUqu"
      },
      "source": [
        "To send the result:\n",
        "1. Input your student_id and name in the box below\n",
        "2. Change the text \"my result\" below with the text output from get_emotion() above. example: \"excitement, 81.15% confidence\"\n",
        "3. Run the code block by pressing the play button in the menu above."
      ]
    },
    {
      "cell_type": "code",
      "execution_count": 5,
      "metadata": {
        "id": "FNqvAeDERUqu",
        "colab": {
          "base_uri": "https://localhost:8080/",
          "height": 325
        },
        "outputId": "9921b5b4-35c3-4ddb-f4e5-6a1350ef4a82"
      },
      "outputs": [
        {
          "output_type": "stream",
          "name": "stdout",
          "text": [
            "Collecting rggrader\n",
            "  Downloading rggrader-0.1.6-py3-none-any.whl (2.5 kB)\n",
            "Requirement already satisfied: requests in /usr/local/lib/python3.10/dist-packages (from rggrader) (2.31.0)\n",
            "Requirement already satisfied: pandas in /usr/local/lib/python3.10/dist-packages (from rggrader) (2.0.3)\n",
            "Requirement already satisfied: Pillow in /usr/local/lib/python3.10/dist-packages (from rggrader) (9.4.0)\n",
            "Requirement already satisfied: python-dateutil>=2.8.2 in /usr/local/lib/python3.10/dist-packages (from pandas->rggrader) (2.8.2)\n",
            "Requirement already satisfied: pytz>=2020.1 in /usr/local/lib/python3.10/dist-packages (from pandas->rggrader) (2023.4)\n",
            "Requirement already satisfied: tzdata>=2022.1 in /usr/local/lib/python3.10/dist-packages (from pandas->rggrader) (2024.1)\n",
            "Requirement already satisfied: numpy>=1.21.0 in /usr/local/lib/python3.10/dist-packages (from pandas->rggrader) (1.25.2)\n",
            "Requirement already satisfied: charset-normalizer<4,>=2 in /usr/local/lib/python3.10/dist-packages (from requests->rggrader) (3.3.2)\n",
            "Requirement already satisfied: idna<4,>=2.5 in /usr/local/lib/python3.10/dist-packages (from requests->rggrader) (3.7)\n",
            "Requirement already satisfied: urllib3<3,>=1.21.1 in /usr/local/lib/python3.10/dist-packages (from requests->rggrader) (2.0.7)\n",
            "Requirement already satisfied: certifi>=2017.4.17 in /usr/local/lib/python3.10/dist-packages (from requests->rggrader) (2024.6.2)\n",
            "Requirement already satisfied: six>=1.5 in /usr/local/lib/python3.10/dist-packages (from python-dateutil>=2.8.2->pandas->rggrader) (1.16.0)\n",
            "Installing collected packages: rggrader\n",
            "Successfully installed rggrader-0.1.6\n"
          ]
        },
        {
          "output_type": "execute_result",
          "data": {
            "text/plain": [
              "'Assignment successfully submitted'"
            ],
            "application/vnd.google.colaboratory.intrinsic+json": {
              "type": "string"
            }
          },
          "metadata": {},
          "execution_count": 5
        }
      ],
      "source": [
        "!pip install rggrader\n",
        "\n",
        "from rggrader import submit\n",
        "\n",
        "# @title #### Student Identity\n",
        "student_id = \"riofebri16@gmail.com\" # @param {type:\"string\"}\n",
        "name = \"Riofebri Prasetia\" # @param {type:\"string\"}\n",
        "\n",
        "result = \"optimism, 39.45% confidence\"\n",
        "\n",
        "# Submit Method\n",
        "assignment_id = \"001_the-basics\"\n",
        "question_id = \"01_get_emotion\"\n",
        "submit(student_id, name, assignment_id, result, question_id)"
      ]
    },
    {
      "cell_type": "markdown",
      "metadata": {
        "id": "rHJUDO8iRUqv"
      },
      "source": [
        "# Uh oh, the input changed!\n",
        "\n",
        "As we said above, one of the most fundamental thing for us to understand programming is to manipulate data. For above code, we have a convenient text that we can just pass to `get_emotion`, but what if the data isn't that convenient? Such as we have two inputs like so:\n",
        "\n",
        "```\n",
        "\"I'm so {emotion} to meet you guys there!\"\n",
        "\"excited\"\n",
        "```\n",
        "\n",
        "We have two separate inputs, and, to make sure that we can process that input to `get_emotion`, we need to make sure that input is compatible with `get_emotion` requirement. Which can be done like so:"
      ]
    },
    {
      "cell_type": "code",
      "execution_count": 6,
      "metadata": {
        "id": "8V_KGoVERUqv",
        "colab": {
          "base_uri": "https://localhost:8080/",
          "height": 36
        },
        "outputId": "dc3a2816-34c1-4b14-8033-361a79635dad"
      },
      "outputs": [
        {
          "output_type": "execute_result",
          "data": {
            "text/plain": [
              "\"I'm so happy to meet you guys there!\""
            ],
            "application/vnd.google.colaboratory.intrinsic+json": {
              "type": "string"
            }
          },
          "metadata": {},
          "execution_count": 6
        }
      ],
      "source": [
        "(\"I'm so {emotion} to meet you guys there!\".replace(\"{emotion}\", \"happy\"))"
      ]
    },
    {
      "cell_type": "code",
      "source": [
        "get_emotion(\"I'm so {emotion} to meet you guys there!\".replace(\"{emotion}\", \"happy\"))"
      ],
      "metadata": {
        "colab": {
          "base_uri": "https://localhost:8080/",
          "height": 36
        },
        "id": "cLSVSxEdQr6F",
        "outputId": "dc813c54-0b52-4c4a-fbd9-212fe8f69497"
      },
      "execution_count": 7,
      "outputs": [
        {
          "output_type": "execute_result",
          "data": {
            "text/plain": [
              "'joy, 88.13% confidence'"
            ],
            "application/vnd.google.colaboratory.intrinsic+json": {
              "type": "string"
            }
          },
          "metadata": {},
          "execution_count": 7
        }
      ]
    },
    {
      "cell_type": "code",
      "source": [
        "get_emotion(\"I'm so {emotion} to meet you guys there!\".replace(\"emotion\", \"happy\")) #Change the text inside get_emotion()\n",
        "print(\"I'm so {emotion} to meet you guys there!\".replace(\"{emotion}\", \"happy\"))"
      ],
      "metadata": {
        "id": "R3fZRNPPMu1r",
        "colab": {
          "base_uri": "https://localhost:8080/"
        },
        "outputId": "c74afa26-e3d4-480c-ec16-8dad91ade8e4"
      },
      "execution_count": 8,
      "outputs": [
        {
          "output_type": "stream",
          "name": "stdout",
          "text": [
            "I'm so happy to meet you guys there!\n"
          ]
        }
      ]
    },
    {
      "cell_type": "markdown",
      "metadata": {
        "id": "OgZW3PneRUqw"
      },
      "source": [
        "So now we're talking! If we see above, we'll see additional code after our \"I'm so {emotion} to meet you guys there!\" data, which is `.replace(\"{emotion}\", \"excited\")`.\n",
        "\n",
        "We'll learn about how that works later, but for now, let's just say that we're replacing the `{emotion}` part of the data with the \"excited\" data, as the `get_emotion` function requires to have only a single text data as an input."
      ]
    },
    {
      "cell_type": "markdown",
      "metadata": {
        "id": "deCn2FMnRUqw"
      },
      "source": [
        "# Conclusion\n",
        "\n",
        "As we said above, the complexity on programming mostly rely only on making sure that your data is ready to be inputted to our given task. When we want to save our data to database, we want to manipulate our data so it can be saved properly. If we want to render a web page, we want to manipulate our data so it can be rendered properly. And so on.\n",
        "\n",
        "It's simple right?"
      ]
    },
    {
      "cell_type": "markdown",
      "metadata": {
        "id": "E-jbYFcpRUqw"
      },
      "source": [
        "# Terminology alert!\n",
        "\n",
        "Let's return to our first line of code:\n",
        "    \n",
        "```\n",
        "get_emotion(\"I'm so excited to meet you guys there!\")\n",
        "```\n",
        "\n",
        "- `get_emotion` is a function\n",
        "- `\"I'm so excited to meet you guys there!\"` is a data with a data type of string\n",
        "\n",
        "We'll learn more about function and data type later, and other terminology that's related to function and data type, but for now just remember above terminology."
      ]
    }
  ],
  "metadata": {
    "kernelspec": {
      "display_name": "Python 3 (ipykernel)",
      "language": "python",
      "name": "python3"
    },
    "language_info": {
      "codemirror_mode": {
        "name": "ipython",
        "version": 3
      },
      "file_extension": ".py",
      "mimetype": "text/x-python",
      "name": "python",
      "nbconvert_exporter": "python",
      "pygments_lexer": "ipython3",
      "version": "3.11.3"
    },
    "colab": {
      "provenance": [],
      "include_colab_link": true
    }
  },
  "nbformat": 4,
  "nbformat_minor": 0
}