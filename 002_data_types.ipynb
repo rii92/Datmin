{
  "cells": [
    {
      "cell_type": "markdown",
      "metadata": {
        "id": "view-in-github",
        "colab_type": "text"
      },
      "source": [
        "<a href=\"https://colab.research.google.com/github/rii92/Datmin/blob/main/002_data_types.ipynb\" target=\"_parent\"><img src=\"https://colab.research.google.com/assets/colab-badge.svg\" alt=\"Open In Colab\"/></a>"
      ]
    },
    {
      "cell_type": "markdown",
      "metadata": {
        "id": "5YZJxv4fxEDX"
      },
      "source": [
        "# Data Types and comments"
      ]
    },
    {
      "cell_type": "markdown",
      "metadata": {
        "id": "pUlf3GY6xEDu"
      },
      "source": [
        "We've already learned this before:\n",
        "\n",
        "- `\"I'm so excited to meet you guys there!\"` is a data with a data type of string\n",
        "\n",
        "There are several data types in Python, we'll explore three of them for now: `string`, `float` and `int`."
      ]
    },
    {
      "cell_type": "markdown",
      "metadata": {
        "id": "LUA1cseYxEDw"
      },
      "source": [
        "# Google Colab, Jupyter Notebook, and Visual Studio Code will \"print\" the last line of code automatically\n",
        "\n",
        "Before we continue, please check below code"
      ]
    },
    {
      "cell_type": "code",
      "execution_count": 1,
      "metadata": {
        "id": "QcAgXYzjxEDx",
        "outputId": "2a9fc286-d98a-4609-e085-493ef2179fff",
        "colab": {
          "base_uri": "https://localhost:8080/",
          "height": 35
        }
      },
      "outputs": [
        {
          "output_type": "execute_result",
          "data": {
            "text/plain": [
              "'Hi everyone'"
            ],
            "application/vnd.google.colaboratory.intrinsic+json": {
              "type": "string"
            }
          },
          "metadata": {},
          "execution_count": 1
        }
      ],
      "source": [
        "\"Hello!\"\n",
        "\"Hi everyone\""
      ]
    },
    {
      "cell_type": "markdown",
      "metadata": {
        "id": "6BjHGd6NxED5"
      },
      "source": [
        "As you can see above, our result to above two lines of code will only show the result of the last line of code. This concept is called printing, we can print any code in any line by using `print()` like below:"
      ]
    },
    {
      "cell_type": "code",
      "execution_count": 2,
      "metadata": {
        "id": "ZxV25pW0xEEA",
        "outputId": "17a623df-3d9b-4b37-e544-5de6fccabdaf",
        "colab": {
          "base_uri": "https://localhost:8080/",
          "height": 53
        }
      },
      "outputs": [
        {
          "output_type": "stream",
          "name": "stdout",
          "text": [
            "Hello!\n"
          ]
        },
        {
          "output_type": "execute_result",
          "data": {
            "text/plain": [
              "'Hi!'"
            ],
            "application/vnd.google.colaboratory.intrinsic+json": {
              "type": "string"
            }
          },
          "metadata": {},
          "execution_count": 2
        }
      ],
      "source": [
        "\"Yes!\"\n",
        "print(\"Hello!\")\n",
        "\"Hi!\""
      ]
    },
    {
      "cell_type": "markdown",
      "metadata": {
        "id": "01v9jFsdxEEB"
      },
      "source": [
        "As you can see above we have 3 lines of code, but we only print the second and third line of code. The second line of code is printed because we use `print()`, while the third line of code is printed because it is the last line of code."
      ]
    },
    {
      "cell_type": "markdown",
      "metadata": {
        "id": "-rz_G42pVWdn"
      },
      "source": [
        "# Challenge!\n",
        "\n",
        "## Challenge 1\n",
        "\n",
        "Make sure both of the string below are printed"
      ]
    },
    {
      "cell_type": "code",
      "execution_count": 4,
      "metadata": {
        "id": "TVttzyAHVWdn",
        "outputId": "51e1a35d-42e8-4f1c-8c7f-baa7fa38c6fd",
        "colab": {
          "base_uri": "https://localhost:8080/",
          "height": 53
        }
      },
      "outputs": [
        {
          "output_type": "stream",
          "name": "stdout",
          "text": [
            "Halo dunia\n"
          ]
        },
        {
          "output_type": "execute_result",
          "data": {
            "text/plain": [
              "'Hi world'"
            ],
            "application/vnd.google.colaboratory.intrinsic+json": {
              "type": "string"
            }
          },
          "metadata": {},
          "execution_count": 4
        }
      ],
      "source": [
        "print(\"Halo dunia\")\n",
        "\"Hi world\""
      ]
    },
    {
      "cell_type": "markdown",
      "metadata": {
        "id": "ijiXFQUDVWdn"
      },
      "source": [
        "When you are done with the above challenge, then:\n",
        "1. Input your student_id and name in the box below\n",
        "2. Change the text \"my result\" below with the text \"done\"\n",
        "3. Run the code block by pressing the play button."
      ]
    },
    {
      "cell_type": "code",
      "execution_count": 5,
      "metadata": {
        "id": "z5svkiRwVWdo",
        "outputId": "330d0396-d538-4bed-b934-6035b28af6fb",
        "colab": {
          "base_uri": "https://localhost:8080/",
          "height": 313
        }
      },
      "outputs": [
        {
          "output_type": "stream",
          "name": "stdout",
          "text": [
            "Collecting rggrader\n",
            "  Downloading rggrader-0.1.6-py3-none-any.whl (2.5 kB)\n",
            "Requirement already satisfied: requests in /usr/local/lib/python3.10/dist-packages (from rggrader) (2.31.0)\n",
            "Requirement already satisfied: pandas in /usr/local/lib/python3.10/dist-packages (from rggrader) (2.0.3)\n",
            "Requirement already satisfied: Pillow in /usr/local/lib/python3.10/dist-packages (from rggrader) (9.4.0)\n",
            "Requirement already satisfied: python-dateutil>=2.8.2 in /usr/local/lib/python3.10/dist-packages (from pandas->rggrader) (2.8.2)\n",
            "Requirement already satisfied: pytz>=2020.1 in /usr/local/lib/python3.10/dist-packages (from pandas->rggrader) (2023.4)\n",
            "Requirement already satisfied: tzdata>=2022.1 in /usr/local/lib/python3.10/dist-packages (from pandas->rggrader) (2024.1)\n",
            "Requirement already satisfied: numpy>=1.21.0 in /usr/local/lib/python3.10/dist-packages (from pandas->rggrader) (1.25.2)\n",
            "Requirement already satisfied: charset-normalizer<4,>=2 in /usr/local/lib/python3.10/dist-packages (from requests->rggrader) (3.3.2)\n",
            "Requirement already satisfied: idna<4,>=2.5 in /usr/local/lib/python3.10/dist-packages (from requests->rggrader) (3.7)\n",
            "Requirement already satisfied: urllib3<3,>=1.21.1 in /usr/local/lib/python3.10/dist-packages (from requests->rggrader) (2.0.7)\n",
            "Requirement already satisfied: certifi>=2017.4.17 in /usr/local/lib/python3.10/dist-packages (from requests->rggrader) (2024.7.4)\n",
            "Requirement already satisfied: six>=1.5 in /usr/local/lib/python3.10/dist-packages (from python-dateutil>=2.8.2->pandas->rggrader) (1.16.0)\n",
            "Installing collected packages: rggrader\n",
            "Successfully installed rggrader-0.1.6\n"
          ]
        },
        {
          "output_type": "execute_result",
          "data": {
            "text/plain": [
              "'Assignment successfully submitted'"
            ],
            "application/vnd.google.colaboratory.intrinsic+json": {
              "type": "string"
            }
          },
          "metadata": {},
          "execution_count": 5
        }
      ],
      "source": [
        "!pip install rggrader\n",
        "\n",
        "from rggrader import submit\n",
        "\n",
        "# @title #### Student Identity\n",
        "student_id = \"REAFCDNE\" # @param {type:\"string\"}\n",
        "name = \"Riofebri Prasetia\" # @param {type:\"string\"}\n",
        "\n",
        "result = \"done\"\n",
        "\n",
        "# Submit Method\n",
        "assignment_id = \"002_data_types\"\n",
        "question_id = \"01_using_print\"\n",
        "submit(student_id, name, assignment_id, result, question_id)"
      ]
    },
    {
      "cell_type": "markdown",
      "metadata": {
        "id": "aP64qYkVxEEC"
      },
      "source": [
        "# String\n",
        "\n",
        "A string is a data type that is used to represent text. It is enclosed by either single or double quotes.\n",
        "\n",
        "```python\n",
        "'Thank you for coming to my TED talk'\n",
        "\n",
        "\"I'm so excited to meet you guys there!\"\n",
        "```\n",
        "\n",
        "A string can be manipulated like what we've already seen in previous learning\n",
        "\n",
        "```python\n",
        "\"I'm so {emotion} to meet you guys there!\".replace(\"{emotion}\", \"excited\")\n",
        "```\n",
        "\n",
        "We see above our more complex string from previous learning: `\"I'm so excited to meet you guys there!\"`, then we replace the `{emotion}` with `\"excited\"`."
      ]
    },
    {
      "cell_type": "code",
      "source": [
        "\"aku suka kucing, khususnya kucing oren\".replace(\"kucing\", \"beruang\")"
      ],
      "metadata": {
        "colab": {
          "base_uri": "https://localhost:8080/",
          "height": 35
        },
        "id": "0KiDo4154n3z",
        "outputId": "9b0f8182-3022-4655-feb2-92a373b0cd7c"
      },
      "execution_count": 6,
      "outputs": [
        {
          "output_type": "execute_result",
          "data": {
            "text/plain": [
              "'aku suka beruang, khususnya beruang oren'"
            ],
            "application/vnd.google.colaboratory.intrinsic+json": {
              "type": "string"
            }
          },
          "metadata": {},
          "execution_count": 6
        }
      ]
    },
    {
      "cell_type": "markdown",
      "metadata": {
        "id": "-Z2VvtdBxEEI"
      },
      "source": [
        "# Arguments\n",
        "\n",
        "We'll learn more about method and a concept that's basically similar to method called function later, but for now, let's give a quick brief about methods and arguments.\n",
        "\n",
        "If we see the code below:\n",
        "\n",
        "```python\n",
        "\"I'm so {emotion} to meet you guys there!\".replace(\"{emotion}\", \"excited\")\n",
        "```\n",
        "\n",
        "What's called method is the `.replace()` part, while the `{emotion}` and `\"excited\"` are called arguments.\n",
        "\n",
        "The number of arguments itself can be varied between method, sometimes a method can have no argument, sometimes it can have one, two, or even more arguments."
      ]
    },
    {
      "cell_type": "markdown",
      "metadata": {
        "id": "dnwP-gA1xEEK"
      },
      "source": [
        "# String methods"
      ]
    },
    {
      "cell_type": "markdown",
      "metadata": {
        "id": "VmLy1A8NxEEK"
      },
      "source": [
        "## `.lower()`\n",
        "\n",
        "This method will convert all characters in a string into lowercase"
      ]
    },
    {
      "cell_type": "code",
      "execution_count": 7,
      "metadata": {
        "id": "y3cfvwXCxEEM",
        "colab": {
          "base_uri": "https://localhost:8080/",
          "height": 35
        },
        "outputId": "075aac5f-7e22-4b94-a861-5edada52da51"
      },
      "outputs": [
        {
          "output_type": "execute_result",
          "data": {
            "text/plain": [
              "\"i'm not shouting\""
            ],
            "application/vnd.google.colaboratory.intrinsic+json": {
              "type": "string"
            }
          },
          "metadata": {},
          "execution_count": 7
        }
      ],
      "source": [
        "\"I'M NOT SHOUTING\".lower()"
      ]
    },
    {
      "cell_type": "markdown",
      "metadata": {
        "id": "3FeP60d1xEER"
      },
      "source": [
        "## `.strip()`\n",
        "\n",
        "This method will remove all leading and trailing whitespaces from a string"
      ]
    },
    {
      "cell_type": "code",
      "execution_count": 8,
      "metadata": {
        "id": "qIjSknRUxEER",
        "outputId": "212434a3-65ab-4553-c3d1-cd733d61bbbc",
        "colab": {
          "base_uri": "https://localhost:8080/",
          "height": 35
        }
      },
      "outputs": [
        {
          "output_type": "execute_result",
          "data": {
            "text/plain": [
              "'Hello dunia'"
            ],
            "application/vnd.google.colaboratory.intrinsic+json": {
              "type": "string"
            }
          },
          "metadata": {},
          "execution_count": 8
        }
      ],
      "source": [
        "\"   Hello dunia      \".strip()"
      ]
    },
    {
      "cell_type": "markdown",
      "metadata": {
        "id": "1Rjj2VFgxEES"
      },
      "source": [
        "## `.replace()`\n",
        "\n",
        "This method will replace all occurrences of a string with another string"
      ]
    },
    {
      "cell_type": "code",
      "execution_count": 9,
      "metadata": {
        "id": "Gke9KB3GxEES",
        "outputId": "16abb8f6-4025-4c7d-d24d-12b5dec229b0",
        "colab": {
          "base_uri": "https://localhost:8080/",
          "height": 35
        }
      },
      "outputs": [
        {
          "output_type": "execute_result",
          "data": {
            "text/plain": [
              "'Bob is a dog'"
            ],
            "application/vnd.google.colaboratory.intrinsic+json": {
              "type": "string"
            }
          },
          "metadata": {},
          "execution_count": 9
        }
      ],
      "source": [
        "\"Bob is a cat\".replace(\"cat\", \"dog\")"
      ]
    },
    {
      "cell_type": "markdown",
      "metadata": {
        "id": "kJjPQoqsxEEV"
      },
      "source": [
        "If we add an empty string as the second argument, it will remove all occurrences of a string"
      ]
    },
    {
      "cell_type": "code",
      "execution_count": 11,
      "metadata": {
        "id": "xp-YUhpvxEEY",
        "outputId": "208bb10b-6f58-466f-dc76-f3986f4bd631",
        "colab": {
          "base_uri": "https://localhost:8080/",
          "height": 35
        }
      },
      "outputs": [
        {
          "output_type": "execute_result",
          "data": {
            "text/plain": [
              "'dog human horse'"
            ],
            "application/vnd.google.colaboratory.intrinsic+json": {
              "type": "string"
            }
          },
          "metadata": {},
          "execution_count": 11
        }
      ],
      "source": [
        "\"cat cat cat dog human horse\".replace(\"cat\", \"\").strip()"
      ]
    },
    {
      "cell_type": "markdown",
      "metadata": {
        "id": "2LB05oQTxEEc"
      },
      "source": [
        "We won't list down every methods here, you can check more on https://www.w3schools.com/python/python_ref_string.asp"
      ]
    },
    {
      "cell_type": "markdown",
      "metadata": {
        "id": "dULvG5pf7yVF"
      },
      "source": [
        "# Challenge!"
      ]
    },
    {
      "cell_type": "markdown",
      "metadata": {
        "id": "mh7ZuzqTVWdp"
      },
      "source": [
        "## Upper\n",
        "\n",
        "Using `.upper()` method, convert the string below into uppercase"
      ]
    },
    {
      "cell_type": "code",
      "execution_count": 12,
      "metadata": {
        "id": "-K30IhM7VWdp",
        "outputId": "17406158-68b6-4f8f-c475-8b02ef68d2a6",
        "colab": {
          "base_uri": "https://localhost:8080/",
          "height": 35
        }
      },
      "outputs": [
        {
          "output_type": "execute_result",
          "data": {
            "text/plain": [
              "'HI MY NAME IS ANDI'"
            ],
            "application/vnd.google.colaboratory.intrinsic+json": {
              "type": "string"
            }
          },
          "metadata": {},
          "execution_count": 12
        }
      ],
      "source": [
        "\"hi my name is andi\".upper()"
      ]
    },
    {
      "cell_type": "markdown",
      "metadata": {
        "id": "bsE8kxLOVWdp"
      },
      "source": [
        "When you are done with the above challenge, then:\n",
        "\n",
        "1. Change the text \"my result\" below with the text \"done\"\n",
        "2. Run the code block by pressing the play button."
      ]
    },
    {
      "cell_type": "code",
      "execution_count": 13,
      "metadata": {
        "id": "OzZ6cXEwVWdp",
        "outputId": "b1b14f67-eeee-411b-eecd-69606f58c8be",
        "colab": {
          "base_uri": "https://localhost:8080/",
          "height": 35
        }
      },
      "outputs": [
        {
          "output_type": "execute_result",
          "data": {
            "text/plain": [
              "'Assignment successfully submitted'"
            ],
            "application/vnd.google.colaboratory.intrinsic+json": {
              "type": "string"
            }
          },
          "metadata": {},
          "execution_count": 13
        }
      ],
      "source": [
        "# Submit Method\n",
        "assignment_id = \"002_data_types\"\n",
        "question_id = \"02_upper\"\n",
        "\n",
        "result = \"done\"\n",
        "\n",
        "submit(student_id, name, assignment_id, result, question_id)"
      ]
    },
    {
      "cell_type": "markdown",
      "metadata": {
        "id": "retUmbgbVWdp"
      },
      "source": [
        "## Replace\n",
        "\n",
        "Replace below name from \"Ridho\" to \"Fajar\"!"
      ]
    },
    {
      "cell_type": "code",
      "execution_count": 14,
      "metadata": {
        "id": "jPBePnV9VWdp",
        "outputId": "31a830e4-97e6-4acb-efa5-9743277bc5ac",
        "colab": {
          "base_uri": "https://localhost:8080/",
          "height": 35
        }
      },
      "outputs": [
        {
          "output_type": "execute_result",
          "data": {
            "text/plain": [
              "'Hi, my name is Fajar'"
            ],
            "application/vnd.google.colaboratory.intrinsic+json": {
              "type": "string"
            }
          },
          "metadata": {},
          "execution_count": 14
        }
      ],
      "source": [
        "\"Hi, my name is Ridho\".replace(\"Ridho\", \"Fajar\")"
      ]
    },
    {
      "cell_type": "markdown",
      "metadata": {
        "id": "VJ3wyLc3VWdp"
      },
      "source": [
        "When you are done with the above challenge, then:\n",
        "\n",
        "1. Change the text \"my result\" below with the text \"done\"\n",
        "2. Run the code block by pressing the play button."
      ]
    },
    {
      "cell_type": "code",
      "execution_count": 15,
      "metadata": {
        "id": "tpEBsq3oVWdp",
        "outputId": "64879c28-2e75-4052-9788-00b27fe4c2dc",
        "colab": {
          "base_uri": "https://localhost:8080/",
          "height": 35
        }
      },
      "outputs": [
        {
          "output_type": "execute_result",
          "data": {
            "text/plain": [
              "'Assignment successfully submitted'"
            ],
            "application/vnd.google.colaboratory.intrinsic+json": {
              "type": "string"
            }
          },
          "metadata": {},
          "execution_count": 15
        }
      ],
      "source": [
        "# Submit Method\n",
        "assignment_id = \"002_data_types\"\n",
        "question_id = \"03_replace\"\n",
        "\n",
        "result = \"done\"\n",
        "\n",
        "submit(student_id, name, assignment_id, result, question_id)"
      ]
    },
    {
      "cell_type": "markdown",
      "metadata": {
        "id": "1rbUnmFtVWdp"
      },
      "source": [
        "## String\n",
        "\n",
        "Remove all leading and trailing whitespaces from below string"
      ]
    },
    {
      "cell_type": "code",
      "execution_count": 16,
      "metadata": {
        "id": "D6cnkRmyVWdp",
        "outputId": "abbb497c-3d61-4e49-b9c4-8ddd0fb25906",
        "colab": {
          "base_uri": "https://localhost:8080/",
          "height": 35
        }
      },
      "outputs": [
        {
          "output_type": "execute_result",
          "data": {
            "text/plain": [
              "'HELLO'"
            ],
            "application/vnd.google.colaboratory.intrinsic+json": {
              "type": "string"
            }
          },
          "metadata": {},
          "execution_count": 16
        }
      ],
      "source": [
        "\"   HELLO   \".strip()"
      ]
    },
    {
      "cell_type": "markdown",
      "metadata": {
        "id": "tHwI-rXQVWdp"
      },
      "source": [
        "When you are done with the above challenge, then:\n",
        "\n",
        "1. Change the text \"my result\" below with the text \"done\"\n",
        "2. Run the code block by pressing the play button."
      ]
    },
    {
      "cell_type": "code",
      "execution_count": 17,
      "metadata": {
        "id": "4G0GKU59VWdp",
        "outputId": "48dce420-302a-476c-b8d8-80c040f1701b",
        "colab": {
          "base_uri": "https://localhost:8080/",
          "height": 35
        }
      },
      "outputs": [
        {
          "output_type": "execute_result",
          "data": {
            "text/plain": [
              "'Assignment successfully submitted'"
            ],
            "application/vnd.google.colaboratory.intrinsic+json": {
              "type": "string"
            }
          },
          "metadata": {},
          "execution_count": 17
        }
      ],
      "source": [
        "# Submit Method\n",
        "assignment_id = \"002_data_types\"\n",
        "question_id = \"04_string\"\n",
        "\n",
        "result = \"done\"\n",
        "\n",
        "submit(student_id, name, assignment_id, result, question_id)"
      ]
    },
    {
      "cell_type": "markdown",
      "metadata": {
        "id": "h2PJVEW_xEEd"
      },
      "source": [
        "## Method chaining\n",
        "\n",
        "We can chain multiple methods together, for example:\n",
        "\n",
        "```python\n",
        "\"I'm so excited to meet you guys there!\".lower().replace(\"excited\", \"happy\")\n",
        "```\n",
        "\n",
        "Will result in:\n",
        "\n",
        "```python\n",
        "\"i'm so happy to meet you guys there!\"\n",
        "```"
      ]
    },
    {
      "cell_type": "markdown",
      "metadata": {
        "id": "04C56jVdVWdq"
      },
      "source": [
        "# Challenge\n",
        "\n",
        "## Challenge 1\n",
        "\n",
        "Replace all occurrences of \"cat\" to \"\" (empty string) and remove all leading whitespaces (the output should be: \"dog human horse\")"
      ]
    },
    {
      "cell_type": "code",
      "execution_count": 18,
      "metadata": {
        "id": "cRPIsOouVWdq",
        "outputId": "e3b99608-7749-41f8-f648-3ddd530017f4",
        "colab": {
          "base_uri": "https://localhost:8080/",
          "height": 35
        }
      },
      "outputs": [
        {
          "output_type": "execute_result",
          "data": {
            "text/plain": [
              "'dog human horse'"
            ],
            "application/vnd.google.colaboratory.intrinsic+json": {
              "type": "string"
            }
          },
          "metadata": {},
          "execution_count": 18
        }
      ],
      "source": [
        "\"cat cat cat dog human horse\".replace(\"cat\", \"\").strip()"
      ]
    },
    {
      "cell_type": "markdown",
      "metadata": {
        "id": "JYpO9kGnVWdw"
      },
      "source": [
        "When you are done with the above challenge, then:\n",
        "\n",
        "1. Change the text \"my result\" below with the text \"done\"\n",
        "2. Run the code block by pressing the play button."
      ]
    },
    {
      "cell_type": "code",
      "execution_count": 19,
      "metadata": {
        "id": "fxcWWWhOVWdw",
        "outputId": "86d7e235-fa92-4381-f048-3233407050e5",
        "colab": {
          "base_uri": "https://localhost:8080/",
          "height": 35
        }
      },
      "outputs": [
        {
          "output_type": "execute_result",
          "data": {
            "text/plain": [
              "'Assignment successfully submitted'"
            ],
            "application/vnd.google.colaboratory.intrinsic+json": {
              "type": "string"
            }
          },
          "metadata": {},
          "execution_count": 19
        }
      ],
      "source": [
        "# Submit Method\n",
        "assignment_id = \"002_data_types\"\n",
        "question_id = \"05_method_chain_1\"\n",
        "\n",
        "result = \"done\"\n",
        "\n",
        "submit(student_id, name, assignment_id, result, question_id)"
      ]
    },
    {
      "cell_type": "markdown",
      "metadata": {
        "id": "pRvwSryDVWdw"
      },
      "source": [
        "## Challenge 2\n",
        "\n",
        "Convert below string to \"IT'S SO COOL!\""
      ]
    },
    {
      "cell_type": "code",
      "execution_count": 20,
      "metadata": {
        "id": "VzaCDDO4xEEq",
        "outputId": "a4247549-c5fc-4dcc-cb99-12fb8d2da914",
        "colab": {
          "base_uri": "https://localhost:8080/",
          "height": 35
        }
      },
      "outputs": [
        {
          "output_type": "execute_result",
          "data": {
            "text/plain": [
              "\"IT'S SO COOL!\""
            ],
            "application/vnd.google.colaboratory.intrinsic+json": {
              "type": "string"
            }
          },
          "metadata": {},
          "execution_count": 20
        }
      ],
      "source": [
        "\"  It's so cool!    \".upper().strip()"
      ]
    },
    {
      "cell_type": "markdown",
      "metadata": {
        "id": "lpclcu76VWdx"
      },
      "source": [
        "When you are done with the above challenge, then:\n",
        "\n",
        "1. Change the text \"my result\" below with the text \"done\"\n",
        "2. Run the code block by pressing the play button."
      ]
    },
    {
      "cell_type": "code",
      "execution_count": 21,
      "metadata": {
        "id": "NtiYRb1mVWdx",
        "outputId": "a973386c-2581-4e81-f163-9812ec977260",
        "colab": {
          "base_uri": "https://localhost:8080/",
          "height": 35
        }
      },
      "outputs": [
        {
          "output_type": "execute_result",
          "data": {
            "text/plain": [
              "'Assignment successfully submitted'"
            ],
            "application/vnd.google.colaboratory.intrinsic+json": {
              "type": "string"
            }
          },
          "metadata": {},
          "execution_count": 21
        }
      ],
      "source": [
        "# Submit Method\n",
        "assignment_id = \"002_data_types\"\n",
        "question_id = \"06_method_chain_2\"\n",
        "\n",
        "result = \"done\"\n",
        "\n",
        "submit(student_id, name, assignment_id, result, question_id)"
      ]
    },
    {
      "cell_type": "markdown",
      "metadata": {
        "id": "GvnlQDReVWdx"
      },
      "source": [
        "## Challenge 3\n",
        "\n",
        "Convert below string to \"I'm not a bird\"\n",
        "\n",
        "Note:\n",
        "\n",
        "- If you want to delete a word from a sentence, make sure you add space before and after the word so it will remove the word and the space before and after it.\n",
        "\n",
        "```python\n",
        "\"I'm so hungry\".replace(\"so\", \"\") # WRONG, it will result in \"I'm  hungry\" (notice the extra space)\n",
        "\"I'm so hungry\".replace(\" so \", \"\") # CORRECT, it will result in \"I'm hungry\"\n",
        "```"
      ]
    },
    {
      "cell_type": "code",
      "execution_count": 22,
      "metadata": {
        "id": "317M157mVWdx",
        "outputId": "d6b89777-93f6-4f37-d427-e60f1cf1a08e",
        "colab": {
          "base_uri": "https://localhost:8080/",
          "height": 35
        }
      },
      "outputs": [
        {
          "output_type": "execute_result",
          "data": {
            "text/plain": [
              "\"I'm not a bird\""
            ],
            "application/vnd.google.colaboratory.intrinsic+json": {
              "type": "string"
            }
          },
          "metadata": {},
          "execution_count": 22
        }
      ],
      "source": [
        "\"I'm not a cat\".replace(\"cat\", \"bird\")"
      ]
    },
    {
      "cell_type": "markdown",
      "metadata": {
        "id": "my4qcua6VWdx"
      },
      "source": [
        "When you are done with the above challenge, then:\n",
        "\n",
        "1. Change the text \"my result\" below with the text \"done\"\n",
        "2. Run the code block by pressing the play button."
      ]
    },
    {
      "cell_type": "code",
      "execution_count": 23,
      "metadata": {
        "id": "RUwUxgsqVWdx",
        "outputId": "ed6c2625-72f3-44ea-be85-b845bc7c81a1",
        "colab": {
          "base_uri": "https://localhost:8080/",
          "height": 35
        }
      },
      "outputs": [
        {
          "output_type": "execute_result",
          "data": {
            "text/plain": [
              "'Assignment successfully submitted'"
            ],
            "application/vnd.google.colaboratory.intrinsic+json": {
              "type": "string"
            }
          },
          "metadata": {},
          "execution_count": 23
        }
      ],
      "source": [
        "# Submit Method\n",
        "assignment_id = \"002_data_types\"\n",
        "question_id = \"07_method_chain_3\"\n",
        "\n",
        "result = \"done\"\n",
        "\n",
        "submit(student_id, name, assignment_id, result, question_id)"
      ]
    },
    {
      "cell_type": "markdown",
      "metadata": {
        "id": "zSWHGX7RVWdx"
      },
      "source": [
        "# Comment\n",
        "\n",
        "Comment is a text that is ignored by the computer, it's mostly used to explain what a code does."
      ]
    },
    {
      "cell_type": "code",
      "execution_count": 24,
      "metadata": {
        "id": "seQgg9fDVWdx"
      },
      "outputs": [],
      "source": [
        "# This is a comment, this line will not be executed\n",
        "# def my_function():\n",
        "#     print(\"Hello from a function\")\n",
        "# above code will not be executed either\n",
        "\n",
        "#\"This line will be executed\" # print(\"This line will not be executed\")"
      ]
    },
    {
      "cell_type": "markdown",
      "metadata": {
        "id": "EnxX7SS6xEEe"
      },
      "source": [
        "# String concatenation\n",
        "\n",
        "We can concatenate (combine) two strings together using `+` operator"
      ]
    },
    {
      "cell_type": "code",
      "execution_count": 25,
      "metadata": {
        "id": "SfO_hZb_xEEe",
        "outputId": "b80805ed-10b9-479f-9a65-f025fe8e9c0e",
        "colab": {
          "base_uri": "https://localhost:8080/",
          "height": 35
        }
      },
      "outputs": [
        {
          "output_type": "execute_result",
          "data": {
            "text/plain": [
              "'Hello world!'"
            ],
            "application/vnd.google.colaboratory.intrinsic+json": {
              "type": "string"
            }
          },
          "metadata": {},
          "execution_count": 25
        }
      ],
      "source": [
        "\"Hello\" + \" \" + \"world!\""
      ]
    },
    {
      "cell_type": "markdown",
      "metadata": {
        "id": "t8Zh3SrQVWdx"
      },
      "source": [
        "# Challenge\n",
        "\n",
        "## Challenge 1\n",
        "\n",
        "Try to concatenate below string with Rudi's name"
      ]
    },
    {
      "cell_type": "code",
      "execution_count": 28,
      "metadata": {
        "colab": {
          "base_uri": "https://localhost:8080/",
          "height": 35
        },
        "id": "G_vb0lM4VWdx",
        "outputId": "c48ff387-fcdd-47ec-c89a-6718a113b490"
      },
      "outputs": [
        {
          "output_type": "execute_result",
          "data": {
            "text/plain": [
              "'Imam, Andi, Ridho, Rudi'"
            ],
            "application/vnd.google.colaboratory.intrinsic+json": {
              "type": "string"
            }
          },
          "metadata": {},
          "execution_count": 28
        }
      ],
      "source": [
        "\"Imam, Andi, Ridho\"+\", \"+\"Rudi\" # Convert to \"Imam, Andi, Ridho, Rudi\""
      ]
    },
    {
      "cell_type": "markdown",
      "metadata": {
        "id": "EM6z46liVWdx"
      },
      "source": [
        "When you are done with the above challenge, then:\n",
        "\n",
        "1. Change the text \"my result\" below with the text \"done\"\n",
        "2. Run the code block by pressing the play button."
      ]
    },
    {
      "cell_type": "code",
      "execution_count": 29,
      "metadata": {
        "id": "O_1TGeQlVWdx",
        "outputId": "e90b4ff9-447f-4654-ebd9-3df6ad66fdb5",
        "colab": {
          "base_uri": "https://localhost:8080/",
          "height": 35
        }
      },
      "outputs": [
        {
          "output_type": "execute_result",
          "data": {
            "text/plain": [
              "'Assignment successfully submitted'"
            ],
            "application/vnd.google.colaboratory.intrinsic+json": {
              "type": "string"
            }
          },
          "metadata": {},
          "execution_count": 29
        }
      ],
      "source": [
        "# Submit Method\n",
        "assignment_id = \"002_data_types\"\n",
        "question_id = \"08_concat\"\n",
        "\n",
        "result = \"done\"\n",
        "\n",
        "submit(student_id, name, assignment_id, result, question_id)"
      ]
    },
    {
      "cell_type": "markdown",
      "metadata": {
        "id": "AbHz-S75xEEf"
      },
      "source": [
        "# Numbers (integers and floats)\n",
        "\n",
        "Numbers in Python are divided into two types: integers and floats. Integers are whole numbers, while floats are decimal numbers.\n",
        "\n",
        "Below are integers:\n",
        "\n",
        "```python\n",
        "1\n",
        "30\n",
        "70\n",
        "```\n",
        "\n",
        "Below are floats:\n",
        "\n",
        "```python\n",
        "1.0\n",
        "30.0\n",
        "70.0\n",
        "```\n",
        "\n",
        "We can do basic math operations with either integers or floats:"
      ]
    },
    {
      "cell_type": "code",
      "execution_count": 30,
      "metadata": {
        "id": "BzkkiW0AxEEg",
        "outputId": "986f54d5-deb3-4de7-e3e4-e5ea91552cf8",
        "colab": {
          "base_uri": "https://localhost:8080/"
        }
      },
      "outputs": [
        {
          "output_type": "execute_result",
          "data": {
            "text/plain": [
              "-1"
            ]
          },
          "metadata": {},
          "execution_count": 30
        }
      ],
      "source": [
        "9-5*2"
      ]
    },
    {
      "cell_type": "markdown",
      "metadata": {
        "id": "VLrhaS9UVWdy"
      },
      "source": [
        "# Challenge!\n",
        "\n",
        "## Challenge 1\n",
        "\n",
        "Create a formula of 10 times 2.\n",
        "The output = 20"
      ]
    },
    {
      "cell_type": "code",
      "execution_count": 31,
      "metadata": {
        "id": "WNcRBLWjVWdy",
        "outputId": "629e75e6-5040-4e98-f2e9-275dd9831dc8",
        "colab": {
          "base_uri": "https://localhost:8080/"
        }
      },
      "outputs": [
        {
          "output_type": "execute_result",
          "data": {
            "text/plain": [
              "20"
            ]
          },
          "metadata": {},
          "execution_count": 31
        }
      ],
      "source": [
        "#write your code below\n",
        "10*2"
      ]
    },
    {
      "cell_type": "markdown",
      "metadata": {
        "id": "zZM6lAY5VWdy"
      },
      "source": [
        "When you are done with the above challenge, then:\n",
        "\n",
        "1. Change the text \"my result\" below with the formula you created above.\n",
        "2. Run the code block by pressing the play button."
      ]
    },
    {
      "cell_type": "code",
      "execution_count": 33,
      "metadata": {
        "id": "lBghSuzhVWdy",
        "outputId": "32db49d7-f673-4f8e-f877-62310faf5ba6",
        "colab": {
          "base_uri": "https://localhost:8080/",
          "height": 35
        }
      },
      "outputs": [
        {
          "output_type": "execute_result",
          "data": {
            "text/plain": [
              "'Assignment successfully submitted'"
            ],
            "application/vnd.google.colaboratory.intrinsic+json": {
              "type": "string"
            }
          },
          "metadata": {},
          "execution_count": 33
        }
      ],
      "source": [
        "# Submit Method\n",
        "assignment_id = \"002_data_types\"\n",
        "question_id = \"09_math_1\"\n",
        "\n",
        "result = \"10*2\"\n",
        "\n",
        "submit(student_id, name, assignment_id, result, question_id)"
      ]
    },
    {
      "cell_type": "markdown",
      "metadata": {
        "id": "TKQXnxWWVWdy"
      },
      "source": [
        "## Challenge 2\n",
        "\n",
        "Create a formula of 10 plus 2 then times 3 (remember the order of operations, you might need to use parentheses?)\n",
        "The output = 36"
      ]
    },
    {
      "cell_type": "code",
      "execution_count": 34,
      "metadata": {
        "id": "qFNRol3gVWdy",
        "outputId": "b604bc0a-1dce-4356-8ca2-d8490f99c194",
        "colab": {
          "base_uri": "https://localhost:8080/"
        }
      },
      "outputs": [
        {
          "output_type": "execute_result",
          "data": {
            "text/plain": [
              "36"
            ]
          },
          "metadata": {},
          "execution_count": 34
        }
      ],
      "source": [
        "#write your code below\n",
        "(10+2)*3"
      ]
    },
    {
      "cell_type": "markdown",
      "metadata": {
        "id": "UKsvqcGGVWdy"
      },
      "source": [
        "When you are done with the above challenge, then:\n",
        "\n",
        "1. Change the text \"my result\" below with the formula you created above.\n",
        "2. Run the code block by pressing the play button."
      ]
    },
    {
      "cell_type": "code",
      "execution_count": 35,
      "metadata": {
        "id": "BzhzUEHQVWdy",
        "outputId": "78ca443a-b07a-4a77-ae66-c60465ae106e",
        "colab": {
          "base_uri": "https://localhost:8080/",
          "height": 35
        }
      },
      "outputs": [
        {
          "output_type": "execute_result",
          "data": {
            "text/plain": [
              "'Assignment successfully submitted'"
            ],
            "application/vnd.google.colaboratory.intrinsic+json": {
              "type": "string"
            }
          },
          "metadata": {},
          "execution_count": 35
        }
      ],
      "source": [
        "# Submit Method\n",
        "assignment_id = \"002_data_types\"\n",
        "question_id = \"10_math_2\"\n",
        "\n",
        "result = \"(10+2)*3\"\n",
        "\n",
        "submit(student_id, name, assignment_id, result, question_id)"
      ]
    }
  ],
  "metadata": {
    "colab": {
      "provenance": [],
      "include_colab_link": true
    },
    "kernelspec": {
      "display_name": "Python 3 (ipykernel)",
      "language": "python",
      "name": "python3"
    },
    "language_info": {
      "codemirror_mode": {
        "name": "ipython",
        "version": 3
      },
      "file_extension": ".py",
      "mimetype": "text/x-python",
      "name": "python",
      "nbconvert_exporter": "python",
      "pygments_lexer": "ipython3",
      "version": "3.11.3"
    }
  },
  "nbformat": 4,
  "nbformat_minor": 0
}