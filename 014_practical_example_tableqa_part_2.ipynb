{
  "cells": [
    {
      "cell_type": "markdown",
      "metadata": {
        "id": "view-in-github",
        "colab_type": "text"
      },
      "source": [
        "<a href=\"https://colab.research.google.com/github/rii92/Datmin/blob/main/014_practical_example_tableqa_part_2.ipynb\" target=\"_parent\"><img src=\"https://colab.research.google.com/assets/colab-badge.svg\" alt=\"Open In Colab\"/></a>"
      ]
    },
    {
      "cell_type": "markdown",
      "metadata": {
        "id": "ZrHYVgORwSOb"
      },
      "source": [
        "# Showing your data in a table using Gradio\n",
        "\n",
        "After learning using table question answering pipeline and the answer is a text, now let's try to use the pipeline to filter given table data to only show the data that asked by the user.\n",
        "\n",
        "![Using Gradio](https://storage.googleapis.com/rg-ai-bootcamp/python-prep/using_gradio-min.png)\n"
      ]
    },
    {
      "cell_type": "code",
      "execution_count": 1,
      "metadata": {
        "colab": {
          "base_uri": "https://localhost:8080/"
        },
        "id": "_Ql8ypRAwSOd",
        "outputId": "cab1c181-57d9-40b0-b035-b459ca659038"
      },
      "outputs": [
        {
          "output_type": "stream",
          "name": "stdout",
          "text": [
            "Requirement already satisfied: gradio in /usr/local/lib/python3.10/dist-packages (4.38.1)\n",
            "Requirement already satisfied: aiofiles<24.0,>=22.0 in /usr/local/lib/python3.10/dist-packages (from gradio) (23.2.1)\n",
            "Requirement already satisfied: altair<6.0,>=5.0 in /usr/local/lib/python3.10/dist-packages (from gradio) (5.3.0)\n",
            "Requirement already satisfied: fastapi in /usr/local/lib/python3.10/dist-packages (from gradio) (0.111.1)\n",
            "Requirement already satisfied: ffmpy in /usr/local/lib/python3.10/dist-packages (from gradio) (0.3.2)\n",
            "Requirement already satisfied: gradio-client==1.1.0 in /usr/local/lib/python3.10/dist-packages (from gradio) (1.1.0)\n",
            "Requirement already satisfied: httpx>=0.24.1 in /usr/local/lib/python3.10/dist-packages (from gradio) (0.27.0)\n",
            "Requirement already satisfied: huggingface-hub>=0.19.3 in /usr/local/lib/python3.10/dist-packages (from gradio) (0.23.4)\n",
            "Requirement already satisfied: importlib-resources<7.0,>=1.3 in /usr/local/lib/python3.10/dist-packages (from gradio) (6.4.0)\n",
            "Requirement already satisfied: jinja2<4.0 in /usr/local/lib/python3.10/dist-packages (from gradio) (3.1.4)\n",
            "Requirement already satisfied: markupsafe~=2.0 in /usr/local/lib/python3.10/dist-packages (from gradio) (2.1.5)\n",
            "Requirement already satisfied: matplotlib~=3.0 in /usr/local/lib/python3.10/dist-packages (from gradio) (3.7.1)\n",
            "Requirement already satisfied: numpy<3.0,>=1.0 in /usr/local/lib/python3.10/dist-packages (from gradio) (1.25.2)\n",
            "Requirement already satisfied: orjson~=3.0 in /usr/local/lib/python3.10/dist-packages (from gradio) (3.10.6)\n",
            "Requirement already satisfied: packaging in /usr/local/lib/python3.10/dist-packages (from gradio) (24.1)\n",
            "Requirement already satisfied: pandas<3.0,>=1.0 in /usr/local/lib/python3.10/dist-packages (from gradio) (2.0.3)\n",
            "Requirement already satisfied: pillow<11.0,>=8.0 in /usr/local/lib/python3.10/dist-packages (from gradio) (9.4.0)\n",
            "Requirement already satisfied: pydantic>=2.0 in /usr/local/lib/python3.10/dist-packages (from gradio) (2.8.2)\n",
            "Requirement already satisfied: pydub in /usr/local/lib/python3.10/dist-packages (from gradio) (0.25.1)\n",
            "Requirement already satisfied: python-multipart>=0.0.9 in /usr/local/lib/python3.10/dist-packages (from gradio) (0.0.9)\n",
            "Requirement already satisfied: pyyaml<7.0,>=5.0 in /usr/local/lib/python3.10/dist-packages (from gradio) (6.0.1)\n",
            "Requirement already satisfied: ruff>=0.2.2 in /usr/local/lib/python3.10/dist-packages (from gradio) (0.5.2)\n",
            "Requirement already satisfied: semantic-version~=2.0 in /usr/local/lib/python3.10/dist-packages (from gradio) (2.10.0)\n",
            "Requirement already satisfied: tomlkit==0.12.0 in /usr/local/lib/python3.10/dist-packages (from gradio) (0.12.0)\n",
            "Requirement already satisfied: typer<1.0,>=0.12 in /usr/local/lib/python3.10/dist-packages (from gradio) (0.12.3)\n",
            "Requirement already satisfied: typing-extensions~=4.0 in /usr/local/lib/python3.10/dist-packages (from gradio) (4.12.2)\n",
            "Requirement already satisfied: urllib3~=2.0 in /usr/local/lib/python3.10/dist-packages (from gradio) (2.0.7)\n",
            "Requirement already satisfied: uvicorn>=0.14.0 in /usr/local/lib/python3.10/dist-packages (from gradio) (0.30.1)\n",
            "Requirement already satisfied: fsspec in /usr/local/lib/python3.10/dist-packages (from gradio-client==1.1.0->gradio) (2023.6.0)\n",
            "Requirement already satisfied: websockets<12.0,>=10.0 in /usr/local/lib/python3.10/dist-packages (from gradio-client==1.1.0->gradio) (11.0.3)\n",
            "Requirement already satisfied: jsonschema>=3.0 in /usr/local/lib/python3.10/dist-packages (from altair<6.0,>=5.0->gradio) (4.19.2)\n",
            "Requirement already satisfied: toolz in /usr/local/lib/python3.10/dist-packages (from altair<6.0,>=5.0->gradio) (0.12.1)\n",
            "Requirement already satisfied: anyio in /usr/local/lib/python3.10/dist-packages (from httpx>=0.24.1->gradio) (3.7.1)\n",
            "Requirement already satisfied: certifi in /usr/local/lib/python3.10/dist-packages (from httpx>=0.24.1->gradio) (2024.7.4)\n",
            "Requirement already satisfied: httpcore==1.* in /usr/local/lib/python3.10/dist-packages (from httpx>=0.24.1->gradio) (1.0.5)\n",
            "Requirement already satisfied: idna in /usr/local/lib/python3.10/dist-packages (from httpx>=0.24.1->gradio) (3.7)\n",
            "Requirement already satisfied: sniffio in /usr/local/lib/python3.10/dist-packages (from httpx>=0.24.1->gradio) (1.3.1)\n",
            "Requirement already satisfied: h11<0.15,>=0.13 in /usr/local/lib/python3.10/dist-packages (from httpcore==1.*->httpx>=0.24.1->gradio) (0.14.0)\n",
            "Requirement already satisfied: filelock in /usr/local/lib/python3.10/dist-packages (from huggingface-hub>=0.19.3->gradio) (3.15.4)\n",
            "Requirement already satisfied: requests in /usr/local/lib/python3.10/dist-packages (from huggingface-hub>=0.19.3->gradio) (2.31.0)\n",
            "Requirement already satisfied: tqdm>=4.42.1 in /usr/local/lib/python3.10/dist-packages (from huggingface-hub>=0.19.3->gradio) (4.66.4)\n",
            "Requirement already satisfied: contourpy>=1.0.1 in /usr/local/lib/python3.10/dist-packages (from matplotlib~=3.0->gradio) (1.2.1)\n",
            "Requirement already satisfied: cycler>=0.10 in /usr/local/lib/python3.10/dist-packages (from matplotlib~=3.0->gradio) (0.12.1)\n",
            "Requirement already satisfied: fonttools>=4.22.0 in /usr/local/lib/python3.10/dist-packages (from matplotlib~=3.0->gradio) (4.53.1)\n",
            "Requirement already satisfied: kiwisolver>=1.0.1 in /usr/local/lib/python3.10/dist-packages (from matplotlib~=3.0->gradio) (1.4.5)\n",
            "Requirement already satisfied: pyparsing>=2.3.1 in /usr/local/lib/python3.10/dist-packages (from matplotlib~=3.0->gradio) (3.1.2)\n",
            "Requirement already satisfied: python-dateutil>=2.7 in /usr/local/lib/python3.10/dist-packages (from matplotlib~=3.0->gradio) (2.8.2)\n",
            "Requirement already satisfied: pytz>=2020.1 in /usr/local/lib/python3.10/dist-packages (from pandas<3.0,>=1.0->gradio) (2023.4)\n",
            "Requirement already satisfied: tzdata>=2022.1 in /usr/local/lib/python3.10/dist-packages (from pandas<3.0,>=1.0->gradio) (2024.1)\n",
            "Requirement already satisfied: annotated-types>=0.4.0 in /usr/local/lib/python3.10/dist-packages (from pydantic>=2.0->gradio) (0.7.0)\n",
            "Requirement already satisfied: pydantic-core==2.20.1 in /usr/local/lib/python3.10/dist-packages (from pydantic>=2.0->gradio) (2.20.1)\n",
            "Requirement already satisfied: click>=8.0.0 in /usr/local/lib/python3.10/dist-packages (from typer<1.0,>=0.12->gradio) (8.1.7)\n",
            "Requirement already satisfied: shellingham>=1.3.0 in /usr/local/lib/python3.10/dist-packages (from typer<1.0,>=0.12->gradio) (1.5.4)\n",
            "Requirement already satisfied: rich>=10.11.0 in /usr/local/lib/python3.10/dist-packages (from typer<1.0,>=0.12->gradio) (13.7.1)\n",
            "Requirement already satisfied: starlette<0.38.0,>=0.37.2 in /usr/local/lib/python3.10/dist-packages (from fastapi->gradio) (0.37.2)\n",
            "Requirement already satisfied: fastapi-cli>=0.0.2 in /usr/local/lib/python3.10/dist-packages (from fastapi->gradio) (0.0.4)\n",
            "Requirement already satisfied: email_validator>=2.0.0 in /usr/local/lib/python3.10/dist-packages (from fastapi->gradio) (2.2.0)\n",
            "Requirement already satisfied: dnspython>=2.0.0 in /usr/local/lib/python3.10/dist-packages (from email_validator>=2.0.0->fastapi->gradio) (2.6.1)\n",
            "Requirement already satisfied: attrs>=22.2.0 in /usr/local/lib/python3.10/dist-packages (from jsonschema>=3.0->altair<6.0,>=5.0->gradio) (23.2.0)\n",
            "Requirement already satisfied: jsonschema-specifications>=2023.03.6 in /usr/local/lib/python3.10/dist-packages (from jsonschema>=3.0->altair<6.0,>=5.0->gradio) (2023.12.1)\n",
            "Requirement already satisfied: referencing>=0.28.4 in /usr/local/lib/python3.10/dist-packages (from jsonschema>=3.0->altair<6.0,>=5.0->gradio) (0.35.1)\n",
            "Requirement already satisfied: rpds-py>=0.7.1 in /usr/local/lib/python3.10/dist-packages (from jsonschema>=3.0->altair<6.0,>=5.0->gradio) (0.19.0)\n",
            "Requirement already satisfied: six>=1.5 in /usr/local/lib/python3.10/dist-packages (from python-dateutil>=2.7->matplotlib~=3.0->gradio) (1.16.0)\n",
            "Requirement already satisfied: markdown-it-py>=2.2.0 in /usr/local/lib/python3.10/dist-packages (from rich>=10.11.0->typer<1.0,>=0.12->gradio) (3.0.0)\n",
            "Requirement already satisfied: pygments<3.0.0,>=2.13.0 in /usr/local/lib/python3.10/dist-packages (from rich>=10.11.0->typer<1.0,>=0.12->gradio) (2.16.1)\n",
            "Requirement already satisfied: exceptiongroup in /usr/local/lib/python3.10/dist-packages (from anyio->httpx>=0.24.1->gradio) (1.2.1)\n",
            "Requirement already satisfied: httptools>=0.5.0 in /usr/local/lib/python3.10/dist-packages (from uvicorn>=0.14.0->gradio) (0.6.1)\n",
            "Requirement already satisfied: python-dotenv>=0.13 in /usr/local/lib/python3.10/dist-packages (from uvicorn>=0.14.0->gradio) (1.0.1)\n",
            "Requirement already satisfied: uvloop!=0.15.0,!=0.15.1,>=0.14.0 in /usr/local/lib/python3.10/dist-packages (from uvicorn>=0.14.0->gradio) (0.19.0)\n",
            "Requirement already satisfied: watchfiles>=0.13 in /usr/local/lib/python3.10/dist-packages (from uvicorn>=0.14.0->gradio) (0.22.0)\n",
            "Requirement already satisfied: charset-normalizer<4,>=2 in /usr/local/lib/python3.10/dist-packages (from requests->huggingface-hub>=0.19.3->gradio) (3.3.2)\n",
            "Requirement already satisfied: mdurl~=0.1 in /usr/local/lib/python3.10/dist-packages (from markdown-it-py>=2.2.0->rich>=10.11.0->typer<1.0,>=0.12->gradio) (0.1.2)\n",
            "Requirement already satisfied: transformers in /usr/local/lib/python3.10/dist-packages (4.41.2)\n",
            "Requirement already satisfied: filelock in /usr/local/lib/python3.10/dist-packages (from transformers) (3.15.4)\n",
            "Requirement already satisfied: huggingface-hub<1.0,>=0.23.0 in /usr/local/lib/python3.10/dist-packages (from transformers) (0.23.4)\n",
            "Requirement already satisfied: numpy>=1.17 in /usr/local/lib/python3.10/dist-packages (from transformers) (1.25.2)\n",
            "Requirement already satisfied: packaging>=20.0 in /usr/local/lib/python3.10/dist-packages (from transformers) (24.1)\n",
            "Requirement already satisfied: pyyaml>=5.1 in /usr/local/lib/python3.10/dist-packages (from transformers) (6.0.1)\n",
            "Requirement already satisfied: regex!=2019.12.17 in /usr/local/lib/python3.10/dist-packages (from transformers) (2024.5.15)\n",
            "Requirement already satisfied: requests in /usr/local/lib/python3.10/dist-packages (from transformers) (2.31.0)\n",
            "Requirement already satisfied: tokenizers<0.20,>=0.19 in /usr/local/lib/python3.10/dist-packages (from transformers) (0.19.1)\n",
            "Requirement already satisfied: safetensors>=0.4.1 in /usr/local/lib/python3.10/dist-packages (from transformers) (0.4.3)\n",
            "Requirement already satisfied: tqdm>=4.27 in /usr/local/lib/python3.10/dist-packages (from transformers) (4.66.4)\n",
            "Requirement already satisfied: fsspec>=2023.5.0 in /usr/local/lib/python3.10/dist-packages (from huggingface-hub<1.0,>=0.23.0->transformers) (2023.6.0)\n",
            "Requirement already satisfied: typing-extensions>=3.7.4.3 in /usr/local/lib/python3.10/dist-packages (from huggingface-hub<1.0,>=0.23.0->transformers) (4.12.2)\n",
            "Requirement already satisfied: charset-normalizer<4,>=2 in /usr/local/lib/python3.10/dist-packages (from requests->transformers) (3.3.2)\n",
            "Requirement already satisfied: idna<4,>=2.5 in /usr/local/lib/python3.10/dist-packages (from requests->transformers) (3.7)\n",
            "Requirement already satisfied: urllib3<3,>=1.21.1 in /usr/local/lib/python3.10/dist-packages (from requests->transformers) (2.0.7)\n",
            "Requirement already satisfied: certifi>=2017.4.17 in /usr/local/lib/python3.10/dist-packages (from requests->transformers) (2024.7.4)\n",
            "Requirement already satisfied: pandas in /usr/local/lib/python3.10/dist-packages (2.0.3)\n",
            "Requirement already satisfied: python-dateutil>=2.8.2 in /usr/local/lib/python3.10/dist-packages (from pandas) (2.8.2)\n",
            "Requirement already satisfied: pytz>=2020.1 in /usr/local/lib/python3.10/dist-packages (from pandas) (2023.4)\n",
            "Requirement already satisfied: tzdata>=2022.1 in /usr/local/lib/python3.10/dist-packages (from pandas) (2024.1)\n",
            "Requirement already satisfied: numpy>=1.21.0 in /usr/local/lib/python3.10/dist-packages (from pandas) (1.25.2)\n",
            "Requirement already satisfied: six>=1.5 in /usr/local/lib/python3.10/dist-packages (from python-dateutil>=2.8.2->pandas) (1.16.0)\n"
          ]
        }
      ],
      "source": [
        "%pip install gradio\n",
        "%pip install transformers\n",
        "%pip install pandas"
      ]
    },
    {
      "cell_type": "code",
      "execution_count": 2,
      "metadata": {
        "id": "l_TjDY9pwSOd"
      },
      "outputs": [],
      "source": [
        "data = [\n",
        "    {\n",
        "        \"House\": \"House 1\",\n",
        "        \"City\": \"Jakarta\",\n",
        "        \"Price (in million IDR)\": \"5000\",\n",
        "        \"Rooms\": \"2 bed, 2 bath\",\n",
        "        \"Facilities\": \"Pool, Garage, Gym, Garden\",\n",
        "        \"Furnished\": \"Yes\",\n",
        "    },\n",
        "    {\n",
        "        \"House\": \"House 2\",\n",
        "        \"City\": \"Surabaya\",\n",
        "        \"Price (in million IDR)\": \"2000\",\n",
        "        \"Rooms\": \"3 bed, 2 bath\",\n",
        "        \"Facilities\": \"Garage, Library\",\n",
        "        \"Furnished\": \"No\",\n",
        "    },\n",
        "    {\n",
        "        \"House\": \"House 3\",\n",
        "        \"City\": \"Malang\",\n",
        "        \"Price (in million IDR)\": \"1500\",\n",
        "        \"Rooms\": \"2 bed, 1 bath\",\n",
        "        \"Facilities\": \"Pool, Gym, Sauna\",\n",
        "        \"Furnished\": \"No\",\n",
        "    },\n",
        "    {\n",
        "        \"House\": \"House 4\",\n",
        "        \"City\": \"Jakarta\",\n",
        "        \"Price (in million IDR)\": \"5300\",\n",
        "        \"Rooms\": \"1 bed, 1 bath\",\n",
        "        \"Facilities\": \"Gym, Rooftop\",\n",
        "        \"Furnished\": \"Yes\",\n",
        "    },\n",
        "    {\n",
        "        \"House\": \"House 5\",\n",
        "        \"City\": \"Surabaya\",\n",
        "        \"Price (in million IDR)\": \"2200\",\n",
        "        \"Rooms\": \"3 bed, 2 bath\",\n",
        "        \"Facilities\": \"Pool, Garage, Gym, Library\",\n",
        "        \"Furnished\": \"No\",\n",
        "    },\n",
        "    {\n",
        "        \"House\": \"House 6\",\n",
        "        \"City\": \"Malang\",\n",
        "        \"Price (in million IDR)\": \"1600\",\n",
        "        \"Rooms\": \"2 bed, 2 bath\",\n",
        "        \"Facilities\": \"Garage, Gym, Garden\",\n",
        "        \"Furnished\": \"Yes\",\n",
        "    },\n",
        "    {\n",
        "        \"House\": \"House 7\",\n",
        "        \"City\": \"Jakarta\",\n",
        "        \"Price (in million IDR)\": \"4900\",\n",
        "        \"Rooms\": \"4 bed, 3 bath\",\n",
        "        \"Facilities\": \"Pool, Garage, Sauna\",\n",
        "        \"Furnished\": \"Yes\",\n",
        "    },\n",
        "    {\n",
        "        \"House\": \"House 8\",\n",
        "        \"City\": \"Surabaya\",\n",
        "        \"Price (in million IDR)\": \"2100\",\n",
        "        \"Rooms\": \"3 bed, 3 bath\",\n",
        "        \"Facilities\": \"Gym, Garden\",\n",
        "        \"Furnished\": \"No\",\n",
        "    },\n",
        "    {\n",
        "        \"House\": \"House 9\",\n",
        "        \"City\": \"Malang\",\n",
        "        \"Price (in million IDR)\": \"1400\",\n",
        "        \"Rooms\": \"4 bed, 2 bath\",\n",
        "        \"Facilities\": \"Garage, Rooftop\",\n",
        "        \"Furnished\": \"Yes\",\n",
        "    },\n",
        "    {\n",
        "        \"House\": \"House 10\",\n",
        "        \"City\": \"Jakarta\",\n",
        "        \"Price (in million IDR)\": \"5100\",\n",
        "        \"Rooms\": \"3 bed, 1 bath\",\n",
        "        \"Facilities\": \"Pool, Garden, Sauna\",\n",
        "        \"Furnished\": \"No\",\n",
        "    },\n",
        "]\n"
      ]
    },
    {
      "cell_type": "markdown",
      "metadata": {
        "id": "DX-3Wn4WwSOe"
      },
      "source": [
        "# Challenge: Filter by tuple\n",
        "\n",
        "To complete the whole functionality we can use everything that we've learned so far! You'll be guided for some parts, but for most of the parts you'll need to figure it out yourself. Good luck!\n",
        "\n",
        "```python\n",
        "{'answer': 'AVERAGE > 5000, 5300, 4900, 5100',\n",
        " 'coordinates': [(0, 2), (3, 2), (6, 2), (9, 2)],\n",
        " 'cells': ['5000', '5300', '4900', '5100'],\n",
        " 'aggregator': 'AVERAGE'}\n",
        "```\n",
        "\n",
        "For the first part that you need to finish our last challenge is to try to filter all of `data` by the coordinates given by the output of the pipeline. Basically if you're seeing above result at the `coordinates` key, the thing that we're only need to filter the data by is the first element of every tuple.\n",
        "\n",
        "For example `(0, 2)` represent that the coordinate that we need is `data[0]`, for the `2` part is the second key of that data (which is `Price (in million IDR)`) and we can ignore it per our requirement.\n",
        "\n",
        "So:\n",
        "If the tuple == `(0, 2)`, we need to get the data at `data[0]`\n",
        "If the tuple == `(3, 2)`, we need to get the data at `data[3]`\n",
        "If the tuple == `(6, 2)`, we need to get the data at `data[6]`\n",
        "And so on, again, we can ignore the second key of the tuple."
      ]
    },
    {
      "cell_type": "code",
      "execution_count": 3,
      "metadata": {
        "id": "nLos_m7swSOe",
        "outputId": "160b2868-6884-4505-ede1-520bfe497975",
        "colab": {
          "base_uri": "https://localhost:8080/"
        }
      },
      "outputs": [
        {
          "output_type": "execute_result",
          "data": {
            "text/plain": [
              "[{'House': 'House 1',\n",
              "  'City': 'Jakarta',\n",
              "  'Price (in million IDR)': '5000',\n",
              "  'Rooms': '2 bed, 2 bath',\n",
              "  'Facilities': 'Pool, Garage, Gym, Garden',\n",
              "  'Furnished': 'Yes'},\n",
              " {'House': 'House 3',\n",
              "  'City': 'Malang',\n",
              "  'Price (in million IDR)': '1500',\n",
              "  'Rooms': '2 bed, 1 bath',\n",
              "  'Facilities': 'Pool, Gym, Sauna',\n",
              "  'Furnished': 'No'},\n",
              " {'House': 'House 5',\n",
              "  'City': 'Surabaya',\n",
              "  'Price (in million IDR)': '2200',\n",
              "  'Rooms': '3 bed, 2 bath',\n",
              "  'Facilities': 'Pool, Garage, Gym, Library',\n",
              "  'Furnished': 'No'}]"
            ]
          },
          "metadata": {},
          "execution_count": 3
        }
      ],
      "source": [
        "def map_coordinates_to_data(coordinates, data):\n",
        "  resultData = []\n",
        "  # filter data\n",
        "  for element in coordinates:\n",
        "    resultData.append(data[element[0]])\n",
        "  return resultData\n",
        "\n",
        "map_coordinates_to_data([(0, 0), (2, 1), (4, 0)], data)\n",
        "\n",
        "# The output should be\n",
        "# [\n",
        "#    {\n",
        "#      \"House\": \"House 1\",\n",
        "#      \"City\": \"Jakarta\",\n",
        "#      \"Price (in million IDR)\": \"5000\",\n",
        "#      \"Rooms\": \"2 bed, 2 bath\",\n",
        "#      \"Facilities\": \"Pool, Garage, Gym, Garden\",\n",
        "#      \"Furnished\": \"Yes\",\n",
        "#    },\n",
        "#    {\n",
        "#      \"House\": \"House 3\",\n",
        "#      \"City\": \"Malang\",\n",
        "#      \"Price (in million IDR)\": \"1500\",\n",
        "#      \"Rooms\": \"2 bed, 1 bath\",\n",
        "#      \"Facilities\": \"Pool, Gym, Sauna\",\n",
        "#      \"Furnished\": \"No\",\n",
        "#    },\n",
        "#    {\n",
        "#      \"House\": \"House 5\",\n",
        "#      \"City\": \"Surabaya\",\n",
        "#      \"Price (in million IDR)\": \"2200\",\n",
        "#      \"Rooms\": \"3 bed, 2 bath\",\n",
        "#      \"Facilities\": \"Pool, Garage, Gym, Library\",\n",
        "#      \"Furnished\": \"No\",\n",
        "#    }"
      ]
    },
    {
      "cell_type": "markdown",
      "metadata": {
        "id": "lhyrrTe9wSOe"
      },
      "source": [
        "When you are done with the above challenge, then:\n",
        "\n",
        "1. Run the code block by pressing the play button."
      ]
    },
    {
      "cell_type": "code",
      "execution_count": 4,
      "metadata": {
        "id": "i0npZd2UwSOf",
        "outputId": "ad6d070a-a9ef-4c46-efd8-ec373510cd44",
        "colab": {
          "base_uri": "https://localhost:8080/",
          "height": 261
        }
      },
      "outputs": [
        {
          "output_type": "stream",
          "name": "stdout",
          "text": [
            "Requirement already satisfied: rggrader in /usr/local/lib/python3.10/dist-packages (0.1.6)\n",
            "Requirement already satisfied: requests in /usr/local/lib/python3.10/dist-packages (from rggrader) (2.31.0)\n",
            "Requirement already satisfied: pandas in /usr/local/lib/python3.10/dist-packages (from rggrader) (2.0.3)\n",
            "Requirement already satisfied: Pillow in /usr/local/lib/python3.10/dist-packages (from rggrader) (9.4.0)\n",
            "Requirement already satisfied: python-dateutil>=2.8.2 in /usr/local/lib/python3.10/dist-packages (from pandas->rggrader) (2.8.2)\n",
            "Requirement already satisfied: pytz>=2020.1 in /usr/local/lib/python3.10/dist-packages (from pandas->rggrader) (2023.4)\n",
            "Requirement already satisfied: tzdata>=2022.1 in /usr/local/lib/python3.10/dist-packages (from pandas->rggrader) (2024.1)\n",
            "Requirement already satisfied: numpy>=1.21.0 in /usr/local/lib/python3.10/dist-packages (from pandas->rggrader) (1.25.2)\n",
            "Requirement already satisfied: charset-normalizer<4,>=2 in /usr/local/lib/python3.10/dist-packages (from requests->rggrader) (3.3.2)\n",
            "Requirement already satisfied: idna<4,>=2.5 in /usr/local/lib/python3.10/dist-packages (from requests->rggrader) (3.7)\n",
            "Requirement already satisfied: urllib3<3,>=1.21.1 in /usr/local/lib/python3.10/dist-packages (from requests->rggrader) (2.0.7)\n",
            "Requirement already satisfied: certifi>=2017.4.17 in /usr/local/lib/python3.10/dist-packages (from requests->rggrader) (2024.7.4)\n",
            "Requirement already satisfied: six>=1.5 in /usr/local/lib/python3.10/dist-packages (from python-dateutil>=2.8.2->pandas->rggrader) (1.16.0)\n"
          ]
        },
        {
          "output_type": "execute_result",
          "data": {
            "text/plain": [
              "'Assignment successfully submitted'"
            ],
            "application/vnd.google.colaboratory.intrinsic+json": {
              "type": "string"
            }
          },
          "metadata": {},
          "execution_count": 4
        }
      ],
      "source": [
        "!pip install rggrader\n",
        "\n",
        "from rggrader import submit\n",
        "\n",
        "# @title #### Student Identity\n",
        "student_id = \"REAFCDNE\" # @param {type:\"string\"}\n",
        "name = \"Riofebri Prasetia\" # @param {type:\"string\"}\n",
        "\n",
        "# Submit Method\n",
        "assignment_id = \"014_practical_example_tableqa_part_2\"\n",
        "question_id = \"01_map_data\"\n",
        "\n",
        "submit(student_id, name, assignment_id, str(map_coordinates_to_data([(1,1)], data)), question_id)"
      ]
    },
    {
      "cell_type": "markdown",
      "metadata": {
        "id": "vt54tJmEwSOf"
      },
      "source": [
        "# Challenge: Map dictionary to list\n",
        "\n",
        "On Gradio, if we want to correctly render table it should come in below pattern:\n",
        "\n",
        "```python\n",
        "[\n",
        "    [\"row 1 col 1\", \"row 1 col 2\", \"row 1 col 3\"],\n",
        "    [\"row 2 col 1\", \"row 2 col 2\", \"row 2 col 3\"],\n",
        "    [\"row 3 col 1\", \"row 3 col 2\", \"row 3 col 3\"],\n",
        "]\n",
        "```\n",
        "\n",
        "Now, try to create a function that will map your dictionary data like so:\n",
        "\n",
        "```python\n",
        "[\n",
        "    {\n",
        "      \"House\": \"House 1\",\n",
        "      \"City\": \"Jakarta\",\n",
        "      \"Price (in million IDR)\": \"5000\",\n",
        "      \"Rooms\": \"2 bed, 2 bath\",\n",
        "      \"Facilities\": \"Pool, Garage, Gym, Garden\",\n",
        "      \"Furnished\": \"Yes\",\n",
        "    },\n",
        "    {\n",
        "      \"House\": \"House 3\",\n",
        "      \"City\": \"Malang\",\n",
        "      \"Price (in million IDR)\": \"1500\",\n",
        "      \"Rooms\": \"2 bed, 1 bath\",\n",
        "      \"Facilities\": \"Pool, Gym, Sauna\",\n",
        "      \"Furnished\": \"No\",\n",
        "    },\n",
        "    {\n",
        "      \"House\": \"House 5\",\n",
        "      \"City\": \"Surabaya\",\n",
        "      \"Price (in million IDR)\": \"2200\",\n",
        "      \"Rooms\": \"3 bed, 2 bath\",\n",
        "      \"Facilities\": \"Pool, Garage, Gym, Library\",\n",
        "      \"Furnished\": \"No\",\n",
        "    }\n",
        "]\n",
        "```\n",
        "\n",
        "To the pattern that we need to render the table correctly, like so:\n",
        "\n",
        "```python\n",
        "[\n",
        "    [\"House 1\", \"Jakarta\", \"5000\", \"2 bed, 2 bath\", \"Pool, Garage, Gym, Garden\", \"Yes\"],\n",
        "    [\"House 3\", \"Malang\", \"1500\", \"2 bed, 1 bath\", \"Pool, Gym, Sauna\", \"No\"],\n",
        "    [\"House 5\", \"Surabaya\", \"2200\", \"3 bed, 2 bath\", \"Pool, Garage, Gym, Library\", \"No\"],\n",
        "]\n",
        "```"
      ]
    },
    {
      "cell_type": "code",
      "execution_count": 5,
      "metadata": {
        "id": "BhQZ0UqMwSOf",
        "outputId": "652f8c8f-fd38-40f2-9401-23b85d3b2b45",
        "colab": {
          "base_uri": "https://localhost:8080/"
        }
      },
      "outputs": [
        {
          "output_type": "execute_result",
          "data": {
            "text/plain": [
              "[['House 2', 'Surabaya', '2000', '3 bed, 2 bath', 'Garage, Library', 'No'],\n",
              " ['House 10', 'Jakarta', '5100', '3 bed, 1 bath', 'Pool, Garden, Sauna', 'No']]"
            ]
          },
          "metadata": {},
          "execution_count": 5
        }
      ],
      "source": [
        "def map_data_to_table_format(data):\n",
        "  result = []\n",
        "  for item in data:\n",
        "        # Memformat setiap item menjadi tuple atau list sesuai kebutuhan\n",
        "        formatted_item = [\n",
        "            item['House'],\n",
        "            item['City'],\n",
        "            item['Price (in million IDR)'],\n",
        "            item['Rooms'],\n",
        "            item['Facilities'],\n",
        "            item['Furnished']\n",
        "        ]\n",
        "        # Menambahkan item yang sudah diformat ke dalam list hasil\n",
        "        result.append(formatted_item)\n",
        "  return result # your code here\n",
        "\n",
        "map_data_to_table_format([\n",
        "    {\n",
        "        \"House\": \"House 2\",\n",
        "        \"City\": \"Surabaya\",\n",
        "        \"Price (in million IDR)\": \"2000\",\n",
        "        \"Rooms\": \"3 bed, 2 bath\",\n",
        "        \"Facilities\": \"Garage, Library\",\n",
        "        \"Furnished\": \"No\",\n",
        "    },\n",
        "    {\n",
        "        \"House\": \"House 10\",\n",
        "        \"City\": \"Jakarta\",\n",
        "        \"Price (in million IDR)\": \"5100\",\n",
        "        \"Rooms\": \"3 bed, 1 bath\",\n",
        "        \"Facilities\": \"Pool, Garden, Sauna\",\n",
        "        \"Furnished\": \"No\",\n",
        "    }\n",
        "])"
      ]
    },
    {
      "cell_type": "markdown",
      "metadata": {
        "id": "dfkyPaBNwSOf"
      },
      "source": [
        "When you are done with the above challenge, then:\n",
        "\n",
        "1. Run the code block by pressing the play button."
      ]
    },
    {
      "cell_type": "code",
      "execution_count": 6,
      "metadata": {
        "id": "kEe7joxuwSOg",
        "outputId": "88560b6c-57b1-43c1-936d-b0da4be6684a",
        "colab": {
          "base_uri": "https://localhost:8080/",
          "height": 35
        }
      },
      "outputs": [
        {
          "output_type": "execute_result",
          "data": {
            "text/plain": [
              "'Assignment successfully submitted'"
            ],
            "application/vnd.google.colaboratory.intrinsic+json": {
              "type": "string"
            }
          },
          "metadata": {},
          "execution_count": 6
        }
      ],
      "source": [
        "# Submit Method\n",
        "assignment_id = \"014_practical_example_tableqa_part_2\"\n",
        "question_id = \"02_data_table\"\n",
        "\n",
        "data_table = [\n",
        "    {\n",
        "      \"House\": \"House 1\",\n",
        "      \"City\": \"Jakarta\",\n",
        "      \"Price (in million IDR)\": \"5000\",\n",
        "      \"Rooms\": \"2 bed, 2 bath\",\n",
        "      \"Facilities\": \"Pool, Garage, Gym, Garden\",\n",
        "      \"Furnished\": \"Yes\",\n",
        "    },\n",
        "    {\n",
        "      \"House\": \"House 3\",\n",
        "      \"City\": \"Malang\",\n",
        "      \"Price (in million IDR)\": \"1500\",\n",
        "      \"Rooms\": \"2 bed, 1 bath\",\n",
        "      \"Facilities\": \"Pool, Gym, Sauna\",\n",
        "      \"Furnished\": \"No\",\n",
        "    },\n",
        "    {\n",
        "      \"House\": \"House 5\",\n",
        "      \"City\": \"Surabaya\",\n",
        "      \"Price (in million IDR)\": \"2200\",\n",
        "      \"Rooms\": \"3 bed, 2 bath\",\n",
        "      \"Facilities\": \"Pool, Garage, Gym, Library\",\n",
        "      \"Furnished\": \"No\",\n",
        "    }\n",
        "]\n",
        "\n",
        "submit(student_id, name, assignment_id, str(map_data_to_table_format(data_table)), question_id)"
      ]
    },
    {
      "cell_type": "markdown",
      "metadata": {
        "id": "XqC8pqqKwSOg"
      },
      "source": [
        "# Challenge: Create the function\n",
        "\n",
        "For the rest of how to display the table we'll use something called `DataFrame`, it's a complex data structure to manage table data more easily. To ease our learning all needed function is already provided, it's not that hard so feel free to read it yourself on the code block below\n",
        "\n",
        "Now the only thing you need is to fulfill below `table_qa` function, basically you just need to create a function that retrieve argument of string and then this function will pass that string to table QA pipeline and then return the result of the pipeline (Hint: Just copy paste the code from the previous notebook and modify it a little bit)\n",
        "\n",
        "After that you've done! Just run below code and have fun on querying the table to answer any question that you might have on given 10 houses dataset!"
      ]
    },
    {
      "cell_type": "code",
      "execution_count": 20,
      "metadata": {
        "id": "GUYPy1wVwSOg",
        "outputId": "750c000a-7660-4bdc-ffda-bf60aaefcfcc",
        "colab": {
          "base_uri": "https://localhost:8080/"
        }
      },
      "outputs": [
        {
          "output_type": "execute_result",
          "data": {
            "text/plain": [
              "[(3, 0)]"
            ]
          },
          "metadata": {},
          "execution_count": 20
        }
      ],
      "source": [
        "from transformers import pipeline\n",
        "import gradio as gr\n",
        "\n",
        "# Ex: Ask a question: \"Which house is the most expensive?\"\n",
        "def table_qa(inp):\n",
        "    pipeline_qa = pipeline(\"table-question-answering\", model=\"google/tapas-large-finetuned-wtq\")\n",
        "    house = pipeline_qa({\"table\": data, \"query\": str(inp)})\n",
        "    return house[\"coordinates\"]\n",
        "\n",
        "table_qa(\"Which house is the most expensive?\")\n",
        "\n",
        "# def data_classifier(inp):\n",
        "#   model_answer = table_qa(inp)\n",
        "#   data = map_data_to_table_format(map_coordinates_to_data(model_answer, data))\n",
        "#   return gr.Dataframe(data, headers=[\"House\", \"City\", \"Price\", \"Rooms\", \"Facilities\", \"Furnished\"], col_count=6)\n",
        "\n",
        "# gr.Interface(fn=data_classifier, inputs=\"text\", outputs=\"dataframe\").launch()"
      ]
    },
    {
      "cell_type": "markdown",
      "metadata": {
        "id": "PkSrOHJ3wSOg"
      },
      "source": [
        "When you are done with the above challenge, then:\n",
        "\n",
        "1. Run the code block by pressing the play button."
      ]
    },
    {
      "cell_type": "code",
      "execution_count": null,
      "metadata": {
        "id": "CXIcnrZOwSOg"
      },
      "outputs": [],
      "source": [
        "# Submit Method\n",
        "assignment_id = \"014_practical_example_tableqa_part_2\"\n",
        "question_id = \"03_table_qa\"\n",
        "\n",
        "submit(student_id, name, assignment_id, str(table_qa(\"How many houses are there in Malang?\")), question_id)"
      ]
    }
  ],
  "metadata": {
    "kernelspec": {
      "display_name": "Python 3 (ipykernel)",
      "language": "python",
      "name": "python3"
    },
    "language_info": {
      "codemirror_mode": {
        "name": "ipython",
        "version": 3
      },
      "file_extension": ".py",
      "mimetype": "text/x-python",
      "name": "python",
      "nbconvert_exporter": "python",
      "pygments_lexer": "ipython3",
      "version": "3.11.3"
    },
    "colab": {
      "provenance": [],
      "include_colab_link": true
    }
  },
  "nbformat": 4,
  "nbformat_minor": 0
}